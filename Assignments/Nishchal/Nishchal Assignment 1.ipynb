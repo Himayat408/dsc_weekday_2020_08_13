{
 "cells": [
  {
   "cell_type": "code",
   "execution_count": 69,
   "metadata": {},
   "outputs": [
    {
     "name": "stdout",
     "output_type": "stream",
     "text": [
      "enter the value of f190\n",
      "enter the value of f280\n",
      "58\n",
      "48\n"
     ]
    }
   ],
   "source": [
    "#1.Fer to cel\n",
    "\n",
    "f1=int(input('enter the value of f1'))\n",
    "f2=int(input('enter the value of f2'))\n",
    "c1=f1-32\n",
    "c2=f2-32\n",
    "print(c1)\n",
    "print(c2)\n"
   ]
  },
  {
   "cell_type": "code",
   "execution_count": 75,
   "metadata": {},
   "outputs": [
    {
     "name": "stdout",
     "output_type": "stream",
     "text": [
      "enter the value of a64\n",
      "enter the value of b8\n",
      "8.0\n"
     ]
    },
    {
     "data": {
      "text/plain": [
       "2.0"
      ]
     },
     "execution_count": 75,
     "metadata": {},
     "output_type": "execute_result"
    }
   ],
   "source": [
    "#2.square and cube root\n",
    "\n",
    "a=int(input('enter the value of a'))\n",
    "b=int(input('enter the value of b'))\n",
    "print(math.sqrt(a))\n",
    "import numpy\n",
    "numpy.cbrt(b)"
   ]
  },
  {
   "cell_type": "code",
   "execution_count": 80,
   "metadata": {},
   "outputs": [
    {
     "name": "stdout",
     "output_type": "stream",
     "text": [
      "enter the value of n2\n",
      "enter the value of m3\n",
      "13\n"
     ]
    }
   ],
   "source": [
    "#3.n^2+m^2\n",
    "\n",
    "n=int(input('enter the value of n'))\n",
    "m=int(input('enter the value of m'))\n",
    "x=(n**2)+(m**2)\n",
    "print(x)"
   ]
  },
  {
   "cell_type": "code",
   "execution_count": 82,
   "metadata": {},
   "outputs": [
    {
     "name": "stdout",
     "output_type": "stream",
     "text": [
      "enter the value of n2\n",
      "enter the value of m3\n",
      "13\n"
     ]
    }
   ],
   "source": [
    "#4. ** and pow\n",
    "\n",
    "n=int(input('enter the value of n'))\n",
    "m=int(input('enter the value of m'))\n",
    "x=(pow(n,2)+pow(m,2))\n",
    "print(x)"
   ]
  },
  {
   "cell_type": "code",
   "execution_count": 84,
   "metadata": {
    "scrolled": true
   },
   "outputs": [
    {
     "name": "stdout",
     "output_type": "stream",
     "text": [
      "enter the principle amount100\n",
      "enter the interest rate6\n",
      "enter the period2\n",
      "12.0\n"
     ]
    }
   ],
   "source": [
    "\n",
    "\n",
    "p=int(input('enter the principle amount'))\n",
    "i=int(input('enter the interest rate'))\n",
    "y=int(input('enter the period'))\n",
    "\n",
    "x=((p*(i/100))*y)\n",
    "print(x)"
   ]
  },
  {
   "cell_type": "code",
   "execution_count": 88,
   "metadata": {},
   "outputs": [
    {
     "name": "stdout",
     "output_type": "stream",
     "text": [
      "enter the principle amount1000\n",
      "enter the interest rate6\n",
      "enter the period2\n",
      "1120.0\n"
     ]
    }
   ],
   "source": [
    "#5. simple interest = principle(1+iy)\n",
    "p=int(input('enter the principle amount'))\n",
    "i=int(input('enter the interest rate'))\n",
    "y=int(input('enter the period'))\n",
    "r=(i/100)\n",
    "x=(p*(1+(r*y)))\n",
    "print(x)"
   ]
  },
  {
   "cell_type": "code",
   "execution_count": 2,
   "metadata": {
    "scrolled": true
   },
   "outputs": [
    {
     "name": "stdout",
     "output_type": "stream",
     "text": [
      "enter the initial principle amount10000\n",
      "enter the interest rate6\n",
      "enter the number of times interest applied per period5\n",
      "enter the number of time period elapsed2\n",
      "11236.000000000002\n"
     ]
    }
   ],
   "source": [
    "#6. Compund Interest = A=P(1+(r/n))^(n*t)\n",
    "\n",
    "p=int(input('enter the initial principle amount'))\n",
    "i=int(input('enter the interest rate'))\n",
    "n=int(input('enter the number of times interest applied per period'))\n",
    "t=int(input('enter the number of time period elapsed'))\n",
    "r=(i/100)\n",
    "a=(p*pow((1+(r)),t))\n",
    "print(a)"
   ]
  },
  {
   "cell_type": "code",
   "execution_count": 5,
   "metadata": {},
   "outputs": [
    {
     "name": "stdout",
     "output_type": "stream",
     "text": [
      "natural numbers;20\n",
      "first numbers;1\n",
      "common difference;1\n",
      "210.0\n"
     ]
    }
   ],
   "source": [
    "#7.WAP to print sum of first n natural numbers. (n needs to be taken as input)\n",
    "n=int(input('natural numbers;'))\n",
    "a=int(input('first numbers;')) \n",
    "d=int(input('common difference;')) \n",
    "\n",
    "x=((n/2)*((2*a)+(n-1)*d))\n",
    "print(x)"
   ]
  },
  {
   "cell_type": "code",
   "execution_count": 1,
   "metadata": {},
   "outputs": [
    {
     "name": "stdout",
     "output_type": "stream",
     "text": [
      "enter value for x; 2\n",
      "enter value for y: 4\n",
      "updated value of x : 4.0\n",
      "updated value of y : 2.0\n",
      "updated value of a : 6.0\n",
      "updated value of b : 2.0\n"
     ]
    }
   ],
   "source": [
    "#8. WAP to input 2 numbers and swap them. (write using both normal logic with temp variable and also the pythonic way). \n",
    "x = float(input(\"enter value for x; \"))\n",
    "y = float(input(\"enter value for y: \"))\n",
    "# temp \n",
    "temp = x\n",
    "x = y\n",
    "y = temp\n",
    "print(\"updated value of x : \" + str(x))\n",
    "print(\"updated value of y : \" + str(y))\n",
    "#pythonic\n",
    "x = x + y\n",
    "y = x - y\n",
    "y = x - y\n",
    "print(\"updated value of a : \" + str(x))\n",
    "print(\"updated value of b : \" + str(y))"
   ]
  },
  {
   "cell_type": "code",
   "execution_count": 6,
   "metadata": {},
   "outputs": [
    {
     "name": "stdout",
     "output_type": "stream",
     "text": [
      "9\n",
      "10\n",
      "11\n",
      "32\n",
      "12\n",
      "13\n"
     ]
    }
   ],
   "source": [
    "# 9. WAP to print ascii value of all white-space characters present in python. \n",
    "print(ord('\\t'))\n",
    "print(ord('\\n'))\n",
    "print(ord('\\v'))\n",
    "print(ord(' '))\n",
    "print(ord('\\f'))\n",
    "print(ord('\\r'))"
   ]
  },
  {
   "cell_type": "code",
   "execution_count": 30,
   "metadata": {},
   "outputs": [
    {
     "name": "stdout",
     "output_type": "stream",
     "text": [
      "enter the character:N\n",
      "78\n"
     ]
    }
   ],
   "source": [
    "#10.  Input a single character and print its ascii values\n",
    "x=input(\"enter the character:\")\n",
    "print(ord(x))"
   ]
  },
  {
   "cell_type": "code",
   "execution_count": 36,
   "metadata": {},
   "outputs": [
    {
     "name": "stdout",
     "output_type": "stream",
     "text": [
      "area of the circle in square cms;10\n",
      "11.20714058089752\n"
     ]
    }
   ],
   "source": [
    "#11. WAP that takes area of a circle and gives back the radius and circumference.\n",
    "A=int(input('area of the circle in square cms;'))\n",
    "\n",
    "n=(A/3.14)\n",
    "r=(math.sqrt(n))\n",
    "C=(2*3.14*r)\n",
    "print(C)"
   ]
  },
  {
   "cell_type": "code",
   "execution_count": 37,
   "metadata": {},
   "outputs": [
    {
     "name": "stdout",
     "output_type": "stream",
     "text": [
      "marks in subject a;82\n",
      "marks in subject b;91\n",
      "marks in subject c;78\n",
      "marks in subject d;94\n",
      "marks in subject e;96\n",
      "88.2\n"
     ]
    }
   ],
   "source": [
    "#12. We need to input marks in 5 subjects out of 100 and print percentage\n",
    "a=int(input('marks in subject a;'))\n",
    "b=int(input('marks in subject b;'))\n",
    "c=int(input('marks in subject c;'))\n",
    "d=int(input('marks in subject d;'))\n",
    "e=int(input('marks in subject e;'))\n",
    "T=(((a+b+c+d+e)/500)*100)\n",
    "print(T)"
   ]
  },
  {
   "cell_type": "code",
   "execution_count": null,
   "metadata": {},
   "outputs": [],
   "source": []
  }
 ],
 "metadata": {
  "kernelspec": {
   "display_name": "Python 3",
   "language": "python",
   "name": "python3"
  },
  "language_info": {
   "codemirror_mode": {
    "name": "ipython",
    "version": 3
   },
   "file_extension": ".py",
   "mimetype": "text/x-python",
   "name": "python",
   "nbconvert_exporter": "python",
   "pygments_lexer": "ipython3",
   "version": "3.8.3"
  }
 },
 "nbformat": 4,
 "nbformat_minor": 4
}
