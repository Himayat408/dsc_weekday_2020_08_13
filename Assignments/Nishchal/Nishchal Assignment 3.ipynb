{
 "cells": [
  {
   "cell_type": "code",
   "execution_count": 2,
   "metadata": {},
   "outputs": [
    {
     "name": "stdout",
     "output_type": "stream",
     "text": [
      "enter the the string S1:abc\n",
      "enter the the string S2:xyz\n",
      "xyz\n",
      "abc\n"
     ]
    }
   ],
   "source": [
    "#1 WAP to input 2 strings and swap the strings\n",
    "S1=input(\"enter the the string S1:\")\n",
    "S2=input(\"enter the the string S2:\")\n",
    "x=S1\n",
    "S1=S2\n",
    "S2=x\n",
    "print(S1)\n",
    "print(S2)"
   ]
  },
  {
   "cell_type": "code",
   "execution_count": 10,
   "metadata": {},
   "outputs": [
    {
     "name": "stdout",
     "output_type": "stream",
     "text": [
      "3\n",
      "18\n",
      "3\n",
      "11\n",
      "8.75\n"
     ]
    }
   ],
   "source": [
    "#2. WAP to generate 4 random numbers in the range 0-26 and print their average \n",
    "import random\n",
    "a=random.randrange(0,27)\n",
    "b=random.randrange(0,27)\n",
    "c=random.randrange(0,27)\n",
    "d=random.randrange(0,27)\n",
    "x=((a+b+c+d)/4)\n",
    "print(a)\n",
    "print(b)\n",
    "print(c)\n",
    "print(d)\n",
    "print(x)"
   ]
  },
  {
   "cell_type": "code",
   "execution_count": 74,
   "metadata": {},
   "outputs": [
    {
     "name": "stdout",
     "output_type": "stream",
     "text": [
      "S\n"
     ]
    }
   ],
   "source": [
    "#3. WAP to generate and print a random uppercase or lowercase alphabet. Try these:\n",
    "    #• Create a string containing all alphabets and then select a random alphabet.\n",
    "    # • Check the module string \n",
    "import random\n",
    "str = \"ABCDEFGHIJKLMNOPQRSTUVWXYZabcdefghijklmnopqrstuvwxyz\"\n",
    "rand = random.choice(str)\n",
    "print(rand)\n",
    "\n",
    "\n"
   ]
  },
  {
   "cell_type": "code",
   "execution_count": 30,
   "metadata": {},
   "outputs": [
    {
     "name": "stdout",
     "output_type": "stream",
     "text": [
      "enter the Principle amount1000\n",
      "enter the rate of interest5\n",
      "enter the time2\n",
      "1100.0\n"
     ]
    }
   ],
   "source": [
    "# 4. WAF get_si() that takes Principle, Rate and Time as arguments and returns the Simple Interest. \n",
    "def get_si(x,y,z):\n",
    "   r=(y/100)\n",
    "   A=(x*(1+(r*z)))\n",
    "   return A\n",
    "    \n",
    "P=int(input(\"enter the Principle amount\"))\n",
    "n=int(input(\"enter the rate of interest\"))\n",
    "t=int(input(\"enter the time\"))\n",
    "B = get_si(P,n,t)\n",
    "\n",
    "print(B)\n"
   ]
  },
  {
   "cell_type": "code",
   "execution_count": 33,
   "metadata": {},
   "outputs": [
    {
     "name": "stdout",
     "output_type": "stream",
     "text": [
      "enter the Principle amount1000\n",
      "11000\n"
     ]
    }
   ],
   "source": [
    "# 5. WAF get_amount() that takes Principle, Rate and Time as arguments and returns the\n",
    "# Total amount using the get_si() function from above to calculate the SI. \n",
    "# Also provide Rate = 10 and Time = 1 as default arguments. \n",
    "\n",
    "def get_si(x,y,z):    \n",
    "    A=(x*(1+(r*z)))\n",
    "    return A\n",
    "def get_amount(P,r,t):\n",
    "    amount=get_si(P,r,t)\n",
    "    return amount\n",
    "P=int(input(\"enter the Principle amount\"))\n",
    "r=10\n",
    "t=1\n",
    "B = get_si(P,n,t)\n",
    "\n",
    "print(B)"
   ]
  },
  {
   "cell_type": "code",
   "execution_count": 34,
   "metadata": {},
   "outputs": [
    {
     "name": "stdout",
     "output_type": "stream",
     "text": [
      "enter the Principle amount1000\n",
      "enter the rate of interest5\n",
      "enter the time2\n",
      "1102.5\n"
     ]
    }
   ],
   "source": [
    "#6. WAP get_ci() that takes Principle, Rate and Time as arguments and returns the Compound Interest. \n",
    "def get_ci(x,y,z):\n",
    "    r=(n/100)\n",
    "    A=(P*pow((1+(r)),t))\n",
    "    return A\n",
    "    \n",
    "P=int(input(\"enter the Principle amount\"))\n",
    "n=int(input(\"enter the rate of interest\"))\n",
    "t=int(input(\"enter the time\"))\n",
    "B = get_si(P,n,t)\n",
    "\n",
    "print(B)"
   ]
  },
  {
   "cell_type": "code",
   "execution_count": null,
   "metadata": {},
   "outputs": [],
   "source": [
    "# 7. WAP get_q_r() taking 2 numbers as parameters and returns the quotient and remainder in the form of a tuple. \n"
   ]
  },
  {
   "cell_type": "code",
   "execution_count": 42,
   "metadata": {},
   "outputs": [
    {
     "name": "stdout",
     "output_type": "stream",
     "text": [
      "enter the height:5\n",
      "enter the base:3\n",
      "5.830951894845301\n"
     ]
    }
   ],
   "source": [
    "#8. WAP to find the length of hypotenuse of a right angled triangle, input the height and base from user. \n",
    "import math\n",
    "\n",
    "h=int(input('enter the height:'))\n",
    "b=int(input('enter the base:'))\n",
    "\n",
    "l=(math.sqrt((h**2)+(b**2)))\n",
    "print(l)"
   ]
  },
  {
   "cell_type": "code",
   "execution_count": 76,
   "metadata": {},
   "outputs": [
    {
     "name": "stdout",
     "output_type": "stream",
     "text": [
      "enter the seconds:100000\n",
      "27\n",
      "1 day 27 hrs 46 min 40 sec\n"
     ]
    }
   ],
   "source": [
    "#9. WAP to input number of seconds and print in days, hours, minutes and seconds\n",
    "# ex: input = 10000       Output = 0 day 2 hour 46 minute 40 second \n",
    "s1=int(input('enter the seconds:'))\n",
    "s2=(s1-(int(s1/60)*60))\n",
    "m=int((s1-((int(s1/(60*60)))*(60*60)))/60)\n",
    "h=int((s1-((int(s1/(60*60*60)))*(60*60*60)))/(60*60))\n",
    "d=int((s1-((int(s1/(60*60*60*24)))*(60*60*60*24)))/(60*60*24))\n",
    "\n",
    "print(h)\n",
    "print(d,\"day\",h,\"hrs\",m,\"min\",s2,\"sec\")"
   ]
  },
  {
   "cell_type": "code",
   "execution_count": 18,
   "metadata": {},
   "outputs": [
    {
     "name": "stdout",
     "output_type": "stream",
     "text": [
      "enter the seconds:90000\n",
      "0\n",
      "0\n",
      "25\n",
      "1 day 25 hrs 0 min 0 sec\n"
     ]
    }
   ],
   "source": [
    "#9. WAP to input number of seconds and print in days, hours, minutes and seconds\n",
    "# ex: input = 10000       Output = 0 day 2 hour 46 minute 40 second \n",
    "s1=int(input('enter the seconds:'))\n",
    "\n",
    "s2=s1%60\n",
    "m=int((s1%3600)/60)\n",
    "h=int((s1-((int(s1/(60*60*60)))*(60*60*60)))/(60*60))\n",
    "d=int((s1-((int(s1/(60*60*60*24)))*(60*60*60*24)))/(60*60*24))\n",
    "print(s2)\n",
    "print(m)\n",
    "print(h)\n",
    "print(d,\"day\",h,\"hrs\",m,\"min\",s2,\"sec\")"
   ]
  },
  {
   "cell_type": "code",
   "execution_count": 39,
   "metadata": {
    "scrolled": true
   },
   "outputs": [
    {
     "name": "stdout",
     "output_type": "stream",
     "text": [
      "enter the seconds:172800\n",
      "0\n",
      "0\n",
      "0\n",
      "2 day 0 hrs 0 min 0 sec\n"
     ]
    }
   ],
   "source": [
    "#9. WAP to input number of seconds and print in days, hours, minutes and seconds\n",
    "# ex: input = 10000       Output = 0 day 2 hour 46 minute 40 second \n",
    "s1=int(input('enter the seconds:'))\n",
    "\n",
    "s2=s1%60\n",
    "m=int((s1%3600)/60)\n",
    "h=int((s1%(3600*24))/(60*60))\n",
    "d=int((s1%(3600*60*24))/(60*60*24))\n",
    "print(s2)\n",
    "print(m)\n",
    "print(h)\n",
    "print(d,\"day\",h,\"hrs\",m,\"min\",s2,\"sec\")\n"
   ]
  },
  {
   "cell_type": "code",
   "execution_count": 8,
   "metadata": {},
   "outputs": [
    {
     "name": "stdout",
     "output_type": "stream",
     "text": [
      "python version\n",
      "3.8.3 (default, Jul  2 2020, 17:30:36) [MSC v.1916 64 bit (AMD64)]\n",
      "Version info\n",
      "sys.version_info(major=3, minor=8, micro=3, releaselevel='final', serial=0)\n",
      "interpreter info\n"
     ]
    },
    {
     "ename": "AttributeError",
     "evalue": "module 'sys' has no attribute 'interpreter_info'",
     "output_type": "error",
     "traceback": [
      "\u001b[1;31m---------------------------------------------------------------------------\u001b[0m",
      "\u001b[1;31mAttributeError\u001b[0m                            Traceback (most recent call last)",
      "\u001b[1;32m<ipython-input-8-8e86f5a5029d>\u001b[0m in \u001b[0;36m<module>\u001b[1;34m\u001b[0m\n\u001b[0;32m      7\u001b[0m \u001b[0mprint\u001b[0m\u001b[1;33m(\u001b[0m\u001b[0msys\u001b[0m\u001b[1;33m.\u001b[0m\u001b[0mversion_info\u001b[0m\u001b[1;33m)\u001b[0m\u001b[1;33m\u001b[0m\u001b[1;33m\u001b[0m\u001b[0m\n\u001b[0;32m      8\u001b[0m \u001b[0mprint\u001b[0m\u001b[1;33m(\u001b[0m\u001b[1;34m\"interpreter info\"\u001b[0m\u001b[1;33m)\u001b[0m\u001b[1;33m\u001b[0m\u001b[1;33m\u001b[0m\u001b[0m\n\u001b[1;32m----> 9\u001b[1;33m \u001b[0mprint\u001b[0m\u001b[1;33m(\u001b[0m\u001b[0msys\u001b[0m\u001b[1;33m.\u001b[0m\u001b[0minterpreter_info\u001b[0m\u001b[1;33m)\u001b[0m\u001b[1;33m\u001b[0m\u001b[1;33m\u001b[0m\u001b[0m\n\u001b[0m",
      "\u001b[1;31mAttributeError\u001b[0m: module 'sys' has no attribute 'interpreter_info'"
     ]
    }
   ],
   "source": [
    "# 10. Check your version of python interpreter without opening the interpreter\n",
    "#(Which command needs to be used on the command line). \n",
    "import sys\n",
    "print(\"python version\")\n",
    "print(sys.version)\n",
    "print(\"Version info\")\n",
    "print(sys.version_info)\n",
    "print(\"interpreter info\")\n",
    "print(sys.interpreter_info)"
   ]
  },
  {
   "cell_type": "code",
   "execution_count": 9,
   "metadata": {},
   "outputs": [
    {
     "name": "stdout",
     "output_type": "stream",
     "text": [
      "2 -2\n"
     ]
    }
   ],
   "source": [
    "#11. Find output: \n",
    "X=2\n",
    "X*=3\n",
    "X=X%4\n",
    "Y=-X\n",
    "print(X,Y)"
   ]
  },
  {
   "cell_type": "code",
   "execution_count": 12,
   "metadata": {},
   "outputs": [
    {
     "name": "stdout",
     "output_type": "stream",
     "text": [
      "1\n"
     ]
    }
   ],
   "source": [
    "x=4\n",
    "x+=3\n",
    "x-=2\n",
    "x=x%2\n",
    "\n",
    "print(x)"
   ]
  },
  {
   "cell_type": "code",
   "execution_count": 15,
   "metadata": {},
   "outputs": [
    {
     "name": "stdout",
     "output_type": "stream",
     "text": [
      "None\n"
     ]
    }
   ],
   "source": [
    "def funct():\n",
    "    pass\n",
    "print(funct())"
   ]
  }
 ],
 "metadata": {
  "kernelspec": {
   "display_name": "Python 3",
   "language": "python",
   "name": "python3"
  },
  "language_info": {
   "codemirror_mode": {
    "name": "ipython",
    "version": 3
   },
   "file_extension": ".py",
   "mimetype": "text/x-python",
   "name": "python",
   "nbconvert_exporter": "python",
   "pygments_lexer": "ipython3",
   "version": "3.8.3"
  }
 },
 "nbformat": 4,
 "nbformat_minor": 4
}
