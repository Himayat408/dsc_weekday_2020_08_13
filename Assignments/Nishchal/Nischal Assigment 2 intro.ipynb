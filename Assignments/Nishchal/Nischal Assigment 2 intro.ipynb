{
 "cells": [
  {
   "cell_type": "code",
   "execution_count": 8,
   "metadata": {},
   "outputs": [
    {
     "name": "stdout",
     "output_type": "stream",
     "text": [
      "6 19\n"
     ]
    }
   ],
   "source": [
    "# 1. Predict Output\n",
    "S1='Gaurav'\n",
    "S2='tuteur.py@gmail.com'\n",
    "print(len(S1),len(S2))"
   ]
  },
  {
   "cell_type": "code",
   "execution_count": 6,
   "metadata": {},
   "outputs": [
    {
     "name": "stdout",
     "output_type": "stream",
     "text": [
      "19\n"
     ]
    }
   ],
   "source": [
    "#2. Length of string\n",
    "x='data science python'\n",
    "print(len(x))"
   ]
  },
  {
   "cell_type": "code",
   "execution_count": 20,
   "metadata": {},
   "outputs": [
    {
     "name": "stdout",
     "output_type": "stream",
     "text": [
      "130\n",
      "-50\n"
     ]
    }
   ],
   "source": [
    "#3.Input 2 no's and sum and difference\n",
    "a= 40\n",
    "b=90\n",
    "print(a+b)\n",
    "print(a-b)"
   ]
  },
  {
   "cell_type": "code",
   "execution_count": 9,
   "metadata": {},
   "outputs": [
    {
     "name": "stdout",
     "output_type": "stream",
     "text": [
      "abde\n"
     ]
    }
   ],
   "source": [
    "#4.Predict output\n",
    "\n",
    "s1='ab'\n",
    "s2='de'\n",
    "s3=s1+s2\n",
    "print(s3)"
   ]
  },
  {
   "cell_type": "code",
   "execution_count": 10,
   "metadata": {},
   "outputs": [
    {
     "name": "stdout",
     "output_type": "stream",
     "text": [
      "abababab\n"
     ]
    }
   ],
   "source": [
    "#6. Predict output\n",
    "s1='ab'*4\n",
    "print(s1)"
   ]
  },
  {
   "cell_type": "code",
   "execution_count": 11,
   "metadata": {},
   "outputs": [
    {
     "name": "stdout",
     "output_type": "stream",
     "text": [
      "an\n",
      "an\n",
      "an\n",
      "an\n",
      "\n"
     ]
    }
   ],
   "source": [
    "#7. Predict output\n",
    "s1='an\\n'*4\n",
    "print(s1)"
   ]
  },
  {
   "cell_type": "code",
   "execution_count": 18,
   "metadata": {},
   "outputs": [
    {
     "name": "stdout",
     "output_type": "stream",
     "text": [
      "s\n",
      "s\n",
      "s\n",
      "s\n",
      "\n"
     ]
    }
   ],
   "source": [
    "#8. Seperate line\n",
    "k=4\n",
    "x='s\\n'*k\n",
    "\n",
    "print(x)"
   ]
  },
  {
   "cell_type": "code",
   "execution_count": 26,
   "metadata": {},
   "outputs": [
    {
     "name": "stdout",
     "output_type": "stream",
     "text": [
      "Gaurav\n",
      "None\n"
     ]
    }
   ],
   "source": [
    "#9. Predict output\n",
    "\n",
    "res=print('Gaurav')\n",
    "print(res)\n"
   ]
  },
  {
   "cell_type": "code",
   "execution_count": 29,
   "metadata": {},
   "outputs": [
    {
     "name": "stdout",
     "output_type": "stream",
     "text": [
      "19\n",
      "<class 'int'>\n"
     ]
    }
   ],
   "source": [
    "#10. Predict output\n",
    "res=len('tuteur.py@gmail.com')\n",
    "print(res)\n",
    "print(type(res))"
   ]
  },
  {
   "cell_type": "code",
   "execution_count": 2,
   "metadata": {},
   "outputs": [
    {
     "name": "stdout",
     "output_type": "stream",
     "text": [
      "<class 'str'>\n",
      "26\n"
     ]
    }
   ],
   "source": [
    "#11. Predict Output\n",
    "s1= 'gaurav'\n",
    "s2= 'tuteur.py@gmail.com'\n",
    "s3=s1+'\\n'+s2\n",
    "print(type(s3))\n",
    "print(len(s3))"
   ]
  },
  {
   "cell_type": "code",
   "execution_count": 34,
   "metadata": {},
   "outputs": [
    {
     "name": "stdout",
     "output_type": "stream",
     "text": [
      "['In', 'Out', 'S1', 'S2', '_', '_30', '_33', '__', '___', '__builtin__', '__builtins__', '__doc__', '__loader__', '__name__', '__package__', '__spec__', '_dh', '_i', '_i1', '_i10', '_i11', '_i12', '_i13', '_i14', '_i15', '_i16', '_i17', '_i18', '_i19', '_i2', '_i20', '_i21', '_i22', '_i23', '_i24', '_i25', '_i26', '_i27', '_i28', '_i29', '_i3', '_i30', '_i31', '_i32', '_i33', '_i34', '_i4', '_i5', '_i6', '_i7', '_i8', '_i9', '_ih', '_ii', '_iii', '_oh', 'a', 'b', 'exit', 'get_ipython', 'k', 'math', 'quit', 'res', 'res1', 's1', 's2', 's3', 'x']\n"
     ]
    }
   ],
   "source": [
    "print(dir())"
   ]
  },
  {
   "cell_type": "code",
   "execution_count": 73,
   "metadata": {},
   "outputs": [
    {
     "data": {
      "text/plain": [
       "4.0"
      ]
     },
     "execution_count": 73,
     "metadata": {},
     "output_type": "execute_result"
    }
   ],
   "source": [
    "#12. dir of math\n",
    "\n",
    "import math\n",
    "x=16\n",
    "math.sqrt(x)"
   ]
  },
  {
   "cell_type": "code",
   "execution_count": 37,
   "metadata": {},
   "outputs": [
    {
     "data": {
      "text/plain": [
       "8.0"
      ]
     },
     "execution_count": 37,
     "metadata": {},
     "output_type": "execute_result"
    }
   ],
   "source": [
    "#13. input square root\n",
    "x=64\n",
    "math.sqrt(x)"
   ]
  },
  {
   "cell_type": "code",
   "execution_count": 58,
   "metadata": {},
   "outputs": [
    {
     "name": "stdout",
     "output_type": "stream",
     "text": [
      "enter value of a9\n",
      "enter value of b5\n",
      "enter value of c8\n",
      "enter value of d2\n",
      "6.0\n"
     ]
    }
   ],
   "source": [
    "#14. input, average\n",
    "\n",
    "a=int(input('enter value of a'))\n",
    "b=int(input('enter value of b'))\n",
    "c=int(input('enter value of c'))\n",
    "d=int(input('enter value of d'))\n",
    "x=a+b+c+d\n",
    "y=4\n",
    "print(x/y)\n",
    "\n",
    "\n"
   ]
  },
  {
   "cell_type": "code",
   "execution_count": 62,
   "metadata": {},
   "outputs": [
    {
     "name": "stdout",
     "output_type": "stream",
     "text": [
      "8.92\n",
      "7367.738\n",
      "7.6363\n"
     ]
    }
   ],
   "source": [
    "#15. abs details;\n",
    "y=abs(-8.92)\n",
    "print(y)\n",
    "x=abs(-7367.738)\n",
    "print(x)\n",
    "z=abs(7.6363)\n",
    "print(z)"
   ]
  },
  {
   "cell_type": "code",
   "execution_count": 63,
   "metadata": {},
   "outputs": [
    {
     "name": "stdout",
     "output_type": "stream",
     "text": [
      "__main__\n"
     ]
    }
   ],
   "source": [
    "#16. ipynd\n",
    "print(__name__)"
   ]
  },
  {
   "cell_type": "code",
   "execution_count": 4,
   "metadata": {},
   "outputs": [
    {
     "name": "stdout",
     "output_type": "stream",
     "text": [
      "__main__\n"
     ]
    }
   ],
   "source": [
    "#17.script\n",
    "print(__name__)\n"
   ]
  },
  {
   "cell_type": "code",
   "execution_count": 65,
   "metadata": {},
   "outputs": [
    {
     "name": "stdout",
     "output_type": "stream",
     "text": [
      "__main__\n",
      "builtins\n",
      "int\n"
     ]
    }
   ],
   "source": [
    "#19.predict output\n",
    "print(__name__)\n",
    "print(__builtins__.__name__)\n",
    "print(int.__name__)"
   ]
  },
  {
   "cell_type": "code",
   "execution_count": 69,
   "metadata": {},
   "outputs": [
    {
     "name": "stdout",
     "output_type": "stream",
     "text": [
      "enter the value of f190\n",
      "enter the value of f280\n",
      "58\n",
      "48\n"
     ]
    }
   ],
   "source": [
    "#1.Fer to cel\n",
    "\n",
    "f1=int(input('enter the value of f1'))\n",
    "f2=int(input('enter the value of f2'))\n",
    "c1=f1-32\n",
    "c2=f2-32\n",
    "print(c1)\n",
    "print(c2)\n"
   ]
  },
  {
   "cell_type": "code",
   "execution_count": 75,
   "metadata": {},
   "outputs": [
    {
     "name": "stdout",
     "output_type": "stream",
     "text": [
      "enter the value of a64\n",
      "enter the value of b8\n",
      "8.0\n"
     ]
    },
    {
     "data": {
      "text/plain": [
       "2.0"
      ]
     },
     "execution_count": 75,
     "metadata": {},
     "output_type": "execute_result"
    }
   ],
   "source": [
    "#2.square and cube root\n",
    "\n",
    "a=int(input('enter the value of a'))\n",
    "b=int(input('enter the value of b'))\n",
    "print(math.sqrt(a))\n",
    "import numpy\n",
    "numpy.cbrt(b)"
   ]
  },
  {
   "cell_type": "code",
   "execution_count": 80,
   "metadata": {},
   "outputs": [
    {
     "name": "stdout",
     "output_type": "stream",
     "text": [
      "enter the value of n2\n",
      "enter the value of m3\n",
      "13\n"
     ]
    }
   ],
   "source": [
    "#3.n^2+m^2\n",
    "\n",
    "n=int(input('enter the value of n'))\n",
    "m=int(input('enter the value of m'))\n",
    "x=(n**2)+(m**2)\n",
    "print(x)"
   ]
  },
  {
   "cell_type": "code",
   "execution_count": 82,
   "metadata": {},
   "outputs": [
    {
     "name": "stdout",
     "output_type": "stream",
     "text": [
      "enter the value of n2\n",
      "enter the value of m3\n",
      "13\n"
     ]
    }
   ],
   "source": [
    "#4. ** and pow\n",
    "\n",
    "n=int(input('enter the value of n'))\n",
    "m=int(input('enter the value of m'))\n",
    "x=(pow(n,2)+pow(m,2))\n",
    "print(x)"
   ]
  },
  {
   "cell_type": "code",
   "execution_count": 84,
   "metadata": {
    "scrolled": true
   },
   "outputs": [
    {
     "name": "stdout",
     "output_type": "stream",
     "text": [
      "enter the principle amount100\n",
      "enter the interest rate6\n",
      "enter the period2\n",
      "12.0\n"
     ]
    }
   ],
   "source": [
    "\n",
    "\n",
    "p=int(input('enter the principle amount'))\n",
    "i=int(input('enter the interest rate'))\n",
    "y=int(input('enter the period'))\n",
    "\n",
    "x=((p*(i/100))*y)\n",
    "print(x)"
   ]
  },
  {
   "cell_type": "code",
   "execution_count": 88,
   "metadata": {},
   "outputs": [
    {
     "name": "stdout",
     "output_type": "stream",
     "text": [
      "enter the principle amount1000\n",
      "enter the interest rate6\n",
      "enter the period2\n",
      "1120.0\n"
     ]
    }
   ],
   "source": [
    "#5. simple interest = principle(1+iy)\n",
    "p=int(input('enter the principle amount'))\n",
    "i=int(input('enter the interest rate'))\n",
    "y=int(input('enter the period'))\n",
    "r=(i/100)\n",
    "x=(p*(1+(r*y)))\n",
    "print(x)"
   ]
  },
  {
   "cell_type": "code",
   "execution_count": 2,
   "metadata": {
    "scrolled": true
   },
   "outputs": [
    {
     "name": "stdout",
     "output_type": "stream",
     "text": [
      "enter the initial principle amount10000\n",
      "enter the interest rate6\n",
      "enter the number of times interest applied per period5\n",
      "enter the number of time period elapsed2\n",
      "11236.000000000002\n"
     ]
    }
   ],
   "source": [
    "#6. Compund Interest = A=P(1+(r/n))^(n*t)\n",
    "\n",
    "p=int(input('enter the initial principle amount'))\n",
    "i=int(input('enter the interest rate'))\n",
    "n=int(input('enter the number of times interest applied per period'))\n",
    "t=int(input('enter the number of time period elapsed'))\n",
    "r=(i/100)\n",
    "a=(p*pow((1+(r)),t))\n",
    "print(a)"
   ]
  },
  {
   "cell_type": "code",
   "execution_count": 5,
   "metadata": {},
   "outputs": [
    {
     "name": "stdout",
     "output_type": "stream",
     "text": [
      "natural numbers;20\n",
      "first numbers;1\n",
      "common difference;1\n",
      "210.0\n"
     ]
    }
   ],
   "source": [
    "#7.WAP to print sum of first n natural numbers. (n needs to be taken as input)\n",
    "n=int(input('natural numbers;'))\n",
    "a=int(input('first numbers;')) \n",
    "d=int(input('common difference;')) \n",
    "\n",
    "x=((n/2)*((2*a)+(n-1)*d))\n",
    "print(x)"
   ]
  },
  {
   "cell_type": "code",
   "execution_count": null,
   "metadata": {},
   "outputs": [],
   "source": [
    "#8. WAP to input 2 numbers and swap them. (write using both normal logic with temp variable and also the pythonic way). "
   ]
  },
  {
   "cell_type": "code",
   "execution_count": 6,
   "metadata": {},
   "outputs": [
    {
     "name": "stdout",
     "output_type": "stream",
     "text": [
      "9\n",
      "10\n",
      "11\n",
      "32\n",
      "12\n",
      "13\n"
     ]
    }
   ],
   "source": [
    "# 9. WAP to print ascii value of all white-space characters present in python. \n",
    "print(ord('\\t'))\n",
    "print(ord('\\n'))\n",
    "print(ord('\\v'))\n",
    "print(ord(' '))\n",
    "print(ord('\\f'))\n",
    "print(ord('\\r'))"
   ]
  },
  {
   "cell_type": "code",
   "execution_count": 30,
   "metadata": {},
   "outputs": [
    {
     "name": "stdout",
     "output_type": "stream",
     "text": [
      "enter the character:N\n",
      "78\n"
     ]
    }
   ],
   "source": [
    "#10.  Input a single character and print its ascii values\n",
    "x=input(\"enter the character:\")\n",
    "print(ord(x))"
   ]
  },
  {
   "cell_type": "code",
   "execution_count": 36,
   "metadata": {},
   "outputs": [
    {
     "name": "stdout",
     "output_type": "stream",
     "text": [
      "area of the circle in square cms;10\n",
      "11.20714058089752\n"
     ]
    }
   ],
   "source": [
    "#11. WAP that takes area of a circle and gives back the radius and circumference.\n",
    "A=int(input('area of the circle in square cms;'))\n",
    "\n",
    "n=(A/3.14)\n",
    "r=(math.sqrt(n))\n",
    "C=(2*3.14*r)\n",
    "print(C)"
   ]
  },
  {
   "cell_type": "code",
   "execution_count": 37,
   "metadata": {},
   "outputs": [
    {
     "name": "stdout",
     "output_type": "stream",
     "text": [
      "marks in subject a;82\n",
      "marks in subject b;91\n",
      "marks in subject c;78\n",
      "marks in subject d;94\n",
      "marks in subject e;96\n",
      "88.2\n"
     ]
    }
   ],
   "source": [
    "#12. We need to input marks in 5 subjects out of 100 and print percentage\n",
    "a=int(input('marks in subject a;'))\n",
    "b=int(input('marks in subject b;'))\n",
    "c=int(input('marks in subject c;'))\n",
    "d=int(input('marks in subject d;'))\n",
    "e=int(input('marks in subject e;'))\n",
    "T=(((a+b+c+d+e)/500)*100)\n",
    "print(T)"
   ]
  },
  {
   "cell_type": "code",
   "execution_count": null,
   "metadata": {},
   "outputs": [],
   "source": []
  }
 ],
 "metadata": {
  "kernelspec": {
   "display_name": "Python 3",
   "language": "python",
   "name": "python3"
  },
  "language_info": {
   "codemirror_mode": {
    "name": "ipython",
    "version": 3
   },
   "file_extension": ".py",
   "mimetype": "text/x-python",
   "name": "python",
   "nbconvert_exporter": "python",
   "pygments_lexer": "ipython3",
   "version": "3.8.3"
  }
 },
 "nbformat": 4,
 "nbformat_minor": 4
}
