{
 "cells": [
  {
   "cell_type": "code",
   "execution_count": 2,
   "metadata": {},
   "outputs": [
    {
     "name": "stdin",
     "output_type": "stream",
     "text": [
      "Enter the Fahrenheit:  98.4\n"
     ]
    },
    {
     "name": "stdout",
     "output_type": "stream",
     "text": [
      "Fahrenheit 98.4 to Celsius:  36.888888888888886\n"
     ]
    }
   ],
   "source": [
    "#fahrenheit to celsius\n",
    "farh = float(input(\"Enter the Fahrenheit: \"))\n",
    "celsius=(farh-32)*5/9\n",
    "print(f\"Fahrenheit {farh} to Celsius: \",celsius)\n"
   ]
  },
  {
   "cell_type": "code",
   "execution_count": 7,
   "metadata": {},
   "outputs": [
    {
     "name": "stdin",
     "output_type": "stream",
     "text": [
      "Enter the number:  2\n"
     ]
    },
    {
     "name": "stdout",
     "output_type": "stream",
     "text": [
      "Square:  4.0\n",
      "Cube:  8.0\n"
     ]
    }
   ],
   "source": [
    "#print square and cube\n",
    "inv=float(input(\"Enter the number: \"))\n",
    "squar=inv**2\n",
    "cub=inv**3\n",
    "print(\"Square: \",squar)\n",
    "print(\"Cube: \",cub)"
   ]
  },
  {
   "cell_type": "code",
   "execution_count": 8,
   "metadata": {},
   "outputs": [
    {
     "name": "stdin",
     "output_type": "stream",
     "text": [
      "Enter n: 2\n",
      "Enter m: 3\n"
     ]
    },
    {
     "name": "stdout",
     "output_type": "stream",
     "text": [
      "n^2 + m^2:  13.0\n"
     ]
    }
   ],
   "source": [
    "#print n2 + m2\n",
    "n=float(input(\"Enter n:\"))\n",
    "m=float(input(\"Enter m:\"))\n",
    "print(\"n^2 + m^2: \",n**2+m**2)"
   ]
  },
  {
   "cell_type": "code",
   "execution_count": 9,
   "metadata": {},
   "outputs": [
    {
     "name": "stdin",
     "output_type": "stream",
     "text": [
      "Enter M:  2\n",
      "Enter N:  3\n"
     ]
    },
    {
     "name": "stdout",
     "output_type": "stream",
     "text": [
      "M^N:  8.0\n"
     ]
    }
   ],
   "source": [
    "#M^N\n",
    "m=float(input(\"Enter M: \"))\n",
    "n=float(input(\"Enter N: \"))\n",
    "print(\"M^N: \", pow(m,n))"
   ]
  },
  {
   "cell_type": "code",
   "execution_count": 10,
   "metadata": {},
   "outputs": [
    {
     "name": "stdin",
     "output_type": "stream",
     "text": [
      "Enter p:  100000\n",
      "Enter t:  1\n",
      "Enter r:  8.5\n"
     ]
    },
    {
     "name": "stdout",
     "output_type": "stream",
     "text": [
      "Simple interest:  8500.0\n"
     ]
    }
   ],
   "source": [
    "#Simple Interest\n",
    "p=float(input(\"Enter principal: \"))\n",
    "t=float(input(\"Enter time in year: \"))\n",
    "r=float(input(\"Enter rate of interest per year: \"))\n",
    "print(\"Simple interest: \",(p*t*r)/100)"
   ]
  },
  {
   "cell_type": "code",
   "execution_count": 12,
   "metadata": {},
   "outputs": [
    {
     "name": "stdin",
     "output_type": "stream",
     "text": [
      "Enter prinicipal:  100000\n",
      "Enter time in year:  2\n",
      "Enter rate of interest per year:  8.5\n"
     ]
    },
    {
     "name": "stdout",
     "output_type": "stream",
     "text": [
      "Compound interest:  117722.5\n"
     ]
    }
   ],
   "source": [
    "#Compound Interest\n",
    "p=float(input(\"Enter prinicipal: \"))\n",
    "t=float(input(\"Enter time in year: \"))\n",
    "r=float(input(\"Enter rate of interest per year: \"))/100\n",
    "print(\"Compound interest: \",p*((1+r)**t))"
   ]
  },
  {
   "cell_type": "code",
   "execution_count": 15,
   "metadata": {},
   "outputs": [
    {
     "name": "stdin",
     "output_type": "stream",
     "text": [
      "Enter n: 10\n"
     ]
    },
    {
     "name": "stdout",
     "output_type": "stream",
     "text": [
      "Sum of first n natural numbers:  55.0\n"
     ]
    }
   ],
   "source": [
    "#sum of n natural numbers\n",
    "n=int(input(\"Enter n:\"))\n",
    "print(\"Sum of first n natural numbers: \",(n*(n+1)/2))"
   ]
  },
  {
   "cell_type": "code",
   "execution_count": 18,
   "metadata": {},
   "outputs": [
    {
     "name": "stdin",
     "output_type": "stream",
     "text": [
      "enter a:  2\n",
      "enter b:  4\n"
     ]
    },
    {
     "name": "stdout",
     "output_type": "stream",
     "text": [
      "swapped a=4.0 b=2.0\n"
     ]
    }
   ],
   "source": [
    "#swap the two numbers\n",
    "a=float(input(\"enter a: \"))\n",
    "b=float(input(\"enter b: \"))\n",
    "a=a+b\n",
    "b=a-b\n",
    "a=a-b\n",
    "print(f\"swapped a={a} b={b}\")"
   ]
  },
  {
   "cell_type": "code",
   "execution_count": 36,
   "metadata": {},
   "outputs": [
    {
     "name": "stdout",
     "output_type": "stream",
     "text": [
      "97\n",
      "32\n",
      "9\n",
      "10\n",
      "11\n",
      "12\n"
     ]
    }
   ],
   "source": [
    "#print ascii value of whitespace\n",
    "import string\n",
    "print(ord('a'))\n",
    "print(ord(' '))\n",
    "print(ord('\\t'))\n",
    "print(ord('\\n'))\n",
    "#print(ord('\\r'))\n",
    "print(ord('\\x0b'))\n",
    "print(ord('\\x0c'))\n",
    "#print(repr(string.whitespace))"
   ]
  },
  {
   "cell_type": "code",
   "execution_count": 41,
   "metadata": {},
   "outputs": [
    {
     "name": "stdin",
     "output_type": "stream",
     "text": [
      "Enter a single character a\n"
     ]
    },
    {
     "name": "stdout",
     "output_type": "stream",
     "text": [
      "ASCII value of a 97\n"
     ]
    }
   ],
   "source": [
    "#input single char and print ascii value\n",
    "chr=input(\"Enter a single character\")\n",
    "print(f\"ASCII value of {chr}\",ord(chr))"
   ]
  },
  {
   "cell_type": "code",
   "execution_count": 49,
   "metadata": {},
   "outputs": [
    {
     "name": "stdin",
     "output_type": "stream",
     "text": [
      "Enter are of circle:  22\n"
     ]
    },
    {
     "name": "stdout",
     "output_type": "stream",
     "text": [
      "Radius is 2.65 and Circumeference is:  16.65\n"
     ]
    }
   ],
   "source": [
    "#enter are and get the raidus and circumference\n",
    "import math\n",
    "#dir(math)\n",
    "area=float(input(\"Enter are of circle: \"))\n",
    "radius=round(math.sqrt(area/math.pi),2)\n",
    "print(f\"Radius is {radius} and Circumeference is: \",round(2*math.pi*radius,2))"
   ]
  },
  {
   "cell_type": "code",
   "execution_count": 56,
   "metadata": {},
   "outputs": [
    {
     "name": "stdin",
     "output_type": "stream",
     "text": [
      "Enter marks in Subject:  90\n",
      "Enter marks in Subject:  90\n",
      "Enter marks in Subject:  90\n",
      "Enter marks in Subject:  90\n",
      "Enter marks in Subject:  90\n"
     ]
    },
    {
     "name": "stdout",
     "output_type": "stream",
     "text": [
      "Percentage of the candidate is:  90.0\n"
     ]
    }
   ],
   "source": [
    "#marks in 5 subjects and print percentage\n",
    "a=[]\n",
    "for i in range(0,5):\n",
    "    a.append(float(input(\"Enter marks in Subject: \")))\n",
    "\n",
    "res=0.0\n",
    "for val in a:\n",
    "    res+=val\n",
    "    \n",
    "print(\"Percentage of the candidate is: \",round(res/len(a),2))"
   ]
  }
 ],
 "metadata": {
  "kernelspec": {
   "display_name": "Python 3",
   "language": "python",
   "name": "python3"
  },
  "language_info": {
   "codemirror_mode": {
    "name": "ipython",
    "version": 3
   },
   "file_extension": ".py",
   "mimetype": "text/x-python",
   "name": "python",
   "nbconvert_exporter": "python",
   "pygments_lexer": "ipython3",
   "version": "3.8.3"
  }
 },
 "nbformat": 4,
 "nbformat_minor": 4
}
