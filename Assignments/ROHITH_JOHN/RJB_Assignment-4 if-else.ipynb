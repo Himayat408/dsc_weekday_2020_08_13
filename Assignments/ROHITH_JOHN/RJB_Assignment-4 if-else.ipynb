{
 "cells": [
  {
   "cell_type": "code",
   "execution_count": 3,
   "metadata": {},
   "outputs": [
    {
     "name": "stdout",
     "output_type": "stream",
     "text": [
      "enter the number 10\n",
      "enter the number 5\n",
      "true\n"
     ]
    }
   ],
   "source": [
    "#Assignment-4-Q1\n",
    "\n",
    "# WAP to input 2 numbers and check whether the first is divisible by the second and print true or\n",
    "# false depending on the divisibility. \n",
    "\n",
    "a=int(input(\"enter the number \"))\n",
    "b=int(input(\"enter the number \"))\n",
    "\n",
    "if a%b==0:\n",
    "    print(\"true\")\n",
    "else:\n",
    "    print(\"false\")\n",
    "    \n"
   ]
  },
  {
   "cell_type": "code",
   "execution_count": 5,
   "metadata": {},
   "outputs": [
    {
     "name": "stdout",
     "output_type": "stream",
     "text": [
      "enter a string namaN\n",
      "palindrome\n"
     ]
    }
   ],
   "source": [
    "# Assignment-4-Q2\n",
    "\n",
    "# In the palindrome example, make the code case insensitive.\n",
    "#  i.e. Naman should also be treated as a palindrome (HINT: first convert to either upper or\n",
    "# lower case)\n",
    "\n",
    "s1=input(\"enter a string \")\n",
    "s1=s1.lower()\n",
    "s2=s1[::-1]\n",
    "\n",
    "if s1==s2:\n",
    "    print(\"palindrome\")\n",
    "else:\n",
    "    print(\"not a palindrome\")\n",
    "    "
   ]
  },
  {
   "cell_type": "code",
   "execution_count": 17,
   "metadata": {},
   "outputs": [
    {
     "name": "stdout",
     "output_type": "stream",
     "text": [
      "enter the side of the triangle a:1\n",
      "enter the side of the triangle b:2\n",
      "enter the side of the triangle c:2\n",
      "isosceles\n"
     ]
    }
   ],
   "source": [
    "# Assignment-4-Q3\n",
    "\n",
    "# WAP to input the sides of a triangle and print whether equilateral(all sides equal), isosceles (2\n",
    "# sides equal), or scalene (no sides equal). \n",
    "\n",
    "\n",
    "a=float(input(\"enter the side of the triangle a:\"))\n",
    "b=float(input(\"enter the side of the triangle b:\"))\n",
    "c=float(input(\"enter the side of the triangle c:\"))\n",
    "\n",
    "\n",
    "if (a==b and a!=c) or (a==c and a!=b) or (b==c and b!=a):\n",
    "    print(\"isosceles\")\n",
    "elif a==b==c:\n",
    "    print(\"Equilateral\")\n",
    "else:\n",
    "    print(\"scalene\")\n",
    "      "
   ]
  },
  {
   "cell_type": "code",
   "execution_count": 4,
   "metadata": {},
   "outputs": [
    {
     "name": "stdout",
     "output_type": "stream",
     "text": [
      "enter a number 2559\n",
      "odd\n"
     ]
    }
   ],
   "source": [
    "# Assignment-4-Q4\n",
    "\n",
    "a=int(input(\"enter a number \"))\n",
    "\n",
    "if a%2==0:\n",
    "    print(\"even\")\n",
    "else:\n",
    "    print(\"odd\")"
   ]
  },
  {
   "cell_type": "code",
   "execution_count": 20,
   "metadata": {},
   "outputs": [
    {
     "name": "stdout",
     "output_type": "stream",
     "text": [
      "enter age: 78\n",
      "senior citizen\n"
     ]
    }
   ],
   "source": [
    "# Assignment-4-Q5\n",
    "# WAP to input age and print the respective text depending on the age ranges as present in the table.\n",
    "\n",
    "# Age          Text to be displayed\n",
    "# 0-12         Child\n",
    "# 13-17        Teen\n",
    "# 18-50        Adult\n",
    "# 51-100       Senior Citizen\n",
    "# age > 100    Contratulations \n",
    "\n",
    "\n",
    "age=int(input(\"enter age: \"))\n",
    "if age==0:\n",
    "    print(\"enter valid input\")\n",
    "elif 0<age<=12:\n",
    "    print(\"child\")\n",
    "elif 13<=age<=17:\n",
    "    print(\"teen\")\n",
    "elif 15<=age<=50:\n",
    "     print(\"adult\")\n",
    "elif 51<=age<=100:\n",
    "    print(\"senior citizen\")\n",
    "elif age>100:\n",
    "    print(\"congratulations\")\n",
    "    "
   ]
  },
  {
   "cell_type": "code",
   "execution_count": 28,
   "metadata": {},
   "outputs": [
    {
     "name": "stdout",
     "output_type": "stream",
     "text": [
      "enter a year 1900\n",
      "not a leap year\n"
     ]
    }
   ],
   "source": [
    "# Assignment-4-Q6\n",
    "# WAP to input year (check if user enters valid year. Should be 4-digit number and should not be\n",
    "# negative) and print whether leap year or not. \n",
    "\n",
    "year=int(input(\"enter a year \"))\n",
    "year=abs(year)\n",
    "\n",
    "if year%400==0:\n",
    "    print(\"leap year\")\n",
    "elif year%100==0:\n",
    "    print(\"not a leap year\")\n",
    "elif year%4==0:\n",
    "    print('leap year')\n",
    "else:\n",
    "    print((\"not a valid year\"))"
   ]
  },
  {
   "cell_type": "code",
   "execution_count": 32,
   "metadata": {},
   "outputs": [
    {
     "name": "stdout",
     "output_type": "stream",
     "text": [
      "enter a string: goa\n",
      "GOA\n"
     ]
    }
   ],
   "source": [
    "# Assignment-4-Q7\n",
    "\n",
    "# WAP to input a string and convert it to Upper Case if number of characters is odd and convert to lower case otherwise. \n",
    "\n",
    "s=input(\"enter a string: \")\n",
    "l=len(s)\n",
    "\n",
    "if l%2==0:\n",
    "    s=s.lower()\n",
    "    print(s)   \n",
    "else :\n",
    "    s=s.upper()\n",
    "    print(s)\n"
   ]
  },
  {
   "cell_type": "code",
   "execution_count": 38,
   "metadata": {},
   "outputs": [
    {
     "name": "stdout",
     "output_type": "stream",
     "text": [
      "What would you like to have for breakfast? EGG\n",
      "You like non-veg\n"
     ]
    }
   ],
   "source": [
    "# Assignment-4-Q8\n",
    "# WAP to input a string and print Veg if the string doesn’t contain the word egg. Otherwise print\n",
    "# Non-Veg. As usual eggs can be both big and small. \n",
    "\n",
    "s=input(\"What would you like to have for breakfast? \")\n",
    "s=s.lower()\n",
    "\n",
    "if 'egg' in s:\n",
    "   print(\"You like non-veg\")\n",
    "else:\n",
    "    print(\"you like veg\")\n",
    "\n",
    "\n"
   ]
  },
  {
   "cell_type": "code",
   "execution_count": 41,
   "metadata": {},
   "outputs": [
    {
     "name": "stdout",
     "output_type": "stream",
     "text": [
      "True\n"
     ]
    }
   ],
   "source": [
    "# Assignment-4-Q9\n",
    "# Give the output of \n",
    "\n",
    "# if not 1:\n",
    "#     print(\"False\") \n",
    "# else:\n",
    "#     print(\"True\")\n",
    "\n",
    "\n",
    "if not 1:\n",
    "    print(\"False\") \n",
    "else:\n",
    "    print(\"True\")#prints else part"
   ]
  },
  {
   "cell_type": "code",
   "execution_count": 42,
   "metadata": {},
   "outputs": [
    {
     "name": "stdout",
     "output_type": "stream",
     "text": [
      "False\n"
     ]
    }
   ],
   "source": [
    "# Give the output of \n",
    "\n",
    "\n",
    "# if 1:\n",
    "#     print(\"False\") \n",
    "# else:\n",
    "#     print(\"True\")\n",
    "\n",
    "\n",
    "if 1:\n",
    "   print(\"False\") #prints if part\n",
    "else:\n",
    "   print(\"True\")"
   ]
  },
  {
   "cell_type": "code",
   "execution_count": 43,
   "metadata": {},
   "outputs": [
    {
     "name": "stdout",
     "output_type": "stream",
     "text": [
      "Weird\n"
     ]
    }
   ],
   "source": [
    "# Give the output of \n",
    "\n",
    "if 'a' >'A':\n",
    "     print(\"Weird\") # ASCII value of 'a' is more than 'A'\n",
    "else:\n",
    "     print(\"Makes Sense\")"
   ]
  },
  {
   "cell_type": "code",
   "execution_count": 44,
   "metadata": {},
   "outputs": [
    {
     "name": "stdout",
     "output_type": "stream",
     "text": [
      "[4, 3, 2, 1]\n"
     ]
    }
   ],
   "source": [
    "# Give the output of \n",
    "\n",
    "a = [1,2,3,4]\n",
    "if 1>1:\n",
    "    a = a[::-1]\n",
    "else:\n",
    "    a = a[-1::-1]\n",
    "print(a)"
   ]
  },
  {
   "cell_type": "code",
   "execution_count": 6,
   "metadata": {},
   "outputs": [
    {
     "name": "stdout",
     "output_type": "stream",
     "text": [
      "Enter the marks secured 55\n",
      "Enter the marks secured 95\n",
      "Enter the marks secured 22\n",
      "Enter the marks secured 65\n",
      "Enter the marks secured 85\n",
      "Grade C \n"
     ]
    }
   ],
   "source": [
    "# Assignment-4-Q10\n",
    "# WAP to input marks in 5 subjects and print the grade as per following logic: \n",
    "\n",
    "# % between 90-100 Grade-A\n",
    "# % between 80 - 89 Grade-B\n",
    "# % between 60 - 79 Grade-C\n",
    "# % < 60 Grade-F \n",
    "\n",
    "\n",
    "subject1=float(input(\"Enter the marks secured \"))\n",
    "subject2=float(input(\"Enter the marks secured \"))\n",
    "subject3=float(input(\"Enter the marks secured \"))\n",
    "subject4=float(input(\"Enter the marks secured \"))\n",
    "subject5=float(input(\"Enter the marks secured \"))\n",
    "percentage=(subject1+subject2+subject3+subject3+subject4+subject5)/5\n",
    "\n",
    "\n",
    "\n",
    "if 90<=percentage<=100:\n",
    "    print(\"Grade A \")\n",
    "elif 80<=percentage<=89:\n",
    "    print(\"Grade B\")\n",
    "elif 60<=percentage<=79:\n",
    "    print(\"Grade C \")\n",
    "else:\n",
    "    print(\"Grade F \")\n",
    "    \n",
    "    \n",
    "\n"
   ]
  },
  {
   "cell_type": "code",
   "execution_count": 16,
   "metadata": {},
   "outputs": [
    {
     "name": "stdout",
     "output_type": "stream",
     "text": [
      "Enter the age25\n",
      "Enter salary100000000\n",
      "Tax 15%\n"
     ]
    }
   ],
   "source": [
    "# Assignment-4-Q11\n",
    "\n",
    "# WAP to input age and salary and calculate Tax as per tax rates if following table: \n",
    "\n",
    "# Salary Range                  Age < 60          Age >= 60\n",
    "# 0-250,000                         0                0\n",
    "# 2,50,001-5,00,000                 5%              3%\n",
    "# 5,00,001-10,00,000               10%              8%\n",
    "# Salary>10,00,001                  15%             12% \n",
    "\n",
    "\n",
    "age=int(input((\"Enter the age\")))\n",
    "salary=float(input(\"Enter salary\"))\n",
    "\n",
    "if 0<=salary<=250000:\n",
    "                   print(\"Tax: 0\")\n",
    "elif 250001<=salary<=500000:\n",
    "     if age<60:\n",
    "        print('Tax:5%')\n",
    "     else:\n",
    "         print(\"Tax 3%\")\n",
    "                   \n",
    "elif 500001<=salary<=1000000:\n",
    "                   if age<60:\n",
    "                      print(\"Tax 10% \")\n",
    "                   else:\n",
    "                       print(\"Tax 8% \")\n",
    "                   \n",
    "else:\n",
    "                   \n",
    "     if age<60:\n",
    "               print('Tax 15%')\n",
    "                   \n",
    "     else:\n",
    "           print(\"Tax 12%\")        \n",
    "                   \n",
    "                   \n",
    "                   \n"
   ]
  },
  {
   "cell_type": "code",
   "execution_count": 20,
   "metadata": {},
   "outputs": [
    {
     "name": "stdout",
     "output_type": "stream",
     "text": [
      "10\n",
      "10\n",
      "10\n",
      "OMG\n"
     ]
    }
   ],
   "source": [
    "# Assignment-4-Q12\n",
    "# Try each of the below statements separately (remember difference between statement and\n",
    "# expression) on the python interpreter and guess the output before trying: \n",
    "# print(20 if not 1==1 else 10)\n",
    "#     print(30 if not 1==1 else 20 if 'a'<'A' else 10)\n",
    "#     print(40 if not 1==1 else 30 if 'a'< 'A' else 20 if '' else 10)\n",
    "#     print('No' if not 1==1 else ('No' if 'a'<'A' else ('OMG' if 'Oh!!' else 'No')))\n",
    "\n",
    "print(20 if not 1==1 else 10)\n",
    "print(30 if not 1==1 else 20 if 'a'<'A' else 10)\n",
    "print(40 if not 1==1 else 30 if 'a'< 'A' else 20 if '' else 10)\n",
    "print('No' if not 1==1 else ('No' if 'a'<'A' else ('OMG' if 'Oh!!' else 'No')))"
   ]
  },
  {
   "cell_type": "code",
   "execution_count": 25,
   "metadata": {},
   "outputs": [
    {
     "name": "stdout",
     "output_type": "stream",
     "text": [
      "Enter the weight88\n",
      "Enter the height157\n",
      "obese\n",
      "BMI 35.70124548663232\n"
     ]
    }
   ],
   "source": [
    "# Assignment-4-Q13\n",
    "\n",
    "# WAF: bmi() that takes the weight in kg and height in cm of a person, calculates and returns the BMI.\n",
    "# Write code that calls this function after taking height and weight as inputs and then prints\n",
    "# underweight, normal, overweight or obese depending on the value of BMI. \n",
    "\n",
    "\n",
    "weight=float(input(\"Enter the weight\"))\n",
    "height=float(input(\"Enter the height\"))\n",
    "height=height/100\n",
    "def bmi():\n",
    "    bm=weight/(height**2)\n",
    "    return bm\n",
    "\n",
    "if 16<=bmi()<18.5:\n",
    "    print(\"underweight\")\n",
    "    \n",
    "elif 18.5<=bmi()<25:   \n",
    "     print(\"normal\")\n",
    "elif 25<=bmi()<30:\n",
    "     print(\"overweight\")\n",
    "elif bmi()>=30:\n",
    "     print(\"obese\")\n",
    "               \n",
    "print(\"BMI\",bmi())"
   ]
  },
  {
   "cell_type": "code",
   "execution_count": 27,
   "metadata": {},
   "outputs": [
    {
     "name": "stdout",
     "output_type": "stream",
     "text": [
      "Enter the age of the first person: 50\n",
      "Enter the age of the second person: 20\n",
      "Enter the age of the third person: 68\n",
      "Third person is the eldest\n",
      "Second person is the youngest\n"
     ]
    }
   ],
   "source": [
    "# Assignment-4-Q14\n",
    "#Take input of age of 3 people by user and determine oldest and youngest among them. \n",
    "\n",
    "age1 = int(input(\"Enter the age of the first person: \"))\n",
    "age2 = int(input(\"Enter the age of the second person: \"))\n",
    "age3 = int(input(\"Enter the age of the third person: \"))\n",
    "if age1>age2:\n",
    "    if age1>age3:\n",
    "        print(\"First person is the eldest\")\n",
    "    else:\n",
    "        print(\"Third person is the eldest\")\n",
    "    if age2<age3:\n",
    "        print(\"Second person is the youngest\")\n",
    "    else:\n",
    "        print(\"Third person is the youngest\")\n",
    "else:\n",
    "    if age2>age3:\n",
    "        print(\"Second person is the eldest\")\n",
    "    else:\n",
    "        print(\"Third person is the eldest\")\n",
    "    if age1<age3:\n",
    "        print(\"First person is the youngest\")\n",
    "    else:\n",
    "        print(\"Third person is the youngest\")\n",
    "     \n",
    "    "
   ]
  },
  {
   "cell_type": "code",
   "execution_count": 31,
   "metadata": {},
   "outputs": [
    {
     "name": "stdout",
     "output_type": "stream",
     "text": [
      "enter a number35\n",
      "divisible by both 5 and 7\n"
     ]
    }
   ],
   "source": [
    "# Assignment-4-Q15\n",
    "\n",
    "#WAP to input a number and check if number is divisible by both 5 and 7. \n",
    "\n",
    "num=int(input(\"enter a number\"))\n",
    "        \n",
    "if num%5==0 and num%7==0:\n",
    "        print(\"divisible by both 5 and 7\")\n",
    "else:\n",
    "        print(\"not divisible\")"
   ]
  }
 ],
 "metadata": {
  "kernelspec": {
   "display_name": "Python 3",
   "language": "python",
   "name": "python3"
  },
  "language_info": {
   "codemirror_mode": {
    "name": "ipython",
    "version": 3
   },
   "file_extension": ".py",
   "mimetype": "text/x-python",
   "name": "python",
   "nbconvert_exporter": "python",
   "pygments_lexer": "ipython3",
   "version": "3.8.3"
  }
 },
 "nbformat": 4,
 "nbformat_minor": 4
}
