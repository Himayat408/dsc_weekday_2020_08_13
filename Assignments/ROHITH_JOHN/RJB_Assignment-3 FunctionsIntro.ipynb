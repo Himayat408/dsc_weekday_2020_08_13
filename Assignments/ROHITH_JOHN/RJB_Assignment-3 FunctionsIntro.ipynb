{
 "cells": [
  {
   "cell_type": "code",
   "execution_count": 8,
   "metadata": {},
   "outputs": [
    {
     "name": "stdout",
     "output_type": "stream",
     "text": [
      "Enter a string rohith\n",
      "Enter a stringjohn\n",
      "rohith john\n",
      "('john', 'rohith')\n"
     ]
    }
   ],
   "source": [
    "#Assignment-3-Q1\n",
    "#WAP to input 2 strings and swap the strings \n",
    "s1=input(\"Enter a string \")\n",
    "s2=input(\"Enter a string\")\n",
    "print(s1,s2)\n",
    "\n",
    "\n",
    "def swap(a,b):\n",
    "    swap=a\n",
    "    a=b\n",
    "    b=swap\n",
    "    return a,b\n",
    "    \n",
    "x=swap(s1,s2)\n",
    "print(x)\n"
   ]
  },
  {
   "cell_type": "code",
   "execution_count": 45,
   "metadata": {},
   "outputs": [
    {
     "name": "stdout",
     "output_type": "stream",
     "text": [
      "22 3 0 19\n",
      "11.0\n"
     ]
    }
   ],
   "source": [
    "#Assignment-3-Q2\n",
    "\n",
    "#WAP to generate 4 random numbers in the range 0-26 and print their average\n",
    "\n",
    "import random\n",
    "def average(a,b,c,d):\n",
    "    x=(a+b+c+d)/4\n",
    "    return x\n",
    "    \n",
    "a=random.randrange(0,26)\n",
    "b=random.randrange(0,26)\n",
    "c=random.randrange(0,26)\n",
    "d=random.randrange(0,26)\n",
    "avg=average(a,b,c,d)\n",
    "print(a,b,c,d)\n",
    "print(avg)\n",
    "\n",
    "    "
   ]
  },
  {
   "cell_type": "code",
   "execution_count": 26,
   "metadata": {},
   "outputs": [
    {
     "name": "stdout",
     "output_type": "stream",
     "text": [
      "z\n"
     ]
    }
   ],
   "source": [
    "# Assignment-3-Q3\n",
    "\n",
    "#WAP to generate and print a random uppercase or lowercase alphabet. Try these:\n",
    "#Create a string containing all alphabets and then select a random alphabet.\n",
    "# Check the module string\n",
    "\n",
    "import random\n",
    "s='abcdefghijklmnopqrstuvwxyz'\n",
    "c=random.randrange(0,len(s))\n",
    "print(s[c])\n",
    "\n",
    "\n"
   ]
  },
  {
   "cell_type": "code",
   "execution_count": 35,
   "metadata": {},
   "outputs": [
    {
     "name": "stdout",
     "output_type": "stream",
     "text": [
      "enter the principle amount 10000\n",
      "enter the rate of interest 7.5\n",
      "enter the time in years 1.5\n",
      "simple interest Rs 112500.0\n"
     ]
    }
   ],
   "source": [
    "# Assignment-3-Q4\n",
    "\n",
    "#WAF get_si() that takes Principle, Rate and Time as arguments and returns the Simple Interest.\n",
    "\n",
    "def get_si(p,r,t):\n",
    "    si=(p*r*t)\n",
    "    return si\n",
    "\n",
    "p=float(input(\"enter the principle amount \"))\n",
    "r=float(input(\"enter the rate of interest \") )     \n",
    "t=float(input(\"enter the time in years \")  )    \n",
    "\n",
    "simple_interest=get_si(p,r,t)\n",
    "print(\"simple interest Rs\",simple_interest)\n"
   ]
  },
  {
   "cell_type": "code",
   "execution_count": 2,
   "metadata": {},
   "outputs": [
    {
     "name": "stdout",
     "output_type": "stream",
     "text": [
      "enter the principle amount 10000\n",
      "simple interest Rs 11000.0\n"
     ]
    }
   ],
   "source": [
    "# Assignment-3-Q5\n",
    "\n",
    "#WAF get_amount() that takes Principle, Rate and Time as arguments and returns the\n",
    "#Total amount using the get_si() function from above to calculate the SI. Also provide\n",
    "#Rate = 10 and Time = 1 as default arguments. \n",
    "def get_si(p,r,t):\n",
    "    si=(p*r*t)/100\n",
    "    return si\n",
    "\n",
    "\n",
    "def get_amount(p,r,t):\n",
    "    x=get_si(p,r,t)\n",
    "    A=p+x\n",
    "    return A\n",
    "  \n",
    "    \n",
    "    \n",
    "p=float(input(\"enter the principle amount \"))\n",
    "simple_interest=get_amount(p,10,1)    \n",
    "print(\"simple interest Rs\",simple_interest)    \n"
   ]
  },
  {
   "cell_type": "code",
   "execution_count": 16,
   "metadata": {},
   "outputs": [
    {
     "name": "stdout",
     "output_type": "stream",
     "text": [
      "Enter the initial principal amount 10000\n",
      "compount_interest: 11612.92\n"
     ]
    }
   ],
   "source": [
    "# Assignment-3-Q6\n",
    "\n",
    "#WAP get_ci() that takes Principle, Rate and Time as arguments and returns the Compound Interest. 6829415.0\n",
    "\n",
    "p=float(input(\"Enter the initial principal amount \"))\n",
    "\n",
    "def get_ci(p,r,t,n):\n",
    "    a=p*pow((1+(r/(n*100))),n*t)\n",
    "    return a\n",
    "\n",
    "compound_interest=get_ci(p,7.5,2,12)\n",
    "print('compount_interest:',round(compound_interest,2))\n"
   ]
  },
  {
   "cell_type": "code",
   "execution_count": null,
   "metadata": {},
   "outputs": [],
   "source": [
    "# Assignment-3-Q7\n",
    "\n",
    "#WAP get_q_r() taking 2 numbers as parameters and returns the quotient and remainder in the form of a tuple. \n"
   ]
  },
  {
   "cell_type": "code",
   "execution_count": 29,
   "metadata": {},
   "outputs": [
    {
     "name": "stdout",
     "output_type": "stream",
     "text": [
      "enter the height 10\n",
      "enter the base 5\n",
      "Hypotenuse  11.180339887498949\n"
     ]
    }
   ],
   "source": [
    "# Assignment-3-Q8\n",
    "\n",
    "#WAP to find the length of hypotenuse of a right angled triangle, input the height and base from user\n",
    "\n",
    "from math import sqrt  \n",
    "def calc_length(h,b):\n",
    "    l=math.sqrt(h**2+b**2)\n",
    "    return l\n",
    "    \n",
    "\n",
    "h=float(input(\"enter the height \"))\n",
    "b=float(input(\"enter the base \"))\n",
    "hyp=calc_length(h,b)\n",
    "print(\"Hypotenuse \",hyp)\n",
    "\n",
    "\n",
    "\n"
   ]
  },
  {
   "cell_type": "code",
   "execution_count": null,
   "metadata": {},
   "outputs": [],
   "source": [
    "# Assignment-3-Q9\n",
    "\n",
    "#WAP to input number of seconds and print in days, hours, minutes and seconds\n",
    "#ex: input = 10000\n",
    "#Output = 0 day 2 hour 46 minute 40 second \n",
    "\n",
    "\n"
   ]
  },
  {
   "cell_type": "code",
   "execution_count": 36,
   "metadata": {},
   "outputs": [],
   "source": [
    "# Assignment-3-Q\n",
    "#Check your version of python interpreter without opening the interpreter (Which\n",
    "#command needs to be used on the command line).\n",
    "#python 3.8.3\n",
    "# python command is used\n"
   ]
  },
  {
   "cell_type": "code",
   "execution_count": 37,
   "metadata": {},
   "outputs": [
    {
     "name": "stdout",
     "output_type": "stream",
     "text": [
      "2 -2\n"
     ]
    }
   ],
   "source": [
    "# Assignment-3-Q11\n",
    "\n",
    "x=2\n",
    "x*=3\n",
    "x=x%4\n",
    "Y=-x\n",
    "print(x,Y)"
   ]
  },
  {
   "cell_type": "code",
   "execution_count": 38,
   "metadata": {},
   "outputs": [
    {
     "name": "stdout",
     "output_type": "stream",
     "text": [
      "None\n"
     ]
    }
   ],
   "source": [
    "# Assignment-3-Q12\n",
    "\n",
    "def func():\n",
    "    pass\n",
    "\n",
    "print(func())\n"
   ]
  }
 ],
 "metadata": {
  "kernelspec": {
   "display_name": "Python 3",
   "language": "python",
   "name": "python3"
  },
  "language_info": {
   "codemirror_mode": {
    "name": "ipython",
    "version": 3
   },
   "file_extension": ".py",
   "mimetype": "text/x-python",
   "name": "python",
   "nbconvert_exporter": "python",
   "pygments_lexer": "ipython3",
   "version": "3.8.3"
  }
 },
 "nbformat": 4,
 "nbformat_minor": 4
}
