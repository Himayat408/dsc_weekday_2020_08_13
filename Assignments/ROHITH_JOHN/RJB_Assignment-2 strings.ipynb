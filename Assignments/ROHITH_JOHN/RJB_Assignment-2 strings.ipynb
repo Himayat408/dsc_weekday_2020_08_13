{
 "cells": [
  {
   "cell_type": "code",
   "execution_count": 2,
   "metadata": {},
   "outputs": [
    {
     "name": "stdout",
     "output_type": "stream",
     "text": [
      "d\n",
      "detneiro tcejbo si nohtyp\n",
      "python is object oriente\n",
      "\n",
      "on is \n"
     ]
    }
   ],
   "source": [
    "#Assignment_2_Q1\n",
    "\n",
    "s='python is object oriented'\n",
    "  #01234567891011 \n",
    "print(s[-1])\n",
    "print(s[::-1])\n",
    "print(s[:-1])\n",
    "print(s[1:1])\n",
    "print(s[4:10])\n"
   ]
  },
  {
   "cell_type": "code",
   "execution_count": 5,
   "metadata": {},
   "outputs": [
    {
     "ename": "IndexError",
     "evalue": "string index out of range",
     "output_type": "error",
     "traceback": [
      "\u001b[1;31m---------------------------------------------------------------------------\u001b[0m",
      "\u001b[1;31mIndexError\u001b[0m                                Traceback (most recent call last)",
      "\u001b[1;32m<ipython-input-5-aacd942ff256>\u001b[0m in \u001b[0;36m<module>\u001b[1;34m\u001b[0m\n\u001b[0;32m      2\u001b[0m \u001b[1;33m\u001b[0m\u001b[0m\n\u001b[0;32m      3\u001b[0m \u001b[0ms\u001b[0m\u001b[1;33m=\u001b[0m \u001b[1;34m''\u001b[0m\u001b[1;33m\u001b[0m\u001b[1;33m\u001b[0m\u001b[0m\n\u001b[1;32m----> 4\u001b[1;33m \u001b[0mprint\u001b[0m\u001b[1;33m(\u001b[0m\u001b[0ms\u001b[0m\u001b[1;33m[\u001b[0m\u001b[1;36m1\u001b[0m\u001b[1;33m]\u001b[0m\u001b[1;33m)\u001b[0m\u001b[1;33m\u001b[0m\u001b[1;33m\u001b[0m\u001b[0m\n\u001b[0m",
      "\u001b[1;31mIndexError\u001b[0m: string index out of range"
     ]
    }
   ],
   "source": [
    "#Assignment_2_Q2\n",
    "\n",
    "s= ''\n",
    "print(s[1]) "
   ]
  },
  {
   "cell_type": "code",
   "execution_count": 11,
   "metadata": {},
   "outputs": [
    {
     "ename": "IndexError",
     "evalue": "string index out of range",
     "output_type": "error",
     "traceback": [
      "\u001b[1;31m---------------------------------------------------------------------------\u001b[0m",
      "\u001b[1;31mIndexError\u001b[0m                                Traceback (most recent call last)",
      "\u001b[1;32m<ipython-input-11-01ff19fb635a>\u001b[0m in \u001b[0;36m<module>\u001b[1;34m\u001b[0m\n\u001b[0;32m      2\u001b[0m \u001b[1;33m\u001b[0m\u001b[0m\n\u001b[0;32m      3\u001b[0m \u001b[0mS\u001b[0m\u001b[1;33m=\u001b[0m\u001b[1;34m'Gaurav'\u001b[0m\u001b[1;33m\u001b[0m\u001b[1;33m\u001b[0m\u001b[0m\n\u001b[1;32m----> 4\u001b[1;33m \u001b[0mprint\u001b[0m\u001b[1;33m(\u001b[0m\u001b[0ms\u001b[0m\u001b[1;33m[\u001b[0m\u001b[1;36m1\u001b[0m\u001b[1;33m]\u001b[0m\u001b[1;33m)\u001b[0m\u001b[1;33m\u001b[0m\u001b[1;33m\u001b[0m\u001b[0m\n\u001b[0m",
      "\u001b[1;31mIndexError\u001b[0m: string index out of range"
     ]
    }
   ],
   "source": [
    "#Assignment_2_Q3\n",
    "\n",
    "S='Gaurav'\n",
    "print(s[1]) \n"
   ]
  },
  {
   "cell_type": "code",
   "execution_count": 15,
   "metadata": {},
   "outputs": [
    {
     "name": "stdout",
     "output_type": "stream",
     "text": [
      "6\n",
      "abc\n",
      "3\n"
     ]
    }
   ],
   "source": [
    "#Assignment_2_Q4.a\n",
    "\n",
    "s='a b cd'\n",
    "print(len(s))\n",
    "print(s[::2])    \n",
    "print(len(s[::2]))\n",
    "\n"
   ]
  },
  {
   "cell_type": "code",
   "execution_count": 40,
   "metadata": {},
   "outputs": [
    {
     "name": "stdout",
     "output_type": "stream",
     "text": [
      "['a#b#c#d#']\n",
      "['a', 'b', 'c', 'd', '']\n",
      "a$b$c$d$\n"
     ]
    }
   ],
   "source": [
    "#Assignment_2_Q4.b\n",
    "\n",
    "s='a#b#c#d#'\n",
    "print(s.split())\n",
    "print(s.split('#'))\n",
    "l=s.split('#')\n",
    "s='$'.join(l)\n",
    "print(s)\n"
   ]
  },
  {
   "cell_type": "code",
   "execution_count": 46,
   "metadata": {},
   "outputs": [
    {
     "name": "stdout",
     "output_type": "stream",
     "text": [
      "av\n"
     ]
    }
   ],
   "source": [
    "#Assignment_2_Q4.c\n",
    "\n",
    "S='Gaurav'\n",
    "S=S[::-2][::-2]\n",
    "print(S) \n"
   ]
  },
  {
   "cell_type": "code",
   "execution_count": 47,
   "metadata": {},
   "outputs": [
    {
     "name": "stdout",
     "output_type": "stream",
     "text": [
      "False\n"
     ]
    }
   ],
   "source": [
    "#Assignment_2_Q4.d\n",
    "\n",
    "print(1>2) \n"
   ]
  },
  {
   "cell_type": "code",
   "execution_count": 53,
   "metadata": {},
   "outputs": [
    {
     "name": "stdout",
     "output_type": "stream",
     "text": [
      "0,1,2\n"
     ]
    }
   ],
   "source": [
    "#Assignment_2_Q4.e\n",
    "\n",
    "print(4%2, 5%2, 2%5, sep=',') "
   ]
  },
  {
   "cell_type": "code",
   "execution_count": 114,
   "metadata": {},
   "outputs": [
    {
     "name": "stdout",
     "output_type": "stream",
     "text": [
      "abcba\n",
      "0,0,0,"
     ]
    }
   ],
   "source": [
    "#Assignment_2_Q4.f\n",
    "\n",
    "s='abcba'\n",
    "s.upper()\n",
    "print(s)\n",
    "print(s.count('A'),end=',')\n",
    "print(s.count('A',2,4),end=',')\n",
    "print(s.count('a',2,4),end=',')"
   ]
  },
  {
   "cell_type": "code",
   "execution_count": 66,
   "metadata": {},
   "outputs": [
    {
     "name": "stdout",
     "output_type": "stream",
     "text": [
      "enter a string welocme to india\n",
      "welocmetoindia\n"
     ]
    }
   ],
   "source": [
    "#Assignment_2_Q5\n",
    "#WAP to input a string and remove all spaces from it. \n",
    "\n",
    "word=input(\"enter a string \")\n",
    "x=word.split(' ')\n",
    "without_spaces=''.join(x)\n",
    "print(without_spaces)\n"
   ]
  },
  {
   "cell_type": "code",
   "execution_count": null,
   "metadata": {},
   "outputs": [],
   "source": [
    "#Assignment_2_Q6\n",
    "\n",
    "#[] is a list.A list is a mutable collection of values"
   ]
  },
  {
   "cell_type": "code",
   "execution_count": 68,
   "metadata": {},
   "outputs": [
    {
     "name": "stdout",
     "output_type": "stream",
     "text": [
      "['__add__', '__class__', '__contains__', '__delattr__', '__dir__', '__doc__', '__eq__', '__format__', '__ge__', '__getattribute__', '__getitem__', '__getnewargs__', '__gt__', '__hash__', '__init__', '__init_subclass__', '__iter__', '__le__', '__len__', '__lt__', '__mod__', '__mul__', '__ne__', '__new__', '__reduce__', '__reduce_ex__', '__repr__', '__rmod__', '__rmul__', '__setattr__', '__sizeof__', '__str__', '__subclasshook__', 'capitalize', 'casefold', 'center', 'count', 'encode', 'endswith', 'expandtabs', 'find', 'format', 'format_map', 'index', 'isalnum', 'isalpha', 'isascii', 'isdecimal', 'isdigit', 'isidentifier', 'islower', 'isnumeric', 'isprintable', 'isspace', 'istitle', 'isupper', 'join', 'ljust', 'lower', 'lstrip', 'maketrans', 'partition', 'replace', 'rfind', 'rindex', 'rjust', 'rpartition', 'rsplit', 'rstrip', 'split', 'splitlines', 'startswith', 'strip', 'swapcase', 'title', 'translate', 'upper', 'zfill']\n"
     ]
    }
   ],
   "source": [
    "#Assignment_2_Q7\n",
    "\n",
    "print(dir(str))"
   ]
  },
  {
   "cell_type": "code",
   "execution_count": 70,
   "metadata": {},
   "outputs": [
    {
     "name": "stdout",
     "output_type": "stream",
     "text": [
      "True\n"
     ]
    }
   ],
   "source": [
    "#Assignment_2_Q8\n",
    "\n",
    "s=dir(str)\n",
    "print('rstrip' in s)"
   ]
  },
  {
   "cell_type": "code",
   "execution_count": 83,
   "metadata": {},
   "outputs": [
    {
     "name": "stdout",
     "output_type": "stream",
     "text": [
      "\n",
      "\n",
      "     *****\n",
      "       *\n",
      "       *          \n",
      "       *\n",
      "       *\n",
      "        \n",
      "\n",
      "          *       *\n",
      "          * * * * *\n",
      "          *   *   * \n",
      "          *       *\n",
      "       \n",
      "               ________\n",
      "              |        |\n",
      "              o        |\n",
      "            / | \\      |\n",
      "            /   \\      | \n",
      "             __________|\n",
      "             \n",
      "             \n"
     ]
    }
   ],
   "source": [
    "#Assignment_2_Q9\n",
    "\n",
    "pattern1='''\n",
    "\n",
    "     *****\n",
    "       *\n",
    "       *          \n",
    "       *\n",
    "       *\n",
    "       '''\n",
    "\n",
    "pattern2='''\n",
    "\n",
    "          *       *\n",
    "          * * * * *\n",
    "          *   *   * \n",
    "          *       *\n",
    "     '''    \n",
    "          \n",
    "pattern3=''' \n",
    "               ________\n",
    "              |        |\n",
    "              o        |\n",
    "            / | \\      |\n",
    "            /   \\      | \n",
    "             __________|\n",
    "             \n",
    "             '''\n",
    "\n",
    "print(pattern1,pattern2,pattern3)"
   ]
  },
  {
   "cell_type": "code",
   "execution_count": 85,
   "metadata": {},
   "outputs": [
    {
     "name": "stdout",
     "output_type": "stream",
     "text": [
      "enter a string: welcome to india\n",
      "welcome\n",
      "to\n",
      "india\n"
     ]
    }
   ],
   "source": [
    "#Assignment_2_Q10\n",
    "\n",
    "#WAP to input a string and replace all space with new lines (\\n) and print again. \n",
    "\n",
    "word=input(\"enter a string: \")\n",
    "x=word.split(' ')\n",
    "word='\\n'.join(x)\n",
    "print(word)\n"
   ]
  },
  {
   "cell_type": "code",
   "execution_count": 95,
   "metadata": {},
   "outputs": [
    {
     "name": "stdout",
     "output_type": "stream",
     "text": [
      "Enter full name rohith john\n",
      "['rohith', 'john'] length: 6 4\n"
     ]
    }
   ],
   "source": [
    "#Assignment_2_Q11\n",
    "\n",
    "#WAP to input complete name(first and last name separated by space) and print first and last \n",
    "#name separately along with their length in upper case. \n",
    "\n",
    "\n",
    "Full_name=input(\"Enter full name \")\n",
    "Full_name.upper()\n",
    "x=Full_name.split(\" \")\n",
    "\n",
    "print(x,'length:',len(x[0]),len(x[1]))"
   ]
  },
  {
   "cell_type": "code",
   "execution_count": 109,
   "metadata": {},
   "outputs": [
    {
     "name": "stdout",
     "output_type": "stream",
     "text": [
      "enter a string trees\n",
      "tr\n",
      "es\n"
     ]
    }
   ],
   "source": [
    "#Assignment_2_Q12\n",
    "\n",
    "#WAP to input a string and split it into 2 halves. The string can be of any length\n",
    "\n",
    "s=input(\"enter a string \")\n",
    "print(s[:len(s)//2])\n",
    "if(len(s)%2==0):\n",
    "    print(s[2:])\n",
    "else:\n",
    "    print(s[len(s)//2+1:])\n"
   ]
  }
 ],
 "metadata": {
  "kernelspec": {
   "display_name": "Python 3",
   "language": "python",
   "name": "python3"
  },
  "language_info": {
   "codemirror_mode": {
    "name": "ipython",
    "version": 3
   },
   "file_extension": ".py",
   "mimetype": "text/x-python",
   "name": "python",
   "nbconvert_exporter": "python",
   "pygments_lexer": "ipython3",
   "version": "3.8.3"
  }
 },
 "nbformat": 4,
 "nbformat_minor": 4
}
