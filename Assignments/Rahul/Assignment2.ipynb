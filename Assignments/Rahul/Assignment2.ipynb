{
 "cells": [
  {
   "cell_type": "code",
   "execution_count": 8,
   "metadata": {},
   "outputs": [
    {
     "name": "stdout",
     "output_type": "stream",
     "text": [
      "Please enter temperature in Fahrenheit(F): 100\n",
      "Temperature in Celcius(C) is : 37.77777777777778\n"
     ]
    }
   ],
   "source": [
    "#1\n",
    "f=float(input('Please enter temperature in Fahrenheit(F): '))\n",
    "c=(f-32)*(5/9)\n",
    "print(f'Temperature in Celcius(C) is : {c}')"
   ]
  },
  {
   "cell_type": "code",
   "execution_count": 10,
   "metadata": {},
   "outputs": [
    {
     "name": "stdout",
     "output_type": "stream",
     "text": [
      "Please enter a number : 10\n",
      "The square of 10 is 100 and its cube is 1000\n"
     ]
    }
   ],
   "source": [
    "#2\n",
    "n=int(input('Please enter a number : '))\n",
    "s=n**2\n",
    "c=n**3\n",
    "print(f'The square of {n} is {s} and its cube is {c}')"
   ]
  },
  {
   "cell_type": "code",
   "execution_count": 19,
   "metadata": {},
   "outputs": [
    {
     "name": "stdout",
     "output_type": "stream",
     "text": [
      "Please enter 1st number : 4\n",
      "Please enter 2nd number : 5\n",
      "Result is 41\n"
     ]
    }
   ],
   "source": [
    "#3\n",
    "m=int(input('Please enter 1st number : '))\n",
    "n=int(input('Please enter 2nd number : '))\n",
    "r=n**2+m**2\n",
    "print(f'Result is {r}')"
   ]
  },
  {
   "cell_type": "code",
   "execution_count": 11,
   "metadata": {},
   "outputs": [
    {
     "name": "stdout",
     "output_type": "stream",
     "text": [
      "Please enter 1st number : 10\n",
      "Please enter 2nd number : 2\n",
      "The power of 10 to power of 2 is 100 using ** and 100 using pow\n"
     ]
    }
   ],
   "source": [
    "#4\n",
    "m=int(input('Please enter 1st number : '))\n",
    "n=int(input('Please enter 2nd number : '))\n",
    "s=m**n\n",
    "p=pow(m,n)\n",
    "print(f'The power of {m} to power of {n} is {s} using ** and {p} using pow')"
   ]
  },
  {
   "cell_type": "code",
   "execution_count": 10,
   "metadata": {},
   "outputs": [
    {
     "name": "stdout",
     "output_type": "stream",
     "text": [
      "Please enter Principle Amount : 100\n",
      "Please enter Rate of Interest : 10\n",
      "Please enter Time in months: 2\n",
      "Total amount on principle 100.0 for duration 2.0 months with 10.0 rate of interest is 120.0\n",
      "Interest amount on principle 100.0 for duration 2.0 months with 10.0 rate of interest is 20.0\n"
     ]
    }
   ],
   "source": [
    "#5\n",
    "p=float(input('Please enter Principle Amount : '))\n",
    "r=float(input('Please enter Rate of Interest : '))\n",
    "t=float(input('Please enter Time in months: '))\n",
    "a=p*(1+(r*t)/100)\n",
    "i=p*r*t/100\n",
    "print(f'Total amount on principle {p} for duration {t} months with {r} rate of interest is {a}')\n",
    "print(f'Interest amount on principle {p} for duration {t} months with {r} rate of interest is {i}')"
   ]
  },
  {
   "cell_type": "code",
   "execution_count": 18,
   "metadata": {},
   "outputs": [
    {
     "name": "stdout",
     "output_type": "stream",
     "text": [
      "Please enter Principle Amount : 100\n",
      "Please enter Rate of Interest : 10\n",
      "Please enter Time in months: 2\n",
      "Total Amount on principle 100.0 for duration 2.0 months with 10.0 rate of interest is 121.00000000000001\n"
     ]
    }
   ],
   "source": [
    "#6\n",
    "p=float(input('Please enter Principle Amount : '))\n",
    "r=float(input('Please enter Rate of Interest : '))\n",
    "t=float(input('Please enter Time in years: '))\n",
    "a=p*(1+(r/100))**t\n",
    "print(f'Total Amount on principle {p} for duration {t} months with {r} rate of interest is {a}')"
   ]
  },
  {
   "cell_type": "code",
   "execution_count": 1,
   "metadata": {},
   "outputs": [
    {
     "name": "stdout",
     "output_type": "stream",
     "text": [
      "Please enter how many numbers to add : 3\n",
      "Sum of 3 natural numbers is : 6.0\n"
     ]
    }
   ],
   "source": [
    "#7\n",
    "n=int(input('Please enter how many numbers to add : '))\n",
    "s=(n+1)*(n/2)\n",
    "print(f'Sum of {n} natural numbers is : {s}')"
   ]
  },
  {
   "cell_type": "code",
   "execution_count": 5,
   "metadata": {},
   "outputs": [
    {
     "name": "stdout",
     "output_type": "stream",
     "text": [
      "Please enter 1st number : 23\n",
      "Please enter 2nd number : 45\n",
      "The swap of 1st number is 45\n",
      "The swap of 2nd number is 23\n"
     ]
    }
   ],
   "source": [
    "#8\n",
    "n=int(input('Please enter 1st number : '))\n",
    "m=int(input('Please enter 2nd number : '))\n",
    "t=m\n",
    "m=n\n",
    "n=t\n",
    "print(f'The swap of 1st number is {n}')\n",
    "print(f'The swap of 2nd number is {m}')"
   ]
  },
  {
   "cell_type": "code",
   "execution_count": 33,
   "metadata": {},
   "outputs": [
    {
     "ename": "TypeError",
     "evalue": "ord() expected a character, but string of length 6 found",
     "output_type": "error",
     "traceback": [
      "\u001b[1;31m---------------------------------------------------------------------------\u001b[0m",
      "\u001b[1;31mTypeError\u001b[0m                                 Traceback (most recent call last)",
      "\u001b[1;32m<ipython-input-33-db6da3ddd388>\u001b[0m in \u001b[0;36m<module>\u001b[1;34m\u001b[0m\n\u001b[0;32m      4\u001b[0m \u001b[1;33m\u001b[0m\u001b[0m\n\u001b[0;32m      5\u001b[0m \u001b[0mx\u001b[0m\u001b[1;33m=\u001b[0m\u001b[0mstring\u001b[0m\u001b[1;33m.\u001b[0m\u001b[0mwhitespace\u001b[0m\u001b[1;33m\u001b[0m\u001b[1;33m\u001b[0m\u001b[0m\n\u001b[1;32m----> 6\u001b[1;33m \u001b[0my\u001b[0m\u001b[1;33m=\u001b[0m\u001b[0mord\u001b[0m\u001b[1;33m(\u001b[0m\u001b[0mx\u001b[0m\u001b[1;33m)\u001b[0m\u001b[1;33m\u001b[0m\u001b[1;33m\u001b[0m\u001b[0m\n\u001b[0m\u001b[0;32m      7\u001b[0m \u001b[0mprint\u001b[0m\u001b[1;33m(\u001b[0m\u001b[0my\u001b[0m\u001b[1;33m)\u001b[0m\u001b[1;33m\u001b[0m\u001b[1;33m\u001b[0m\u001b[0m\n",
      "\u001b[1;31mTypeError\u001b[0m: ord() expected a character, but string of length 6 found"
     ]
    }
   ],
   "source": [
    "import string\n",
    "#print(dir(string))\n",
    "\n",
    "\n",
    "x=string.whitespace\n",
    "y=ord(x)\n",
    "print(y)\n"
   ]
  },
  {
   "cell_type": "code",
   "execution_count": 25,
   "metadata": {},
   "outputs": [
    {
     "name": "stdout",
     "output_type": "stream",
     "text": [
      "Please enter a character : a\n",
      "The ASCII of entered character is 97\n"
     ]
    }
   ],
   "source": [
    "#10\n",
    "n=input('Please enter a character : ')\n",
    "print(f'The ASCII of entered character is {ord(n)}')"
   ]
  },
  {
   "cell_type": "code",
   "execution_count": 30,
   "metadata": {},
   "outputs": [
    {
     "name": "stdout",
     "output_type": "stream",
     "text": [
      "Please enter area of circle : 100\n",
      "The radius of given circle area is : 5.640760748177662\n"
     ]
    }
   ],
   "source": [
    "#11\n",
    "import math\n",
    "a=float(input('Please enter area of circle : '))\n",
    "r=math.sqrt((a*7/22))\n",
    "print(f'The radius of given circle area is : {r}')"
   ]
  },
  {
   "cell_type": "code",
   "execution_count": 32,
   "metadata": {},
   "outputs": [
    {
     "name": "stdout",
     "output_type": "stream",
     "text": [
      "Please enter marks out of 100 in 1st subject : 80\n",
      "Please enter marks out of 100 in 2nd subject : 90\n",
      "Please enter marks out of 100 in 3rd subject : 70\n",
      "Please enter marks out of 100 in 4th subject : 80\n",
      "Please enter marks out of 100 in 2nd subject : 90\n",
      "The average marks out of 100 are : 66.2\n"
     ]
    }
   ],
   "source": [
    "#12\n",
    "m1=float(input('Please enter marks out of 100 in 1st subject : '))\n",
    "m2=float(input('Please enter marks out of 100 in 2nd subject : '))\n",
    "m3=float(input('Please enter marks out of 100 in 3rd subject : '))\n",
    "m4=float(input('Please enter marks out of 100 in 4th subject : '))\n",
    "m5=float(input('Please enter marks out of 100 in 2nd subject : '))\n",
    "a=(1+m2+m3+m4+m5)/5\n",
    "print(f'The average marks out of 100 are : {a}')"
   ]
  }
 ],
 "metadata": {
  "kernelspec": {
   "display_name": "Python 3",
   "language": "python",
   "name": "python3"
  },
  "language_info": {
   "codemirror_mode": {
    "name": "ipython",
    "version": 3
   },
   "file_extension": ".py",
   "mimetype": "text/x-python",
   "name": "python",
   "nbconvert_exporter": "python",
   "pygments_lexer": "ipython3",
   "version": "3.8.3"
  }
 },
 "nbformat": 4,
 "nbformat_minor": 4
}
