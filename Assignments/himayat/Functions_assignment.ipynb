{
 "cells": [
  {
   "cell_type": "code",
   "execution_count": 7,
   "metadata": {},
   "outputs": [
    {
     "name": "stdout",
     "output_type": "stream",
     "text": [
      "input string 1himayat\n",
      "string 2khan\n",
      "khan\n",
      "himayat\n"
     ]
    }
   ],
   "source": [
    "c=str(input(\"input string 1\"))\n",
    "d=str(input(\"string 2\"))\n",
    "def swap(a,b):\n",
    "    a,b=b,a\n",
    "    print(a)\n",
    "    print(b)\n",
    "swap(c,d)    "
   ]
  },
  {
   "cell_type": "code",
   "execution_count": 12,
   "metadata": {},
   "outputs": [
    {
     "name": "stdout",
     "output_type": "stream",
     "text": [
      "13 17 15 18\n"
     ]
    },
    {
     "data": {
      "text/plain": [
       "15.75"
      ]
     },
     "execution_count": 12,
     "metadata": {},
     "output_type": "execute_result"
    }
   ],
   "source": [
    "import random\n",
    "def average(a,b,c,d):\n",
    "    sum=a+b+c+d\n",
    "    average=sum/4\n",
    "    return average\n",
    "a=random.randrange(0,26)\n",
    "b=random.randrange(0,26)\n",
    "c=random.randrange(0,26)\n",
    "d=random.randrange(0,26)\n",
    "print(a,b,c,d)\n",
    "average(a,b,c,d)"
   ]
  },
  {
   "cell_type": "code",
   "execution_count": 23,
   "metadata": {},
   "outputs": [
    {
     "name": "stdout",
     "output_type": "stream",
     "text": [
      "j\n"
     ]
    }
   ],
   "source": [
    "a=\"jdsbdfjksdjksdnjksdncsdjkcnqb\"\n",
    "c=random.randrange(0,28)\n",
    "print(a[c])"
   ]
  },
  {
   "cell_type": "code",
   "execution_count": 33,
   "metadata": {},
   "outputs": [
    {
     "name": "stdout",
     "output_type": "stream",
     "text": [
      "6.0\n"
     ]
    }
   ],
   "source": [
    "def get_si(p,r,t):\n",
    "    si=(p*r*t)/100\n",
    "    return si\n",
    "si=get_si(100,2,3)\n",
    "print(si)"
   ]
  },
  {
   "cell_type": "code",
   "execution_count": 43,
   "metadata": {},
   "outputs": [
    {
     "name": "stdout",
     "output_type": "stream",
     "text": [
      "enter principal100\n",
      "enter rate10\n",
      "enter time1\n"
     ]
    },
    {
     "data": {
      "text/plain": [
       "110.0"
      ]
     },
     "execution_count": 43,
     "metadata": {},
     "output_type": "execute_result"
    }
   ],
   "source": [
    "p=int(input(\"enter principal\"))\n",
    "r=int(input(\"enter rate\"))\n",
    "t=int(input(\"enter time\"))\n",
    "def si(a,b,c):\n",
    "    i=(a*b*c)/100\n",
    "    return i\n",
    "def amount(a,b,c):\n",
    "    am=si(a,b,c)\n",
    "    test=am+a\n",
    "    return test\n",
    "amount(p,r,t)"
   ]
  },
  {
   "cell_type": "code",
   "execution_count": 55,
   "metadata": {},
   "outputs": [
    {
     "name": "stdout",
     "output_type": "stream",
     "text": [
      "enter principal100\n",
      "enter rate2\n",
      "enter time3\n"
     ]
    },
    {
     "data": {
      "text/plain": [
       "6.120800000000017"
      ]
     },
     "execution_count": 55,
     "metadata": {},
     "output_type": "execute_result"
    }
   ],
   "source": [
    "p=int(input(\"enter principal\"))\n",
    "r=int(input(\"enter rate\"))\n",
    "t=int(input(\"enter time\"))\n",
    "def ci(a,b,c):\n",
    "    amount=a*(((100+b)/100)**c)\n",
    "    interest=amount-a\n",
    "    return interest\n",
    "ci(p,r,t)"
   ]
  },
  {
   "cell_type": "code",
   "execution_count": 59,
   "metadata": {},
   "outputs": [
    {
     "name": "stdout",
     "output_type": "stream",
     "text": [
      "(2.0, 0)\n"
     ]
    }
   ],
   "source": [
    "def get_q_r(a,b):\n",
    "    x=a/b\n",
    "    y=a%b\n",
    "    return(x,y)\n",
    "s=get_q_r(10,5)\n",
    "print(s)"
   ]
  },
  {
   "cell_type": "code",
   "execution_count": 62,
   "metadata": {},
   "outputs": [
    {
     "name": "stdout",
     "output_type": "stream",
     "text": [
      "enter height3\n",
      "enter base4\n",
      "5.0\n"
     ]
    }
   ],
   "source": [
    "import math\n",
    "a=int(input(\"enter height\"))\n",
    "b=int(input(\"enter base\"))\n",
    "c=math.sqrt((a**2)+(b**2))\n",
    "print(c)"
   ]
  },
  {
   "cell_type": "code",
   "execution_count": 65,
   "metadata": {},
   "outputs": [
    {
     "name": "stdout",
     "output_type": "stream",
     "text": [
      "enter seconds2000\n",
      "minutes 33.333333333333336\n",
      "hours 0.5555555555555556\n",
      "days 0.02314814814814815\n"
     ]
    }
   ],
   "source": [
    "s=int(input(\"enter seconds\"))\n",
    "minutes=s/60\n",
    "hours=minutes/60\n",
    "days=hours/24\n",
    "print(\"minutes\",minutes)\n",
    "print(\"hours\",hours)\n",
    "print(\"days\",days)"
   ]
  },
  {
   "cell_type": "code",
   "execution_count": 72,
   "metadata": {},
   "outputs": [
    {
     "name": "stdout",
     "output_type": "stream",
     "text": [
      "3.8.3\n"
     ]
    }
   ],
   "source": [
    "from platform import python_version\n",
    "print(python_version())"
   ]
  },
  {
   "cell_type": "code",
   "execution_count": 73,
   "metadata": {},
   "outputs": [
    {
     "name": "stdout",
     "output_type": "stream",
     "text": [
      "2 -2\n"
     ]
    }
   ],
   "source": [
    "x=2\n",
    "x*=3\n",
    "x=x%4\n",
    "y=-x\n",
    "print(x,y)"
   ]
  },
  {
   "cell_type": "code",
   "execution_count": 75,
   "metadata": {},
   "outputs": [
    {
     "name": "stdout",
     "output_type": "stream",
     "text": [
      "None\n"
     ]
    }
   ],
   "source": [
    "def funct():\n",
    "    pass\n",
    "print(funct())"
   ]
  },
  {
   "cell_type": "code",
   "execution_count": null,
   "metadata": {},
   "outputs": [],
   "source": []
  }
 ],
 "metadata": {
  "kernelspec": {
   "display_name": "Python 3",
   "language": "python",
   "name": "python3"
  },
  "language_info": {
   "codemirror_mode": {
    "name": "ipython",
    "version": 3
   },
   "file_extension": ".py",
   "mimetype": "text/x-python",
   "name": "python",
   "nbconvert_exporter": "python",
   "pygments_lexer": "ipython3",
   "version": "3.8.3"
  }
 },
 "nbformat": 4,
 "nbformat_minor": 4
}
