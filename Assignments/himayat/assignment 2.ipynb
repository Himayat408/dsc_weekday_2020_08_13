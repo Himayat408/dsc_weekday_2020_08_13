{
 "cells": [
  {
   "cell_type": "code",
   "execution_count": 13,
   "metadata": {},
   "outputs": [
    {
     "name": "stdout",
     "output_type": "stream",
     "text": [
      "enter temperature64\n",
      "temperature in celsius is: 17.77777777777778\n"
     ]
    }
   ],
   "source": [
    "a=int(input(\"enter temperature\"))\n",
    "b=(a-32)*5/9\n",
    "print(\"temperature in celsius is:\",b)"
   ]
  },
  {
   "cell_type": "code",
   "execution_count": 14,
   "metadata": {},
   "outputs": [
    {
     "name": "stdout",
     "output_type": "stream",
     "text": [
      "enter number2\n",
      "square of number is 4\n",
      "cube of number is 8\n"
     ]
    }
   ],
   "source": [
    "a=int(input(\"enter number\"))\n",
    "b=a**2\n",
    "c=a**3\n",
    "print(\"square of number is\",b)\n",
    "print(\"cube of number is\",c)"
   ]
  },
  {
   "cell_type": "code",
   "execution_count": 15,
   "metadata": {},
   "outputs": [
    {
     "name": "stdout",
     "output_type": "stream",
     "text": [
      "enter n2\n",
      "enter m3\n",
      "13\n"
     ]
    }
   ],
   "source": [
    "n=int(input(\"enter n\"))\n",
    "m=int(input(\"enter m\"))\n",
    "print(pow(n,2)+pow(m,2))"
   ]
  },
  {
   "cell_type": "code",
   "execution_count": 18,
   "metadata": {},
   "outputs": [
    {
     "name": "stdout",
     "output_type": "stream",
     "text": [
      "enter n2\n",
      "enter m3\n",
      "9\n",
      "9\n"
     ]
    }
   ],
   "source": [
    "n=int(input(\"enter n\"))\n",
    "m=int(input(\"enter m\"))\n",
    "print(pow(m,n))\n",
    "print(m**n)"
   ]
  },
  {
   "cell_type": "code",
   "execution_count": 19,
   "metadata": {},
   "outputs": [
    {
     "name": "stdout",
     "output_type": "stream",
     "text": [
      "enter principal4000\n",
      "enter rate5\n",
      "enter time2\n",
      "simple interest is 400.0\n"
     ]
    }
   ],
   "source": [
    "p=int(input(\"enter principal\"))\n",
    "r=int(input(\"enter rate\"))\n",
    "t=int(input(\"enter time\"))\n",
    "S_I=(p*r*t)/100\n",
    "print(\"simple interest is\",S_I)"
   ]
  },
  {
   "cell_type": "code",
   "execution_count": 33,
   "metadata": {},
   "outputs": [
    {
     "name": "stdout",
     "output_type": "stream",
     "text": [
      "enter principal20000\n",
      "enter rate4\n",
      "enter time2\n",
      "amount is : 21632.000000000004\n",
      "compount interest is: 1632.0000000000036\n"
     ]
    }
   ],
   "source": [
    "p=float(input(\"enter principal\"))\n",
    "r=float(input(\"enter rate\"))\n",
    "t=float(input(\"enter time\"))\n",
    "a=p*(pow((1+r/100),t))\n",
    "print(\"amount is :\",a)\n",
    "ci=a-p\n",
    "print(\"compount interest is:\",ci)"
   ]
  },
  {
   "cell_type": "code",
   "execution_count": 56,
   "metadata": {},
   "outputs": [
    {
     "name": "stdout",
     "output_type": "stream",
     "text": [
      "Enter a number:10\n",
      "Sum of n number is 55\n"
     ]
    }
   ],
   "source": [
    "n=int(input('Enter a number:'))\n",
    "sum=0\n",
    "for i in range(n+1):\n",
    "    sum+=i\n",
    "print('Sum of n number is {s}'.format(s=sum))"
   ]
  },
  {
   "cell_type": "code",
   "execution_count": 57,
   "metadata": {},
   "outputs": [
    {
     "name": "stdout",
     "output_type": "stream",
     "text": [
      "Enter First Number: 10\n",
      "Enter Second Number: 5\n",
      "Value of num1 before swapping:  10\n",
      "Value of num2 before swapping:  5\n",
      "Value of num1 after swapping:  5\n",
      "Value of num2 after swapping:  10\n"
     ]
    }
   ],
   "source": [
    "num1 = input('Enter First Number: ')\n",
    "num2 = input('Enter Second Number: ')\n",
    "print(\"Value of num1 before swapping: \", num1)\n",
    "print(\"Value of num2 before swapping: \", num2)\n",
    "temp = num1\n",
    "num1 = num2\n",
    "num2 = temp\n",
    "print(\"Value of num1 after swapping: \", num1)\n",
    "print(\"Value of num2 after swapping: \", num2)"
   ]
  },
  {
   "cell_type": "code",
   "execution_count": 62,
   "metadata": {},
   "outputs": [
    {
     "name": "stdout",
     "output_type": "stream",
     "text": [
      "10\n",
      "9\n",
      "13\n",
      "11\n"
     ]
    }
   ],
   "source": [
    "x=ord(\"\\n\")\n",
    "y=ord(\"\\t\")\n",
    "z=ord(\"\\r\")\n",
    "a=ord(\"\\v\")\n",
    "print(x)\n",
    "print(y)\n",
    "print(z)\n",
    "print(a)"
   ]
  },
  {
   "cell_type": "code",
   "execution_count": 59,
   "metadata": {},
   "outputs": [
    {
     "name": "stdout",
     "output_type": "stream",
     "text": [
      "Enter any character: a\n",
      "97\n"
     ]
    }
   ],
   "source": [
    "ch = input(\"Enter any character: \")\n",
    "print(ord(ch))"
   ]
  },
  {
   "cell_type": "code",
   "execution_count": 63,
   "metadata": {},
   "outputs": [
    {
     "name": "stdout",
     "output_type": "stream",
     "text": [
      "Enter area of circle:45\n",
      "radius is: 3.7846987830302403\n",
      "circumference is: 23.779963785636067\n"
     ]
    }
   ],
   "source": [
    "import math\n",
    "A=float(input(\"Enter area of circle:\"))\n",
    "r=math.sqrt(A/math.pi)\n",
    "print(\"radius is:\",r)\n",
    "cir=math.sqrt(A*(4*math.pi))\n",
    "print(\"circumference is:\",cir)"
   ]
  },
  {
   "cell_type": "code",
   "execution_count": 64,
   "metadata": {},
   "outputs": [
    {
     "name": "stdout",
     "output_type": "stream",
     "text": [
      "subject1:56\n",
      "subject2:34\n",
      "subject3:45\n",
      "subject4:75\n",
      "subject5:34\n",
      "Total:500\n",
      "percentage: 48.8\n"
     ]
    }
   ],
   "source": [
    "a=int(input(\"subject1:\"))\n",
    "b=int(input(\"subject2:\"))\n",
    "c=int(input(\"subject3:\"))\n",
    "d=int(input(\"subject4:\"))\n",
    "e=int(input(\"subject5:\"))\n",
    "f=int(input(\"Total:\"))\n",
    "print(\"percentage:\",((a+b+c+d+e)/f)*100)"
   ]
  }
 ],
 "metadata": {
  "kernelspec": {
   "display_name": "Python 3",
   "language": "python",
   "name": "python3"
  },
  "language_info": {
   "codemirror_mode": {
    "name": "ipython",
    "version": 3
   },
   "file_extension": ".py",
   "mimetype": "text/x-python",
   "name": "python",
   "nbconvert_exporter": "python",
   "pygments_lexer": "ipython3",
   "version": "3.8.3"
  }
 },
 "nbformat": 4,
 "nbformat_minor": 4
}
