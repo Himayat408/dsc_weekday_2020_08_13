{
 "cells": [
  {
   "cell_type": "code",
   "execution_count": 13,
   "metadata": {},
   "outputs": [
    {
     "name": "stdout",
     "output_type": "stream",
     "text": [
      "enter 1st number3\n",
      "enter 2nd number2\n",
      "False\n"
     ]
    }
   ],
   "source": [
    "a=int(input(\"enter 1st number\"))\n",
    "b=int(input(\"enter 2nd number\"))\n",
    "if a%b==0:\n",
    "    print(a%b==0)\n",
    "else:\n",
    "    print(not True)"
   ]
  },
  {
   "cell_type": "code",
   "execution_count": 29,
   "metadata": {},
   "outputs": [
    {
     "name": "stdout",
     "output_type": "stream",
     "text": [
      "enter string:naman\n",
      "pallindrome\n"
     ]
    }
   ],
   "source": [
    "a=str(input(\"enter string:\"))\n",
    "a=a.upper()\n",
    "b=a[::-1]\n",
    "if a==b:\n",
    "    print(\"pallindrome\")\n",
    "else:\n",
    "    print(\"not pallindrome\")"
   ]
  },
  {
   "cell_type": "code",
   "execution_count": 35,
   "metadata": {},
   "outputs": [
    {
     "name": "stdout",
     "output_type": "stream",
     "text": [
      "enter first side10\n",
      "enter second side10\n",
      "enter third side20\n",
      "isosceles triangle\n"
     ]
    }
   ],
   "source": [
    "a=int(input(\"enter first side\"))\n",
    "b=int(input(\"enter second side\"))\n",
    "c=int(input(\"enter third side\"))\n",
    "if a==b and b==c and a==c:\n",
    "    print(\"equalateral triangle\")\n",
    "elif a==b or b==c or a==c:\n",
    "    print(\"isosceles triangle\")\n",
    "elif a!=b and b!=c and a!=c:\n",
    "    print(\"scalene triangle\")"
   ]
  },
  {
   "cell_type": "code",
   "execution_count": 37,
   "metadata": {},
   "outputs": [
    {
     "name": "stdout",
     "output_type": "stream",
     "text": [
      "enter number5\n",
      "its odd\n"
     ]
    }
   ],
   "source": [
    "a=int(input(\"enter number\"))\n",
    "if a%2==0:\n",
    "    print(\"its even\")\n",
    "else:\n",
    "    print(\"its odd\")"
   ]
  },
  {
   "cell_type": "code",
   "execution_count": 44,
   "metadata": {},
   "outputs": [
    {
     "name": "stdout",
     "output_type": "stream",
     "text": [
      "enter age101\n",
      "contratulations\n"
     ]
    }
   ],
   "source": [
    "a=int(input(\"enter age\"))\n",
    "if a<=12:\n",
    "    print(\"child\")\n",
    "elif a<=17:\n",
    "    print(\"teen\")\n",
    "elif a<=50:\n",
    "    print(\"adult\")\n",
    "elif a<=100:\n",
    "    print(\"senior cetizen\")\n",
    "else:\n",
    "    print(\"contratulations\")    "
   ]
  },
  {
   "cell_type": "code",
   "execution_count": 54,
   "metadata": {},
   "outputs": [
    {
     "name": "stdout",
     "output_type": "stream",
     "text": [
      "enter year2020\n",
      "its a valid year\n",
      "leap year\n"
     ]
    }
   ],
   "source": [
    "a=int(input(\"enter year\"))\n",
    "if a>999:\n",
    "    print(\"its a valid year\")\n",
    "    if a%4==0:\n",
    "        print(\"leap year\")\n",
    "    else:\n",
    "        print(\"not a leap year\")\n",
    "else:\n",
    "    print(\"not a valid year\")"
   ]
  },
  {
   "cell_type": "code",
   "execution_count": 62,
   "metadata": {},
   "outputs": [
    {
     "name": "stdout",
     "output_type": "stream",
     "text": [
      "enter stringhimayat khan\n",
      "HIMAYAT KHAN\n"
     ]
    }
   ],
   "source": [
    "a=input(\"enter string\")\n",
    "b=len(a)\n",
    "if b%2!=0:\n",
    "    print(a.lower())\n",
    "else:\n",
    "    print(a.upper())"
   ]
  },
  {
   "cell_type": "code",
   "execution_count": 76,
   "metadata": {},
   "outputs": [
    {
     "name": "stdout",
     "output_type": "stream",
     "text": [
      "enter string:himayat eats egg\n",
      "non veg\n"
     ]
    }
   ],
   "source": [
    "a=str(input(\"enter string:\"))\n",
    "b=\"egg\"\n",
    "if (a.count(b)>0):\n",
    "    print(\"non veg\")\n",
    "else:\n",
    "    print(\"veg\")"
   ]
  },
  {
   "cell_type": "code",
   "execution_count": 77,
   "metadata": {},
   "outputs": [
    {
     "name": "stdout",
     "output_type": "stream",
     "text": [
      "True\n"
     ]
    }
   ],
   "source": [
    "if not 1:\n",
    "    print(\"False\") \n",
    "else:\n",
    "    print(\"True\")"
   ]
  },
  {
   "cell_type": "code",
   "execution_count": 78,
   "metadata": {},
   "outputs": [
    {
     "name": "stdout",
     "output_type": "stream",
     "text": [
      "False\n"
     ]
    }
   ],
   "source": [
    "if 1:\n",
    "    print(\"False\") \n",
    "else:\n",
    "    print(\"True\")"
   ]
  },
  {
   "cell_type": "code",
   "execution_count": 79,
   "metadata": {},
   "outputs": [
    {
     "name": "stdout",
     "output_type": "stream",
     "text": [
      "Weird\n"
     ]
    }
   ],
   "source": [
    "if 'a' >'A':\n",
    "     print(\"Weird\") # ASCII value of 'a' is more than 'A'\n",
    "else:\n",
    "     print(\"Makes Sense\")"
   ]
  },
  {
   "cell_type": "code",
   "execution_count": 81,
   "metadata": {},
   "outputs": [],
   "source": [
    "a = [1,2,3,4]\n",
    "if 1>1:\n",
    "    a = a[::-1]\n",
    "else:\n",
    "    a = a[-1::-1]"
   ]
  },
  {
   "cell_type": "code",
   "execution_count": 82,
   "metadata": {},
   "outputs": [
    {
     "name": "stdout",
     "output_type": "stream",
     "text": [
      "Subject1 Marks: 45\n",
      "Subject2 Marks: 23\n",
      "Subject3 Marks: 55\n",
      "Subject4 Marks: 65\n",
      "Subject5 Marks: 72\n",
      "52.0\n",
      "Grade F\n"
     ]
    }
   ],
   "source": [
    "sub1 = int(input(\"Subject1 Marks: \"))\n",
    "sub2 = int(input(\"Subject2 Marks: \"))\n",
    "sub3 = int(input(\"Subject3 Marks: \"))\n",
    "sub4 = int(input(\"Subject4 Marks: \"))\n",
    "sub5 = int(input(\"Subject5 Marks: \"))\n",
    "Percentage = ((sub1+sub2+sub3+sub4+sub5)/500)*100\n",
    "print(Percentage)\n",
    "if Percentage>=90 and Percentage<=100:\n",
    "    print(\"Grade A\")\n",
    "elif Percentage>=80 and Percentage<=89 :\n",
    "    print(\"Grade B\")\n",
    "elif Percentage>=60 and Percentage<=79 :\n",
    "    print(\"Grade C\")\n",
    "else:\n",
    "    print(\"Grade F\")"
   ]
  },
  {
   "cell_type": "code",
   "execution_count": 85,
   "metadata": {},
   "outputs": [
    {
     "name": "stdout",
     "output_type": "stream",
     "text": [
      "enter age28\n",
      "enter salary2500\n",
      "no tax\n"
     ]
    }
   ],
   "source": [
    "a=int(input(\"enter age\"))\n",
    "b=int(input(\"enter salary\"))\n",
    "if b<=250000:\n",
    "    print(\"no tax\")\n",
    "elif b<=500000:\n",
    "    if a<60:\n",
    "        print(\"tax is 5%\")\n",
    "    elif a>=60:\n",
    "        print(\"tax is 3%\")\n",
    "elif b<=1000000:\n",
    "    if a<60:\n",
    "        print(\"tax is 10%\")\n",
    "    elif a>=60:\n",
    "        print(\"tax is 8%\")\n",
    "elif b>=1000001:\n",
    "    if a<60:\n",
    "        print(\"tax is 15%\")\n",
    "    elif a>=60:\n",
    "        print(\"tax is 12%\")"
   ]
  },
  {
   "cell_type": "code",
   "execution_count": 90,
   "metadata": {},
   "outputs": [
    {
     "name": "stdout",
     "output_type": "stream",
     "text": [
      "enter weight75\n",
      "enter height175\n",
      "underweight\n"
     ]
    }
   ],
   "source": [
    "a=int(input(\"enter weight\"))\n",
    "b=int(input(\"enter height\"))\n",
    "#bmi=a/b2\n",
    "def bmi(p,r):\n",
    "    s=p/r**2\n",
    "    if s<18.5:\n",
    "        print(\"underweight\")\n",
    "    elif s==18.5 and s<=24.9:\n",
    "        print(\"normal\")\n",
    "    elif s==25 and s<=29.9:\n",
    "        print(\"overweight\")\n",
    "    else:\n",
    "        print(\"obese\")\n",
    "bmi(a,b)"
   ]
  },
  {
   "cell_type": "code",
   "execution_count": 91,
   "metadata": {},
   "outputs": [
    {
     "name": "stdout",
     "output_type": "stream",
     "text": [
      "Enter age of person 1 : 28\n",
      "Enter age of person 2 : 35\n",
      "Enter age of person 3 : 18\n",
      "Youngest is 18, oldest is 35\n"
     ]
    }
   ],
   "source": [
    "age1 = int(input(\"Enter age of person 1 : \"))\n",
    "age2 = int(input(\"Enter age of person 2 : \"))\n",
    "age3 = int(input(\"Enter age of person 3 : \"))\n",
    "\n",
    "li = [age1,age2,age3]\n",
    "li.sort()\n",
    "print(f\"Youngest is {li[0]}, oldest is {li[2]}\")"
   ]
  },
  {
   "cell_type": "code",
   "execution_count": 92,
   "metadata": {},
   "outputs": [
    {
     "name": "stdout",
     "output_type": "stream",
     "text": [
      "Enter a number : 4\n",
      "4 is not divisible by both 5 and 7\n"
     ]
    }
   ],
   "source": [
    "num = int(input(\"Enter a number : \"))\n",
    "if num%5==0 and num%7==0:\n",
    "    print(f\"{num} is divisible by both 5 and 7\")\n",
    "else:\n",
    "    print(f\"{num} is not divisible by both 5 and 7\")"
   ]
  }
 ],
 "metadata": {
  "kernelspec": {
   "display_name": "Python 3",
   "language": "python",
   "name": "python3"
  },
  "language_info": {
   "codemirror_mode": {
    "name": "ipython",
    "version": 3
   },
   "file_extension": ".py",
   "mimetype": "text/x-python",
   "name": "python",
   "nbconvert_exporter": "python",
   "pygments_lexer": "ipython3",
   "version": "3.8.3"
  }
 },
 "nbformat": 4,
 "nbformat_minor": 4
}
