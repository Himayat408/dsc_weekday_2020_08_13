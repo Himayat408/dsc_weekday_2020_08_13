{
 "cells": [
  {
   "cell_type": "code",
   "execution_count": 1,
   "metadata": {},
   "outputs": [
    {
     "name": "stdout",
     "output_type": "stream",
     "text": [
      "d\n",
      "detneirO tcejbO si nohtyP\n",
      "Python is Object Oriente\n",
      "\n",
      "on is \n"
     ]
    }
   ],
   "source": [
    "s=\"Python is Object Oriented\"\n",
    "print(s[-1])\n",
    "print(s[::-1])\n",
    "print(s[:-1])\n",
    "print(s[1:1])\n",
    "print(s[4:10])"
   ]
  },
  {
   "cell_type": "code",
   "execution_count": 2,
   "metadata": {},
   "outputs": [
    {
     "ename": "IndexError",
     "evalue": "string index out of range",
     "output_type": "error",
     "traceback": [
      "\u001b[1;31m---------------------------------------------------------------------------\u001b[0m",
      "\u001b[1;31mIndexError\u001b[0m                                Traceback (most recent call last)",
      "\u001b[1;32m<ipython-input-2-0f0be3dd2508>\u001b[0m in \u001b[0;36m<module>\u001b[1;34m\u001b[0m\n\u001b[0;32m      1\u001b[0m \u001b[0ms\u001b[0m\u001b[1;33m=\u001b[0m\u001b[1;34m''\u001b[0m\u001b[1;33m\u001b[0m\u001b[1;33m\u001b[0m\u001b[0m\n\u001b[1;32m----> 2\u001b[1;33m \u001b[0mprint\u001b[0m\u001b[1;33m(\u001b[0m\u001b[0ms\u001b[0m\u001b[1;33m[\u001b[0m\u001b[1;36m1\u001b[0m\u001b[1;33m]\u001b[0m\u001b[1;33m)\u001b[0m\u001b[1;33m\u001b[0m\u001b[1;33m\u001b[0m\u001b[0m\n\u001b[0m",
      "\u001b[1;31mIndexError\u001b[0m: string index out of range"
     ]
    }
   ],
   "source": [
    "s=''\n",
    "print(s[1])"
   ]
  },
  {
   "cell_type": "code",
   "execution_count": 3,
   "metadata": {},
   "outputs": [
    {
     "name": "stdout",
     "output_type": "stream",
     "text": [
      "a\n"
     ]
    }
   ],
   "source": [
    "s=\"Gaurav\"\n",
    "print(s[1])"
   ]
  },
  {
   "cell_type": "code",
   "execution_count": 4,
   "metadata": {},
   "outputs": [
    {
     "name": "stdout",
     "output_type": "stream",
     "text": [
      "-------------a-------------\n",
      "6\n",
      "abc\n",
      "3\n",
      "-------------b-------------\n",
      "['a#b#c#d#']\n",
      "['a', 'b', 'c', 'd', '']\n",
      "a$b$c$d$\n",
      "-------------c-------------\n",
      "av\n",
      "-------------d-------------\n",
      "False\n",
      "-------------e-------------\n",
      "0,1,2\n",
      "-------------f-------------\n",
      "abcba\n",
      "0,0,0,"
     ]
    }
   ],
   "source": [
    "print(\"-------------a-------------\")\n",
    "s=\"a b cd\"\n",
    "print(len(s))\n",
    "print(s[::2])\n",
    "print(len(s[::2]))\n",
    "print(\"-------------b-------------\")\n",
    "s=\"a#b#c#d#\"\n",
    "print(s.split())\n",
    "print(s.split(\"#\"))\n",
    "l=s.split(\"#\")\n",
    "s=\"$\".join(l)\n",
    "print(s)\n",
    "print(\"-------------c-------------\")\n",
    "s=\"Gaurav\"\n",
    "s=s[::-2][::-2]\n",
    "print(s)\n",
    "print(\"-------------d-------------\")\n",
    "print(1>2)\n",
    "print(\"-------------e-------------\")\n",
    "print(4%2,5%2,2%5, sep=\",\")\n",
    "print(\"-------------f-------------\")\n",
    "s=\"abcba\"\n",
    "s.upper()\n",
    "print(s)\n",
    "print(s.count('A'),end=',')\n",
    "print(s.count('A',2,4),end=',')\n",
    "print(s.count('a',2,4),end=',')\n",
    "\n"
   ]
  },
  {
   "cell_type": "code",
   "execution_count": 5,
   "metadata": {},
   "outputs": [
    {
     "name": "stdout",
     "output_type": "stream",
     "text": [
      "enter a sentence : manoj is playing pubg\n",
      "manojisplayingpubg\n",
      "enter a sentence : manoj is playing pubg\n",
      "manojisplayingpubg\n"
     ]
    }
   ],
   "source": [
    "s=input(\"enter a sentence : \")\n",
    "print(\"\".join(s.split(\" \")))\n",
    "\n",
    "s=input(\"enter a sentence : \")\n",
    "print(s.replace(\" \",\"\"))"
   ]
  },
  {
   "cell_type": "code",
   "execution_count": null,
   "metadata": {},
   "outputs": [],
   "source": [
    "# [] - indexing"
   ]
  },
  {
   "cell_type": "code",
   "execution_count": 6,
   "metadata": {},
   "outputs": [
    {
     "data": {
      "text/plain": [
       "['__add__',\n",
       " '__class__',\n",
       " '__contains__',\n",
       " '__delattr__',\n",
       " '__dir__',\n",
       " '__doc__',\n",
       " '__eq__',\n",
       " '__format__',\n",
       " '__ge__',\n",
       " '__getattribute__',\n",
       " '__getitem__',\n",
       " '__getnewargs__',\n",
       " '__gt__',\n",
       " '__hash__',\n",
       " '__init__',\n",
       " '__init_subclass__',\n",
       " '__iter__',\n",
       " '__le__',\n",
       " '__len__',\n",
       " '__lt__',\n",
       " '__mod__',\n",
       " '__mul__',\n",
       " '__ne__',\n",
       " '__new__',\n",
       " '__reduce__',\n",
       " '__reduce_ex__',\n",
       " '__repr__',\n",
       " '__rmod__',\n",
       " '__rmul__',\n",
       " '__setattr__',\n",
       " '__sizeof__',\n",
       " '__str__',\n",
       " '__subclasshook__',\n",
       " 'capitalize',\n",
       " 'casefold',\n",
       " 'center',\n",
       " 'count',\n",
       " 'encode',\n",
       " 'endswith',\n",
       " 'expandtabs',\n",
       " 'find',\n",
       " 'format',\n",
       " 'format_map',\n",
       " 'index',\n",
       " 'isalnum',\n",
       " 'isalpha',\n",
       " 'isascii',\n",
       " 'isdecimal',\n",
       " 'isdigit',\n",
       " 'isidentifier',\n",
       " 'islower',\n",
       " 'isnumeric',\n",
       " 'isprintable',\n",
       " 'isspace',\n",
       " 'istitle',\n",
       " 'isupper',\n",
       " 'join',\n",
       " 'ljust',\n",
       " 'lower',\n",
       " 'lstrip',\n",
       " 'maketrans',\n",
       " 'partition',\n",
       " 'replace',\n",
       " 'rfind',\n",
       " 'rindex',\n",
       " 'rjust',\n",
       " 'rpartition',\n",
       " 'rsplit',\n",
       " 'rstrip',\n",
       " 'split',\n",
       " 'splitlines',\n",
       " 'startswith',\n",
       " 'strip',\n",
       " 'swapcase',\n",
       " 'title',\n",
       " 'translate',\n",
       " 'upper',\n",
       " 'zfill']"
      ]
     },
     "execution_count": 6,
     "metadata": {},
     "output_type": "execute_result"
    }
   ],
   "source": [
    "dir(\"string\")"
   ]
  },
  {
   "cell_type": "code",
   "execution_count": 34,
   "metadata": {},
   "outputs": [
    {
     "name": "stdout",
     "output_type": "stream",
     "text": [
      "function available\n",
      "rstrip function is found in dir(\"strings\")\n"
     ]
    }
   ],
   "source": [
    "if ('rstrip' in dir(\"string\")):\n",
    "    print(\"function available\")\n",
    "else:\n",
    "    print(\"not available\")\n",
    "    \n",
    "#######################################\n",
    "\n",
    "for i in dir(\"string\"):\n",
    "    s = i.find(\"rstrip\")\n",
    "    if(s == 0):\n",
    "        print(f\"\"\"{i} function is found in dir(\"strings\")\"\"\")"
   ]
  },
  {
   "cell_type": "code",
   "execution_count": 37,
   "metadata": {},
   "outputs": [
    {
     "name": "stdout",
     "output_type": "stream",
     "text": [
      "\n",
      "*****  *       *    _______ \n",
      "  *    * *   * *    |      |\n",
      "  *    *   *   *    O      |\n",
      "  *    *       *   /|\\     |\n",
      "  *                / \\     |\n",
      "                 __________|\n",
      "\n"
     ]
    }
   ],
   "source": [
    "s = \"\"\"\n",
    "*****  *       *    _______ \n",
    "  *    * *   * *    |      |\n",
    "  *    *   *   *    O      |\n",
    "  *    *       *   /|\\     |\n",
    "  *                / \\     |\n",
    "                 __________|\n",
    "\"\"\"  \n",
    "print(s)"
   ]
  },
  {
   "cell_type": "code",
   "execution_count": 40,
   "metadata": {},
   "outputs": [
    {
     "name": "stdout",
     "output_type": "stream",
     "text": [
      "enter a string :Manoj is playing PUBG\n",
      "Manoj\n",
      "is\n",
      "playing\n",
      "PUBG\n"
     ]
    }
   ],
   "source": [
    "s = input(\"enter a string :\")\n",
    "s = s.replace(\" \",\"\\n\")\n",
    "print(s)"
   ]
  },
  {
   "cell_type": "code",
   "execution_count": 68,
   "metadata": {},
   "outputs": [
    {
     "name": "stdout",
     "output_type": "stream",
     "text": [
      "Enter your Full Name : Manoj Budaraju\n",
      "First Name : MANOJ \n",
      "Length of First name : 5\n",
      "First Name : BUDARAJU \n",
      "Length of First name : 8\n"
     ]
    }
   ],
   "source": [
    "s = input(\"Enter your Full Name : \")\n",
    "if (\" \" in s):\n",
    "    if(len(s.split(\" \")) > 2 or len(s.split(\" \")) <= 0):\n",
    "        print(\"make sure you enter your first and Last Name\")\n",
    "    else:\n",
    "        print(\"First Name : \" + str.upper(s.split(\" \")[0]) + \" \\nLength of First name : \" +  str(len((s.split(\" \")[0]))))\n",
    "        print(\"First Name : \" + str.upper(s.split(\" \")[1]) + \" \\nLength of First name : \" +  str(len((s.split(\" \")[1]))))\n",
    "else:\n",
    "    print(\"Make sure you seperate First and Last Name by Space\")"
   ]
  },
  {
   "cell_type": "code",
   "execution_count": 90,
   "metadata": {},
   "outputs": [
    {
     "name": "stdout",
     "output_type": "stream",
     "text": [
      "Enter a string : String\n",
      "S1 : Str\n",
      "S2 : ing\n"
     ]
    }
   ],
   "source": [
    "s = input(\"Enter a string : \")\n",
    "l=len(s)\n",
    "h=int(l/2)\n",
    "if(l%2 == 0):\n",
    "    print(\"S1 : \" + s[:h])\n",
    "    print(\"S2 : \" + s[h:l])\n",
    "else:\n",
    "    print(\"S1 : \" + s[:h])\n",
    "    print(\"S2 : \" + s[h+1:l])"
   ]
  },
  {
   "cell_type": "code",
   "execution_count": 91,
   "metadata": {},
   "outputs": [
    {
     "name": "stdout",
     "output_type": "stream",
     "text": [
      "Enter a string : words\n",
      "S1 : wo\n",
      "S2 : ds\n"
     ]
    }
   ],
   "source": [
    "s = input(\"Enter a string : \")\n",
    "l=len(s)\n",
    "h=int(l/2)\n",
    "if(l%2 == 0):\n",
    "    print(\"S1 : \" + s[:h])\n",
    "    print(\"S2 : \" + s[h:l])\n",
    "else:\n",
    "    print(\"S1 : \" + s[:h])\n",
    "    print(\"S2 : \" + s[h+1:l])"
   ]
  },
  {
   "cell_type": "code",
   "execution_count": null,
   "metadata": {},
   "outputs": [],
   "source": []
  }
 ],
 "metadata": {
  "kernelspec": {
   "display_name": "Python 3",
   "language": "python",
   "name": "python3"
  },
  "language_info": {
   "codemirror_mode": {
    "name": "ipython",
    "version": 3
   },
   "file_extension": ".py",
   "mimetype": "text/x-python",
   "name": "python",
   "nbconvert_exporter": "python",
   "pygments_lexer": "ipython3",
   "version": "3.7.6"
  }
 },
 "nbformat": 4,
 "nbformat_minor": 4
}
