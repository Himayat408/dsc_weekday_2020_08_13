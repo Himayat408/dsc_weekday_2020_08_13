{
 "cells": [
  {
   "cell_type": "code",
   "execution_count": 3,
   "metadata": {},
   "outputs": [
    {
     "name": "stdout",
     "output_type": "stream",
     "text": [
      "Enter Fahrenheit temperature: 98.6\n",
      "Given fahrenheit temperature in celsius is: 37.0\n",
      "37.0\n"
     ]
    }
   ],
   "source": [
    "# Q1. Input temperature in Fahrenheit and print in Celsius\n",
    "# Logic\n",
    "# -> Subtract 32 from the Fahrenheit temperature.\n",
    "# -> Multiply this number by five.\n",
    "# -> Divide the result by nine.\n",
    "# Q1 Solution\n",
    "\n",
    "f_temp = float( input(\"Enter Fahrenheit temperature: \") )\n",
    "sub_result =  f_temp - 32.0\n",
    "celsius =  ( sub_result * 5 ) / 9\n",
    "print(f\"Given fahrenheit temperature in celsius is: {celsius}\")"
   ]
  },
  {
   "cell_type": "code",
   "execution_count": 4,
   "metadata": {},
   "outputs": [
    {
     "name": "stdout",
     "output_type": "stream",
     "text": [
      "Enter a number: 7\n",
      "Square of a given number is 49\n",
      "Cube of a given number is 343\n"
     ]
    }
   ],
   "source": [
    "# Q2. WAP to input a number and print its square and cube\n",
    "# Solution\n",
    "\n",
    "num = int( input(\"Enter a number: \") )\n",
    "\n",
    "# square of a number\n",
    "sq_res = ( num * num )\n",
    "print(f\"Square of a given number is {sq_res}\")\n",
    "\n",
    "# cube of a number\n",
    "cube_res = ( sq_res * num )\n",
    "print(f\"Cube of a given number is {cube_res}\")"
   ]
  },
  {
   "cell_type": "code",
   "execution_count": 5,
   "metadata": {},
   "outputs": [
    {
     "name": "stdout",
     "output_type": "stream",
     "text": [
      "Enter first number: 2\n",
      "Enter second number: 4\n",
      "Sum of squares of given 2 numbers is: 20\n"
     ]
    }
   ],
   "source": [
    "# Q3. WAP to input number n and number m and print n^2 + m^2\n",
    "# Solution\n",
    "\n",
    "n = int( input(\"Enter first number: \") )\n",
    "m = int( input(\"Enter second number: \") )\n",
    "\n",
    "sum_of_squares = (n * n) + (m * m)\n",
    "\n",
    "print(f\"Sum of squares of given 2 numbers is: {sum_of_squares}\")"
   ]
  },
  {
   "cell_type": "code",
   "execution_count": 6,
   "metadata": {},
   "outputs": [
    {
     "name": "stdout",
     "output_type": "stream",
     "text": [
      "Enter First number: 7\n",
      "Enter Second number: 2\n",
      "Result of M and N using power func is 49\n",
      "Exponential Result of M and N is 49\n"
     ]
    }
   ],
   "source": [
    "# Q4. WAP to input m & n and print result M power of N\n",
    "# Solution\n",
    "\n",
    "m = int( input(\"Enter First number: \") )\n",
    "n = int( input(\"Enter Second number: \") )\n",
    "\n",
    "# using power function\n",
    "power_res = pow(m,n)\n",
    "print(f\"Result of M and N using power func is {power_res}\")\n",
    "\n",
    "# using exponential **\n",
    "exp_res = m**n\n",
    "print(f\"Exponential Result of M and N is {exp_res}\")"
   ]
  },
  {
   "cell_type": "code",
   "execution_count": 8,
   "metadata": {},
   "outputs": [
    {
     "name": "stdout",
     "output_type": "stream",
     "text": [
      "Enter Principal Amount: 2000\n",
      "Enter Rate of Interest: 2\n",
      "Enter Tenure: 2\n",
      "Simple Interest for the given inputs is 80.0\n"
     ]
    }
   ],
   "source": [
    "# Q5. Write a simple interest calculator\n",
    "# Logic\n",
    "# SI = PrincipalAmount * RateOfInterest * Tenure\n",
    "# Solution\n",
    "\n",
    "# take input data from user\n",
    "p = float(input(\"Enter Principal Amount: \"))\n",
    "r = float(input(\"Enter Annual Rate of Interest: \"))\n",
    "t = float(input(\"Enter Tenure: \"))\n",
    "\n",
    "# logic implementation\n",
    "si = (p * r * t) / 100\n",
    "\n",
    "print(f\"Simple Interest for the given inputs is {si}\")\n"
   ]
  },
  {
   "cell_type": "code",
   "execution_count": 14,
   "metadata": {},
   "outputs": [
    {
     "name": "stdout",
     "output_type": "stream",
     "text": [
      "Enter Principal amount: 5000\n",
      "Enter Annual Rate of Interest: 1\n",
      "Enter tenure: 1\n",
      "Enter number of years: 1\n",
      "Amount of money accumulated after 1.0 years is 10000.0\n",
      "Compound interest is 50.0\n"
     ]
    }
   ],
   "source": [
    "# Q6. Input Principal, rate, time and print compound interest and amount\n",
    "# Logic\n",
    "# P  = principal amount (the initial amount you borrow or deposit)\n",
    "# r  = annual rate of interest (as a decimal)\n",
    "# t  = number of years the amount is deposited or borrowed for.\n",
    "# n  =  number of times the interest is compounded per year\n",
    "# A  = amount of money accumulated after n years, including interest.\n",
    "\n",
    "# Solution\n",
    "\n",
    "P = float( input(\"Enter Principal amount: \") )\n",
    "r = float( input(\"Enter Annual Rate of Interest: \") )\n",
    "t = float( input(\"Enter tenure: \") )\n",
    "n = float( input(\"Enter number of years: \") )\n",
    "\n",
    "# logic implementation\n",
    "Amount = P * pow((1 + r/n),(n*t))\n",
    "Ci = P * (pow((1 + r/100), n)) - P\n",
    "\n",
    "print(f\"Amount of money accumulated after {n} years is {round(Amount,2)}\")\n",
    "print(f\"Compound interest is {round(Ci,2)}\")"
   ]
  },
  {
   "cell_type": "code",
   "execution_count": 16,
   "metadata": {},
   "outputs": [
    {
     "name": "stdout",
     "output_type": "stream",
     "text": [
      "Enter a number: 452\n",
      "Sum of first n natural number is 102378.0\n"
     ]
    }
   ],
   "source": [
    "# Q7. WAP to print sum of first n natural numbers\n",
    "# Logic\n",
    "# ( n * (n + 1) )/2\n",
    "# Solution\n",
    "\n",
    "n = int( input(\"Enter a number: \") )\n",
    "\n",
    "#logic implementation\n",
    "sum = ( n * (n + 1) )/2\n",
    "\n",
    "print(f\"Sum of first n natural number is {sum}\")"
   ]
  },
  {
   "cell_type": "code",
   "execution_count": 17,
   "metadata": {},
   "outputs": [
    {
     "name": "stdout",
     "output_type": "stream",
     "text": [
      "Enter first number: 4\n",
      "Enter second number: 7\n",
      "After swaping result values are: (7, 4) \n"
     ]
    }
   ],
   "source": [
    "# Q8. WAP to input 2 numbers and swap them\n",
    "# Solution\n",
    "\n",
    "first_num = int(input(\"Enter first number: \"))\n",
    "second_num = int( input(\"Enter second number: \"))\n",
    "\n",
    "temp = first_num\n",
    "first_num = second_num\n",
    "second_num = temp\n",
    "\n",
    "print(f\"After swaping result values are: {first_num, temp} \")"
   ]
  },
  {
   "cell_type": "code",
   "execution_count": 19,
   "metadata": {},
   "outputs": [
    {
     "name": "stdout",
     "output_type": "stream",
     "text": [
      "10\n",
      "9\n",
      "13\n"
     ]
    }
   ],
   "source": [
    "# Q9. WAP to print ASCII Values of all white-spaces\n",
    "# white-spaces:\n",
    "# 1. \\n\n",
    "# 2. \\r\n",
    "# 3. \\t\n",
    "\n",
    "next_line_ascii = '\\n'\n",
    "tab_line_ascii = '\\t'\n",
    "other_line_ascii = '\\r'\n",
    "\n",
    "# printing ASCII values of all white-spaces\n",
    "print(ord(next_line_ascii))\n",
    "print(ord(tab_line_ascii))\n",
    "print(ord(other_line_ascii))\n",
    "\n",
    "\n"
   ]
  },
  {
   "cell_type": "code",
   "execution_count": 21,
   "metadata": {},
   "outputs": [
    {
     "name": "stdout",
     "output_type": "stream",
     "text": [
      "Enter a single character: u\n",
      "Ascii value of enterted character u is 117\n"
     ]
    }
   ],
   "source": [
    "#Q10. WAP to input a single character and print ASCII\n",
    "# Solution\n",
    "\n",
    "char = input(\"Enter a single character: \")\n",
    "ascii_value = ord(char)\n",
    "print(f\"Ascii value of enterted character {char} is {ascii_value}\")"
   ]
  },
  {
   "cell_type": "code",
   "execution_count": null,
   "metadata": {},
   "outputs": [],
   "source": []
  }
 ],
 "metadata": {
  "kernelspec": {
   "display_name": "Python 3",
   "language": "python",
   "name": "python3"
  },
  "language_info": {
   "codemirror_mode": {
    "name": "ipython",
    "version": 3
   },
   "file_extension": ".py",
   "mimetype": "text/x-python",
   "name": "python",
   "nbconvert_exporter": "python",
   "pygments_lexer": "ipython3",
   "version": "3.8.3"
  }
 },
 "nbformat": 4,
 "nbformat_minor": 4
}
