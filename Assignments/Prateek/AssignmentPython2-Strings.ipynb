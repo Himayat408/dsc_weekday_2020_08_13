{
 "cells": [
  {
   "cell_type": "code",
   "execution_count": 2,
   "metadata": {},
   "outputs": [
    {
     "name": "stdout",
     "output_type": "stream",
     "text": [
      "s[-1] = d\n",
      "s[::-1] = detneirO tcejbO si nohtyP\n",
      "s[:-1] = Python is Object Oriente\n",
      "s[1:1] = \n",
      "s[4:10] = on is \n"
     ]
    }
   ],
   "source": [
    "# Q1 Guess output of each slice:\n",
    "\n",
    "s = 'Python is Object Oriented'\n",
    "\n",
    "print('s[-1] =',s[-1])\n",
    "print('s[::-1] =',s[::-1])\n",
    "print('s[:-1] =',s[:-1])\n",
    "print('s[1:1] =',s[1:1])\n",
    "print('s[4:10] =',s[4:10])"
   ]
  },
  {
   "cell_type": "code",
   "execution_count": 1,
   "metadata": {},
   "outputs": [
    {
     "ename": "IndexError",
     "evalue": "string index out of range",
     "output_type": "error",
     "traceback": [
      "\u001b[0;31m---------------------------------------------------------------------------\u001b[0m",
      "\u001b[0;31mIndexError\u001b[0m                                Traceback (most recent call last)",
      "\u001b[0;32m<ipython-input-1-98ab0dead0f2>\u001b[0m in \u001b[0;36m<module>\u001b[0;34m\u001b[0m\n\u001b[1;32m      2\u001b[0m \u001b[0;34m\u001b[0m\u001b[0m\n\u001b[1;32m      3\u001b[0m \u001b[0ms\u001b[0m \u001b[0;34m=\u001b[0m\u001b[0;34m''\u001b[0m\u001b[0;34m\u001b[0m\u001b[0;34m\u001b[0m\u001b[0m\n\u001b[0;32m----> 4\u001b[0;31m \u001b[0mprint\u001b[0m\u001b[0;34m(\u001b[0m\u001b[0ms\u001b[0m\u001b[0;34m[\u001b[0m\u001b[0;36m1\u001b[0m\u001b[0;34m]\u001b[0m\u001b[0;34m)\u001b[0m\u001b[0;34m\u001b[0m\u001b[0;34m\u001b[0m\u001b[0m\n\u001b[0m",
      "\u001b[0;31mIndexError\u001b[0m: string index out of range"
     ]
    }
   ],
   "source": [
    "# Q2 What error do you see for the following statements:\n",
    "\n",
    "s =''\n",
    "print(s[1])"
   ]
  },
  {
   "cell_type": "code",
   "execution_count": 2,
   "metadata": {},
   "outputs": [
    {
     "ename": "IndexError",
     "evalue": "string index out of range",
     "output_type": "error",
     "traceback": [
      "\u001b[0;31m---------------------------------------------------------------------------\u001b[0m",
      "\u001b[0;31mIndexError\u001b[0m                                Traceback (most recent call last)",
      "\u001b[0;32m<ipython-input-2-dffe0d7d9386>\u001b[0m in \u001b[0;36m<module>\u001b[0;34m\u001b[0m\n\u001b[1;32m      2\u001b[0m \u001b[0;34m\u001b[0m\u001b[0m\n\u001b[1;32m      3\u001b[0m \u001b[0mS\u001b[0m \u001b[0;34m=\u001b[0m \u001b[0;34m'Gaurav'\u001b[0m\u001b[0;34m\u001b[0m\u001b[0;34m\u001b[0m\u001b[0m\n\u001b[0;32m----> 4\u001b[0;31m \u001b[0mprint\u001b[0m\u001b[0;34m(\u001b[0m\u001b[0ms\u001b[0m\u001b[0;34m[\u001b[0m\u001b[0;36m1\u001b[0m\u001b[0;34m]\u001b[0m\u001b[0;34m)\u001b[0m\u001b[0;34m\u001b[0m\u001b[0;34m\u001b[0m\u001b[0m\n\u001b[0m",
      "\u001b[0;31mIndexError\u001b[0m: string index out of range"
     ]
    }
   ],
   "source": [
    "# Q3 Do you get any error code for the following, if not give the output:\n",
    "\n",
    "S = 'Gaurav'\n",
    "print(s[1])"
   ]
  },
  {
   "cell_type": "code",
   "execution_count": 5,
   "metadata": {},
   "outputs": [
    {
     "name": "stdout",
     "output_type": "stream",
     "text": [
      "6\n",
      "abc\n",
      "3\n",
      "['a#b#c#d#']\n",
      "['a', 'b', 'c', 'd', '']\n",
      "a$b$c$d$\n",
      "av\n",
      "False\n",
      "0,1,2\n",
      "abcba\n",
      "0,0,0,"
     ]
    }
   ],
   "source": [
    "# Q4 Find output of the following:\n",
    "\n",
    "s = 'a b cd'\n",
    "print(len(s))\n",
    "print(s[::2])\n",
    "print(len(s[::2]))\n",
    "\n",
    "s = 'a#b#c#d#'\n",
    "print(s.split())\n",
    "print(s.split('#'))\n",
    "l = s.split('#')\n",
    "s = '$'.join(l)\n",
    "print(s)\n",
    "\n",
    "S = 'Gaurav'\n",
    "S = S[::-2][::-2]\n",
    "print(S)\n",
    "\n",
    "print(1>2)\n",
    "\n",
    "print(4%2,5%2,2%5,sep=',')\n",
    "\n",
    "s = 'abcba'\n",
    "s.upper()\n",
    "print(s)\n",
    "print(s.count('A'),end=',')\n",
    "print(s.count('A',2,4),end=',')\n",
    "print(s.count('a',2,4),end=',')\n"
   ]
  },
  {
   "cell_type": "code",
   "execution_count": 13,
   "metadata": {},
   "outputs": [
    {
     "name": "stdout",
     "output_type": "stream",
     "text": [
      "Input a string:This is a string\n",
      "Thisisastring\n"
     ]
    }
   ],
   "source": [
    "# Q5 WAP to input a string and remove all spaces from it\n",
    "\n",
    "y = input('Input a string:')\n",
    "print(y.replace(' ',''))\n"
   ]
  },
  {
   "cell_type": "code",
   "execution_count": 4,
   "metadata": {},
   "outputs": [
    {
     "name": "stdout",
     "output_type": "stream",
     "text": [
      "<class 'list'>\n"
     ]
    }
   ],
   "source": [
    "# Q6 What does this symbol denote:\n",
    "\n",
    "print(type([]))"
   ]
  },
  {
   "cell_type": "code",
   "execution_count": 2,
   "metadata": {},
   "outputs": [
    {
     "name": "stdout",
     "output_type": "stream",
     "text": [
      "['__add__', '__class__', '__contains__', '__delattr__', '__dir__', '__doc__', '__eq__', '__format__', '__ge__', '__getattribute__', '__getitem__', '__getnewargs__', '__gt__', '__hash__', '__init__', '__init_subclass__', '__iter__', '__le__', '__len__', '__lt__', '__mod__', '__mul__', '__ne__', '__new__', '__reduce__', '__reduce_ex__', '__repr__', '__rmod__', '__rmul__', '__setattr__', '__sizeof__', '__str__', '__subclasshook__', 'capitalize', 'casefold', 'center', 'count', 'encode', 'endswith', 'expandtabs', 'find', 'format', 'format_map', 'index', 'isalnum', 'isalpha', 'isascii', 'isdecimal', 'isdigit', 'isidentifier', 'islower', 'isnumeric', 'isprintable', 'isspace', 'istitle', 'isupper', 'join', 'ljust', 'lower', 'lstrip', 'maketrans', 'partition', 'replace', 'rfind', 'rindex', 'rjust', 'rpartition', 'rsplit', 'rstrip', 'split', 'splitlines', 'startswith', 'strip', 'swapcase', 'title', 'translate', 'upper', 'zfill']\n"
     ]
    }
   ],
   "source": [
    "# Q7 WAP to print all available methods(functions/operations) in a string(Hint:dir())\n",
    "\n",
    "print(dir('String'))"
   ]
  },
  {
   "cell_type": "code",
   "execution_count": 6,
   "metadata": {},
   "outputs": [
    {
     "name": "stdout",
     "output_type": "stream",
     "text": [
      "826\n"
     ]
    }
   ],
   "source": [
    "# Q8 Write a statement to check if rstrip statement is available in the str class\n",
    "#(Hint: Use the find function or in)\n",
    "\n",
    "methods = str(dir(str))\n",
    "print(methods.find('rstrip'))"
   ]
  },
  {
   "cell_type": "code",
   "execution_count": 20,
   "metadata": {},
   "outputs": [
    {
     "name": "stdout",
     "output_type": "stream",
     "text": [
      " \t ***** \n",
      "\t   *\n",
      "\t   * \n",
      "\t   *\n",
      "\t   *\n",
      "* \t *\n",
      "*  *  *  *\n",
      "*    *   *\n",
      "* \t *\n",
      "________\n",
      " | \t|\n",
      " o \t|\n",
      "/|\\ \t|\n",
      "/ \\ \t|\n",
      "\t|\n",
      "________|\n"
     ]
    }
   ],
   "source": [
    "# Q9 WAP to store the following patterns in a string variable and print them:\n",
    "\n",
    "x = \"\"\" \\t ***** \n",
    "\\t   *\n",
    "\\t   * \n",
    "\\t   *\n",
    "\\t   *\"\"\"\n",
    "print(x)\n",
    "\n",
    "\n",
    "y = \"\"\"* \\t *\n",
    "*  *  *  *\n",
    "*    *   *\n",
    "* \\t *\"\"\"\n",
    "print(y)\n",
    "\n",
    "z = \"\"\"________\n",
    " | \\t|\n",
    " o \\t|\n",
    "/|\\ \\t|\n",
    "/ \\ \\t|\n",
    "\\t|\n",
    "________|\"\"\"\n",
    "\n",
    "print(z)"
   ]
  },
  {
   "cell_type": "code",
   "execution_count": 21,
   "metadata": {},
   "outputs": [
    {
     "name": "stdout",
     "output_type": "stream",
     "text": [
      "Enter a string:Thanos is powerful\n",
      "Thanos\n",
      "is\n",
      "powerful\n"
     ]
    }
   ],
   "source": [
    "# Q10 WAP to input a string and replace all space with new lines (\\n) and print again.\n",
    "\n",
    "x = input('Enter a string:')\n",
    "print(x.replace(' ','\\n'))"
   ]
  },
  {
   "cell_type": "code",
   "execution_count": 27,
   "metadata": {},
   "outputs": [
    {
     "name": "stdout",
     "output_type": "stream",
     "text": [
      "Enter a name:Prateek Singh\n",
      "firstname = PRATEEK, length = 7\n",
      "firstname = SINGH, length = 5\n"
     ]
    }
   ],
   "source": [
    "# Q11 WAP to input complete name(first name and last name separated by space) and print first and last name\n",
    "# separately along with their length in upper case.\n",
    "\n",
    "a = input('Enter a name:')\n",
    "a = a.upper()\n",
    "Name = a.split(' ')\n",
    "print(F\"firstname = {Name[0]}, length = {len(Name[0])}\")\n",
    "print(F\"firstname = {Name[1]}, length = {len(Name[1])}\")"
   ]
  },
  {
   "cell_type": "code",
   "execution_count": 38,
   "metadata": {},
   "outputs": [
    {
     "name": "stdout",
     "output_type": "stream",
     "text": [
      "Enter a string: grammaticus\n",
      "First Half =  gramm Second Half =  ticus\n"
     ]
    }
   ],
   "source": [
    "# Q12 WAP to input a string and split into two halves. The string can be of any length.\n",
    "\n",
    "x = input('Enter a string: ')\n",
    "Firsthalf = x[:len(x)//2]\n",
    "Secondhalf = x[((len(x)+1)//2):]\n",
    "print('First Half = ', Firsthalf, 'Second Half = ', Secondhalf)"
   ]
  }
 ],
 "metadata": {
  "kernelspec": {
   "display_name": "Python 3",
   "language": "python",
   "name": "python3"
  },
  "language_info": {
   "codemirror_mode": {
    "name": "ipython",
    "version": 3
   },
   "file_extension": ".py",
   "mimetype": "text/x-python",
   "name": "python",
   "nbconvert_exporter": "python",
   "pygments_lexer": "ipython3",
   "version": "3.8.3"
  }
 },
 "nbformat": 4,
 "nbformat_minor": 4
}
