{
 "cells": [
  {
   "cell_type": "code",
   "execution_count": 5,
   "metadata": {},
   "outputs": [
    {
     "name": "stdout",
     "output_type": "stream",
     "text": [
      "Temperature in Fahrenheit: 70\n",
      "Temperature in Celsius:  21\n"
     ]
    }
   ],
   "source": [
    "# Q1 Input temperature in Fahrenheit and print in Celsius\n",
    "\n",
    "x = int(input('Temperature in Fahrenheit: '))\n",
    "y = int((x-32)*(5/9))\n",
    "print('Temperature in Celsius: ', y)"
   ]
  },
  {
   "cell_type": "code",
   "execution_count": 13,
   "metadata": {},
   "outputs": [
    {
     "name": "stdout",
     "output_type": "stream",
     "text": [
      "Enter a number:7\n",
      "Square of the number is 49\n",
      "Cube of the number is 343\n"
     ]
    }
   ],
   "source": [
    "# Q2 WAP to input a number and print its square and cube\n",
    "\n",
    "a = int(input('Enter a number:'))\n",
    "b = int(pow(a,2))\n",
    "c = int(pow(a,3))\n",
    "print('Square of the number is', b)\n",
    "print('Cube of the number is', c)"
   ]
  },
  {
   "cell_type": "code",
   "execution_count": 14,
   "metadata": {},
   "outputs": [
    {
     "name": "stdout",
     "output_type": "stream",
     "text": [
      "Enter a number: 3\n",
      "Enter another number: 4\n",
      "(n^2 + m^2) is  25\n"
     ]
    }
   ],
   "source": [
    "# Q3 WAP to input a number n and a number m andn print the reuslt of the following:\n",
    "# n^2 + m^2\n",
    "\n",
    "n = int(input('Enter a number: '))\n",
    "m = int(input('Enter another number: '))\n",
    "print('(n^2 + m^2) is ',pow(n,2) + pow(m,2))"
   ]
  },
  {
   "cell_type": "code",
   "execution_count": 17,
   "metadata": {},
   "outputs": [
    {
     "name": "stdout",
     "output_type": "stream",
     "text": [
      "Enter a number, M: 2\n",
      "Enter another number, N: 3\n",
      "M^N (Using **) 8\n",
      "M^N (Using pow) 8\n"
     ]
    }
   ],
   "source": [
    "# Q4 WAP to input numbers M and N and print result of M^N (Use both ** and pow)\n",
    "\n",
    "M = int(input('Enter a number, M: '))\n",
    "N = int(input('Enter another number, N: '))\n",
    "print('M^N (Using **)', M**N)\n",
    "print('M^N (Using pow)', pow(M,N))"
   ]
  },
  {
   "cell_type": "code",
   "execution_count": 19,
   "metadata": {},
   "outputs": [
    {
     "name": "stdout",
     "output_type": "stream",
     "text": [
      "Enter Principal Amount 5000\n",
      "Enter Rate of Interest: 10\n",
      "Enter Time Period: 3\n",
      "Simple Interest is:  1500.0\n"
     ]
    }
   ],
   "source": [
    "# Q5 Write a simple interest calculator\n",
    "\n",
    "P = float(input('Enter Principal Amount '))\n",
    "R = float(input('Enter Rate of Interest: '))\n",
    "T = float(input('Enter Time Period: '))\n",
    "SI = float((P*T*R)/100)\n",
    "print('Simple Interest is: ', SI)"
   ]
  },
  {
   "cell_type": "code",
   "execution_count": 23,
   "metadata": {},
   "outputs": [
    {
     "name": "stdout",
     "output_type": "stream",
     "text": [
      "Enter Principal Amount: 5000\n",
      "Enter Rate of Interest:10\n",
      "Enter Time Period: 3\n",
      "Compound Interest is:  6655.000000000002\n",
      "Enter number of times interest is compounded in a year:2\n",
      "Amount is:  233280000.0\n"
     ]
    }
   ],
   "source": [
    "# Q6 Input Principal, Rate, Time, and print Compound Interest and Amount\n",
    "\n",
    "P = float(input('Enter Principal Amount: '))\n",
    "R = float(input('Enter Rate of Interest:'))\n",
    "T = float(input('Enter Time Period: '))\n",
    "CI = P*float(pow((1 + R/100), T))\n",
    "print('Compound Interest is: ', CI)\n",
    "N = float(input('Enter number of times interest is compounded in a year:'))\n",
    "A = P*float(pow((1 + R/N),N*T))\n",
    "print('Amount is: ', A)"
   ]
  },
  {
   "cell_type": "code",
   "execution_count": 24,
   "metadata": {},
   "outputs": [
    {
     "name": "stdout",
     "output_type": "stream",
     "text": [
      "Enter a number: 5\n",
      "The sum is:  15.0\n"
     ]
    }
   ],
   "source": [
    "# Q7 WAP to print sum of first n natural numbers (n needs to be taken as input)\n",
    "\n",
    "n = int(input('Enter a number: '))\n",
    "\n",
    "if n < 0:\n",
    "    print('Please enter a natural number')\n",
    "else:\n",
    "    sum = n*((n+1)/2)\n",
    "    print('The sum is: ', sum )"
   ]
  },
  {
   "cell_type": "code",
   "execution_count": 26,
   "metadata": {},
   "outputs": [
    {
     "name": "stdout",
     "output_type": "stream",
     "text": [
      "Enter a number a: 2\n",
      "Enter a number b: 3\n",
      "Values of a and b after swapping (using temp variable):  3 2\n",
      "Enter a number a: 2\n",
      "Enter a number b: 3\n",
      "Values of a and b after swapping (pythonic): 3 2\n"
     ]
    }
   ],
   "source": [
    "# Q8 WAP to input 2 numbers and swap them (use both normal logic with temp variables and pythonic way)\n",
    "\n",
    "#1\n",
    "a = int(input('Enter a number a: '))\n",
    "b = int(input('Enter a number b: '))\n",
    "temp = 0\n",
    "temp = a\n",
    "a = b\n",
    "b = temp\n",
    "print('Values of a and b after swapping (using temp variable): ', a, b)\n",
    "\n",
    "#2\n",
    "a = int(input('Enter a number a: '))\n",
    "b = int(input('Enter a number b: '))\n",
    "a,b = b,a\n",
    "print('Values of a and b after swapping (pythonic):', a, b)"
   ]
  },
  {
   "cell_type": "code",
   "execution_count": 1,
   "metadata": {},
   "outputs": [
    {
     "name": "stdout",
     "output_type": "stream",
     "text": [
      "The ASCII value of Horizontal tab is: 9\n",
      "The ASCII value of New Line is: 10\n",
      "The ASCII value of Vertical tab is: 11\n",
      "The ASCII value of Feed: 12\n",
      "The ASCII value of Carriage Return is: 13\n",
      "The ASCII value of space is: 32\n"
     ]
    }
   ],
   "source": [
    "# Q9 WAP to print ASCII values of all whitespace characters in python\n",
    "\n",
    "print('The ASCII value of Horizontal tab is:', ord('\\t'))\n",
    "print('The ASCII value of New Line is:', ord('\\n'))\n",
    "print('The ASCII value of Vertical tab is:', ord('\\v'))\n",
    "print('The ASCII value of Feed:', ord('\\f'))\n",
    "print('The ASCII value of Carriage Return is:', ord('\\r'))\n",
    "print('The ASCII value of space is:', ord(' '))"
   ]
  },
  {
   "cell_type": "code",
   "execution_count": 28,
   "metadata": {},
   "outputs": [
    {
     "name": "stdout",
     "output_type": "stream",
     "text": [
      "Enter a character: K\n",
      "ASCII value for entered character is: 75\n"
     ]
    }
   ],
   "source": [
    "# Q10 Input a single character and print its ASCII values\n",
    "\n",
    "ch = input('Enter a character: ')\n",
    "print('ASCII value for entered character is:', ord(ch))"
   ]
  },
  {
   "cell_type": "code",
   "execution_count": 30,
   "metadata": {},
   "outputs": [
    {
     "name": "stdout",
     "output_type": "stream",
     "text": [
      "Enter area of circle: 27\n",
      "The Circumference is:  6.139960247678931\n",
      "The Radius is:  0.9772050238058398\n"
     ]
    }
   ],
   "source": [
    "# Q11 WAP that takes area of a circle and gives back the radius and circumference\n",
    "\n",
    "import math\n",
    "Area = float(input('Enter area of circle: '))\n",
    "Radius = math.sqrt(a/math.pi)\n",
    "Circumference = 2*math.pi*Radius\n",
    "print('The Circumference is: ', Circumference)\n",
    "print('The Radius is: ', Radius)"
   ]
  },
  {
   "cell_type": "code",
   "execution_count": 6,
   "metadata": {},
   "outputs": [
    {
     "name": "stdout",
     "output_type": "stream",
     "text": [
      "Enter subject one marks: 80\n",
      "Percentage is:  80.0\n",
      "Enter subject two marks: 75\n",
      "Percentage is:  75.0\n",
      "Enter subject three marks: 70\n",
      "Percentage is:  70.0\n",
      "Enter subject four marks: 85\n",
      "Percentage is:  85.0\n",
      "Enter subject five marks: 90\n",
      "Percentage is:  90.0\n",
      "Average percentage is:  80.0\n"
     ]
    }
   ],
   "source": [
    "# Q12 We need to input marks in 5 subjects out of 100 and print percentage\n",
    "\n",
    "sub1 = float(input('Enter subject one marks: '))\n",
    "print('Percentage is: ', (sub1/100)*100)\n",
    "sub2 = float(input('Enter subject two marks: '))\n",
    "print('Percentage is: ', (sub2/100)*100)\n",
    "sub3 = float(input('Enter subject three marks: '))\n",
    "print('Percentage is: ', (sub3/100)*100)\n",
    "sub4 = float(input('Enter subject four marks: '))\n",
    "print('Percentage is: ', (sub4/100)*100)\n",
    "sub5 = float(input('Enter subject five marks: '))\n",
    "print('Percentage is: ', (sub5/100)*100)\n",
    "print('Average percentage is: ', (((sub1+sub2+sub3+sub4+sub5)/500)*100))"
   ]
  }
 ],
 "metadata": {
  "kernelspec": {
   "display_name": "Python 3",
   "language": "python",
   "name": "python3"
  },
  "language_info": {
   "codemirror_mode": {
    "name": "ipython",
    "version": 3
   },
   "file_extension": ".py",
   "mimetype": "text/x-python",
   "name": "python",
   "nbconvert_exporter": "python",
   "pygments_lexer": "ipython3",
   "version": "3.8.3"
  }
 },
 "nbformat": 4,
 "nbformat_minor": 4
}
