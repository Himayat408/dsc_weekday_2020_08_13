{
 "cells": [
  {
   "cell_type": "code",
   "execution_count": 1,
   "metadata": {},
   "outputs": [
    {
     "name": "stdout",
     "output_type": "stream",
     "text": [
      "AssignmentPython2- Strings\n",
      "**************************\n",
      "\n"
     ]
    }
   ],
   "source": [
    "#AssignmentPython2- Strings\n",
    "Header = \"AssignmentPython2- Strings\"\n",
    "print(Header + \"\\n\" + \"*\"*len(Header)+\"\\n\")"
   ]
  },
  {
   "cell_type": "code",
   "execution_count": 32,
   "metadata": {},
   "outputs": [
    {
     "name": "stdout",
     "output_type": "stream",
     "text": [
      "\n",
      "Task1: Guess output of each slice:\n",
      "-----------------------------------\n",
      "Python is Object Oriented\n",
      "s[-1] =  d\n",
      "s[::-1] =  detneirO tcejbO si nohtyP\n",
      "s[:-1] =  Python is Object Oriente\n",
      "s[1:1] =  \n",
      "s[4:10] =  on is \n"
     ]
    }
   ],
   "source": [
    "#Task1: Guess output of each slice:\n",
    "Task = \"\\nTask1: Guess output of each slice:\"\n",
    "print(Task + \"\\n\" + \"-\"*len(Task))\n",
    "\n",
    "s='Python is Object Oriented'\n",
    "print(s)\n",
    "\n",
    "print(\"s[-1] = \", s[-1])\n",
    "print(\"s[::-1] = \", s[::-1])\n",
    "print(\"s[:-1] = \", s[:-1])\n",
    "print(\"s[1:1] = \", s[1:1])\n",
    "print(\"s[4:10] = \", s[4:10])\n"
   ]
  },
  {
   "cell_type": "code",
   "execution_count": 39,
   "metadata": {},
   "outputs": [
    {
     "name": "stdout",
     "output_type": "stream",
     "text": [
      "\n",
      "What error do you see for s= ‘’ print(s[1]):\n",
      "---------------------------------------------\n"
     ]
    },
    {
     "ename": "IndexError",
     "evalue": "string index out of range",
     "output_type": "error",
     "traceback": [
      "\u001b[0;31m---------------------------------------------------------------------------\u001b[0m",
      "\u001b[0;31mIndexError\u001b[0m                                Traceback (most recent call last)",
      "\u001b[0;32m<ipython-input-39-f901814d6f72>\u001b[0m in \u001b[0;36m<module>\u001b[0;34m\u001b[0m\n\u001b[1;32m      4\u001b[0m \u001b[0;34m\u001b[0m\u001b[0m\n\u001b[1;32m      5\u001b[0m \u001b[0ms\u001b[0m\u001b[0;34m=\u001b[0m \u001b[0;34m''\u001b[0m\u001b[0;34m\u001b[0m\u001b[0;34m\u001b[0m\u001b[0m\n\u001b[0;32m----> 6\u001b[0;31m \u001b[0mprint\u001b[0m\u001b[0;34m(\u001b[0m\u001b[0ms\u001b[0m\u001b[0;34m[\u001b[0m\u001b[0;36m0\u001b[0m\u001b[0;34m]\u001b[0m\u001b[0;34m)\u001b[0m\u001b[0;34m\u001b[0m\u001b[0;34m\u001b[0m\u001b[0m\n\u001b[0m",
      "\u001b[0;31mIndexError\u001b[0m: string index out of range"
     ]
    }
   ],
   "source": [
    "#Task2: What error do you see for s= ‘’ print(s[1])\n",
    "Task = \"\\nTask2: What error do you see for s= ‘’ print(s[1]):\"\n",
    "print(Task + \"\\n\" + \"-\"*len(Task))\n",
    "\n",
    "s= ''\n",
    "print(s[0])"
   ]
  },
  {
   "cell_type": "code",
   "execution_count": 43,
   "metadata": {},
   "outputs": [
    {
     "name": "stdout",
     "output_type": "stream",
     "text": [
      "\n",
      "Do you get any error for the following code:\n",
      "---------------------------------------------\n"
     ]
    },
    {
     "ename": "IndexError",
     "evalue": "string index out of range",
     "output_type": "error",
     "traceback": [
      "\u001b[0;31m---------------------------------------------------------------------------\u001b[0m",
      "\u001b[0;31mIndexError\u001b[0m                                Traceback (most recent call last)",
      "\u001b[0;32m<ipython-input-43-d9363ead53d0>\u001b[0m in \u001b[0;36m<module>\u001b[0;34m\u001b[0m\n\u001b[1;32m      8\u001b[0m \u001b[0;34m\u001b[0m\u001b[0m\n\u001b[1;32m      9\u001b[0m \u001b[0mS\u001b[0m\u001b[0;34m=\u001b[0m\u001b[0;34m'Gaurav'\u001b[0m\u001b[0;34m\u001b[0m\u001b[0;34m\u001b[0m\u001b[0m\n\u001b[0;32m---> 10\u001b[0;31m \u001b[0mprint\u001b[0m\u001b[0;34m(\u001b[0m\u001b[0ms\u001b[0m\u001b[0;34m[\u001b[0m\u001b[0;36m1\u001b[0m\u001b[0;34m]\u001b[0m\u001b[0;34m)\u001b[0m\u001b[0;34m\u001b[0m\u001b[0;34m\u001b[0m\u001b[0m\n\u001b[0m",
      "\u001b[0;31mIndexError\u001b[0m: string index out of range"
     ]
    }
   ],
   "source": [
    "'''\n",
    "Task3: Do you get any error for the following code, if not give the output:\n",
    "S=‘Gaurav’\n",
    "print(s[1])\n",
    "'''\n",
    "Task = \"\\nTask3: Do you get any error for the following code:\"\n",
    "print(Task + \"\\n\" + \"-\"*len(Task))\n",
    "\n",
    "S='Gaurav'\n",
    "print(s[1])"
   ]
  },
  {
   "cell_type": "code",
   "execution_count": 55,
   "metadata": {},
   "outputs": [
    {
     "name": "stdout",
     "output_type": "stream",
     "text": [
      "4(a)\n",
      "6\n",
      "abc\n",
      "3\n",
      "\n",
      "4(b)\n",
      "['a#b#c#d#']\n",
      "['a', 'b', 'c', 'd', '']\n",
      "a$b$c$d$\n",
      "\n",
      "4(c)\n",
      "av\n",
      "\n",
      "4(d)\n",
      "False\n",
      "\n",
      "4(e)\n",
      "0, 1, 2\n",
      "\n",
      "4(f)\n",
      "abcba\n",
      "0 ,0 ,0 ,"
     ]
    }
   ],
   "source": [
    "'''\n",
    "4. Find output of the following:\n",
    "a) s=‘a b cd’ print(len(s))\n",
    "print(s[::2]) print(len(s[::2]))\n",
    "b) s=‘a#b#c#d#’ print(s.split())\n",
    "print(s.split(‘#’)) l=s.split(‘#’) s=‘$’.join(l) print(s)\n",
    "c) S=‘Gaurav’ S=S[::-2][::-2]\n",
    "print(S)\n",
    "d) print(1>2)\n",
    "e) print(4%2, 5%2, 2%5, sep=‘, ’)\n",
    "f) s=‘abcba’ s.upper()\n",
    "print(s)\n",
    "print(s.count(‘A’), end = ‘ ,’) print(s.count(‘A’, 2,4) , end = ‘ ,’) print(s.count(‘a’, 2,4) , end = ‘ ,’)\n",
    "'''\n",
    "print(\"4(a)\")\n",
    "s='a b cd'\n",
    "print(len(s))\n",
    "print(s[::2])\n",
    "print(len(s[::2]))\n",
    "\n",
    "print(\"\\n4(b)\")\n",
    "s='a#b#c#d#'\n",
    "print(s.split())\n",
    "print(s.split('#'))\n",
    "l=s.split('#')\n",
    "s='$'.join(l)\n",
    "print(s)\n",
    "\n",
    "print(\"\\n4(c)\")\n",
    "S='Gaurav'\n",
    "S=S[::-2][::-2]\n",
    "print(S)\n",
    "\n",
    "print(\"\\n4(d)\")\n",
    "print(1>2)\n",
    "\n",
    "print(\"\\n4(e)\")\n",
    "print(4%2, 5%2, 2%5, sep=', ')\n",
    "\n",
    "print(\"\\n4(f)\")\n",
    "s='abcba'\n",
    "s.upper()\n",
    "print(s)\n",
    "print(s.count('A'), end = ' ,')\n",
    "print(s.count('A', 2,4) , end = ' ,')\n",
    "print(s.count('a', 2,4) , end = ' ,')"
   ]
  },
  {
   "cell_type": "code",
   "execution_count": 58,
   "metadata": {},
   "outputs": [
    {
     "name": "stdout",
     "output_type": "stream",
     "text": [
      "\n",
      "Task5: WAP to input a string and remove all spaces from it:\n",
      "------------------------------------------------------------\n",
      "Enter a String: This is python assignment.\n",
      "Thisispythonassignment.\n"
     ]
    }
   ],
   "source": [
    "#Task5: WAP to input a string and remove all spaces from it.\n",
    "Task = \"\\nTask5: WAP to input a string and remove all spaces from it:\"\n",
    "print(Task + \"\\n\" + \"-\"*len(Task))\n",
    "\n",
    "Str = input(\"Enter a String: \")\n",
    "print(Str.replace(' ', ''))"
   ]
  },
  {
   "cell_type": "code",
   "execution_count": 62,
   "metadata": {},
   "outputs": [
    {
     "name": "stdout",
     "output_type": "stream",
     "text": [
      "\n",
      "Task6: What does this symbol denote: []:\n",
      "-----------------------------------------\n",
      "<class 'list'>\n"
     ]
    }
   ],
   "source": [
    "#Task6: What does this symbol denote: []\n",
    "Task = \"\\nTask6: What does this symbol denote: []:\"\n",
    "print(Task + \"\\n\" + \"-\"*len(Task))\n",
    "\n",
    "print(type([]))"
   ]
  },
  {
   "cell_type": "code",
   "execution_count": 70,
   "metadata": {},
   "outputs": [
    {
     "name": "stdout",
     "output_type": "stream",
     "text": [
      "\n",
      "Task7: WAP to print all methods(functions/operations) available in a string (Hint : dir()):\n",
      "--------------------------------------------------------------------------------------------\n",
      "['__add__', '__class__', '__contains__', '__delattr__', '__dir__', '__doc__', '__eq__', '__format__', '__ge__', '__getattribute__', '__getitem__', '__getnewargs__', '__gt__', '__hash__', '__init__', '__init_subclass__', '__iter__', '__le__', '__len__', '__lt__', '__mod__', '__mul__', '__ne__', '__new__', '__reduce__', '__reduce_ex__', '__repr__', '__rmod__', '__rmul__', '__setattr__', '__sizeof__', '__str__', '__subclasshook__', 'capitalize', 'casefold', 'center', 'count', 'encode', 'endswith', 'expandtabs', 'find', 'format', 'format_map', 'index', 'isalnum', 'isalpha', 'isascii', 'isdecimal', 'isdigit', 'isidentifier', 'islower', 'isnumeric', 'isprintable', 'isspace', 'istitle', 'isupper', 'join', 'ljust', 'lower', 'lstrip', 'maketrans', 'partition', 'replace', 'rfind', 'rindex', 'rjust', 'rpartition', 'rsplit', 'rstrip', 'split', 'splitlines', 'startswith', 'strip', 'swapcase', 'title', 'translate', 'upper', 'zfill']\n"
     ]
    }
   ],
   "source": [
    "#Task7: WAP to print all methods(functions/operations) available in a string (Hint : dir())\n",
    "Task = \"\\nTask7: WAP to print all methods(functions/operations) available in a string (Hint : dir()):\"\n",
    "print(Task + \"\\n\" + \"-\"*len(Task))\n",
    "\n",
    "print(dir(str))"
   ]
  },
  {
   "cell_type": "code",
   "execution_count": 79,
   "metadata": {},
   "outputs": [
    {
     "name": "stdout",
     "output_type": "stream",
     "text": [
      "\n",
      "Task8: Write statement to check if rstrip method is available in the str class.:\n",
      "---------------------------------------------------------------------------------\n",
      "826\n"
     ]
    }
   ],
   "source": [
    "#Task8: Write statement to check if rstrip method is available in the str class.\n",
    "Task = \"\\nTask8: Write statement to check if rstrip method is available in the str class.:\"\n",
    "print(Task + \"\\n\" + \"-\"*len(Task))\n",
    "\n",
    "methods = str(dir(str))\n",
    "print(methods.find(\"rstrip\"))"
   ]
  },
  {
   "cell_type": "code",
   "execution_count": 124,
   "metadata": {},
   "outputs": [
    {
     "name": "stdout",
     "output_type": "stream",
     "text": [
      "\n",
      "Task9: WAP to store the following patterns in a string variable and then print them:\n",
      "-------------------------------------------------------------------------------------\n",
      "*****\n",
      "  *  \n",
      "  *  \n",
      "  *  \n",
      "  *  \n",
      " \n",
      "*         *\n",
      "*  *   *  *\n",
      "*    *    *\n",
      "*         *\n",
      " \n",
      " _____________\n",
      " |___________|\n",
      " O___________|\n",
      "/|\\__________|\n",
      "/ \\__________|\n",
      "_____________|\n"
     ]
    }
   ],
   "source": [
    "#Task9: WAP to store the following patterns in a string variable and then print them.\n",
    "Task = \"\\nTask9: WAP to store the following patterns in a string variable and then print them:\"\n",
    "print(Task + \"\\n\" + \"-\"*len(Task))\n",
    "Pattern1 = \"*****\\n  *  \\n  *  \\n  *  \\n  *  \\n\"\n",
    "Pattern2 = \"\\n*         *\\n*  *   *  *\\n*    *    *\\n*         *\\n\"\n",
    "Pattern3 = \"\\n _____________\\n |___________|\\n O___________|\\n/|\\__________|\\n/ \\__________|\\n_____________|\"\n",
    "print(Pattern1, Pattern2, Pattern3)"
   ]
  },
  {
   "cell_type": "code",
   "execution_count": 134,
   "metadata": {},
   "outputs": [
    {
     "name": "stdout",
     "output_type": "stream",
     "text": [
      "\n",
      "Task10: WAP to input a string and replace all space with new lines (\\n) and print again:\n",
      "-----------------------------------------------------------------------------------------\n",
      "Enter a String: This is python class.\n",
      "This\n",
      "is\n",
      "python\n",
      "class.\n"
     ]
    }
   ],
   "source": [
    "#Task10: WAP to input a string and replace all space with new lines (\\n) and print again.\n",
    "Task = \"\\nTask10: WAP to input a string and replace all space with new lines (\\\\n) and print again:\"\n",
    "print(Task + \"\\n\" + \"-\"*len(Task))\n",
    "\n",
    "Str = input(\"Enter a String: \")\n",
    "print(Str.replace(' ', '\\n'))"
   ]
  },
  {
   "cell_type": "code",
   "execution_count": 141,
   "metadata": {},
   "outputs": [
    {
     "name": "stdout",
     "output_type": "stream",
     "text": [
      "\n",
      "Task11: WAP to input complete name(first and last name separated by space):\n",
      "----------------------------------------------------------------------------\n",
      "Enter fullname: Jaideep Singh\n",
      "Firstname: JAIDEEP \t 7 \n",
      "Lastname: SINGH \t 5\n"
     ]
    }
   ],
   "source": [
    "'''\n",
    "Task11: WAP to input complete name(first and last name separated by space) and print first and last\n",
    "name separately along with their length in upper case.\n",
    "'''\n",
    "Task = \"\\nTask11: WAP to input complete name(first and last name separated by space):\"\n",
    "print(Task + \"\\n\" + \"-\"*len(Task))\n",
    "\n",
    "Name = input(\"Enter fullname: \")\n",
    "Pos = Name.find(' ')\n",
    "Firstname = Name.upper()[:Pos]\n",
    "Lastname = Name.upper()[Pos+1:]\n",
    "print(\"Firstname:\", Firstname, \"\\t\", len(Firstname), \"\\nLastname:\", Lastname, \"\\t\", len(Lastname))"
   ]
  },
  {
   "cell_type": "code",
   "execution_count": 161,
   "metadata": {},
   "outputs": [
    {
     "name": "stdout",
     "output_type": "stream",
     "text": [
      "\n",
      "Task12: WAP to input a string and split it into 2 halves.:\n",
      "-----------------------------------------------------------\n",
      "Enter a string: John\n",
      "First half =  Jo, Second half =  hn\n"
     ]
    }
   ],
   "source": [
    "'''\n",
    "Task12: WAP to input a string and split it into 2 halves. The string can be of any length\n",
    "Ex-1: Input = “String”\n",
    "S1 = Str S2 = ing\n",
    "Ex-2: Input = “words”\n",
    "S1 = wo S2 = ds\n",
    "'''\n",
    "Task = \"\\nTask12: WAP to input a string and split it into 2 halves.:\"\n",
    "print(Task + \"\\n\" + \"-\"*len(Task))\n",
    "\n",
    "Str = input(\"Enter a string: \")\n",
    "Firsthalf = Str[:len(Str)//2]\n",
    "Secondhalf = Str[((len(Str)+1)//2):]\n",
    "print(\"First half = \", Firsthalf, \"\\b,\", \"Second half = \", Secondhalf)"
   ]
  },
  {
   "cell_type": "code",
   "execution_count": null,
   "metadata": {},
   "outputs": [],
   "source": []
  }
 ],
 "metadata": {
  "kernelspec": {
   "display_name": "Python 3",
   "language": "python",
   "name": "python3"
  },
  "language_info": {
   "codemirror_mode": {
    "name": "ipython",
    "version": 3
   },
   "file_extension": ".py",
   "mimetype": "text/x-python",
   "name": "python",
   "nbconvert_exporter": "python",
   "pygments_lexer": "ipython3",
   "version": "3.8.3"
  }
 },
 "nbformat": 4,
 "nbformat_minor": 4
}
