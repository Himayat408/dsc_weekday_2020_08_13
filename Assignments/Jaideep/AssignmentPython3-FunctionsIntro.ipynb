{
 "cells": [
  {
   "cell_type": "code",
   "execution_count": 1,
   "metadata": {},
   "outputs": [
    {
     "name": "stdout",
     "output_type": "stream",
     "text": [
      "AssignmentPython3-FunctionsIntro\n",
      "********************************\n",
      "\n"
     ]
    }
   ],
   "source": [
    "#AssignmentPython3-FunctionsIntro\n",
    "Header = \"AssignmentPython3-FunctionsIntro\"\n",
    "print(Header + \"\\n\" + \"*\"*len(Header)+\"\\n\")"
   ]
  },
  {
   "cell_type": "code",
   "execution_count": 4,
   "metadata": {},
   "outputs": [
    {
     "name": "stdout",
     "output_type": "stream",
     "text": [
      "\n",
      "Task1: WAP to input 2 strings and swap the strings:\n",
      "----------------------------------------------------\n",
      "Enter First String: Jaideep\n",
      "Enter Second String: Singh\n",
      "Swapping\n",
      "String1 =  Singh\n",
      "String2 =  Jaideep\n"
     ]
    }
   ],
   "source": [
    "#Task1: WAP to input 2 strings and swap the strings\n",
    "Task = \"\\nTask1: WAP to input 2 strings and swap the strings:\"\n",
    "print(Task + \"\\n\" + \"-\"*len(Task))\n",
    "\n",
    "Str1 = input(\"Enter First String: \")\n",
    "Str2 = input(\"Enter Second String: \")\n",
    "\n",
    "print(\"Swapping\")\n",
    "Str1, Str2 = Str2, Str1\n",
    "print(\"String1 = \", Str1)\n",
    "print(\"String2 = \", Str2)"
   ]
  },
  {
   "cell_type": "code",
   "execution_count": 19,
   "metadata": {},
   "outputs": [
    {
     "name": "stdout",
     "output_type": "stream",
     "text": [
      "\n",
      "Task2: WAP to generate 4 random numbers in the range 0-26 and print their average:\n",
      "-----------------------------------------------------------------------------------\n",
      "Average of Random Numbers (22, 5, 5, 24) =  14.0\n"
     ]
    }
   ],
   "source": [
    "#Task2: WAP to generate 4 random numbers in the range 0-26 and print their average\n",
    "Task = \"\\nTask2: WAP to generate 4 random numbers in the range 0-26 and print their average:\"\n",
    "print(Task + \"\\n\" + \"-\"*len(Task))\n",
    "\n",
    "import random\n",
    "Num1 = random.randrange(0,26)\n",
    "Num2 = random.randrange(0,26)\n",
    "Num3 = random.randrange(0,26)\n",
    "Num4 = random.randrange(0,26)\n",
    "\n",
    "print(f\"Average of Random Numbers ({Num1}, {Num2}, {Num3}, {Num4}) = \", (Num1+Num2+Num3+Num4)/4)"
   ]
  },
  {
   "cell_type": "code",
   "execution_count": 27,
   "metadata": {},
   "outputs": [
    {
     "name": "stdout",
     "output_type": "stream",
     "text": [
      "\n",
      "Task3: WAP to generate and print a random uppercase or lowercase alphabet:\n",
      "---------------------------------------------------------------------------\n",
      "f\n"
     ]
    }
   ],
   "source": [
    "'''\n",
    "Task3: WAP to generate and print a random uppercase or lowercase alphabet. Try these:\n",
    "• Create a string containing all alphabets and then select a random alphabet.\n",
    "• Check the module string\n",
    "'''\n",
    "Task = \"\\nTask3: WAP to generate and print a random uppercase or lowercase alphabet:\"\n",
    "print(Task + \"\\n\" + \"-\"*len(Task))\n",
    "\n",
    "import random\n",
    "Str = \"ABCDEFGHIJKLMNOPQRSTUVWXYZabcdefghijklmnopqrstuvwxyz\"\n",
    "c = random.choice(Str)\n",
    "print(c)"
   ]
  },
  {
   "cell_type": "code",
   "execution_count": 30,
   "metadata": {},
   "outputs": [
    {
     "name": "stdout",
     "output_type": "stream",
     "text": [
      "\n",
      "Task4: WAF get_si() that takes Principle, Rate and Time as arguments and returns the Simple Interest.:\n",
      "-------------------------------------------------------------------------------------------------------\n",
      "Enter Principal Amount: 10000\n",
      "Enter Rate of Interest(/%) per year: 5\n",
      "Enter Time Period(years): 1\n",
      "Simple Interest: 500.0\n"
     ]
    }
   ],
   "source": [
    "'''\n",
    "Task4: WAF get_si() that takes Principle, Rate and Time as arguments and returns the Simple Interest.\n",
    "'''\n",
    "Task = \"\\nTask4: WAF get_si() that takes Principle, Rate and Time as arguments and returns the Simple Interest.:\"\n",
    "print(Task + \"\\n\" + \"-\"*len(Task))\n",
    "\n",
    "def get_si(P, R, t):\n",
    "    #Simple Interest (SI) = P((R/100)t)\n",
    "    return P * ((R/100)*t)\n",
    "\n",
    "P = int(input(\"Enter Principal Amount: \"))\n",
    "R = int(input(\"Enter Rate of Interest(/%) per year: \"))\n",
    "t = int(input(\"Enter Time Period(years): \"))\n",
    "\n",
    "print(\"Simple Interest:\", get_si(P, R, t))"
   ]
  },
  {
   "cell_type": "code",
   "execution_count": 36,
   "metadata": {},
   "outputs": [
    {
     "name": "stdout",
     "output_type": "stream",
     "text": [
      "\n",
      "Task5: WAF get_si() that takes Principle, Rate and Time as arguments and returns the Simple Interest.:\n",
      "-------------------------------------------------------------------------------------------------------\n",
      "Enter Principal Amount: 10000\n",
      "Enter Rate of Interest(/%) per year: 3\n",
      "Enter Time Period(years): 2\n",
      "Total Amount =  10600.0\n"
     ]
    }
   ],
   "source": [
    "'''\n",
    "Task5: WAF get_amount() that takes Principle, Rate and Time as arguments and returns the Total amount\n",
    "using the get_si() function from above to calculate the SI. Also provide Rate = 10 and Time = 1 as default arguments.\n",
    "'''\n",
    "Task = \"\\nTask5: WAF get_si() that takes Principle, Rate and Time as arguments and returns the Simple Interest.:\"\n",
    "print(Task + \"\\n\" + \"-\"*len(Task))\n",
    "\n",
    "def get_si(P, R=10, t=1):\n",
    "    #Simple Interest (SI) = P((R/100)t)\n",
    "    return P * ((R/100)*t)\n",
    "\n",
    "def get_amount(P, R=10, t=1):\n",
    "    return (P + get_si(P, R, t))\n",
    "\n",
    "P = int(input(\"Enter Principal Amount: \"))\n",
    "R = int(input(\"Enter Rate of Interest(/%) per year: \"))\n",
    "t = int(input(\"Enter Time Period(years): \"))\n",
    "\n",
    "print(\"Total Amount = \", get_amount(P, R, t))"
   ]
  },
  {
   "cell_type": "code",
   "execution_count": 41,
   "metadata": {},
   "outputs": [
    {
     "name": "stdout",
     "output_type": "stream",
     "text": [
      "\n",
      "Task6: WAP get_ci() that takes Principle, Rate and Time as arguments and returns the Compound Interest:\n",
      "--------------------------------------------------------------------------------------------------------\n",
      "Enter Principal Amount: 5000\n",
      "Enter Rate of Interest(/%) per year: 5\n",
      "Enter Time Period(years): 10\n",
      "Compound Interest =  3144.4731338872098\n"
     ]
    }
   ],
   "source": [
    "'''\n",
    "Task6: WAP get_ci() that takes Principle, Rate and Time as arguments and returns the Compound Interest.\n",
    "'''\n",
    "Task = \"\\nTask6: WAP get_ci() that takes Principle, Rate and Time as arguments and returns the Compound Interest:\"\n",
    "print(Task + \"\\n\" + \"-\"*len(Task))\n",
    "\n",
    "def get_ci(P, R, t):\n",
    "    #Total Accrued Amount (A)\n",
    "    A = P * pow(1+(R/100), t)\n",
    "    #Compound Interst\n",
    "    CI = A - P\n",
    "    return CI\n",
    "\n",
    "P = int(input(\"Enter Principal Amount: \"))\n",
    "R = int(input(\"Enter Rate of Interest(/%) per year: \"))\n",
    "t = int(input(\"Enter Time Period(years): \"))\n",
    "\n",
    "print(\"Compound Interest = \", get_ci(P, R, t))"
   ]
  },
  {
   "cell_type": "code",
   "execution_count": 8,
   "metadata": {},
   "outputs": [
    {
     "name": "stdout",
     "output_type": "stream",
     "text": [
      "\n",
      "Task7: WAP get_q_r() taking 2 numbers as parameters and returns the quotient and remainder in the form of a tuple:\n",
      "-------------------------------------------------------------------------------------------------------------------\n",
      "Enter Number1:9\n",
      "Enter Number2:5\n",
      "(1, 4)\n"
     ]
    }
   ],
   "source": [
    "'''\n",
    "Task7: WAP get_q_r() taking 2 numbers as parameters and returns the quotient and remainder in the form of a tuple.\n",
    "'''\n",
    "Task = \"\\nTask7: WAP get_q_r() taking 2 numbers as parameters and returns the quotient and remainder in the form of a tuple:\"\n",
    "print(Task + \"\\n\" + \"-\"*len(Task))\n",
    "\n",
    "def get_q_r(Num1, Num2):\n",
    "    q = (Num1//Num2)\n",
    "    r = (Num1%Num2)\n",
    "    return (q, r)\n",
    "\n",
    "Num1 = int(input(\"Enter Number1:\"))\n",
    "Num2 = int(input(\"Enter Number2:\"))\n",
    "print(get_q_r(Num1, Num2))"
   ]
  },
  {
   "cell_type": "code",
   "execution_count": 34,
   "metadata": {},
   "outputs": [
    {
     "name": "stdout",
     "output_type": "stream",
     "text": [
      "\n",
      "Task8: WAP to find the length of hypotenuse of a right angled triangle, input the height and base from user:\n",
      "-------------------------------------------------------------------------------------------------------------\n",
      "Enter Height:6\n",
      "Enter Base:4\n",
      "Hypotenuse =  7.211102550927978\n"
     ]
    }
   ],
   "source": [
    "'''\n",
    "Task8: WAP to find the length of hypotenuse of a right angled triangle, input the height and base from user.\n",
    "'''\n",
    "Task = \"\\nTask8: WAP to find the length of hypotenuse of a right angled triangle, input the height and base from user:\"\n",
    "print(Task + \"\\n\" + \"-\"*len(Task))\n",
    "\n",
    "import math\n",
    "Height = int(input(\"Enter Height:\"))\n",
    "Base = int(input(\"Enter Base:\"))\n",
    "\n",
    "print(\"Hypotenuse = \", math.sqrt(pow(Height, 2) + pow(Base, 2)))"
   ]
  },
  {
   "cell_type": "code",
   "execution_count": 22,
   "metadata": {},
   "outputs": [
    {
     "name": "stdout",
     "output_type": "stream",
     "text": [
      "\n",
      "Task9: WAP to input number of seconds and print in days, hours, minutes and seconds:\n",
      "-------------------------------------------------------------------------------------\n",
      "Enter Seconds:10000\n",
      "0 day 2 hour 46 minute 40 second\n"
     ]
    }
   ],
   "source": [
    "'''\n",
    "Task9: WAP to input number of seconds and print in days, hours, minutes and seconds\n",
    "ex: input = 10000\n",
    "Output = 0 day 2 hour 46 minute 40 second\n",
    "'''\n",
    "Task = \"\\nTask9: WAP to input number of seconds and print in days, hours, minutes and seconds:\"\n",
    "print(Task + \"\\n\" + \"-\"*len(Task))\n",
    "\n",
    "Seconds = int(input(\"Enter Seconds:\"))\n",
    "day = Seconds//(24*60*60)\n",
    "Leftover = Seconds%(24*60*60)\n",
    "hour = Leftover//(60*60)\n",
    "Leftover = Leftover%(60*60)\n",
    "minute = Leftover//60\n",
    "second = Leftover%60\n",
    "print(f\"{day} day {hour} hour {minute} minute {second} second\")"
   ]
  },
  {
   "cell_type": "code",
   "execution_count": 28,
   "metadata": {},
   "outputs": [
    {
     "name": "stdout",
     "output_type": "stream",
     "text": [
      "\n",
      "Task10: Check your version of python interpreter without opening the interpreter:\n",
      "----------------------------------------------------------------------------------\n",
      "python --version\n"
     ]
    }
   ],
   "source": [
    "'''\n",
    "Task10: Check your version of python interpreter without opening the interpreter \n",
    "(Which command needs to be used on the command line).\n",
    "'''\n",
    "Task = \"\\nTask10: Check your version of python interpreter without opening the interpreter:\"\n",
    "print(Task + \"\\n\" + \"-\"*len(Task))\n",
    "\n",
    "print(\"python --version\")"
   ]
  },
  {
   "cell_type": "code",
   "execution_count": 30,
   "metadata": {},
   "outputs": [
    {
     "name": "stdout",
     "output_type": "stream",
     "text": [
      "\n",
      "Task11: Find output:\n",
      "---------------------\n",
      "X = 2, Y = -2\n"
     ]
    }
   ],
   "source": [
    "'''\n",
    "Task11: Find output\n",
    "        X = 2\n",
    "        X *=3\n",
    "        X = X%4\n",
    "        Y = - X\n",
    "'''\n",
    "Task = \"\\nTask11: Find output:\"\n",
    "print(Task + \"\\n\" + \"-\"*len(Task))\n",
    "\n",
    "X = 2\n",
    "X *=3\n",
    "X = X%4\n",
    "Y = - X\n",
    "print(f\"X = {X}, Y = {Y}\")"
   ]
  },
  {
   "cell_type": "code",
   "execution_count": 36,
   "metadata": {},
   "outputs": [
    {
     "name": "stdout",
     "output_type": "stream",
     "text": [
      "\n",
      "Task12: Find output:\n",
      "---------------------\n",
      "None\n"
     ]
    }
   ],
   "source": [
    "'''\n",
    "Task12: Find output\n",
    "        X = 2\n",
    "        X *=3\n",
    "        X = X%4\n",
    "        Y = - X\n",
    "'''\n",
    "Task = \"\\nTask12: Find output:\"\n",
    "print(Task + \"\\n\" + \"-\"*len(Task))\n",
    "\n",
    "def funct():\n",
    "    pass\n",
    "\n",
    "print(funct())\n"
   ]
  },
  {
   "cell_type": "code",
   "execution_count": null,
   "metadata": {},
   "outputs": [],
   "source": []
  }
 ],
 "metadata": {
  "kernelspec": {
   "display_name": "Python 3",
   "language": "python",
   "name": "python3"
  },
  "language_info": {
   "codemirror_mode": {
    "name": "ipython",
    "version": 3
   },
   "file_extension": ".py",
   "mimetype": "text/x-python",
   "name": "python",
   "nbconvert_exporter": "python",
   "pygments_lexer": "ipython3",
   "version": "3.8.3"
  }
 },
 "nbformat": 4,
 "nbformat_minor": 4
}
