{
 "cells": [
  {
   "cell_type": "code",
   "execution_count": 1,
   "metadata": {},
   "outputs": [
    {
     "name": "stdout",
     "output_type": "stream",
     "text": [
      "AssignmentPython3-FunctionsIntro\n",
      "********************************\n",
      "\n"
     ]
    }
   ],
   "source": [
    "#AssignmentPython3-FunctionsIntro\n",
    "Header = \"AssignmentPython3-FunctionsIntro\"\n",
    "print(Header + \"\\n\" + \"*\"*len(Header)+\"\\n\")"
   ]
  },
  {
   "cell_type": "code",
   "execution_count": 4,
   "metadata": {},
   "outputs": [
    {
     "name": "stdout",
     "output_type": "stream",
     "text": [
      "\n",
      "Task1: WAP to input 2 strings and swap the strings:\n",
      "----------------------------------------------------\n",
      "Enter First String: Jaideep\n",
      "Enter Second String: Singh\n",
      "Swapping\n",
      "String1 =  Singh\n",
      "String2 =  Jaideep\n"
     ]
    }
   ],
   "source": [
    "#Task1: WAP to input 2 strings and swap the strings\n",
    "Task = \"\\nTask1: WAP to input 2 strings and swap the strings:\"\n",
    "print(Task + \"\\n\" + \"-\"*len(Task))\n",
    "\n",
    "Str1 = input(\"Enter First String: \")\n",
    "Str2 = input(\"Enter Second String: \")\n",
    "\n",
    "print(\"Swapping\")\n",
    "Str1, Str2 = Str2, Str1\n",
    "print(\"String1 = \", Str1)\n",
    "print(\"String2 = \", Str2)"
   ]
  },
  {
   "cell_type": "code",
   "execution_count": 19,
   "metadata": {},
   "outputs": [
    {
     "name": "stdout",
     "output_type": "stream",
     "text": [
      "\n",
      "Task2: WAP to generate 4 random numbers in the range 0-26 and print their average:\n",
      "-----------------------------------------------------------------------------------\n",
      "Average of Random Numbers (22, 5, 5, 24) =  14.0\n"
     ]
    }
   ],
   "source": [
    "#Task2: WAP to generate 4 random numbers in the range 0-26 and print their average\n",
    "Task = \"\\nTask2: WAP to generate 4 random numbers in the range 0-26 and print their average:\"\n",
    "print(Task + \"\\n\" + \"-\"*len(Task))\n",
    "\n",
    "import random\n",
    "Num1 = random.randrange(0,26)\n",
    "Num2 = random.randrange(0,26)\n",
    "Num3 = random.randrange(0,26)\n",
    "Num4 = random.randrange(0,26)\n",
    "\n",
    "print(f\"Average of Random Numbers ({Num1}, {Num2}, {Num3}, {Num4}) = \", (Num1+Num2+Num3+Num4)/4)"
   ]
  },
  {
   "cell_type": "code",
   "execution_count": 27,
   "metadata": {},
   "outputs": [
    {
     "name": "stdout",
     "output_type": "stream",
     "text": [
      "\n",
      "Task3: WAP to generate and print a random uppercase or lowercase alphabet:\n",
      "---------------------------------------------------------------------------\n",
      "f\n"
     ]
    }
   ],
   "source": [
    "'''\n",
    "Task3: WAP to generate and print a random uppercase or lowercase alphabet. Try these:\n",
    "• Create a string containing all alphabets and then select a random alphabet.\n",
    "• Check the module string\n",
    "'''\n",
    "Task = \"\\nTask3: WAP to generate and print a random uppercase or lowercase alphabet:\"\n",
    "print(Task + \"\\n\" + \"-\"*len(Task))\n",
    "\n",
    "import random\n",
    "Str = \"ABCDEFGHIJKLMNOPQRSTUVWXYZabcdefghijklmnopqrstuvwxyz\"\n",
    "c = random.choice(Str)\n",
    "print(c)"
   ]
  },
  {
   "cell_type": "code",
   "execution_count": 30,
   "metadata": {},
   "outputs": [
    {
     "name": "stdout",
     "output_type": "stream",
     "text": [
      "\n",
      "Task4: WAF get_si() that takes Principle, Rate and Time as arguments and returns the Simple Interest.:\n",
      "-------------------------------------------------------------------------------------------------------\n",
      "Enter Principal Amount: 10000\n",
      "Enter Rate of Interest(/%) per year: 5\n",
      "Enter Time Period(years): 1\n",
      "Simple Interest: 500.0\n"
     ]
    }
   ],
   "source": [
    "'''\n",
    "Task4: WAF get_si() that takes Principle, Rate and Time as arguments and returns the Simple Interest.\n",
    "'''\n",
    "Task = \"\\nTask4: WAF get_si() that takes Principle, Rate and Time as arguments and returns the Simple Interest.:\"\n",
    "print(Task + \"\\n\" + \"-\"*len(Task))\n",
    "\n",
    "def get_si(P, R, t):\n",
    "    #Simple Interest (SI) = P((R/100)t)\n",
    "    return P * ((R/100)*t)\n",
    "\n",
    "P = int(input(\"Enter Principal Amount: \"))\n",
    "R = int(input(\"Enter Rate of Interest(/%) per year: \"))\n",
    "t = int(input(\"Enter Time Period(years): \"))\n",
    "\n",
    "print(\"Simple Interest:\", get_si(P, R, t))"
   ]
  },
  {
   "cell_type": "code",
   "execution_count": 36,
   "metadata": {},
   "outputs": [
    {
     "name": "stdout",
     "output_type": "stream",
     "text": [
      "\n",
      "Task5: WAF get_si() that takes Principle, Rate and Time as arguments and returns the Simple Interest.:\n",
      "-------------------------------------------------------------------------------------------------------\n",
      "Enter Principal Amount: 10000\n",
      "Enter Rate of Interest(/%) per year: 3\n",
      "Enter Time Period(years): 2\n",
      "Total Amount =  10600.0\n"
     ]
    }
   ],
   "source": [
    "'''\n",
    "Task5: WAF get_amount() that takes Principle, Rate and Time as arguments and returns the Total amount\n",
    "using the get_si() function from above to calculate the SI. Also provide Rate = 10 and Time = 1 as default arguments.\n",
    "'''\n",
    "Task = \"\\nTask5: WAF get_si() that takes Principle, Rate and Time as arguments and returns the Simple Interest.:\"\n",
    "print(Task + \"\\n\" + \"-\"*len(Task))\n",
    "\n",
    "def get_si(P, R=10, t=1):\n",
    "    #Simple Interest (SI) = P((R/100)t)\n",
    "    return P * ((R/100)*t)\n",
    "\n",
    "def get_amount(P, R=10, t=1):\n",
    "    return (P + get_si(P, R, t))\n",
    "\n",
    "P = int(input(\"Enter Principal Amount: \"))\n",
    "R = int(input(\"Enter Rate of Interest(/%) per year: \"))\n",
    "t = int(input(\"Enter Time Period(years): \"))\n",
    "\n",
    "print(\"Total Amount = \", get_amount(P, R, t))"
   ]
  },
  {
   "cell_type": "code",
   "execution_count": 41,
   "metadata": {},
   "outputs": [
    {
     "name": "stdout",
     "output_type": "stream",
     "text": [
      "\n",
      "Task6: WAP get_ci() that takes Principle, Rate and Time as arguments and returns the Compound Interest:\n",
      "--------------------------------------------------------------------------------------------------------\n",
      "Enter Principal Amount: 5000\n",
      "Enter Rate of Interest(/%) per year: 5\n",
      "Enter Time Period(years): 10\n",
      "Compound Interest =  3144.4731338872098\n"
     ]
    }
   ],
   "source": [
    "'''\n",
    "Task6: WAP get_ci() that takes Principle, Rate and Time as arguments and returns the Compound Interest.\n",
    "'''\n",
    "Task = \"\\nTask6: WAP get_ci() that takes Principle, Rate and Time as arguments and returns the Compound Interest:\"\n",
    "print(Task + \"\\n\" + \"-\"*len(Task))\n",
    "\n",
    "def get_ci(P, R, t):\n",
    "    #Total Accrued Amount (A)\n",
    "    A = P * pow(1+(R/100), t)\n",
    "    #Compound Interst\n",
    "    CI = A - P\n",
    "    return CI\n",
    "\n",
    "P = int(input(\"Enter Principal Amount: \"))\n",
    "R = int(input(\"Enter Rate of Interest(/%) per year: \"))\n",
    "t = int(input(\"Enter Time Period(years): \"))\n",
    "\n",
    "print(\"Compound Interest = \", get_ci(P, R, t))"
   ]
  },
  {
   "cell_type": "code",
   "execution_count": 58,
   "metadata": {},
   "outputs": [
    {
     "name": "stdout",
     "output_type": "stream",
     "text": [
      "\n",
      "Task7: WAP get_q_r() taking 2 numbers as parameters and returns the quotient and remainder in the form of a tuple:\n",
      "-------------------------------------------------------------------------------------------------------------------\n",
      "Enter Number1:5\n",
      "Enter Number2:2\n",
      "2\n",
      "1\n"
     ]
    },
    {
     "ename": "TypeError",
     "evalue": "list expected at most 1 argument, got 2",
     "output_type": "error",
     "traceback": [
      "\u001b[0;31m---------------------------------------------------------------------------\u001b[0m",
      "\u001b[0;31mTypeError\u001b[0m                                 Traceback (most recent call last)",
      "\u001b[0;32m<ipython-input-58-9c2fc89de442>\u001b[0m in \u001b[0;36m<module>\u001b[0;34m\u001b[0m\n\u001b[1;32m     16\u001b[0m \u001b[0mNum2\u001b[0m \u001b[0;34m=\u001b[0m \u001b[0mint\u001b[0m\u001b[0;34m(\u001b[0m\u001b[0minput\u001b[0m\u001b[0;34m(\u001b[0m\u001b[0;34m\"Enter Number2:\"\u001b[0m\u001b[0;34m)\u001b[0m\u001b[0;34m)\u001b[0m\u001b[0;34m\u001b[0m\u001b[0;34m\u001b[0m\u001b[0m\n\u001b[1;32m     17\u001b[0m \u001b[0;34m\u001b[0m\u001b[0m\n\u001b[0;32m---> 18\u001b[0;31m \u001b[0mprint\u001b[0m\u001b[0;34m(\u001b[0m\u001b[0mget_q_r\u001b[0m\u001b[0;34m(\u001b[0m\u001b[0mNum1\u001b[0m\u001b[0;34m,\u001b[0m \u001b[0mNum2\u001b[0m\u001b[0;34m)\u001b[0m\u001b[0;34m)\u001b[0m\u001b[0;34m\u001b[0m\u001b[0;34m\u001b[0m\u001b[0m\n\u001b[0m",
      "\u001b[0;32m<ipython-input-58-9c2fc89de442>\u001b[0m in \u001b[0;36mget_q_r\u001b[0;34m(Num1, Num2)\u001b[0m\n\u001b[1;32m     10\u001b[0m     \u001b[0mr\u001b[0m \u001b[0;34m=\u001b[0m \u001b[0;34m(\u001b[0m\u001b[0mNum1\u001b[0m\u001b[0;34m%\u001b[0m\u001b[0mNum2\u001b[0m\u001b[0;34m)\u001b[0m\u001b[0;34m\u001b[0m\u001b[0;34m\u001b[0m\u001b[0m\n\u001b[1;32m     11\u001b[0m     \u001b[0mprint\u001b[0m\u001b[0;34m(\u001b[0m\u001b[0mr\u001b[0m\u001b[0;34m)\u001b[0m\u001b[0;34m\u001b[0m\u001b[0;34m\u001b[0m\u001b[0m\n\u001b[0;32m---> 12\u001b[0;31m     \u001b[0mq_r_list\u001b[0m \u001b[0;34m=\u001b[0m \u001b[0mlist\u001b[0m\u001b[0;34m(\u001b[0m\u001b[0mq\u001b[0m\u001b[0;34m,\u001b[0m \u001b[0mr\u001b[0m\u001b[0;34m)\u001b[0m\u001b[0;34m\u001b[0m\u001b[0;34m\u001b[0m\u001b[0m\n\u001b[0m\u001b[1;32m     13\u001b[0m     \u001b[0;32mreturn\u001b[0m \u001b[0mtuple\u001b[0m\u001b[0;34m(\u001b[0m\u001b[0mq_r_list\u001b[0m\u001b[0;34m)\u001b[0m\u001b[0;34m\u001b[0m\u001b[0;34m\u001b[0m\u001b[0m\n\u001b[1;32m     14\u001b[0m \u001b[0;34m\u001b[0m\u001b[0m\n",
      "\u001b[0;31mTypeError\u001b[0m: list expected at most 1 argument, got 2"
     ]
    }
   ],
   "source": [
    "'''\n",
    "Task7: WAP get_q_r() taking 2 numbers as parameters and returns the quotient and remainder in the form of a tuple.\n",
    "'''\n",
    "Task = \"\\nTask7: WAP get_q_r() taking 2 numbers as parameters and returns the quotient and remainder in the form of a tuple:\"\n",
    "print(Task + \"\\n\" + \"-\"*len(Task))\n",
    "\n",
    "def get_q_r(Num1, Num2):\n",
    "    q = (Num1//Num2)\n",
    "    print(q)\n",
    "    r = (Num1%Num2)\n",
    "    print(r)\n",
    "    q_r_list = list(q, r)\n",
    "    return tuple(q_r_list)\n",
    "\n",
    "Num1 = int(input(\"Enter Number1:\"))\n",
    "Num2 = int(input(\"Enter Number2:\"))\n",
    "\n",
    "print(get_q_r(Num1, Num2))"
   ]
  },
  {
   "cell_type": "code",
   "execution_count": 26,
   "metadata": {},
   "outputs": [
    {
     "data": {
      "text/plain": [
       "'\\n4. WAF get_si() that takes Principle, Rate and Time as arguments and returns the Simple\\nInterest.\\n5. WAF get_amount() that takes Principle, Rate and Time as arguments and returns the\\nTotal amount using the get_si() function from above to calculate the SI. Also provide\\nRate = 10 and Time = 1 as default arguments.\\n6. WAP get_ci() that takes Principle, Rate and Time as arguments and returns the\\nCompound Interest.\\n7. WAP get_q_r() taking 2 numbers as parameters and returns the quotient and\\nremainder in the form of a tuple.\\n8. WAP to find the length of hypotenuse of a right angled triangle, input the height and\\nbase from user.\\n9. WAP to input number of seconds and print in days, hours, minutes and seconds\\nex: input = 10000\\nOutput = 0 day 2 hour 46 minute 40 second\\n10. Check your version of python interpreter without opening the interpreter (Which command needs to be used on the command line).\\n11. Find output:\\n Gaurav Gupta tuteur.py@gmail.com\\n12. Find output:\\n13. Read and complete till Part-3: (Part-4 After OOPs) https://medium.com/the-python-diary/getting-around-complex-numbers-77308982178d\\n'"
      ]
     },
     "execution_count": 26,
     "metadata": {},
     "output_type": "execute_result"
    }
   ],
   "source": [
    "'''\n",
    "7. WAP get_q_r() taking 2 numbers as parameters and returns the quotient and\n",
    "remainder in the form of a tuple.\n",
    "8. WAP to find the length of hypotenuse of a right angled triangle, input the height and\n",
    "base from user.\n",
    "9. WAP to input number of seconds and print in days, hours, minutes and seconds\n",
    "ex: input = 10000\n",
    "Output = 0 day 2 hour 46 minute 40 second\n",
    "10. Check your version of python interpreter without opening the interpreter (Which command needs to be used on the command line).\n",
    "11. Find output:\n",
    " Gaurav Gupta tuteur.py@gmail.com\n",
    "12. Find output:\n",
    "13. Read and complete till Part-3: (Part-4 After OOPs) https://medium.com/the-python-diary/getting-around-complex-numbers-77308982178d\n",
    "'''"
   ]
  },
  {
   "cell_type": "code",
   "execution_count": 45,
   "metadata": {},
   "outputs": [
    {
     "data": {
      "text/plain": [
       "['__add__',\n",
       " '__class__',\n",
       " '__contains__',\n",
       " '__delattr__',\n",
       " '__dir__',\n",
       " '__doc__',\n",
       " '__eq__',\n",
       " '__format__',\n",
       " '__ge__',\n",
       " '__getattribute__',\n",
       " '__getitem__',\n",
       " '__getnewargs__',\n",
       " '__gt__',\n",
       " '__hash__',\n",
       " '__init__',\n",
       " '__init_subclass__',\n",
       " '__iter__',\n",
       " '__le__',\n",
       " '__len__',\n",
       " '__lt__',\n",
       " '__mul__',\n",
       " '__ne__',\n",
       " '__new__',\n",
       " '__reduce__',\n",
       " '__reduce_ex__',\n",
       " '__repr__',\n",
       " '__rmul__',\n",
       " '__setattr__',\n",
       " '__sizeof__',\n",
       " '__str__',\n",
       " '__subclasshook__',\n",
       " 'count',\n",
       " 'index']"
      ]
     },
     "execution_count": 45,
     "metadata": {},
     "output_type": "execute_result"
    }
   ],
   "source": [
    "a = ()\n",
    "dir(a)"
   ]
  },
  {
   "cell_type": "code",
   "execution_count": null,
   "metadata": {},
   "outputs": [],
   "source": []
  }
 ],
 "metadata": {
  "kernelspec": {
   "display_name": "Python 3",
   "language": "python",
   "name": "python3"
  },
  "language_info": {
   "codemirror_mode": {
    "name": "ipython",
    "version": 3
   },
   "file_extension": ".py",
   "mimetype": "text/x-python",
   "name": "python",
   "nbconvert_exporter": "python",
   "pygments_lexer": "ipython3",
   "version": "3.8.3"
  }
 },
 "nbformat": 4,
 "nbformat_minor": 4
}
