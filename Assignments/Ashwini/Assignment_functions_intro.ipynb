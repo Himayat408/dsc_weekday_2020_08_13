{
 "cells": [
  {
   "cell_type": "code",
   "execution_count": 26,
   "metadata": {},
   "outputs": [
    {
     "name": "stdout",
     "output_type": "stream",
     "text": [
      "('sude', 'ashwini')\n"
     ]
    }
   ],
   "source": [
    "#1. WAP to input 2 strings and swap the strings\n",
    "def swapping(x,y):\n",
    "    temp=x\n",
    "    x=y\n",
    "    y=temp\n",
    "    return x,y\n",
    "    \n",
    "a=swapping(\"ashwini\",\"sude\")\n",
    "print(a)"
   ]
  },
  {
   "cell_type": "code",
   "execution_count": 25,
   "metadata": {},
   "outputs": [
    {
     "name": "stdout",
     "output_type": "stream",
     "text": [
      "12 2 11 12\n"
     ]
    },
    {
     "data": {
      "text/plain": [
       "9.25"
      ]
     },
     "execution_count": 25,
     "metadata": {},
     "output_type": "execute_result"
    }
   ],
   "source": [
    "#2. WAP to generate 4 random numbers in the range 0-26 and print their average\n",
    "import random\n",
    "def avrg(a,b,c,d):\n",
    "    s=(a+b+c+d)/4\n",
    "    return s\n",
    "a=random.randrange(0,26)\n",
    "b=random.randrange(0,26)\n",
    "c=random.randrange(0,26)\n",
    "d=random.randrange(0,26)\n",
    "\n",
    "print(a,b,c,d)\n",
    "avrg(a,b,c,d)\n"
   ]
  },
  {
   "cell_type": "code",
   "execution_count": 45,
   "metadata": {},
   "outputs": [
    {
     "name": "stdout",
     "output_type": "stream",
     "text": [
      "f\n"
     ]
    }
   ],
   "source": [
    "#3.WAP to generate and print a random uppercase or lowercase alphabet. Try these:\n",
    "#Create a string containing all alphabets and then select a random alphabet.\n",
    "#Check the module string\n",
    "\n",
    "    \n",
    "a=\"jdsbdfjksdjksdnjksdncsdjkcnqb\"\n",
    "c=random.randrange(0,28)\n",
    "print(a[c])\n"
   ]
  },
  {
   "cell_type": "code",
   "execution_count": 71,
   "metadata": {},
   "outputs": [
    {
     "name": "stdout",
     "output_type": "stream",
     "text": [
      "800.0\n"
     ]
    }
   ],
   "source": [
    "#4.WAF get_si() that takes Principle, Rate and Time as arguments and returns the Simple Interest.\n",
    "def get_si(P,R,T):\n",
    "    I=(P*R*T)/100\n",
    "    return I\n",
    "a=get_si(2000,20,2)\n",
    "print(a)"
   ]
  },
  {
   "cell_type": "code",
   "execution_count": 69,
   "metadata": {},
   "outputs": [
    {
     "name": "stdout",
     "output_type": "stream",
     "text": [
      "principle amount:2000\n",
      "2200.0\n"
     ]
    }
   ],
   "source": [
    "#5.WAF get_amount() that takes Principle, Rate and Time as arguments and returns the\n",
    "#Total amount using the get_si() function from above to calculate the SI. Also provide\n",
    "#Rate = 10 and Time = 1 as default arguments.\n",
    "def get_si(P,R,T):\n",
    "    I=(P*R*T)/100\n",
    "    return I\n",
    "    \n",
    "def get_amount(P,R,T):\n",
    "    a=get_si(P,R,T)\n",
    "    A=P+a\n",
    "    return A\n",
    "P=int(input(\"principle amount:\"))\n",
    "b=get_amount(P,10,1)\n",
    "print(b)\n",
    "\n"
   ]
  },
  {
   "cell_type": "code",
   "execution_count": 73,
   "metadata": {
    "scrolled": true
   },
   "outputs": [
    {
     "name": "stdout",
     "output_type": "stream",
     "text": [
      "440000\n"
     ]
    }
   ],
   "source": [
    "#6.WAP get_ci() that takes Principle, Rate and Time as arguments and returns the\n",
    "#Compound Interest.\n",
    "def get_ci(P,R,T):\n",
    "    CI=P*(1+R)**T-P\n",
    "    return CI\n",
    "a=get_ci(1000,20,2)\n",
    "print(a)"
   ]
  },
  {
   "cell_type": "code",
   "execution_count": 79,
   "metadata": {},
   "outputs": [
    {
     "name": "stdout",
     "output_type": "stream",
     "text": [
      "(4, 1)\n"
     ]
    }
   ],
   "source": [
    "#7.WAP get_q_r() taking 2 numbers as parameters and returns the quotient and\n",
    "#remainder in the form of a tuple.\n",
    "def get_q_r(a,b):\n",
    "    x=a/b\n",
    "    y=a%b\n",
    "    return(int(x),y)\n",
    "s=get_q_r(9,2)\n",
    "print(s)"
   ]
  },
  {
   "cell_type": "code",
   "execution_count": 82,
   "metadata": {},
   "outputs": [
    {
     "name": "stdout",
     "output_type": "stream",
     "text": [
      "4\n",
      "3\n",
      "5.0\n"
     ]
    }
   ],
   "source": [
    "#8. WAP to find the length of hypotenuse of a right angled triangle, input the height and\n",
    "#base from user.\n",
    "import math\n",
    "x=int(input())\n",
    "y=int(input())\n",
    "a=math.sqrt(x**2+y**2)\n",
    "print(a)"
   ]
  },
  {
   "cell_type": "code",
   "execution_count": 88,
   "metadata": {},
   "outputs": [
    {
     "name": "stdout",
     "output_type": "stream",
     "text": [
      "seconds:20000\n",
      "0 day 5 hour 33 minute 20 second\n"
     ]
    }
   ],
   "source": [
    "#9. WAP to input number of seconds and print in days, hours, minutes and seconds\n",
    "#ex: input = 10000\n",
    "#Output = 0 day 2 hour 46 minute 40 second\n",
    "s=int(input(\"seconds:\"))\n",
    "day=int(s/86400)\n",
    "hours=int(s/3600)\n",
    "minutes=int((s%3600)/60)\n",
    "seconds=s%60\n",
    "print(day,\"day\",hours,\"hour\",minutes,\"minute\",seconds,\"second\")"
   ]
  },
  {
   "cell_type": "code",
   "execution_count": null,
   "metadata": {},
   "outputs": [],
   "source": [
    "#10.Check your version of python interpreter without opening the interpreter (Which\n",
    "#command needs to be used on the command line).\n",
    "#python 3.8.3\n",
    "# python command is used"
   ]
  },
  {
   "cell_type": "code",
   "execution_count": 89,
   "metadata": {},
   "outputs": [
    {
     "name": "stdout",
     "output_type": "stream",
     "text": [
      "2 -2\n"
     ]
    }
   ],
   "source": [
    "#11. Find output:\n",
    "x=2\n",
    "x*=3\n",
    "x=x%4\n",
    "y=-x\n",
    "print(x,y)"
   ]
  },
  {
   "cell_type": "code",
   "execution_count": 90,
   "metadata": {},
   "outputs": [
    {
     "name": "stdout",
     "output_type": "stream",
     "text": [
      "None\n"
     ]
    }
   ],
   "source": [
    "#12. Find output:\n",
    "def funct():\n",
    "    pass\n",
    "print(funct())"
   ]
  }
 ],
 "metadata": {
  "kernelspec": {
   "display_name": "Python 3",
   "language": "python",
   "name": "python3"
  },
  "language_info": {
   "codemirror_mode": {
    "name": "ipython",
    "version": 3
   },
   "file_extension": ".py",
   "mimetype": "text/x-python",
   "name": "python",
   "nbconvert_exporter": "python",
   "pygments_lexer": "ipython3",
   "version": "3.8.3"
  }
 },
 "nbformat": 4,
 "nbformat_minor": 4
}
