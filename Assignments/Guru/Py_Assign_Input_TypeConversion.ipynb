{
 "cells": [
  {
   "cell_type": "code",
   "execution_count": 5,
   "metadata": {},
   "outputs": [
    {
     "name": "stdout",
     "output_type": "stream",
     "text": [
      "Enter the temp in Fahrenheit: 96\n",
      "Celcius of 96.0F 35.55555555555556\n"
     ]
    }
   ],
   "source": [
    "#1 Input Temp in Fahrenheit (F) and print in Celsius (C)\n",
    "#Formula (F - 32) * 5 / 9 = C\n",
    "fahrenheit = float(input('Enter the temp in Fahrenheit: '))\n",
    "celsius = (fahrenheit - 32)* 5 / 9 \n",
    "print(f'Celcius of {fahrenheit}F ' +str(celsius))"
   ]
  },
  {
   "cell_type": "code",
   "execution_count": 6,
   "metadata": {},
   "outputs": [
    {
     "name": "stdout",
     "output_type": "stream",
     "text": [
      "Enter a number: 5\n",
      "Square of 5 : 25\n",
      "Cube of 5 : 125\n"
     ]
    }
   ],
   "source": [
    "#2 WAP to input  a number and print its square and cube \n",
    "number = int(input('Enter a number: '))\n",
    "print(f'Square of {number} : ' +str(number**2))\n",
    "print(f'Cube of {number} : ' +str(number**3))"
   ]
  },
  {
   "cell_type": "code",
   "execution_count": 11,
   "metadata": {},
   "outputs": [
    {
     "name": "stdout",
     "output_type": "stream",
     "text": [
      "Enter a number n: 5\n",
      "Enter a number m: 10\n",
      " 5^2 + 10^2 = 125\n"
     ]
    }
   ],
   "source": [
    "#3 WAP to input a number n and a number m and print the result of following n^2 + m^2 \n",
    "n = int(input('Enter a number n: '))\n",
    "m = int(input('Enter a number m: '))\n",
    "print(f' {n}^2 + {m}^2 = ' +str(n**2 + m**2))"
   ]
  },
  {
   "cell_type": "code",
   "execution_count": 6,
   "metadata": {},
   "outputs": [
    {
     "name": "stdout",
     "output_type": "stream",
     "text": [
      "Enter a number M: 2\n",
      "Enter a number N: 5\n",
      " 2^5 using ** = 32\n",
      " 2^5 using pow = 32\n"
     ]
    }
   ],
   "source": [
    "#4 WAP to input a numbers M and N and print result of M^N ( use both ** and pow )\n",
    "M = int(input('Enter a number M: '))\n",
    "N = int(input('Enter a number N: '))\n",
    "print(f' {M}^{N} using ** = ' +str(M**N))\n",
    "print(f' {M}^{N} using pow = ' +str(pow(M,N)))"
   ]
  },
  {
   "cell_type": "code",
   "execution_count": 25,
   "metadata": {},
   "outputs": [
    {
     "name": "stdout",
     "output_type": "stream",
     "text": [
      "Enter Principal amount : 10000\n",
      "Enter interest % : 10\n",
      "Enter tenure period in years : 5\n",
      "Principal amount=10000 ; Interest Percentage=10.0 ; Tenure Period in years=5\n",
      "Final amount = 15000.0\n"
     ]
    }
   ],
   "source": [
    "#5 Write a simple interest calculator \n",
    "#Formula A = P(1 + rt) \n",
    "P = int(input('Enter Principal amount : '))\n",
    "int_perc = float(input('Enter interest % : '))\n",
    "r = interest_percentage / 100 \n",
    "t = int(input('Enter tenure period in years : '))\n",
    "print(f'Principal amount={P} ; Interest Percentage={int_perc} ; Tenure Period in years={t}')\n",
    "print(f'Final amount = ' +str(P*(1 + r*t)))"
   ]
  },
  {
   "cell_type": "code",
   "execution_count": 5,
   "metadata": {},
   "outputs": [
    {
     "name": "stdout",
     "output_type": "stream",
     "text": [
      "Enter Principal amount : 10000\n",
      "Enter interest % : 10\n",
      "Enter the number of times interest applied per time period: 12\n",
      "Enter tenure period in years : 5\n",
      "Principal amount=10000 ; Interest Percentage=10.0 ; Tenure Period in years=5\n",
      "Accrued Amount = 16453.089347785855, Interest = 6453.089347785855\n"
     ]
    }
   ],
   "source": [
    "#6 Input Principal, Rate, Time and print Compound Interest and Amount \n",
    "#Formula : A = P (1 + r/n)^(nt) \n",
    "# A = the future value of the investment/loan, including interest\n",
    "# P = the principal investment amount (the initial deposit or loan amount)\n",
    "# r = the annual interest rate (decimal)\n",
    "# n = the number of times that interest is compounded per unit t\n",
    "# t = the time the money is invested or borrowed for\n",
    "P = int(input('Enter Principal amount : '))\n",
    "int_perc = float(input('Enter interest % : '))\n",
    "r = int_perc / 100 \n",
    "n = int(input('Enter the number of times interest applied per time period: '))\n",
    "t = int(input('Enter tenure period in years : '))\n",
    "A = P*(1 + r/n)**(n*t)\n",
    "I = A - P\n",
    "print(f'Principal amount={P} ; Interest Percentage={int_perc} ; Tenure Period in years={t}')\n",
    "print(f'Accrued Amount = {A}, Interest = {I}')"
   ]
  },
  {
   "cell_type": "code",
   "execution_count": 10,
   "metadata": {},
   "outputs": [
    {
     "name": "stdout",
     "output_type": "stream",
     "text": [
      "Enter a whole positive number : 10\n",
      "Sum of 10 natural number : 55\n"
     ]
    }
   ],
   "source": [
    "#7 WAP to print sum of first n natural numbers ( n needs to  be taken as input)\n",
    "whole_num=int(input('Enter a whole positive number : '))\n",
    "num=whole_num\n",
    "sum=0\n",
    "if num <= 0:\n",
    "    print('Please Enter a whole positive number : ')\n",
    "else:\n",
    "    while num > 0:\n",
    "        sum += num\n",
    "        num = num - 1\n",
    "print(f'Sum of {whole_num} natural number : ' +str(sum))    "
   ]
  },
  {
   "cell_type": "code",
   "execution_count": 24,
   "metadata": {},
   "outputs": [
    {
     "name": "stdout",
     "output_type": "stream",
     "text": [
      "Enter a First number: 10\n",
      "Enter a Second number: 5\n",
      "10 and 5 are swaped as 5 and 10\n"
     ]
    }
   ],
   "source": [
    "#8 WAP to input 2 numbers and swap them ( write using both normal logic with temp variable and also pythonic way)\n",
    "num1 = int(input('Enter a First number: '))\n",
    "num2 = int(input('Enter a Second number: '))\n",
    "n1 = num1\n",
    "n2 = num2\n",
    "temp = num1\n",
    "num1 = num2\n",
    "num2 = temp\n",
    "print(f'{n1} and {n2} are swaped as {num1} and {num2}')"
   ]
  },
  {
   "cell_type": "code",
   "execution_count": 29,
   "metadata": {},
   "outputs": [
    {
     "name": "stdout",
     "output_type": "stream",
     "text": [
      "['Formatter', 'Template', '_ChainMap', '_TemplateMetaclass', '__all__', '__builtins__', '__cached__', '__doc__', '__file__', '__loader__', '__name__', '__package__', '__spec__', '_re', '_string', 'ascii_letters', 'ascii_lowercase', 'ascii_uppercase', 'capwords', 'digits', 'hexdigits', 'octdigits', 'printable', 'punctuation', 'whitespace']\n",
      "ASCII characters of \n",
      "' \\t\\n\\r\\x0b\\x0c'\n",
      "32\n",
      "9\n",
      "10\n",
      "13\n",
      "11\n",
      "12\n"
     ]
    }
   ],
   "source": [
    "#9 WAP to print ascii value of all white-space characters present in python\n",
    "import string\n",
    "print(dir(string))\n",
    "print(\"ASCII characters of \")\n",
    "print(repr(string.whitespace))\n",
    "for i in string.whitespace:\n",
    "    print(ord(i),sep=',')"
   ]
  },
  {
   "cell_type": "code",
   "execution_count": 35,
   "metadata": {},
   "outputs": [
    {
     "name": "stdout",
     "output_type": "stream",
     "text": [
      "Enter a characer : A\n",
      "ascii characer of A : 65\n"
     ]
    }
   ],
   "source": [
    "#10 Input a single character and print its ascii values\n",
    "s1=input('Enter a characer : ')\n",
    "print(f'ascii characer of {s1} : ' +str(ord(s1)))"
   ]
  },
  {
   "cell_type": "code",
   "execution_count": 41,
   "metadata": {},
   "outputs": [
    {
     "name": "stdout",
     "output_type": "stream",
     "text": [
      "Enter area of circle : 100\n",
      "radius :  5.640760748177662  circumference :  35.456210417116736\n"
     ]
    }
   ],
   "source": [
    "#11 WAP that takes area of circle and gives back the radius and circumference\n",
    "import math\n",
    "area = float(input('Enter area of circle : '))\n",
    "radius = math.sqrt(area/22*7)\n",
    "circumference = 2 * 22/7 * radius\n",
    "print(\"radius : \" , radius ,\" circumference : \", circumference)"
   ]
  },
  {
   "cell_type": "code",
   "execution_count": 56,
   "metadata": {},
   "outputs": [
    {
     "name": "stdout",
     "output_type": "stream",
     "text": [
      "Enter the number of subjects : 5\n",
      "Enter the marks : 50\n",
      "Enter the marks : 60\n",
      "Enter the marks : 70\n",
      "Enter the marks : 80\n",
      "Enter the marks : 90\n",
      "Total Marks =   350\n",
      "Average Marks =  70.0\n"
     ]
    }
   ],
   "source": [
    "#12 We need to input marks in 5 subjects out of 100 and print percentage \n",
    "num_subj=int(input(\"Enter the number of subjects : \"))\n",
    "sum = 0\n",
    "tot_subj = num_subj\n",
    "while num_subj > 0:\n",
    "    #print(num_subj)\n",
    "    marks=int(input('Enter the marks : '))\n",
    "    sum += marks\n",
    "    num_subj = num_subj - 1\n",
    "\n",
    "print(\"Total Marks =  \", sum)\n",
    "print(\"Average Marks = \", sum / tot_subj)\n",
    "    "
   ]
  }
 ],
 "metadata": {
  "kernelspec": {
   "display_name": "Python 3",
   "language": "python",
   "name": "python3"
  },
  "language_info": {
   "codemirror_mode": {
    "name": "ipython",
    "version": 3
   },
   "file_extension": ".py",
   "mimetype": "text/x-python",
   "name": "python",
   "nbconvert_exporter": "python",
   "pygments_lexer": "ipython3",
   "version": "3.6.3"
  }
 },
 "nbformat": 4,
 "nbformat_minor": 2
}
