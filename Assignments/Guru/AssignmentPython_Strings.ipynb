{
 "cells": [
  {
   "cell_type": "code",
   "execution_count": 8,
   "metadata": {},
   "outputs": [
    {
     "name": "stdout",
     "output_type": "stream",
     "text": [
      "1 d\n",
      "2 detneirO tcejbO si nohtyP\n",
      "3 Python is Object Oriente\n",
      "4 '' \n",
      "5 'on is ' on is \n"
     ]
    }
   ],
   "source": [
    "#1 - Guess the output of each slice\n",
    "s='Python is Object Oriented'\n",
    "#  012345678910..\n",
    "#1. s[-1] prints d\n",
    "print(1, s[-1])\n",
    "#2. s[::-1] reverses the string s\n",
    "print(2, s[::-1])\n",
    "#3. s[:-1] prints entire string but exclusing the last character \n",
    "print(3, s[:-1])\n",
    "#4. s[1:1] prints empty string?\n",
    "print(4, repr(s[1:1]), s[1:1])\n",
    "#5 s[4:10] prints from 4th position to 9th position \n",
    "print(5, repr(s[4:10]), s[4:10])"
   ]
  },
  {
   "cell_type": "code",
   "execution_count": 9,
   "metadata": {},
   "outputs": [
    {
     "ename": "IndexError",
     "evalue": "string index out of range",
     "output_type": "error",
     "traceback": [
      "\u001b[1;31m---------------------------------------------------------------------------\u001b[0m",
      "\u001b[1;31mIndexError\u001b[0m                                Traceback (most recent call last)",
      "\u001b[1;32m<ipython-input-9-a167741fd3b0>\u001b[0m in \u001b[0;36m<module>\u001b[1;34m()\u001b[0m\n\u001b[0;32m      1\u001b[0m \u001b[1;31m#2 what error do you see for the following statements :\u001b[0m\u001b[1;33m\u001b[0m\u001b[1;33m\u001b[0m\u001b[0m\n\u001b[0;32m      2\u001b[0m \u001b[0ms\u001b[0m\u001b[1;33m=\u001b[0m\u001b[1;34m''\u001b[0m\u001b[1;33m\u001b[0m\u001b[0m\n\u001b[1;32m----> 3\u001b[1;33m \u001b[0mprint\u001b[0m\u001b[1;33m(\u001b[0m\u001b[0ms\u001b[0m\u001b[1;33m[\u001b[0m\u001b[1;36m1\u001b[0m\u001b[1;33m]\u001b[0m\u001b[1;33m)\u001b[0m\u001b[1;33m\u001b[0m\u001b[0m\n\u001b[0m",
      "\u001b[1;31mIndexError\u001b[0m: string index out of range"
     ]
    }
   ],
   "source": [
    "#2 what error do you see for the following statements :\n",
    "s=''\n",
    "print(s[1]) # IndexError: string index out of range "
   ]
  },
  {
   "cell_type": "code",
   "execution_count": 10,
   "metadata": {},
   "outputs": [
    {
     "ename": "IndexError",
     "evalue": "string index out of range",
     "output_type": "error",
     "traceback": [
      "\u001b[1;31m---------------------------------------------------------------------------\u001b[0m",
      "\u001b[1;31mIndexError\u001b[0m                                Traceback (most recent call last)",
      "\u001b[1;32m<ipython-input-10-f79c5bc89922>\u001b[0m in \u001b[0;36m<module>\u001b[1;34m()\u001b[0m\n\u001b[0;32m      1\u001b[0m \u001b[1;31m#3 Do you get any error for the following code, if not give the output\u001b[0m\u001b[1;33m\u001b[0m\u001b[1;33m\u001b[0m\u001b[0m\n\u001b[0;32m      2\u001b[0m \u001b[0mS\u001b[0m \u001b[1;33m=\u001b[0m \u001b[1;34m'Gaurav'\u001b[0m\u001b[1;33m\u001b[0m\u001b[0m\n\u001b[1;32m----> 3\u001b[1;33m \u001b[0mprint\u001b[0m\u001b[1;33m(\u001b[0m\u001b[0ms\u001b[0m\u001b[1;33m[\u001b[0m\u001b[1;36m1\u001b[0m\u001b[1;33m]\u001b[0m\u001b[1;33m)\u001b[0m \u001b[1;31m# string s not defined\u001b[0m\u001b[1;33m\u001b[0m\u001b[0m\n\u001b[0m",
      "\u001b[1;31mIndexError\u001b[0m: string index out of range"
     ]
    }
   ],
   "source": [
    "#3 Do you get any error for the following code, if not give the output \n",
    "S = 'Gaurav'\n",
    "print(s[1]) # string s not defined and index error "
   ]
  },
  {
   "cell_type": "code",
   "execution_count": 21,
   "metadata": {},
   "outputs": [
    {
     "name": "stdout",
     "output_type": "stream",
     "text": [
      "Help on method_descriptor:\n",
      "\n",
      "split(...)\n",
      "    S.split(sep=None, maxsplit=-1) -> list of strings\n",
      "    \n",
      "    Return a list of the words in S, using sep as the\n",
      "    delimiter string.  If maxsplit is given, at most maxsplit\n",
      "    splits are done. If sep is not specified or is None, any\n",
      "    whitespace string is a separator and empty strings are\n",
      "    removed from the result.\n",
      "\n",
      "Help on method_descriptor:\n",
      "\n",
      "join(...)\n",
      "    S.join(iterable) -> str\n",
      "    \n",
      "    Return a string which is the concatenation of the strings in the\n",
      "    iterable.  The separator between elements is S.\n",
      "\n"
     ]
    }
   ],
   "source": [
    "help(str.split)\n",
    "help(str.join)"
   ]
  },
  {
   "cell_type": "code",
   "execution_count": 30,
   "metadata": {},
   "outputs": [
    {
     "name": "stdout",
     "output_type": "stream",
     "text": [
      "------ output of a ------\n",
      "6\n",
      "abc\n",
      "3\n",
      "------ output of b ------\n",
      "['a#b#c#d#'] <class 'list'> 1\n",
      "a#b#c#d#\n",
      "['a', 'b', 'c', 'd', ''] 5\n",
      "a$b$c$d$\n",
      "------ output of c ------\n",
      "av\n",
      "------ output of d ------\n",
      "False\n",
      "------ output of e ------\n",
      "0,1,2\n",
      "------ output of f ------\n",
      "ABCBA 3244987920992\n",
      "abcba 3244987127208\n",
      "0,0,0,"
     ]
    }
   ],
   "source": [
    "#4 find output of the following\n",
    "#a \n",
    "print(\"------ output of a ------\")\n",
    "s = 'a b cd'\n",
    "print(len(s))  # 6\n",
    "print(s[::2])  # abc\n",
    "print(len(s[::2])) # 3\n",
    "#b\n",
    "print(\"------ output of b ------\")\n",
    "s = 'a#b#c#d#'\n",
    "print(s.split(), type(s.split()), len(s.split()))  # s.split returns a list of words in string \n",
    "print(s)       # string with length 1 \n",
    "l = s.split('#')  # \n",
    "print(l , len(l))\n",
    "s = '$'.join(l)  # returns a string with a $ separator between elements. \n",
    "print(s)\n",
    "#c\n",
    "print(\"------ output of c ------\")\n",
    "S = 'Gaurav'\n",
    "#    012345\n",
    "#    654321\n",
    "S = S[::-2][::-2]   # S[::-2] returns alternate letters in reverse  i.e vra\n",
    "print(S)            # S[::-2][::-2] returns alternate letters from s[::-2]  from vra => av \n",
    "#d\n",
    "print(\"------ output of d ------\")\n",
    "print(1>2)        # returns boolean value : True / False\n",
    "#e\n",
    "print(\"------ output of e ------\")\n",
    "print(4%2, 5%2, 2%5, sep=',')  # prints remainder values with separator ','\n",
    "#f\n",
    "print(\"------ output of f ------\")\n",
    "s = 'abcba'\n",
    "#    01234\n",
    "print(s.upper(),id(s.upper())) #s.upper() returns uppercase of string s, doesn't overwrite s.\n",
    "print(s , id(s))\n",
    "print(s.count('A'),end=',')\n",
    "print(s.count('A',2,4),end=',')\n",
    "print(s.count('a',2,4),end=',')"
   ]
  },
  {
   "cell_type": "code",
   "execution_count": 38,
   "metadata": {},
   "outputs": [
    {
     "name": "stdout",
     "output_type": "stream",
     "text": [
      "Enter a string input with spaces : how are you?\n",
      "['how', 'are', 'you?'] <class 'list'>\n",
      "howareyou? <class 'str'>\n"
     ]
    }
   ],
   "source": [
    "#5 - WAP to input a string and remove all spaces from it. \n",
    "s1 = input('Enter a string input with spaces : ')\n",
    "print(s1.split(), type(s1.split()))              # \n",
    "print(''.join(s1.split()), type(''.join(s1.split())))"
   ]
  },
  {
   "cell_type": "code",
   "execution_count": 39,
   "metadata": {},
   "outputs": [
    {
     "data": {
      "text/plain": [
       "list"
      ]
     },
     "execution_count": 39,
     "metadata": {},
     "output_type": "execute_result"
    }
   ],
   "source": [
    "#6 - what does [] symbol denote?\n",
    "lst = []      # [] denotes list \n",
    "type(lst)"
   ]
  },
  {
   "cell_type": "code",
   "execution_count": 40,
   "metadata": {},
   "outputs": [
    {
     "name": "stdout",
     "output_type": "stream",
     "text": [
      "['__add__', '__class__', '__contains__', '__delattr__', '__dir__', '__doc__', '__eq__', '__format__', '__ge__', '__getattribute__', '__getitem__', '__getnewargs__', '__gt__', '__hash__', '__init__', '__init_subclass__', '__iter__', '__le__', '__len__', '__lt__', '__mod__', '__mul__', '__ne__', '__new__', '__reduce__', '__reduce_ex__', '__repr__', '__rmod__', '__rmul__', '__setattr__', '__sizeof__', '__str__', '__subclasshook__', 'capitalize', 'casefold', 'center', 'count', 'encode', 'endswith', 'expandtabs', 'find', 'format', 'format_map', 'index', 'isalnum', 'isalpha', 'isdecimal', 'isdigit', 'isidentifier', 'islower', 'isnumeric', 'isprintable', 'isspace', 'istitle', 'isupper', 'join', 'ljust', 'lower', 'lstrip', 'maketrans', 'partition', 'replace', 'rfind', 'rindex', 'rjust', 'rpartition', 'rsplit', 'rstrip', 'split', 'splitlines', 'startswith', 'strip', 'swapcase', 'title', 'translate', 'upper', 'zfill']\n"
     ]
    }
   ],
   "source": [
    "#7 WAP to print all methods( functions/operations ) available in a string (hint: dir())\n",
    "print(dir(str))"
   ]
  },
  {
   "cell_type": "code",
   "execution_count": 61,
   "metadata": {},
   "outputs": [
    {
     "name": "stdout",
     "output_type": "stream",
     "text": [
      "Help on method_descriptor:\n",
      "\n",
      "find(...)\n",
      "    S.find(sub[, start[, end]]) -> int\n",
      "    \n",
      "    Return the lowest index in S where substring sub is found,\n",
      "    such that sub is contained within S[start:end].  Optional\n",
      "    arguments start and end are interpreted as in slice notation.\n",
      "    \n",
      "    Return -1 on failure.\n",
      "\n",
      "enter a method of str class : rstrip\n",
      "......using find function....... \n",
      "rstrip is available in str class\n",
      "......using in....... \n",
      "rstrip is available in str class\n"
     ]
    }
   ],
   "source": [
    "#8 Write statement to check if rstrip method is available in the str class. Hint: use the find function or in \n",
    "help(str.find)\n",
    "lst1=dir(str)\n",
    "s1=(\",\".join(dir(str)))\n",
    "substr = input('enter a method of str class : ')\n",
    "print('......using find function....... ')\n",
    "if s1.find(substr) != -1:\n",
    "    print(substr ,'is available in str class')\n",
    "else:\n",
    "    print(substr , 'is not available in str class')\n",
    "\n",
    "print('......using in....... ')\n",
    "if (substr in s1):\n",
    "    print(substr ,'is available in str class')\n",
    "else:\n",
    "    print(substr , 'is not available in str class')"
   ]
  },
  {
   "cell_type": "code",
   "execution_count": 76,
   "metadata": {},
   "outputs": [
    {
     "name": "stdout",
     "output_type": "stream",
     "text": [
      "\n",
      "*****\n",
      "  *\n",
      "  *\n",
      "  *  \n",
      "*     *\n",
      "* * * *\n",
      "*  *  * \n",
      "*     * \n",
      " \n",
      "  ______ \n",
      "   |    |\n",
      "   o    |\n",
      "  /|\\   |\n",
      "  / \\   |\n",
      "________|\n",
      "        \n",
      "\n"
     ]
    }
   ],
   "source": [
    "#9 WAP to store the following patterns in the string variable and then print them\n",
    "#pattern\n",
    "p1 = ('''\n",
    "*****\n",
    "  *\n",
    "  *\n",
    "  * ''')\n",
    "p2 = ('''\n",
    "*     *\n",
    "* * * *\n",
    "*  *  * \n",
    "*     * \n",
    "''')\n",
    "p3 = ('''\n",
    "  ______ \n",
    "   |    |\n",
    "   o    |\n",
    "  /|\\   |\n",
    "  / \\   |\n",
    "________|\n",
    "        \n",
    "''')\n",
    "print(p1, p2, p3)"
   ]
  },
  {
   "cell_type": "code",
   "execution_count": 79,
   "metadata": {},
   "outputs": [
    {
     "name": "stdout",
     "output_type": "stream",
     "text": [
      "Help on method_descriptor:\n",
      "\n",
      "replace(...)\n",
      "    S.replace(old, new[, count]) -> str\n",
      "    \n",
      "    Return a copy of S with all occurrences of substring\n",
      "    old replaced by new.  If the optional argument count is\n",
      "    given, only the first count occurrences are replaced.\n",
      "\n",
      "Enter a string : how are you?\n",
      "how\n",
      "are\n",
      "you?\n"
     ]
    }
   ],
   "source": [
    "#10 WAP to input a string and replace all space with new lines (\\n) and print again \n",
    "help(str.replace)\n",
    "s1 = input(\"Enter a string : \")\n",
    "print(s1.replace(\" \",\"\\n\"))"
   ]
  },
  {
   "cell_type": "code",
   "execution_count": 3,
   "metadata": {},
   "outputs": [
    {
     "name": "stdout",
     "output_type": "stream",
     "text": [
      "Help on method_descriptor:\n",
      "\n",
      "replace(...)\n",
      "    S.replace(old, new[, count]) -> str\n",
      "    \n",
      "    Return a copy of S with all occurrences of substring\n",
      "    old replaced by new.  If the optional argument count is\n",
      "    given, only the first count occurrences are replaced.\n",
      "\n",
      "Enter your first name <space> last name  : Gurubalan Thangpandian\n",
      "9 GURUBALAN\n",
      "12 THANGPANDIAN\n"
     ]
    }
   ],
   "source": [
    "#11 WAP to input complete name (first and last name separted by space) and print first and last\n",
    "#name separately along with their length in upper case\n",
    "help(str.replace)\n",
    "s1 = input(\"Enter your first name <space> last name  : \")\n",
    "s1 = s1.upper()\n",
    "s2 = s1.split()\n",
    "for i in s2:\n",
    "    print(len(i), i)"
   ]
  },
  {
   "cell_type": "code",
   "execution_count": 22,
   "metadata": {},
   "outputs": [
    {
     "name": "stdout",
     "output_type": "stream",
     "text": [
      "Enter your first name <space> last name  : String\n",
      "Str ing\n"
     ]
    }
   ],
   "source": [
    "#12 WAP to input a string and split it into 2 halves. The string can be of any length.\n",
    "#a\n",
    "s = input(\"Enter your first name <space> last name  : \")\n",
    "\n",
    "if len(s)%2 == 0:\n",
    "    l=len(s)/2\n",
    "    s1 = s[:int(len(s)/2)]\n",
    "    s2 = s[int(len(s)/2):]\n",
    "else:\n",
    "    l=len(s)/2\n",
    "    s1 = s[:int(len(s)/2)]\n",
    "    s2 = s[int(len(s)/2+1):]\n",
    "print(s1, s2)"
   ]
  },
  {
   "cell_type": "code",
   "execution_count": 23,
   "metadata": {},
   "outputs": [
    {
     "name": "stdout",
     "output_type": "stream",
     "text": [
      "Enter your first name <space> last name  : words\n",
      "wo ds\n"
     ]
    }
   ],
   "source": [
    "#12 WAP to input a string and split it into 2 halves. The string can be of any length.\n",
    "#b\n",
    "s = input(\"Enter your first name <space> last name  : \")\n",
    "\n",
    "if len(s)%2 == 0:\n",
    "    l=len(s)/2\n",
    "    s1 = s[:int(len(s)/2)]\n",
    "    s2 = s[int(len(s)/2):]\n",
    "else:\n",
    "    l=len(s)/2\n",
    "    s1 = s[:int(len(s)/2)]\n",
    "    s2 = s[int(len(s)/2+1):]\n",
    "print(s1, s2)"
   ]
  }
 ],
 "metadata": {
  "kernelspec": {
   "display_name": "Python 3",
   "language": "python",
   "name": "python3"
  },
  "language_info": {
   "codemirror_mode": {
    "name": "ipython",
    "version": 3
   },
   "file_extension": ".py",
   "mimetype": "text/x-python",
   "name": "python",
   "nbconvert_exporter": "python",
   "pygments_lexer": "ipython3",
   "version": "3.6.3"
  }
 },
 "nbformat": 4,
 "nbformat_minor": 2
}
