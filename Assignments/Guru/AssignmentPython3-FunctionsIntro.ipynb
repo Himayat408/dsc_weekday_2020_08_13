{
 "cells": [
  {
   "cell_type": "code",
   "execution_count": 1,
   "metadata": {},
   "outputs": [
    {
     "name": "stdout",
     "output_type": "stream",
     "text": [
      "enter string 1: hello\n",
      "enter string 2: guru\n",
      "The string hello and guru are swaped:  ('guru', 'hello')\n"
     ]
    }
   ],
   "source": [
    "#1 WAP to input 2 strings and swap the string.\n",
    "def swap_str(s1, s2):\n",
    "    temp = s1\n",
    "    s1 = s2\n",
    "    return s1, temp\n",
    "\n",
    "s1 = input(\"enter string 1: \")\n",
    "s2 = input('enter string 2: ')\n",
    "\n",
    "print('The string', s1 ,'and', s2 , 'are swaped: ', swap_str(s1, s2))"
   ]
  },
  {
   "cell_type": "code",
   "execution_count": 49,
   "metadata": {},
   "outputs": [
    {
     "name": "stdout",
     "output_type": "stream",
     "text": [
      "['BPF', 'LOG4', 'NV_MAGICCONST', 'RECIP_BPF', 'Random', 'SG_MAGICCONST', 'SystemRandom', 'TWOPI', '_BuiltinMethodType', '_MethodType', '_Sequence', '_Set', '__all__', '__builtins__', '__cached__', '__doc__', '__file__', '__loader__', '__name__', '__package__', '__spec__', '_acos', '_bisect', '_ceil', '_cos', '_e', '_exp', '_inst', '_itertools', '_log', '_pi', '_random', '_sha512', '_sin', '_sqrt', '_test', '_test_generator', '_urandom', '_warn', 'betavariate', 'choice', 'choices', 'expovariate', 'gammavariate', 'gauss', 'getrandbits', 'getstate', 'lognormvariate', 'normalvariate', 'paretovariate', 'randint', 'random', 'randrange', 'sample', 'seed', 'setstate', 'shuffle', 'triangular', 'uniform', 'vonmisesvariate', 'weibullvariate']\n",
      "Help on method sample in module random:\n",
      "\n",
      "sample(population, k) method of random.Random instance\n",
      "    Chooses k unique random elements from a population sequence or set.\n",
      "    \n",
      "    Returns a new list containing elements from the population while\n",
      "    leaving the original population unchanged.  The resulting list is\n",
      "    in selection order so that all sub-slices will also be valid random\n",
      "    samples.  This allows raffle winners (the sample) to be partitioned\n",
      "    into grand prize and second place winners (the subslices).\n",
      "    \n",
      "    Members of the population need not be hashable or unique.  If the\n",
      "    population contains repeats, then each occurrence is a possible\n",
      "    selection in the sample.\n",
      "    \n",
      "    To choose a sample in a range of integers, use range as an argument.\n",
      "    This is especially fast and space efficient for sampling from a\n",
      "    large population:   sample(range(10000000), 60)\n",
      "\n",
      "[24, 14, 20, 3]\n",
      "Average of 4 Random Numbers : 15.25\n"
     ]
    }
   ],
   "source": [
    "#2 WAP to generate 4 random numbers in the range 0-26 and print their avarage \n",
    "from random import sample\n",
    "print(dir(random))\n",
    "help(sample)\n",
    "def avg_ran(r, c):\n",
    "    rand_num=sample(range(r),c)\n",
    "    print(rand_num)\n",
    "    total = sum(rand_num)\n",
    "    return total / c\n",
    "\n",
    "print(\"Average of 4 Random Numbers :\", avg_ran(26,4))"
   ]
  },
  {
   "cell_type": "code",
   "execution_count": 62,
   "metadata": {},
   "outputs": [
    {
     "name": "stdout",
     "output_type": "stream",
     "text": [
      "1 ['Formatter', 'Template', '_ChainMap', '_TemplateMetaclass', '__all__', '__builtins__', '__cached__', '__doc__', '__file__', '__loader__', '__name__', '__package__', '__spec__', '_re', '_string', 'ascii_letters', 'ascii_lowercase', 'ascii_uppercase', 'capwords', 'digits', 'hexdigits', 'octdigits', 'printable', 'punctuation', 'whitespace']\n",
      "2 ['BPF', 'LOG4', 'NV_MAGICCONST', 'RECIP_BPF', 'Random', 'SG_MAGICCONST', 'SystemRandom', 'TWOPI', '_BuiltinMethodType', '_MethodType', '_Sequence', '_Set', '__all__', '__builtins__', '__cached__', '__doc__', '__file__', '__loader__', '__name__', '__package__', '__spec__', '_acos', '_bisect', '_ceil', '_cos', '_e', '_exp', '_inst', '_itertools', '_log', '_pi', '_random', '_sha512', '_sin', '_sqrt', '_test', '_test_generator', '_urandom', '_warn', 'betavariate', 'choice', 'choices', 'expovariate', 'gammavariate', 'gauss', 'getrandbits', 'getstate', 'lognormvariate', 'normalvariate', 'paretovariate', 'randint', 'random', 'randrange', 'sample', 'seed', 'setstate', 'shuffle', 'triangular', 'uniform', 'vonmisesvariate', 'weibullvariate']\n",
      "Help on method choice in module random:\n",
      "\n",
      "choice(seq) method of random.Random instance\n",
      "    Choose a random element from a non-empty sequence.\n",
      "\n",
      "Help on method choices in module random:\n",
      "\n",
      "choices(population, weights=None, *, cum_weights=None, k=1) method of random.Random instance\n",
      "    Return a k sized list of population elements chosen with replacement.\n",
      "    \n",
      "    If the relative weights or cumulative weights are not specified,\n",
      "    the selections are made with equal probability.\n",
      "\n",
      "3 abcdefghijklmnopqrstuvwxyzABCDEFGHIJKLMNOPQRSTUVWXYZ\n",
      "4 R\n"
     ]
    }
   ],
   "source": [
    "#3 WAP to generate  and print  a random uppercase or lowercase alphabet \n",
    "# try these: create a string containing all alphabets and then select a random alphabet \n",
    "# check the module string.\n",
    "import string \n",
    "import random\n",
    "print(1, dir(string))\n",
    "print(2, dir(random))\n",
    "help(random.choice)\n",
    "help(random.choices)\n",
    "print(3, string.ascii_letters)  # prints all alphabets (lower and upper)\n",
    "s1 = string.ascii_letters\n",
    "print(4, random.choice(s1))     # print a random uppercase or lowercase alphabet "
   ]
  },
  {
   "cell_type": "code",
   "execution_count": 4,
   "metadata": {},
   "outputs": [
    {
     "name": "stdout",
     "output_type": "stream",
     "text": [
      "Enter Principal amount : 10000\n",
      "Enter interest % : 10\n",
      "Enter tenure period in years : 5\n",
      "Principal amount=10000 ; Interest Percentage=10.0 ; Tenure Period in years=5\n",
      "Interest amount =  5000.0\n"
     ]
    }
   ],
   "source": [
    "# 4 WAF get_si() that takes Principal, Rate and Time as arguments and returns the Simple Interest \n",
    "def get_si(p,r,t):\n",
    "    r = r / 100 \n",
    "    return p*r*t\n",
    "\n",
    "P = int(input('Enter Principal amount : '))\n",
    "r = float(input('Enter interest % : '))\n",
    "t = int(input('Enter tenure period in years : '))\n",
    "print(f'Principal amount={P} ; Interest Percentage={r} ; Tenure Period in years={t}')\n",
    "print('Interest amount = ', get_si(P,r,t))"
   ]
  },
  {
   "cell_type": "code",
   "execution_count": 76,
   "metadata": {},
   "outputs": [
    {
     "name": "stdout",
     "output_type": "stream",
     "text": [
      "1 Final amount =  15000.0\n",
      "2 Final amount =  11000.0\n",
      "3 Final amount =  12000.0\n"
     ]
    }
   ],
   "source": [
    "# 5 - WAF get_amount() that takes Principal, Rate and Time as arguments and returns the total amount\n",
    "# using get_si function from above to calculate the SI, also provide rate = 10, and time = 1 as default \n",
    "def get_si(p,r=10,t=1):\n",
    "    r = int_perc / 100 \n",
    "    return p*(1 + r*t)\n",
    "\n",
    "#P = int(input('Enter Principal amount : '))\n",
    "#r = float(input('Enter interest % : '))\n",
    "#t = int(input('Enter tenure period in years : '))\n",
    "#print(f'Principal amount={P} ; Interest Percentage={int_perc} ; Tenure Period in years={t}')\n",
    "print(1, 'Final amount = ', get_si(p=10000,r=20,t=5))\n",
    "print(2, 'Final amount = ', get_si(p=10000))\n",
    "print(3, 'Final amount = ', get_si(p=10000,t=2))"
   ]
  },
  {
   "cell_type": "code",
   "execution_count": 80,
   "metadata": {},
   "outputs": [
    {
     "name": "stdout",
     "output_type": "stream",
     "text": [
      "Enter Principal amount : 10000\n",
      "Enter interest % : 10\n",
      "Enter tenure period in years : 5\n",
      "Principal amount=10000 ; Interest Percentage=10.0 ; Tenure Period in years=5\n",
      "Accrued Amount 6453.089347785855\n"
     ]
    }
   ],
   "source": [
    "#6 Input Principal, Rate, Time and print Compound Interest \n",
    "#Formula : A = P (1 + r/n)^(nt) \n",
    "# A = the future value of the investment/loan, including interest\n",
    "# P = the principal investment amount (the initial deposit or loan amount)\n",
    "# r = the annual interest rate (decimal)\n",
    "# n = the number of times that interest is compounded per unit t\n",
    "# t = the time the money is invested or borrowed for\n",
    "def get_ci(p,I,t):\n",
    "    r = I / 100 \n",
    "    #n = 12\n",
    "    return (P*(1 + r/n)**(n*t)) - p\n",
    "\n",
    "P = int(input('Enter Principal amount : '))\n",
    "int_perc = float(input('Enter interest % : '))\n",
    "n = 12 # the number of times interest applied per time period\n",
    "#n = int(input('Enter the number of times interest applied per time period: '))\n",
    "t = int(input('Enter tenure period in years : '))\n",
    "A = P*(1 + r/n)**(n*t)\n",
    "I = A - P\n",
    "print(f'Principal amount={P} ; Interest Percentage={int_perc} ; Tenure Period in years={t}')\n",
    "print(\"Accrued Amount\" , get_ci(P, int_perc, t))"
   ]
  },
  {
   "cell_type": "code",
   "execution_count": 5,
   "metadata": {},
   "outputs": [
    {
     "name": "stdout",
     "output_type": "stream",
     "text": [
      "Help on built-in function divmod in module builtins:\n",
      "\n",
      "divmod(x, y, /)\n",
      "    Return the tuple (x//y, x%y).  Invariant: div*y + mod == x.\n",
      "\n",
      "Enter a number 1: 10\n",
      "Enter a number 2: 3\n",
      "Quotient and Remainder of 10 and 3 =  (3, 1)\n"
     ]
    }
   ],
   "source": [
    "#7 WAP get_q_r() taking 2 numbers as parameters and returns the quotient and remainder in the form of tuple \n",
    "help(divmod)\n",
    "def get_q_r(x, y):\n",
    "    return (x//y, x%y)\n",
    "\n",
    "n1 = int(input(\"Enter a number 1: \"))\n",
    "n2 = int(input(\"Enter a number 2: \"))\n",
    "\n",
    "#print(\"quotient and remainder of \", n1, \"and\", n2 , get_q_r(n1, n2))\n",
    "\n",
    "print(\"Quotient and Remainder of\", n1,\"and\", n2, \"= \", get_q_r(n1, n2))"
   ]
  },
  {
   "cell_type": "code",
   "execution_count": 1,
   "metadata": {},
   "outputs": [
    {
     "name": "stdout",
     "output_type": "stream",
     "text": [
      "enter height of right angled traiangle: 10\n",
      "enter base of right angled traiangle: 5\n",
      "Length of Hypotenuse of Right Triangle with height 10.0 and base 5.0 =  11.180339887498949\n"
     ]
    }
   ],
   "source": [
    "#8 WAP to find the length of hypotenuse of a right angled traiangle, input the height and base from the user\n",
    "from math import sqrt\n",
    "def hyp_len(h,b):\n",
    "    return sqrt(pow(h,2)+pow(b,2))\n",
    "\n",
    "height=float(input(\"enter height of right angled traiangle: \"))\n",
    "base=float(input(\"enter base of right angled traiangle: \"))\n",
    "\n",
    "print('Length of Hypotenuse of Right Triangle with height', height, 'and base', base ,\"= \", hyp_len(height,base))"
   ]
  },
  {
   "cell_type": "code",
   "execution_count": 14,
   "metadata": {},
   "outputs": [
    {
     "name": "stdout",
     "output_type": "stream",
     "text": [
      "Enter number of seconds: 10000\n",
      "10000 has 0 days, 2 hours, 46 minutes , 40 seconds\n"
     ]
    }
   ],
   "source": [
    "#9 WAP to input number of seconds and print in days, hours, minutes and secods \n",
    "# ex. input = 10000 \n",
    "# output = 0 day 2 hour 46 minute 40 second \n",
    "sec = int(input(\"Enter number of seconds: \"))\n",
    "day = sec // (24 * 3600)\n",
    "#remain_time = sec % (24 * 3600)\n",
    "hour = (sec % (24 * 3600)) // 3600\n",
    "#remain_time %= 3600\n",
    "#min = remain_time // 60\n",
    "min = (sec % (24 * 3600)%3600) // 60\n",
    "#remain_time %= 60\n",
    "seconds = (sec % (24 * 3600)%3600)%60\n",
    "print(f'{sec} has {day} days, {hour} hours, {min} minutes , {seconds} seconds' )"
   ]
  },
  {
   "cell_type": "code",
   "execution_count": 25,
   "metadata": {
    "collapsed": true
   },
   "outputs": [],
   "source": [
    "#10 Check your version of python interpreter without opening the interpreter (which command)\n",
    "#needs to used on the command line ) \n",
    "#python -V\n",
    "# C:\\Users\\>python -V\n",
    "# Python 3.8.3"
   ]
  },
  {
   "cell_type": "code",
   "execution_count": 26,
   "metadata": {},
   "outputs": [
    {
     "name": "stdout",
     "output_type": "stream",
     "text": [
      "2 -2\n"
     ]
    }
   ],
   "source": [
    "#11  Find output\n",
    "X = 2\n",
    "X *= 3   # X = X * 3 = 2 * 3 = 6\n",
    "X = X%4  # X = 6%4 = 2\n",
    "Y = - X  # Y = - 2 \n",
    "print( X, Y)"
   ]
  },
  {
   "cell_type": "code",
   "execution_count": 27,
   "metadata": {},
   "outputs": [
    {
     "name": "stdout",
     "output_type": "stream",
     "text": [
      "None\n"
     ]
    }
   ],
   "source": [
    "# 12 Find output\n",
    "def funct():\n",
    "    pass\n",
    "\n",
    "print(funct())  # function funct() returns None "
   ]
  }
 ],
 "metadata": {
  "kernelspec": {
   "display_name": "Python 3",
   "language": "python",
   "name": "python3"
  },
  "language_info": {
   "codemirror_mode": {
    "name": "ipython",
    "version": 3
   },
   "file_extension": ".py",
   "mimetype": "text/x-python",
   "name": "python",
   "nbconvert_exporter": "python",
   "pygments_lexer": "ipython3",
   "version": "3.6.3"
  }
 },
 "nbformat": 4,
 "nbformat_minor": 2
}
