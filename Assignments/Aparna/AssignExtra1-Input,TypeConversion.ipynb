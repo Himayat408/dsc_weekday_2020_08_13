{
 "cells": [
  {
   "cell_type": "code",
   "execution_count": 8,
   "metadata": {},
   "outputs": [
    {
     "name": "stdout",
     "output_type": "stream",
     "text": [
      "Enter temperature in Fahrenhiet :56\n",
      "Temperature in Celsius 56.0 F :13.333333333333334\n"
     ]
    }
   ],
   "source": [
    "#1. Input temperature in Fahrenheit in print in Celsius. \n",
    "a=float(input(\"Enter temperature in Fahrenhiet :\"))\n",
    "b=(a-32)*(5/9)\n",
    "print(f\"Temperature in Celsius {a} F :\" + str(b))"
   ]
  },
  {
   "cell_type": "code",
   "execution_count": 14,
   "metadata": {},
   "outputs": [
    {
     "name": "stdout",
     "output_type": "stream",
     "text": [
      "Enter a number :56\n",
      "Sqaure of a number 56.0 :3136.0\n",
      "Cube of a number 56.0 :175616.0\n"
     ]
    }
   ],
   "source": [
    "#Write a program to input a number and print its square and cube. \n",
    "c=float(input(\"Enter a number :\"))\n",
    "print(f\"Sqaure of a number {c} :\" +str(pow(c,2)))\n",
    "print(f\"Cube of a number {c} :\" +str(pow(c,3)))"
   ]
  },
  {
   "cell_type": "code",
   "execution_count": 15,
   "metadata": {},
   "outputs": [
    {
     "name": "stdout",
     "output_type": "stream",
     "text": [
      "Enter a number m :5\n",
      "Enter a number n :6\n",
      "sum of the sqaures of 5.0 & 6.0  :61.0\n"
     ]
    }
   ],
   "source": [
    "#WAP to input a number n and a number m and print the result of following:\n",
    "m=float(input(\"Enter a number m :\"))\n",
    "n=float(input(\"Enter a number n :\"))\n",
    "print(f\"sum of the sqaures of {m} & {n}  :\" +str(pow(m,2)+pow(n,2)))"
   ]
  },
  {
   "cell_type": "code",
   "execution_count": 18,
   "metadata": {
    "scrolled": true
   },
   "outputs": [
    {
     "name": "stdout",
     "output_type": "stream",
     "text": [
      "Enter a number m :2\n",
      "Enter a number n :3\n",
      "m to the power n using pow  :8.0\n",
      "m to the power n using **  :8.0\n"
     ]
    }
   ],
   "source": [
    "#WAP to input a numbers M and N and print result of MN. (use both ** and pow)\n",
    "m=float(input(\"Enter a number m :\"))\n",
    "n=float(input(\"Enter a number n :\"))\n",
    "print(f\"m to the power n using pow  :\" +str(pow(m,n)))\n",
    "print(f\"m to the power n using **  :\" +str(m**n))"
   ]
  },
  {
   "cell_type": "code",
   "execution_count": 19,
   "metadata": {},
   "outputs": [
    {
     "name": "stdout",
     "output_type": "stream",
     "text": [
      "Enter a principal :100\n",
      "Enter a rate :20\n",
      "Enter a time :5\n",
      "The simple interest :100.0\n"
     ]
    }
   ],
   "source": [
    "#Write a simple interest calculator. \n",
    "p=float(input(\"Enter a principal :\"))\n",
    "r=float(input(\"Enter a rate :\"))\n",
    "t=float(input(\"Enter a time :\"))\n",
    "print(\"The simple interest :\" +str((p*r*t)/100))\n"
   ]
  },
  {
   "cell_type": "code",
   "execution_count": 20,
   "metadata": {},
   "outputs": [
    {
     "name": "stdout",
     "output_type": "stream",
     "text": [
      "Enter a principal :100\n",
      "Enter a rate :10\n",
      "Enter a time :5\n",
      "The Compound Interest : 161.05100000000004\n",
      "The amount  :61.051000000000045\n"
     ]
    }
   ],
   "source": [
    "#Input Principal, Rate, Time and print Compound Interest and Amount. \n",
    "p=float(input(\"Enter a principal :\"))\n",
    "r=float(input(\"Enter a rate :\"))\n",
    "t=float(input(\"Enter a time :\"))\n",
    "amt=p*(1+r/100)**t\n",
    "print(\"The Compound Interest : \"  +str(amt))\n",
    "print(\"The amount  :\" +str(amt-p))"
   ]
  },
  {
   "cell_type": "code",
   "execution_count": 22,
   "metadata": {},
   "outputs": [
    {
     "name": "stdout",
     "output_type": "stream",
     "text": [
      "Enter a number n :4\n",
      "The sum of 4.0 (natural numbers 10.0\n"
     ]
    }
   ],
   "source": [
    "#WAP to print sum of first n natural numbers.\n",
    "n=float(input(\"Enter a number n :\"))\n",
    "print(f\"The sum of {n} (natural numbers \" +str((n+n**2)/2))"
   ]
  },
  {
   "cell_type": "code",
   "execution_count": 24,
   "metadata": {},
   "outputs": [
    {
     "name": "stdout",
     "output_type": "stream",
     "text": [
      "Enter a number m :14\n",
      "Enter a number n :13\n",
      "The value of m : 13\n",
      "The value of n : 14\n"
     ]
    }
   ],
   "source": [
    "#WAP to input 2 numbers and swap them. (write using both normal logic with temp variable and also the pythonic way). \n",
    "m=int(input(\"Enter a number m :\"))\n",
    "n=int(input(\"Enter a number n :\"))\n",
    "m=m+n\n",
    "n=m-n\n",
    "m=m-n\n",
    "print(\"The value of m : \" +str(m))\n",
    "print(\"The value of n : \" +str(n))\n"
   ]
  },
  {
   "cell_type": "code",
   "execution_count": 25,
   "metadata": {},
   "outputs": [
    {
     "name": "stdout",
     "output_type": "stream",
     "text": [
      "The ASCII value of ' ' is 32\n",
      "The ASCII value of '\\ t' is 9\n",
      "The ASCII value of '\\ r' is 13\n",
      "The ASCII value of '\\ n' is 10\n",
      "The ASCII value of '\\ v' is 11\n",
      "The ASCII value of ' \\ f' is 12\n"
     ]
    }
   ],
   "source": [
    "#WAP to print ascii value of all white-space characters present in python. \n",
    "c = ' '\n",
    "d='\\t'\n",
    "e='\\r'\n",
    "f='\\n'\n",
    "g='\\v'\n",
    "h='\\f'\n",
    "print(\"The ASCII value of '\" + c + \"' is\", ord(c))\n",
    "print(\"The ASCII value of '\" + \"\\ t\" + \"' is\", ord(d))\n",
    "print(\"The ASCII value of '\" + \"\\ r\" + \"' is\", ord(e))\n",
    "print(\"The ASCII value of '\" +\"\\ n\" + \"' is\", ord(f))\n",
    "print(\"The ASCII value of '\" +\"\\ v\" + \"' is\", ord(g))\n",
    "print(\"The ASCII value of '\" +\" \\ f\" + \"' is\", ord(h))"
   ]
  },
  {
   "cell_type": "code",
   "execution_count": 26,
   "metadata": {},
   "outputs": [
    {
     "name": "stdout",
     "output_type": "stream",
     "text": [
      "The ASCII value of 'p' is 112\n"
     ]
    }
   ],
   "source": [
    "#Input a single character and print its ascii values.\n",
    "c = 'p'\n",
    "print(\"The ASCII value of '\" + c + \"' is\", ord(c))"
   ]
  },
  {
   "cell_type": "code",
   "execution_count": 31,
   "metadata": {
    "scrolled": true
   },
   "outputs": [
    {
     "name": "stdout",
     "output_type": "stream",
     "text": [
      "Enter the area of the circle :44\n",
      "radius of the circle 3.7416573867739413\n",
      "circumferance of the circle 23.518989288293344\n"
     ]
    }
   ],
   "source": [
    "#WAP that takes area of a circle and gives back the radius and circumference. \n",
    "area=float(input(\"Enter the area of the circle :\"))\n",
    "r=pow((area*7)/22 , 0.5)\n",
    "print(\"radius of the circle \" +str (r))\n",
    "print(\"circumferance of the circle \" +str((2*22*r)/7))"
   ]
  },
  {
   "cell_type": "code",
   "execution_count": 39,
   "metadata": {},
   "outputs": [
    {
     "name": "stdout",
     "output_type": "stream",
     "text": [
      "Enter a mark of subject 1 :45\n",
      "Enter a mark of subject 2 :56\n",
      "Enter a mark of subject 3 :89\n",
      "Enter a mark of subject 4 :45\n",
      "Enter a mark of subject 5 :98\n",
      "Percentage :66.6%\n"
     ]
    }
   ],
   "source": [
    "#We need to input marks in 5 subjects out of 100 and print percentage.\n",
    "a=float(input(\"Enter a mark of subject 1 :\"))\n",
    "b=float(input(\"Enter a mark of subject 2 :\"))\n",
    "c=float(input(\"Enter a mark of subject 3 :\"))\n",
    "d=float(input(\"Enter a mark of subject 4 :\"))\n",
    "e=float(input(\"Enter a mark of subject 5 :\"))\n",
    "print(\"Percentage :\" +str((a+b+c+d+e)/5) + \"%\")"
   ]
  }
 ],
 "metadata": {
  "kernelspec": {
   "display_name": "Python 3",
   "language": "python",
   "name": "python3"
  },
  "language_info": {
   "codemirror_mode": {
    "name": "ipython",
    "version": 3
   },
   "file_extension": ".py",
   "mimetype": "text/x-python",
   "name": "python",
   "nbconvert_exporter": "python",
   "pygments_lexer": "ipython3",
   "version": "3.8.3"
  }
 },
 "nbformat": 4,
 "nbformat_minor": 4
}
