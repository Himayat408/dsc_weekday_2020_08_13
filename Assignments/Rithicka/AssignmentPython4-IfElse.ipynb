{
 "cells": [
  {
   "cell_type": "code",
   "execution_count": 1,
   "metadata": {},
   "outputs": [
    {
     "name": "stdout",
     "output_type": "stream",
     "text": [
      "enter the first number: 10\n",
      "enter the second number: 2\n",
      "True\n"
     ]
    }
   ],
   "source": [
    "n1=int(input(\"enter the first number: \"))\n",
    "n2=int(input(\"enter the second number: \"))\n",
    "if(n1%n2==0):\n",
    "    print(\"True\")\n",
    "else:\n",
    "    print(\"False\")"
   ]
  },
  {
   "cell_type": "code",
   "execution_count": 4,
   "metadata": {},
   "outputs": [
    {
     "name": "stdout",
     "output_type": "stream",
     "text": [
      "Enter the string: Naan\n",
      "its a palindrome\n"
     ]
    }
   ],
   "source": [
    "s=input(\"Enter the string: \")\n",
    "s=s.upper()\n",
    "s1=s[::-1]\n",
    "if(s==s1):\n",
    "    print(\"its a palindrome\")\n",
    "else:\n",
    "    print(\"not a palindrome\")"
   ]
  },
  {
   "cell_type": "code",
   "execution_count": 7,
   "metadata": {},
   "outputs": [
    {
     "name": "stdout",
     "output_type": "stream",
     "text": [
      "Enter the first side: 10\n",
      "Enter the first side: 1\n",
      "Enter the first side: 2\n",
      "its an scalene triangle\n"
     ]
    }
   ],
   "source": [
    "s1=int(input(\"Enter the first side: \"))\n",
    "s2=int(input(\"Enter the first side: \"))\n",
    "s3=int(input(\"Enter the first side: \"))\n",
    "if(s1==s2 and s1==s3 and s2==s3):\n",
    "    print(\"its an equilateral triangle\")\n",
    "elif(s1==s2 or s1==s3 or s2==s3):\n",
    "    print(\"its an isosceles triangle\")\n",
    "else:\n",
    "    print(\"its an scalene triangle\")\n",
    "\n",
    "\n"
   ]
  },
  {
   "cell_type": "code",
   "execution_count": 8,
   "metadata": {},
   "outputs": [
    {
     "name": "stdout",
     "output_type": "stream",
     "text": [
      "Enter the number: 35678\n",
      "Its an even number\n"
     ]
    }
   ],
   "source": [
    "s1=int(input(\"Enter the number: \"))\n",
    "if(s1%2==0):\n",
    "    print(\"Its an even number\")\n",
    "else:\n",
    "    print(\"Its an odd number\")"
   ]
  },
  {
   "cell_type": "code",
   "execution_count": 12,
   "metadata": {},
   "outputs": [
    {
     "name": "stdout",
     "output_type": "stream",
     "text": [
      "enter the age: 66\n",
      "Adult\n"
     ]
    }
   ],
   "source": [
    "age = int(input(\"enter the age: \"))\n",
    "if (0<=age<=12):\n",
    "    print(\"Child\")\n",
    "elif (13<=age<=17):\n",
    "    print(\"Teen\")\n",
    "elif (18<=age<=150):\n",
    "    print(\"Adult\")\n",
    "elif (51<=age<=100):\n",
    "    print(\"senior citizen\")\n",
    "elif (age>100):\n",
    "    print(\"Contratulations\")\n",
    "    "
   ]
  },
  {
   "cell_type": "code",
   "execution_count": 23,
   "metadata": {},
   "outputs": [
    {
     "name": "stdout",
     "output_type": "stream",
     "text": [
      "enter the year: 2000\n",
      " its a leap year \n"
     ]
    }
   ],
   "source": [
    "year=input(\"enter the year: \")\n",
    "if(len(year)==4 and int(year)>0):\n",
    "    year=int(year)\n",
    "    if(year%4==0):\n",
    "        if(year%100==0):\n",
    "            if(year%400==0):\n",
    "                print(\" its a leap year \")\n",
    "    else:\n",
    "        print(\"Not a leap year\")\n",
    "else:\n",
    "    print(\"Please enter a non negative and 4 digit year\")"
   ]
  },
  {
   "cell_type": "code",
   "execution_count": 24,
   "metadata": {},
   "outputs": [
    {
     "name": "stdout",
     "output_type": "stream",
     "text": [
      "enter the string: rithicka\n",
      "RITHICKA\n"
     ]
    }
   ],
   "source": [
    "str=input(\"enter the string: \")\n",
    "if(len(str)%2==0):\n",
    "    str=str.upper()\n",
    "    print(str)\n",
    "else:\n",
    "    str=str.lower()\n",
    "    print(str)"
   ]
  },
  {
   "cell_type": "code",
   "execution_count": 27,
   "metadata": {},
   "outputs": [
    {
     "name": "stdout",
     "output_type": "stream",
     "text": [
      "enter the string: chickeneggmutton\n",
      "non-veg\n"
     ]
    }
   ],
   "source": [
    "str=input(\"enter the string: \")\n",
    "str=str.upper()\n",
    "if(\"EGG\" in str):\n",
    "    print(\"non-veg\")\n",
    "else:\n",
    "    print(\"veg\")"
   ]
  },
  {
   "cell_type": "code",
   "execution_count": 36,
   "metadata": {},
   "outputs": [
    {
     "name": "stdout",
     "output_type": "stream",
     "text": [
      "true\n",
      "Weird!!\n",
      "False\n",
      "[4, 3, 2, 1]\n"
     ]
    }
   ],
   "source": [
    "if not 1:\n",
    "    print(\"False\")\n",
    "else:\n",
    "    print(\"true\")\n",
    "    \n",
    "if 'a'>'A':\n",
    "    print('Weird!!')\n",
    "else:\n",
    "    print('Makes sense')\n",
    "    \n",
    "if 1:                           #what it means?? Yes, 1 is treated as true, so the block after if (1) is always executed.\n",
    "                                #The number 0, the strings '0' and \"\" , the empty list () , \n",
    "                                #and undef are all false in a boolean context. All other values are true.\n",
    "    print(\"True\")\n",
    "else:\n",
    "    print(\"False\")\n",
    "    \n",
    "a=[1,2,3,4]\n",
    "if 1>1:\n",
    "    a=a[::-1]\n",
    "else:\n",
    "    a=a[-1::-1]\n",
    "print(a)"
   ]
  },
  {
   "cell_type": "code",
   "execution_count": 37,
   "metadata": {},
   "outputs": [
    {
     "name": "stdout",
     "output_type": "stream",
     "text": [
      "enter the mark of 1st subject out of 100:67\n",
      "enter the mark of 2nd subject out of 100:80\n",
      "enter the mark of 3rd subject out of 100:54\n",
      "enter the mark of 4th subject out of 100:12\n",
      "enter the mark of 5th subject out of 100:43\n",
      "Grade F\n"
     ]
    }
   ],
   "source": [
    "first = int(input('enter the mark of 1st subject out of 100:'))\n",
    "second = int(input('enter the mark of 2nd subject out of 100:'))\n",
    "third = int(input('enter the mark of 3rd subject out of 100:'))\n",
    "fourth = int(input('enter the mark of 4th subject out of 100:'))\n",
    "fifth = int(input('enter the mark of 5th subject out of 100:'))\n",
    "percen = (first+second+third+fourth+fifth)/5\n",
    "\n",
    "if(90<=percen<=100):\n",
    "    print(\"Grade A\")\n",
    "elif(80<=percen<=89):\n",
    "    print(\"Grade B\")\n",
    "elif(60<=percen<=79):\n",
    "    print(\"Grade C\")\n",
    "elif(percen<60):\n",
    "    print(\"Grade F\")"
   ]
  },
  {
   "cell_type": "code",
   "execution_count": 39,
   "metadata": {},
   "outputs": [
    {
     "name": "stdout",
     "output_type": "stream",
     "text": [
      "enter the age: 25\n",
      "enter the salary: 200000\n",
      "Tax is 0%\n"
     ]
    }
   ],
   "source": [
    "age = int(input(\"enter the age: \"))\n",
    "salary = int(input(\"enter the salary: \"))\n",
    "if(0<=salary<=250000):\n",
    "    if(age<60):\n",
    "        print(\"Tax is 0%\")\n",
    "    elif(age>=60):\n",
    "        print(\"Tax is 0%\")\n",
    "elif(250001<=salary<=500000):\n",
    "    if(age<60):\n",
    "        print(\"Tax is 5%\")\n",
    "    elif(age>=60):\n",
    "        print(\"Tax is 3%\")\n",
    "elif(500001<=salary<=1000000):\n",
    "    if(age<60):\n",
    "        print(\"Tax is 10%\")\n",
    "    elif(age>=60):\n",
    "        print(\"Tax is 8%\")\n",
    "elif(salary<=1000001):\n",
    "    if(age<60):\n",
    "        print(\"Tax is 15%\")\n",
    "    elif(age>=60):\n",
    "        print(\"Tax is 12%\")"
   ]
  },
  {
   "cell_type": "code",
   "execution_count": 42,
   "metadata": {},
   "outputs": [
    {
     "name": "stdout",
     "output_type": "stream",
     "text": [
      "10\n",
      "10\n",
      "10\n",
      "OMG\n"
     ]
    }
   ],
   "source": [
    "print(20 if not 1==1 else 10)\n",
    "print(30 if not 1==1 else 20 if 'a' < 'A' else 10)\n",
    "print(40 if not 1==1 else 30 if 'a' < 'A' else 20 if '' else 10)\n",
    "print('No' if not 1==1 else ('No' if 'a'<'A' else ('OMG' if 'oh!!' else 'No')))"
   ]
  },
  {
   "cell_type": "code",
   "execution_count": 44,
   "metadata": {},
   "outputs": [
    {
     "name": "stdout",
     "output_type": "stream",
     "text": [
      "enter the weight in kgs: 92.5\n",
      "enter the height in cms: 167.6\n",
      "Moderately obese\n"
     ]
    }
   ],
   "source": [
    "#BMI = weight (kg) / [height (m)]2\n",
    "def bmi(w,h):\n",
    "    b=w/(h**2)\n",
    "    return b\n",
    "\n",
    "w=float(input(\"enter the weight in kgs: \"))\n",
    "h=float(input(\"enter the height in cms: \"))\n",
    "h=h/100\n",
    "\n",
    "if(0<=bmi(w,h)<=15):\n",
    "    print(\"Very severely underweight\")\n",
    "elif(15<bmi(w,h)<=16):\n",
    "    print(\"Severely underweight\")\n",
    "9elif(16<bmi(w,h)<=18.5):\n",
    "    print(\"Underweight\")\n",
    "elif(18.5<bmi(w,h)<=25):\n",
    "    print(\"Healthy\")\n",
    "elif(25<bmi(w,h)<=30):\n",
    "    print(\"Overweight\")\n",
    "elif(30<bmi(w,h)<=35):\n",
    "    print(\"Moderately obese\")\n",
    "elif(35<bmi(w,h)<=40):\n",
    "    print(\"Severely obese\")\n",
    "elif(bmi(w,h)<=45):\n",
    "    print(\"Very severely obese\")\n",
    "\n"
   ]
  },
  {
   "cell_type": "code",
   "execution_count": 49,
   "metadata": {},
   "outputs": [
    {
     "name": "stdout",
     "output_type": "stream",
     "text": [
      "enter the age of first person: 7\n",
      "enter the age of second person: 8\n",
      "enter the age of third person: 9\n",
      "A3 is the oldest\n",
      "A1 is the youngest\n"
     ]
    }
   ],
   "source": [
    "a1= int(input(\"enter the age of first person: \"))\n",
    "a2= int(input(\"enter the age of second person: \"))\n",
    "a3= int(input(\"enter the age of third person: \"))\n",
    "if(a1>a2 and a1>a3):\n",
    "    print(\"A1 is the oldest\")\n",
    "    if(a2>a3):\n",
    "        print(\"A3 is the youngest\")\n",
    "    else:\n",
    "        print(\"A2 is the youngest\")\n",
    "elif(a2>a1 and a2>a3):\n",
    "    print(\"A2 is the oldest\")\n",
    "    if(a1>a3):\n",
    "        print(\"A3 is the youngest\")\n",
    "    else:\n",
    "        print(\"A1 is the youngest\")\n",
    "elif(a3>a1 and a3>a2):\n",
    "    print(\"A3 is the oldest\")\n",
    "    if(a2>a1):\n",
    "        print(\"A1 is the youngest\")\n",
    "    else:\n",
    "        print(\"A2 is the youngest\")\n",
    "    \n"
   ]
  },
  {
   "cell_type": "code",
   "execution_count": 51,
   "metadata": {},
   "outputs": [
    {
     "name": "stdout",
     "output_type": "stream",
     "text": [
      "enter a number: 35\n",
      "Divisible\n"
     ]
    }
   ],
   "source": [
    "n=int(input(\"enter a number: \"))\n",
    "if(n%5==0 and n%7==0):\n",
    "    print(\"Divisible\")\n",
    "else:\n",
    "    print(\"Not Divisible\")"
   ]
  },
  {
   "cell_type": "code",
   "execution_count": null,
   "metadata": {},
   "outputs": [],
   "source": []
  }
 ],
 "metadata": {
  "kernelspec": {
   "display_name": "Python 3",
   "language": "python",
   "name": "python3"
  },
  "language_info": {
   "codemirror_mode": {
    "name": "ipython",
    "version": 3
   },
   "file_extension": ".py",
   "mimetype": "text/x-python",
   "name": "python",
   "nbconvert_exporter": "python",
   "pygments_lexer": "ipython3",
   "version": "3.7.1"
  }
 },
 "nbformat": 4,
 "nbformat_minor": 2
}
