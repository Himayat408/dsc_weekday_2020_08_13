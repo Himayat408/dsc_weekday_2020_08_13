{
 "cells": [
  {
   "cell_type": "code",
   "execution_count": 1,
   "metadata": {},
   "outputs": [
    {
     "name": "stdout",
     "output_type": "stream",
     "text": [
      "enter the first string: rithicka\n",
      "enter the second string: yogeeswaran\n",
      "first string after swapping:  yogeeswaran\n",
      "second string after swapping:  rithicka\n"
     ]
    }
   ],
   "source": [
    "#input 2strings and swap them\n",
    "s1=input(\"enter the first string: \")\n",
    "s2=input(\"enter the second string: \")\n",
    "temp=s1\n",
    "s1=s2\n",
    "s2=temp\n",
    "print(\"first string after swapping: \", s1)\n",
    "print(\"second string after swapping: \", s2)"
   ]
  },
  {
   "cell_type": "code",
   "execution_count": 5,
   "metadata": {},
   "outputs": [
    {
     "name": "stdout",
     "output_type": "stream",
     "text": [
      "10.75\n"
     ]
    }
   ],
   "source": [
    "#generate 4random numbers in range 0-26 and print their average\n",
    "import random\n",
    "s1=random.randrange(26)\n",
    "s2=random.randrange(26)\n",
    "s3=random.randrange(26)\n",
    "s4=random.randrange(26)\n",
    "s5=(s1+s2+s3+s4)/4\n",
    "print(s5)"
   ]
  },
  {
   "cell_type": "code",
   "execution_count": 10,
   "metadata": {},
   "outputs": [
    {
     "name": "stdout",
     "output_type": "stream",
     "text": [
      "S\n"
     ]
    }
   ],
   "source": [
    "input='abcdefghijklmnopqrstuvwxyzABCDEFGHIJKLMNOPQRSTUVWXYZ'\n",
    "print(input[(random.randrange(len(input)))])"
   ]
  },
  {
   "cell_type": "code",
   "execution_count": 2,
   "metadata": {},
   "outputs": [
    {
     "name": "stdout",
     "output_type": "stream",
     "text": [
      "enter the Priciple amount: 1000\n",
      "enter the rate of interest: 10\n",
      "enter the no.of years: 1\n",
      "Simple interest: 10000\n"
     ]
    }
   ],
   "source": [
    " \n",
    "def get_si(p,r,t):\n",
    "    a=p*(1+(r*t))\n",
    "    si=a-p\n",
    "    return si\n",
    "p = int(input(\"enter the Priciple amount: \"))\n",
    "r = int(input('enter the rate of interest: '))\n",
    "t = int(input('enter the no.of years: '))\n",
    "print(\"Simple interest:\", get_si(p,r,t))"
   ]
  },
  {
   "cell_type": "code",
   "execution_count": 4,
   "metadata": {},
   "outputs": [
    {
     "name": "stdout",
     "output_type": "stream",
     "text": [
      "enter the Priciple amount: 1000\n",
      "Simple interest: 10000\n"
     ]
    }
   ],
   "source": [
    "def get_amount(p,r,t):\n",
    "    a=p*(1+(r*t))\n",
    "    return a\n",
    "def get_si(p,a):\n",
    "    si=a-p\n",
    "    return si\n",
    "p = int(input(\"enter the Priciple amount: \"))\n",
    "r = 10\n",
    "t = 1\n",
    "a = get_amount(p,r,t)\n",
    "print(\"Simple interest:\", get_si(p,a))"
   ]
  },
  {
   "cell_type": "code",
   "execution_count": 6,
   "metadata": {},
   "outputs": [
    {
     "name": "stdout",
     "output_type": "stream",
     "text": [
      "enter the Priciple amount:1000\n",
      "enter the rate of interest:10\n",
      "enter the no.of years:1\n",
      "enter the no.of times interest applied:1\n",
      "Compound interest:  10000.0\n"
     ]
    }
   ],
   "source": [
    "def get_ci(p,r,t,n):\n",
    "    a = p*((1+(r/n))**(n*t))\n",
    "    CI = a-p\n",
    "    return CI\n",
    "p = int(input('enter the Priciple amount:'))\n",
    "r = int(input('enter the rate of interest:'))\n",
    "t = int(input('enter the no.of years:'))\n",
    "n = int(input('enter the no.of times interest applied:'))\n",
    "print(\"Compound interest: \",get_ci(p,r,t,n))"
   ]
  },
  {
   "cell_type": "code",
   "execution_count": 1,
   "metadata": {},
   "outputs": [
    {
     "name": "stdout",
     "output_type": "stream",
     "text": [
      "enter the first number:11\n",
      "enter the second number:3\n",
      "(3.6666666666666665, 2)\n"
     ]
    }
   ],
   "source": [
    "def get_q_r(n1,n2):\n",
    "    q=n1/n2\n",
    "    r=n1%n2\n",
    "    return q,r\n",
    "\n",
    "n1=int(input('enter the first number:'))\n",
    "n2=int(input('enter the second number:'))\n",
    "a=(get_q_r(n1,n2))\n",
    "\n",
    "this_tuple=(a[0],a[1])\n",
    "print(this_tuple)"
   ]
  },
  {
   "cell_type": "raw",
   "metadata": {},
   "source": []
  },
  {
   "cell_type": "code",
   "execution_count": 3,
   "metadata": {},
   "outputs": [
    {
     "name": "stdout",
     "output_type": "stream",
     "text": [
      "enter the height of right angle triangle: 10\n",
      "enter the base of right angle triangle: 10\n",
      "Hypotenuse of the triangle:  14.142135623730951\n"
     ]
    }
   ],
   "source": [
    "import math\n",
    "def hypo(h,b):\n",
    "    hy=math.sqrt(pow(h,2)+pow(b,2))\n",
    "    return hy\n",
    "\n",
    "h=int(input(\"enter the height of right angle triangle: \"))\n",
    "b=int(input(\"enter the base of right angle triangle: \"))\n",
    "print(\"Hypotenuse of the triangle: \",hypo(h,b))\n"
   ]
  },
  {
   "cell_type": "code",
   "execution_count": 7,
   "metadata": {},
   "outputs": [
    {
     "name": "stdout",
     "output_type": "stream",
     "text": [
      "enter the time in seconds: 12345879\n",
      "DD:HH:MM:SS -->  142.0 : 21.0 : 24.0 : 39.0\n"
     ]
    }
   ],
   "source": [
    "s=float(input(\"enter the time in seconds: \"))\n",
    "d=s//(24*3600)\n",
    "s=s%(24*3600)\n",
    "h=s//3600\n",
    "s=s%3600\n",
    "m=s//60\n",
    "s=s%60\n",
    "print(\"DD:HH:MM:SS --> \",d,\":\",h,\":\",m,\":\",s)\n"
   ]
  },
  {
   "cell_type": "code",
   "execution_count": 9,
   "metadata": {},
   "outputs": [
    {
     "name": "stdout",
     "output_type": "stream",
     "text": [
      "3.7.1 (default, Dec 10 2018, 22:54:23) [MSC v.1915 64 bit (AMD64)]\n",
      "sys.version_info(major=3, minor=7, micro=1, releaselevel='final', serial=0)\n"
     ]
    }
   ],
   "source": [
    "#check the python interpreter without opening the interpreter\n",
    "import sys\n",
    "print(sys.version)\n",
    "print(sys.version_info)"
   ]
  },
  {
   "cell_type": "code",
   "execution_count": 10,
   "metadata": {},
   "outputs": [
    {
     "name": "stdout",
     "output_type": "stream",
     "text": [
      "2 -2\n"
     ]
    }
   ],
   "source": [
    "x=2\n",
    "x*=3\n",
    "x=x%4\n",
    "y=-x\n",
    "print(x,y)"
   ]
  },
  {
   "cell_type": "code",
   "execution_count": 11,
   "metadata": {},
   "outputs": [
    {
     "name": "stdout",
     "output_type": "stream",
     "text": [
      "None\n"
     ]
    }
   ],
   "source": [
    "def funct():\n",
    "    pass\n",
    "print(funct())"
   ]
  },
  {
   "cell_type": "code",
   "execution_count": null,
   "metadata": {},
   "outputs": [],
   "source": []
  }
 ],
 "metadata": {
  "kernelspec": {
   "display_name": "Python 3",
   "language": "python",
   "name": "python3"
  },
  "language_info": {
   "codemirror_mode": {
    "name": "ipython",
    "version": 3
   },
   "file_extension": ".py",
   "mimetype": "text/x-python",
   "name": "python",
   "nbconvert_exporter": "python",
   "pygments_lexer": "ipython3",
   "version": "3.7.1"
  }
 },
 "nbformat": 4,
 "nbformat_minor": 2
}
