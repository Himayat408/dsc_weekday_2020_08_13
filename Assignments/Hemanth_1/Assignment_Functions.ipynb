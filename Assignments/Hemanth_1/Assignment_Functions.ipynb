{
 "cells": [
  {
   "cell_type": "code",
   "execution_count": 1,
   "metadata": {},
   "outputs": [
    {
     "name": "stdout",
     "output_type": "stream",
     "text": [
      "enter a string: Hemanth\n",
      "enter another string: Game\n",
      "The swapped values of Hemanth and Game are: \n"
     ]
    },
    {
     "data": {
      "text/plain": [
       "('Game', 'Hemanth')"
      ]
     },
     "execution_count": 1,
     "metadata": {},
     "output_type": "execute_result"
    }
   ],
   "source": [
    "#WAP to input 2 strings and swap them\n",
    "def swap_str(str1,str2):\n",
    "    temp = str1\n",
    "    str1 = str2\n",
    "    str2 = temp\n",
    "    return str1,str2\n",
    "str1 = input('enter a string: ')\n",
    "str2 = input('enter another string: ')\n",
    "print(f'The swapped values of {str1} and {str2} are: ')\n",
    "swap_str(str1,str2)"
   ]
  },
  {
   "cell_type": "code",
   "execution_count": 3,
   "metadata": {},
   "outputs": [
    {
     "name": "stdout",
     "output_type": "stream",
     "text": [
      "The average of 4 random numbers is: \n"
     ]
    },
    {
     "data": {
      "text/plain": [
       "10.75"
      ]
     },
     "execution_count": 3,
     "metadata": {},
     "output_type": "execute_result"
    }
   ],
   "source": [
    "#WAP to generate 4 random numbers from 0-26 and find their average\n",
    "import random\n",
    "def rand_avg(a,b,c,d):\n",
    "    avg = (a+b+c+d)/4\n",
    "    return avg\n",
    "a = random.randrange(0,26)\n",
    "b = random.randrange(0,26)\n",
    "c = random.randrange(0,26)\n",
    "d = random.randrange(0,26)    \n",
    "print('The average of 4 random numbers is: ')\n",
    "rand_avg(a,b,c,d)"
   ]
  },
  {
   "cell_type": "code",
   "execution_count": null,
   "metadata": {},
   "outputs": [],
   "source": [
    "#WAP to generate and print random uppercase or lowercase letter\n",
    "import string\n",
    "print(string.ascii_letters)\n",
    "import random\n",
    "print(random.choice(string.ascii_letters))"
   ]
  },
  {
   "cell_type": "code",
   "execution_count": 4,
   "metadata": {},
   "outputs": [
    {
     "name": "stdout",
     "output_type": "stream",
     "text": [
      "enter the principle amount: 5000\n",
      "enter the time period: 2\n",
      "enter the rate of interest: 3\n",
      "The simple interest of 5000,2,3 is: \n"
     ]
    },
    {
     "data": {
      "text/plain": [
       "300.0"
      ]
     },
     "execution_count": 4,
     "metadata": {},
     "output_type": "execute_result"
    }
   ],
   "source": [
    "#WAP that takes principle,rate,time as args and returns simple interest\n",
    "def get_si(P,T,R):\n",
    "    SI = (P*T*R)/100\n",
    "    return SI\n",
    "P = int(input('enter the principle amount: '))\n",
    "T = int(input('enter the time period: '))\n",
    "R = int(input('enter the rate of interest: '))\n",
    "print(f'The simple interest of {P},{T},{R} is: ')\n",
    "get_si(P,T,R)"
   ]
  },
  {
   "cell_type": "code",
   "execution_count": 5,
   "metadata": {},
   "outputs": [
    {
     "name": "stdout",
     "output_type": "stream",
     "text": [
      "enter the principle amount: 500\n"
     ]
    },
    {
     "data": {
      "text/plain": [
       "550.0"
      ]
     },
     "execution_count": 5,
     "metadata": {},
     "output_type": "execute_result"
    }
   ],
   "source": [
    "#WAP to find Total amount that takes P,T,R as arguments and gets the SI using above get_si function\n",
    "def get_amount(P,T,R):\n",
    "    SI = get_si(P,T,R)\n",
    "    TA = P+SI\n",
    "    return TA\n",
    "P = int(input('enter the principle amount: '))\n",
    "get_amount(P,1,10)"
   ]
  },
  {
   "cell_type": "code",
   "execution_count": 6,
   "metadata": {},
   "outputs": [
    {
     "name": "stdout",
     "output_type": "stream",
     "text": [
      "enter principle amount: 5000\n",
      "enter time period: 2\n",
      "enter rate of interest: 3\n",
      "The Compound Interest is: \n"
     ]
    },
    {
     "data": {
      "text/plain": [
       "5304.5"
      ]
     },
     "execution_count": 6,
     "metadata": {},
     "output_type": "execute_result"
    }
   ],
   "source": [
    "#WAP to find compound interest using fucntions\n",
    "def Comp_Interest(P,t,R):\n",
    "    CI = P*pow(1+(R/100),t)\n",
    "    return CI\n",
    "P = int(input('enter principle amount: '))\n",
    "t = int(input('enter time period: '))\n",
    "R = int(input('enter rate of interest: '))\n",
    "print('The Compound Interest is: ')\n",
    "Comp_Interest(P,t,R)"
   ]
  },
  {
   "cell_type": "code",
   "execution_count": 8,
   "metadata": {},
   "outputs": [
    {
     "name": "stdout",
     "output_type": "stream",
     "text": [
      "enter any number to be divided: 500\n",
      "enter any number to divide: 25\n",
      "The quotient and remainder are: \n",
      "(20, 0)\n"
     ]
    }
   ],
   "source": [
    "#WAP to get quotient and remainder and print them in form of a tuple\n",
    "def get_q_r(a,b):\n",
    "    q = a//b\n",
    "    r = a%b\n",
    "    return q,r\n",
    "a = int(input('enter any number to be divided: '))\n",
    "b = int(input('enter any number to divide: '))\n",
    "print('The quotient and remainder are: ')\n",
    "print(get_q_r(a,b))"
   ]
  },
  {
   "cell_type": "code",
   "execution_count": 9,
   "metadata": {},
   "outputs": [
    {
     "name": "stdout",
     "output_type": "stream",
     "text": [
      "enter the height: 4\n",
      "enter the base: 3\n",
      "The Hypotenuse is: \n"
     ]
    },
    {
     "data": {
      "text/plain": [
       "5.0"
      ]
     },
     "execution_count": 9,
     "metadata": {},
     "output_type": "execute_result"
    }
   ],
   "source": [
    "def hypotns(h,b):\n",
    "    a = pow((h*h + b*b),0.5)\n",
    "    return a\n",
    "h = int(input('enter the height: '))\n",
    "b = int(input('enter the base: '))\n",
    "print('The Hypotenuse is: ')\n",
    "hypotns(h,b)"
   ]
  },
  {
   "cell_type": "code",
   "execution_count": null,
   "metadata": {},
   "outputs": [],
   "source": [
    "#check version of python without going into interpreter\n",
    "Answer:\n",
    "#In command line type python"
   ]
  },
  {
   "cell_type": "code",
   "execution_count": null,
   "metadata": {},
   "outputs": [],
   "source": [
    "#What is the o/p\n",
    "X = 2\n",
    "X *= 3\n",
    "X = X%4\n",
    "Y = -X\n",
    "print(X,Y)\n",
    "\n",
    "Answer:\n",
    "2 -2"
   ]
  },
  {
   "cell_type": "code",
   "execution_count": null,
   "metadata": {},
   "outputs": [],
   "source": [
    "#what is the o/p\n",
    "def func():\n",
    "    pass\n",
    "print(func())\n",
    "\n",
    "Answer:\n",
    "None"
   ]
  },
  {
   "cell_type": "code",
   "execution_count": null,
   "metadata": {},
   "outputs": [],
   "source": []
  }
 ],
 "metadata": {
  "kernelspec": {
   "display_name": "Python 3",
   "language": "python",
   "name": "python3"
  },
  "language_info": {
   "codemirror_mode": {
    "name": "ipython",
    "version": 3
   },
   "file_extension": ".py",
   "mimetype": "text/x-python",
   "name": "python",
   "nbconvert_exporter": "python",
   "pygments_lexer": "ipython3",
   "version": "3.8.3"
  }
 },
 "nbformat": 4,
 "nbformat_minor": 4
}
