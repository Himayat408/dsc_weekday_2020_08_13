{
 "cells": [
  {
   "cell_type": "code",
   "execution_count": 1,
   "metadata": {},
   "outputs": [
    {
     "name": "stdout",
     "output_type": "stream",
     "text": [
      "enter any number: 50\n",
      "enter another number: 3\n"
     ]
    },
    {
     "data": {
      "text/plain": [
       "False"
      ]
     },
     "execution_count": 1,
     "metadata": {},
     "output_type": "execute_result"
    }
   ],
   "source": [
    "#WAP to input two numbers and check whether number 1 is divisible by number 2\n",
    "def div_fun(num1,num2):\n",
    "    if num1%num2 == 0:\n",
    "        return True\n",
    "    else:\n",
    "        return False\n",
    "num1 = int(input('enter any number: '))\n",
    "num2 = int(input('enter another number: '))\n",
    "div_fun(num1,num2)"
   ]
  },
  {
   "cell_type": "code",
   "execution_count": 2,
   "metadata": {},
   "outputs": [
    {
     "name": "stdout",
     "output_type": "stream",
     "text": [
      "enter any string: leveL\n",
      "Palindrome\n"
     ]
    }
   ],
   "source": [
    "#WAP to check if a string is palindrome and the condition check should be case insensitive\n",
    "s = input('enter any string: ').lower()\n",
    "d = s[::-1].lower()\n",
    "if s == d:\n",
    "    print('Palindrome')\n",
    "else:\n",
    "    print('Not a palindrome')"
   ]
  },
  {
   "cell_type": "code",
   "execution_count": null,
   "metadata": {},
   "outputs": [],
   "source": [
    "#WAP to input sides of triangle and check whether the triangle is equilateral,isosceles or scalene\n",
    "s1 = input('enter height of triange: ')\n",
    "s2 = input('enter base of triangle: ')\n",
    "s3 = input('enter slanting length of triangle: ')\n",
    "if s1 == s2 == s3:\n",
    "    print('Triangle is equilateral')\n",
    "elif (s1 == s2) or (s1 == s3) or (s2 == s3):\n",
    "    print('Triangle is Isosceles')\n",
    "elif s1 != s2 != s3:\n",
    "    print('Triangle is scalene')"
   ]
  },
  {
   "cell_type": "code",
   "execution_count": null,
   "metadata": {},
   "outputs": [],
   "source": [
    "#WAP to check whether a number is even or odd\n",
    "def even_odd(n1):\n",
    "    if n1%2 == 0:\n",
    "        print('Even')\n",
    "    else:\n",
    "        print('Odd')\n",
    "n1 = int(input('enter a number: '))\n",
    "even_odd(n1)"
   ]
  },
  {
   "cell_type": "code",
   "execution_count": 2,
   "metadata": {},
   "outputs": [
    {
     "name": "stdout",
     "output_type": "stream",
     "text": [
      "enter age of person: 45\n",
      "The person is Adult\n"
     ]
    }
   ],
   "source": [
    "#WAP to check ages of person and print whether child,teen,adult,senior citizen or congratulations\n",
    "def check_age(age):\n",
    "    if age in range (0,13):\n",
    "        print('The person is Child')\n",
    "    elif age in range(13,18):\n",
    "        print('The person is Teen')\n",
    "    elif age in range(18,51):\n",
    "        print('The person is Adult')\n",
    "    elif age in range(51,101):\n",
    "        print('The person is Senior citizen')\n",
    "    else:\n",
    "        if age > 100:\n",
    "            print('Congratulations')\n",
    "age = int(input('enter age of person: '))\n",
    "check_age(age)"
   ]
  },
  {
   "cell_type": "code",
   "execution_count": 3,
   "metadata": {},
   "outputs": [
    {
     "name": "stdout",
     "output_type": "stream",
     "text": [
      "enter any year: 2024\n",
      "The entered year is a leap year\n"
     ]
    }
   ],
   "source": [
    "#WAP to input a year and check if it is leap year or not\n",
    "year = input('enter any year: ')\n",
    "if len(year) == 4 and int(year) != -int(year):\n",
    "    if int(year)%4 == 0 or int(year)%400 == 0:\n",
    "        print('The entered year is a leap year')\n",
    "    else:\n",
    "        print('The entered year is not a leap year')\n",
    "else:\n",
    "    print('Enter a valid year')"
   ]
  },
  {
   "cell_type": "code",
   "execution_count": 4,
   "metadata": {},
   "outputs": [
    {
     "name": "stdout",
     "output_type": "stream",
     "text": [
      "enter any string: abcdbda\n",
      "ABCDBDA\n"
     ]
    }
   ],
   "source": [
    "#WAP to input a string and print uppercase if characters of the string are odd or else print in lowercase\n",
    "s = input('enter any string: ')\n",
    "if len(s)%2 == 1:\n",
    "    print(s.upper())\n",
    "else:\n",
    "    print(s.lower())"
   ]
  },
  {
   "cell_type": "code",
   "execution_count": 6,
   "metadata": {},
   "outputs": [
    {
     "name": "stdout",
     "output_type": "stream",
     "text": [
      "enter any string: cjickeeggen\n",
      "Non-Veg\n"
     ]
    }
   ],
   "source": [
    "#WAP to input a string and print veg if string does not contain the word egg or print non-veg\n",
    "s = input('enter any string: ')\n",
    "l = 'egg'\n",
    "if l in s:\n",
    "    print('Non-Veg')\n",
    "else:\n",
    "    print('Veg')"
   ]
  },
  {
   "cell_type": "code",
   "execution_count": null,
   "metadata": {},
   "outputs": [],
   "source": [
    "#Give o/p of following\n",
    "if not 1:\n",
    "    print('False')\n",
    "else:\n",
    "    print('True')\n",
    "\n",
    "Answer:\n",
    "#True\n",
    "\n",
    "if  1:\n",
    "    print('True')\n",
    "else:\n",
    "    print('False')\n",
    "\n",
    "Answer:\n",
    "#True\n",
    "\n",
    "if 'a' > 'A':\n",
    "    print('Weird')\n",
    "else:\n",
    "    print('Makes sense')\n",
    "\n",
    "Answer:\n",
    "#Weird\n",
    "\n",
    "a = [1,2,3,4]\n",
    "if 1>1:\n",
    "    a = a[::-1]\n",
    "else:\n",
    "    a = a[-1::-1]\n",
    "print(a)\n",
    "\n",
    "Answer:\n",
    "#[4,3,2,1]"
   ]
  },
  {
   "cell_type": "code",
   "execution_count": 12,
   "metadata": {},
   "outputs": [
    {
     "name": "stdout",
     "output_type": "stream",
     "text": [
      "Enter marks of the first subject: 99\n",
      "Enter marks of the second subject: 98\n",
      "Enter marks of the third subject: 95\n",
      "Enter marks of the fourth subject: 94\n",
      "Enter marks of the fifth subject: 1\n",
      "Grade: A\n"
     ]
    }
   ],
   "source": [
    "sub1=int(input(\"Enter marks of the first subject: \"))\n",
    "sub2=int(input(\"Enter marks of the second subject: \"))\n",
    "sub3=int(input(\"Enter marks of the third subject: \"))\n",
    "sub4=int(input(\"Enter marks of the fourth subject: \"))\n",
    "sub5=int(input(\"Enter marks of the fifth subject: \"))\n",
    "avg=(sub1+sub2+sub3+sub4+sub4)/5\n",
    "if(avg>=90):\n",
    "    print(\"Grade: A\")\n",
    "elif(avg>=80 or avg<90):\n",
    "    print(\"Grade: B\")\n",
    "elif(avg>=70 or avg<80):\n",
    "    print(\"Grade: C\")\n",
    "elif(avg>=60 or avg<70):\n",
    "    print(\"Grade: D\")\n",
    "else:\n",
    "    print(\"Grade: F\")"
   ]
  },
  {
   "cell_type": "code",
   "execution_count": 13,
   "metadata": {},
   "outputs": [
    {
     "name": "stdout",
     "output_type": "stream",
     "text": [
      "enter any age: 85\n",
      "enter any salary: 565000\n",
      "Tax rate: 8%\n"
     ]
    }
   ],
   "source": [
    "age = int(input('enter any age: '))\n",
    "salary = int(input('enter any salary: '))\n",
    "if (age<60 and salary <= 250000):\n",
    "    print('Tax rate: 0%')\n",
    "else:\n",
    "    if (age<60) and (salary == 250001 or salary <= 500000):\n",
    "        print('Tax rate: 5%')\n",
    "    else:\n",
    "        if (age<60) and (salary == 500001 or salary <= 1000000): \n",
    "            print('Tax rate: 10%')\n",
    "        else:\n",
    "            if (age<60 and salary >= 1000001):\n",
    "                print('Tax rate: 15%')\n",
    "            else:\n",
    "                if (age>=60) and (salary == 0 or salary <= 250000):\n",
    "                    print('Tax rate: 0%')\n",
    "                else:\n",
    "                    if (age>=60) and (salary == 250001 or salary <= 500000):\n",
    "                        print('Tax rate: 3%')\n",
    "                    else:\n",
    "                        if (age>=60) and (salary == 500001 or salary <= 1000000):\n",
    "                            print('Tax rate: 8%') \n",
    "                        else:\n",
    "                            print('Tax rate: 12%')"
   ]
  },
  {
   "cell_type": "code",
   "execution_count": null,
   "metadata": {},
   "outputs": [],
   "source": [
    "#WAP to calculate BMI check and print BMI index\n",
    "def bmi_calc(weight,height):\n",
    "    bmi = (weight/(height*height))*10000\n",
    "    if (bmi == 18 or bmi <= 24):\n",
    "        print('Normal')\n",
    "    elif (bmi == 25 or bmi <= 29):\n",
    "        print('Overweight')\n",
    "    elif (bmi >= 30):\n",
    "        print('Obese')\n",
    "    else:\n",
    "        print('Underweight')\n",
    "    return bmi\n",
    "weight = int(input('enter weight in kgs: '))\n",
    "height = int(input('enter height in cms: '))\n",
    "bmi_calc(weight,height)"
   ]
  },
  {
   "cell_type": "code",
   "execution_count": null,
   "metadata": {},
   "outputs": [],
   "source": [
    "#WAP to input age of 3 persons and determine oldest and youngest among them\n",
    "age1 = int(input('enter age of first person: '))\n",
    "age2 = int(input('enter age of second person: '))\n",
    "age3 = int(input('enter age of third person: '))\n",
    "if (age1>age2 and age1>age3 and age2>age3):\n",
    "        print('First person is the oldest and Third person is youngest')\n",
    "elif (age1>age2 and age1>age3 and age2<age3):\n",
    "        print('First person is the oldest and Second person is youngest')\n",
    "elif (age2>age1 and age2>age3 and age1<age3):\n",
    "    print('Second person is the oldest and First person is the youngest')\n",
    "elif (age2>age1 and age2>age3 and age1>age3):\n",
    "    print('Second person is the oldest and Third person is the youngest')\n",
    "elif (age3>age1 and age3>age2 and age1>age2):\n",
    "    print('Third person is the oldest and second person is the youngest')\n",
    "elif (age3>age1 and age3>age2 and age1<age2):\n",
    "    print('Third person is the oldest and First person is the youngest')"
   ]
  },
  {
   "cell_type": "code",
   "execution_count": null,
   "metadata": {},
   "outputs": [],
   "source": [
    "#WAP to input a number and check whether it is divisible by both 5 and 7\n",
    "s = input('enter any number: ')\n",
    "t = s[:-1]\n",
    "u = s[-1:]\n",
    "v = int(u)*2\n",
    "w = int(t)-v\n",
    "if int(s)%5 == 0 and w%7 == 0:\n",
    "    print('The number is divisible by both 5 and 7')\n",
    "else:\n",
    "    print('The number is not divisible by both 5 and 7')"
   ]
  }
 ],
 "metadata": {
  "kernelspec": {
   "display_name": "Python 3",
   "language": "python",
   "name": "python3"
  },
  "language_info": {
   "codemirror_mode": {
    "name": "ipython",
    "version": 3
   },
   "file_extension": ".py",
   "mimetype": "text/x-python",
   "name": "python",
   "nbconvert_exporter": "python",
   "pygments_lexer": "ipython3",
   "version": "3.8.3"
  }
 },
 "nbformat": 4,
 "nbformat_minor": 4
}
