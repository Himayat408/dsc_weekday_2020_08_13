{
 "cells": [
  {
   "cell_type": "code",
   "execution_count": null,
   "metadata": {},
   "outputs": [],
   "source": [
    "#Guess the o/p of\n",
    "s = 'Python is Object Oriented'\n",
    "\n",
    "Answers:\n",
    "#s[-1] = d\n",
    "#s[::-1] = detneirO tcejbO si nohtyP\n",
    "#s[:-1] = Python is Object Oriente\n",
    "#s[1:1] = ''\n",
    "#s[4:10] = on is "
   ]
  },
  {
   "cell_type": "code",
   "execution_count": null,
   "metadata": {},
   "outputs": [],
   "source": [
    "#what error do you see below\n",
    "s = ''\n",
    "print(s[1])\n",
    "Answer:\n",
    "#Index error"
   ]
  },
  {
   "cell_type": "code",
   "execution_count": null,
   "metadata": {},
   "outputs": [],
   "source": [
    "#Do you get error below,if not give the ouput\n",
    "S = 'Gaurav'\n",
    "print(s[1])\n",
    "Answer:\n",
    "#It will give 's' not defined error"
   ]
  },
  {
   "cell_type": "code",
   "execution_count": null,
   "metadata": {},
   "outputs": [],
   "source": [
    "#Find o/p of the following\n",
    "1. s = 'a b cd'\n",
    "Answers:\n",
    "#print(len(s)) = 6\n",
    "#print(s[::2]) = 'abc'\n",
    "#print(len(s[::2])) = 3\n",
    "\n",
    "2. s = 'a#b#c#d#'\n",
    "Answers:\n",
    "#print(s.split()) = ['a#b#c#d#']\n",
    "#print(s.split('#')) = ['a' ,'b' ,'c' ,'d' ,'']\n",
    "#l = s.split('#')\n",
    "#s = '$'.join(l)\n",
    "#print(s) = a$b$c$d$\n",
    "\n",
    "3. S = 'Gaurav'\n",
    "S = S[::-2][::-2]\n",
    "#print(S) = av\n",
    "\n",
    "4. print(1>2)\n",
    "Answer: #False\n",
    "    \n",
    "5. print(4%2,5%2,2%5,sep = ',')\n",
    "Answers:\n",
    "#0,1,2\n",
    "\n",
    "6. s = 'abcba'\n",
    "Answers:\n",
    "#print(s.upper()) = ABCBA\n",
    "#print(s) = abcba\n",
    "#print(s.count('A'),end = ',')\n",
    "#print(s.count('A',2,4),end = ',')\n",
    "#print(s.count('a',2,4),end = ',')\n",
    "#0,0,0"
   ]
  },
  {
   "cell_type": "code",
   "execution_count": 1,
   "metadata": {},
   "outputs": [
    {
     "name": "stdout",
     "output_type": "stream",
     "text": [
      "['h', 'e', 'm', 'a', 'n', 't', 'h']\n",
      "hemanth\n"
     ]
    }
   ],
   "source": [
    "#WAP to input a string and remove all spaces from it\n",
    "s = 'h e m a n t h'\n",
    "l = s.split()\n",
    "print(l)\n",
    "c = ''.join(l)\n",
    "print(c)"
   ]
  },
  {
   "cell_type": "code",
   "execution_count": null,
   "metadata": {},
   "outputs": [],
   "source": [
    "#what does this symbol denote\n",
    "[]\n",
    "Answer:\n",
    "#Empty List"
   ]
  },
  {
   "cell_type": "code",
   "execution_count": 4,
   "metadata": {},
   "outputs": [
    {
     "name": "stdout",
     "output_type": "stream",
     "text": [
      "['__add__', '__class__', '__contains__', '__delattr__', '__dir__', '__doc__', '__eq__', '__format__', '__ge__', '__getattribute__', '__getitem__', '__getnewargs__', '__gt__', '__hash__', '__init__', '__init_subclass__', '__iter__', '__le__', '__len__', '__lt__', '__mod__', '__mul__', '__ne__', '__new__', '__reduce__', '__reduce_ex__', '__repr__', '__rmod__', '__rmul__', '__setattr__', '__sizeof__', '__str__', '__subclasshook__', 'capitalize', 'casefold', 'center', 'count', 'encode', 'endswith', 'expandtabs', 'find', 'format', 'format_map', 'index', 'isalnum', 'isalpha', 'isascii', 'isdecimal', 'isdigit', 'isidentifier', 'islower', 'isnumeric', 'isprintable', 'isspace', 'istitle', 'isupper', 'join', 'ljust', 'lower', 'lstrip', 'maketrans', 'partition', 'replace', 'rfind', 'rindex', 'rjust', 'rpartition', 'rsplit', 'rstrip', 'split', 'splitlines', 'startswith', 'strip', 'swapcase', 'title', 'translate', 'upper', 'zfill']\n"
     ]
    }
   ],
   "source": [
    "#WAP to print all the methods(functions/operations) in a string\n",
    "dir(str)\n",
    "print(dir(str))"
   ]
  },
  {
   "cell_type": "code",
   "execution_count": 5,
   "metadata": {},
   "outputs": [
    {
     "name": "stdout",
     "output_type": "stream",
     "text": [
      "True\n"
     ]
    }
   ],
   "source": [
    "#Write a statement to check whether rstrip is there in str class\n",
    "s = dir(str)\n",
    "print('rstrip' in s)"
   ]
  },
  {
   "cell_type": "code",
   "execution_count": 6,
   "metadata": {},
   "outputs": [
    {
     "name": "stdout",
     "output_type": "stream",
     "text": [
      "\n",
      "* * * * *\n",
      "    *\n",
      "    *\n",
      "    *\n",
      "    * \n",
      "*      *\n",
      "* *  * *\n",
      "*   *  *\n",
      "*      * \n",
      " ________\n",
      " |      |\n",
      " O      |\n",
      "/|\\     |\n",
      "/ \\     | \n"
     ]
    }
   ],
   "source": [
    "#WAP to store the folowing patterns\n",
    "pattern1 = '''\n",
    "* * * * *\n",
    "    *\n",
    "    *\n",
    "    *\n",
    "    *'''\n",
    "pattern2 = '''\n",
    "*      *\n",
    "* *  * *\n",
    "*   *  *\n",
    "*      *'''\n",
    "pattern3 = '''\n",
    " ________\n",
    " |      |\n",
    " O      |\n",
    "/|\\     |\n",
    "/ \\     | '''\n",
    "print(pattern1,pattern2,pattern3)"
   ]
  },
  {
   "cell_type": "code",
   "execution_count": 7,
   "metadata": {},
   "outputs": [
    {
     "name": "stdout",
     "output_type": "stream",
     "text": [
      "h\\ne\\nm\\na\\nn\\nt\\nh\n"
     ]
    }
   ],
   "source": [
    "#WAP to replace all spaces in a string and enter newlines in them\n",
    "s = 'h e m a n t h'\n",
    "l = s.replace(' ','\\\\n')\n",
    "print(l)"
   ]
  },
  {
   "cell_type": "code",
   "execution_count": 8,
   "metadata": {},
   "outputs": [
    {
     "name": "stdout",
     "output_type": "stream",
     "text": [
      "Enter any string: Toxic Poison\n",
      "['Toxic', 'Poison']\n",
      "TOXIC 5\n",
      "POISON 6\n"
     ]
    }
   ],
   "source": [
    "#WAP to print first name and last name separately from complete name along with their length\n",
    "s = input('Enter any string: ')\n",
    "l = s.split(' ')\n",
    "print(l)\n",
    "h = l[0].upper()\n",
    "k = l[1].upper()\n",
    "print(h,len(h))\n",
    "print(k,len(k))"
   ]
  },
  {
   "cell_type": "code",
   "execution_count": 12,
   "metadata": {},
   "outputs": [
    {
     "name": "stdout",
     "output_type": "stream",
     "text": [
      "enter any string: Pythonisgreat\n",
      "Python\n",
      "sgreat\n"
     ]
    }
   ],
   "source": [
    "#WAP to input string and split into 2 halves exactly,string can be of any length\n",
    "s = input('enter any string: ')\n",
    "j = s[:len(s)//2]\n",
    "print(j)\n",
    "k = s[(len(s)+1)//2:]\n",
    "print(k)"
   ]
  }
 ],
 "metadata": {
  "kernelspec": {
   "display_name": "Python 3",
   "language": "python",
   "name": "python3"
  },
  "language_info": {
   "codemirror_mode": {
    "name": "ipython",
    "version": 3
   },
   "file_extension": ".py",
   "mimetype": "text/x-python",
   "name": "python",
   "nbconvert_exporter": "python",
   "pygments_lexer": "ipython3",
   "version": "3.8.3"
  }
 },
 "nbformat": 4,
 "nbformat_minor": 4
}
