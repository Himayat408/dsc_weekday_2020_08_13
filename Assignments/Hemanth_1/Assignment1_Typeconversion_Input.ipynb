{
 "cells": [
  {
   "cell_type": "code",
   "execution_count": 3,
   "metadata": {},
   "outputs": [
    {
     "name": "stdout",
     "output_type": "stream",
     "text": [
      "enter temperature in farenheit: 100\n",
      "Temperature of 100 in celsius is : 37.77777777777778\n"
     ]
    }
   ],
   "source": [
    "#Input Temperature in Farenheit and convert into Celsius\n",
    "f = int(input('enter temperature in farenheit: '))\n",
    "c = (f-32)*5/9\n",
    "result = (f'Temperature of {f} in celsius is : ' + str(c))\n",
    "print(result)"
   ]
  },
  {
   "cell_type": "code",
   "execution_count": 16,
   "metadata": {},
   "outputs": [
    {
     "name": "stdout",
     "output_type": "stream",
     "text": [
      "enter any number: 5\n",
      "Square of 5 is: 25 and Cube of 5 is: 125\n"
     ]
    }
   ],
   "source": [
    "#WAP to input a number and print its square and cube\n",
    "a = int(input('enter any number: '))\n",
    "result1 = (f'Square of {a} is: ' + str(pow(a,2)))\n",
    "result2 = (f'Cube of {a} is: ' + str(pow(a,3)))           \n",
    "print(result1,result2,sep = \" and \")"
   ]
  },
  {
   "cell_type": "code",
   "execution_count": 20,
   "metadata": {},
   "outputs": [
    {
     "name": "stdout",
     "output_type": "stream",
     "text": [
      "enter the value of n: 5\n",
      "enter the value of m: 4\n",
      "value of 5,4 is: 41\n"
     ]
    }
   ],
   "source": [
    "#WAP to input a number n and a number m and give the result of n**2+m**2\n",
    "n = int(input('enter the value of n: '))\n",
    "m = int(input('enter the value of m: '))\n",
    "result = (f'value of {n},{m} is: ' + str(n**2+m**2))\n",
    "print(result)"
   ]
  },
  {
   "cell_type": "code",
   "execution_count": 25,
   "metadata": {},
   "outputs": [
    {
     "name": "stdout",
     "output_type": "stream",
     "text": [
      "enter value of M: 2\n",
      "enter value of N: 3\n",
      "value of 2,3 is: 8 and value of 2,3 is: 8\n"
     ]
    }
   ],
   "source": [
    "#WAP to input numbers M and N and print result of M**N.\n",
    "M = int(input('enter value of M: '))\n",
    "N = int(input('enter value of N: '))\n",
    "result1 = (f'value of {M},{N} is: ' + str(M**N))\n",
    "result2 = (f'value of {M},{N} is: ' + str(pow(M,N)))\n",
    "print(result1,result2,sep = \" and \")"
   ]
  },
  {
   "cell_type": "code",
   "execution_count": 27,
   "metadata": {},
   "outputs": [
    {
     "name": "stdout",
     "output_type": "stream",
     "text": [
      "enter the principle amount: 500\n",
      "enter the time period: 2\n",
      "enter the rate of interest: 3\n",
      "Simple interest is: 30.0\n"
     ]
    }
   ],
   "source": [
    "#WAP to find Simple Interest\n",
    "P = int(input('enter the principle amount: '))\n",
    "T = int(input('enter the time period: '))\n",
    "R = int(input('enter the rate of interest: '))\n",
    "S = (P*T*R)/100\n",
    "print('Simple interest is: ' + str(S))"
   ]
  },
  {
   "cell_type": "code",
   "execution_count": 30,
   "metadata": {},
   "outputs": [
    {
     "name": "stdout",
     "output_type": "stream",
     "text": [
      "enter principle amount: 500\n",
      "enter time period: 2\n",
      "enter rate of interest: 3\n",
      "Amount is: 530.4499999999999\n",
      "Compound Interest is: 30.449999999999932\n"
     ]
    }
   ],
   "source": [
    "#Input Principle,rate,time and print Compound interest and amount\n",
    "P = int(input('enter principle amount: '))\n",
    "t = int(input('enter time period: '))\n",
    "R = int(input('enter rate of interest: '))\n",
    "A = P*pow(1+(R/100),t)\n",
    "C = A-P\n",
    "print('Amount is: ' + str(A))\n",
    "print('Compound Interest is: ' + str(C))"
   ]
  },
  {
   "cell_type": "code",
   "execution_count": 34,
   "metadata": {},
   "outputs": [
    {
     "name": "stdout",
     "output_type": "stream",
     "text": [
      "enter value of n: 5\n",
      "Sum of first n natural numbers is: 15\n"
     ]
    }
   ],
   "source": [
    "#WAP to print sum of first n natural numbers\n",
    "n = int(input('enter value of n: '))\n",
    "c = int(n*(n+1)/2)\n",
    "print('Sum of first n natural numbers is: ' + str(c))"
   ]
  },
  {
   "cell_type": "code",
   "execution_count": 36,
   "metadata": {},
   "outputs": [
    {
     "name": "stdout",
     "output_type": "stream",
     "text": [
      "enter any value: 10\n",
      "enter any value: 20\n",
      "Swapped values of a and b are: \n",
      "20 10\n"
     ]
    }
   ],
   "source": [
    "#WAP to swap two values using Temp variable\n",
    "a = int(input('enter any value: '))\n",
    "b = int(input('enter any value: '))\n",
    "temp = a\n",
    "a = b\n",
    "b = temp\n",
    "print('Swapped values of a and b are: ')\n",
    "print(a,b)"
   ]
  },
  {
   "cell_type": "code",
   "execution_count": 43,
   "metadata": {},
   "outputs": [
    {
     "name": "stdout",
     "output_type": "stream",
     "text": [
      "enter any number: 20\n",
      "enter any number: 30\n",
      "Swapped values of a and b are: \n",
      "30 20\n"
     ]
    }
   ],
   "source": [
    "#WAP to swap two values using python\n",
    "a = int(input('enter any number: '))\n",
    "b = int(input('enter any number: '))\n",
    "a,b = b,a\n",
    "print('Swapped values of a and b are: ')\n",
    "print(a,b)"
   ]
  },
  {
   "cell_type": "code",
   "execution_count": 49,
   "metadata": {},
   "outputs": [
    {
     "name": "stdout",
     "output_type": "stream",
     "text": [
      "enter any character: A\n",
      "ASCII value of ch is: 65\n"
     ]
    }
   ],
   "source": [
    "#Input a single character and print its ASCII\n",
    "ch = input('enter any character: ')\n",
    "print('ASCII value of ch is: ' + str(ord(ch)))"
   ]
  },
  {
   "cell_type": "code",
   "execution_count": 50,
   "metadata": {},
   "outputs": [
    {
     "name": "stdout",
     "output_type": "stream",
     "text": [
      "Enter the area of Circle: 100\n",
      "Radius of Circle is: 5.643326479831003\n",
      "Circumference of Circle is: 35.440090293338706\n"
     ]
    }
   ],
   "source": [
    "#WAP that takes area of Circle and gives back the radius and circumference\n",
    "A = int(input('Enter the area of Circle: '))\n",
    "r = pow((A/3.14),0.5)\n",
    "C = 2*3.14*r\n",
    "print('Radius of Circle is: ' + str(r))\n",
    "print('Circumference of Circle is: ' + str(C))"
   ]
  },
  {
   "cell_type": "code",
   "execution_count": 53,
   "metadata": {},
   "outputs": [
    {
     "name": "stdout",
     "output_type": "stream",
     "text": [
      "enter Maths marks: 75\n",
      "enter Physics marks: 85\n",
      "enter Chemistry marks: 79\n",
      "enter English marks: 60\n",
      "enter Hindi marks: 88\n",
      "Percentage of Maths marks is: 75.0\n",
      "Percentage of Physics marks is: 85.0\n",
      "Percentage of Chemistry marks is: 79.0\n",
      "Percentage of English marks is: 60.0\n",
      "Percentage of Hindi marks is: 88.0\n"
     ]
    }
   ],
   "source": [
    "#WAP to input marks in 5 subjects out of 100 and print percentage\n",
    "Maths = int(input('enter Maths marks: '))\n",
    "Physics = int(input('enter Physics marks: '))\n",
    "Chem = int(input('enter Chemistry marks: '))\n",
    "Eng = int(input('enter English marks: '))\n",
    "Hindi = int(input('enter Hindi marks: '))\n",
    "print('Percentage of Maths marks is: ' + str((Maths/100)*100))\n",
    "print('Percentage of Physics marks is: ' + str((Physics/100)*100))\n",
    "print('Percentage of Chemistry marks is: ' + str((Chem/100)*100))\n",
    "print('Percentage of English marks is: ' + str((Eng/100)*100))\n",
    "print('Percentage of Hindi marks is: ' + str((Hindi/100)*100))"
   ]
  }
 ],
 "metadata": {
  "kernelspec": {
   "display_name": "Python 3",
   "language": "python",
   "name": "python3"
  },
  "language_info": {
   "codemirror_mode": {
    "name": "ipython",
    "version": 3
   },
   "file_extension": ".py",
   "mimetype": "text/x-python",
   "name": "python",
   "nbconvert_exporter": "python",
   "pygments_lexer": "ipython3",
   "version": "3.8.3"
  }
 },
 "nbformat": 4,
 "nbformat_minor": 4
}
