{
 "cells": [
  {
   "cell_type": "code",
   "execution_count": 6,
   "metadata": {},
   "outputs": [
    {
     "name": "stdout",
     "output_type": "stream",
     "text": [
      "Enter temperature in farenheit : 100\n",
      "Tempeerature 100 in celcius = 37.77777777777778\n",
      "Please enter temperature in Fahrenheit(F): 101\n",
      "Temperature in Celcius(C) is : 38.333333333333336\n"
     ]
    }
   ],
   "source": [
    "#1. Input temperature in Fahrenheit and print in Celsius. \n",
    "\n",
    "t1  = int(input('Enter temperature in farenheit : '))\n",
    "print(f\"Tempeerature {t1} in celcius = \" + str((t1-32)*(5/9)))\n",
    "\n",
    "#OR\n",
    "\n",
    "f=float(input('Please enter temperature in Fahrenheit(F): '))\n",
    "c=(f-32)*(5/9)\n",
    "print(f'Temperature in Celcius(C) is : {c}')"
   ]
  },
  {
   "cell_type": "code",
   "execution_count": 7,
   "metadata": {},
   "outputs": [
    {
     "name": "stdout",
     "output_type": "stream",
     "text": [
      "Enter a number : 5\n",
      "25\n",
      "125\n"
     ]
    }
   ],
   "source": [
    "#2. Write a program to input a number and print its square and cube. \n",
    "\n",
    "n1 = int(input('Enter a number : '))\n",
    "sqr = print(n1 * n1)\n",
    "cube = print(n1*n1*n1)"
   ]
  },
  {
   "cell_type": "code",
   "execution_count": null,
   "metadata": {},
   "outputs": [],
   "source": [
    "#2. Write a program to input a number and print its square and cube. \n",
    "\n",
    "x=int(input('Enter a number : '))\n",
    "print(f\"Square of {x} = \" + str(pow(x,2)))\n",
    "print(f\"Cube of {x} = \" + str(pow(x,3)))"
   ]
  },
  {
   "cell_type": "code",
   "execution_count": 8,
   "metadata": {},
   "outputs": [
    {
     "name": "stdout",
     "output_type": "stream",
     "text": [
      "Enter a number : 12\n",
      "Enter a number : 5\n",
      "Result = 169\n"
     ]
    }
   ],
   "source": [
    "#3. WAP to input a number n and a number m and print the result of following : n^2 + m^2\n",
    "\n",
    "n = int(input('Enter a number : '))\n",
    "m = int(input('Enter a number : '))\n",
    "print(f\"Result = \" + str(pow(n,2) + pow(m,2)))"
   ]
  },
  {
   "cell_type": "code",
   "execution_count": 10,
   "metadata": {},
   "outputs": [
    {
     "name": "stdout",
     "output_type": "stream",
     "text": [
      "Enter a number : 3\n",
      "Enter a number : 2\n",
      "Result = 9\n",
      "9\n"
     ]
    }
   ],
   "source": [
    "#4. WAP to input a numbers M and N and print result of M^N(use both ** and pow)\n",
    "\n",
    "M = int(input('Enter a number : '))\n",
    "N = int(input('Enter a number : '))\n",
    "print(f\"Result = \" + str(pow(M,N)))\n",
    "print(M**N)"
   ]
  },
  {
   "cell_type": "code",
   "execution_count": 11,
   "metadata": {},
   "outputs": [
    {
     "name": "stdout",
     "output_type": "stream",
     "text": [
      "Please enter 1st number : 2\n",
      "Please enter 2nd number : 3\n",
      "The power of 2 to power of 3 is 8 using ** and 8 using pow\n"
     ]
    }
   ],
   "source": [
    "#4. WAP to input a numbers M and N and print result of M^N(use both ** and pow)\n",
    "\n",
    "m=int(input('Please enter 1st number : '))\n",
    "n=int(input('Please enter 2nd number : '))\n",
    "s=m**n\n",
    "p=pow(m,n)\n",
    "print(f'The power of {m} to power of {n} is {s} using ** and {p} using pow')"
   ]
  },
  {
   "cell_type": "code",
   "execution_count": 21,
   "metadata": {},
   "outputs": [
    {
     "name": "stdout",
     "output_type": "stream",
     "text": [
      "Please enter principal amount : 1000\n",
      "Please enter time period : 12\n",
      "Please enter interest rate : 5\n",
      "Total amount on principal 1000.0 for duration 12.0 months with 5.0 rate of interest is 1600.0 and interest amount is 600.0\n"
     ]
    }
   ],
   "source": [
    "#5. Write a simple interest calculator. \n",
    "\n",
    "P = float(input('Please enter principal amount : '))\n",
    "T = float(input('Please enter time period : '))\n",
    "R = float(input('Please enter interest rate : '))\n",
    "SI = (P*T*R)/100\n",
    "A = P+SI\n",
    "print(f'Total amount on principal {P} for duration {T} months with {R} rate of interest is {A} and interest amount is {SI}')"
   ]
  },
  {
   "cell_type": "code",
   "execution_count": 18,
   "metadata": {},
   "outputs": [
    {
     "name": "stdout",
     "output_type": "stream",
     "text": [
      "Please enter Principle Amount : 1000\n",
      "Please enter Rate of Interest : 12\n",
      "Please enter Time in months: 5\n",
      "Total amount on principle 1000.0 for duration 5.0 months with 12.0 rate of interest is 1600.0\n",
      "Interest amount on principle 1000.0 for duration 5.0 months with 12.0 rate of interest is 600.0\n"
     ]
    }
   ],
   "source": [
    "#5. Write a simple interest calculator. \n",
    "\n",
    "p=float(input('Please enter Principal Amount : '))\n",
    "r=float(input('Please enter Rate of Interest : '))\n",
    "t=float(input('Please enter Time in months: '))\n",
    "a=p*(1+(r*t)/100)\n",
    "i=p*r*t/100\n",
    "print(f'Total amount on principal {p} for duration {t} months with {r} rate of interest is {a}')\n",
    "print(f'Interest amount on principal {p} for duration {t} months with {r} rate of interest is {i}')"
   ]
  },
  {
   "cell_type": "code",
   "execution_count": 25,
   "metadata": {},
   "outputs": [
    {
     "name": "stdout",
     "output_type": "stream",
     "text": [
      "Please enter principal amount : 60000\n",
      "Please enter time period : 2\n",
      "Please enter interest rate : 2\n",
      "Compound interesr is :  62424.0\n",
      "Enter the no of times the interest is compounded per year : 2\n",
      "Amount is : 960000.0\n"
     ]
    }
   ],
   "source": [
    "#6. Input Principal, Rate, Time and print Compound Interest and Amount. \n",
    "\n",
    "\n",
    "P = float(input('Please enter principal amount : '))\n",
    "T = float(input('Please enter time period : '))\n",
    "R = float(input('Please enter interest rate : '))\n",
    "CI = P*float(pow((1+R/100),T))\n",
    "print('Compound interesr is : ', CI)\n",
    "N = float(input('Enter the no of times the interest is compounded per year : '))\n",
    "A = P*float(pow((1+R/N),N*T))\n",
    "print('Amount is :', A)"
   ]
  },
  {
   "cell_type": "code",
   "execution_count": 27,
   "metadata": {},
   "outputs": [
    {
     "name": "stdout",
     "output_type": "stream",
     "text": [
      "Enter a number : 5\n",
      "Sum of first 5 natural no is 15.0\n"
     ]
    }
   ],
   "source": [
    "#7. WAP to print sum of first n natural numbers. (n needs to be taken as input). \n",
    "\n",
    "n = int(input('Enter a number : '))\n",
    "sum = n*(n+1) / 2\n",
    "print(f'Sum of first {n} natural no is {sum}')"
   ]
  },
  {
   "cell_type": "code",
   "execution_count": null,
   "metadata": {},
   "outputs": [],
   "source": [
    "#7. WAP to print sum of first n natural numbers. (n needs to be taken as input). \n",
    "\n",
    "n=int(input('Enter value of natural number'))\n",
    "print('Sum =',n*((n+1)/2))"
   ]
  },
  {
   "cell_type": "code",
   "execution_count": 4,
   "metadata": {},
   "outputs": [
    {
     "name": "stdout",
     "output_type": "stream",
     "text": [
      "Enter a number : 12\n",
      "Enter a number : 20\n",
      "n1 = 20\n",
      "n2 = 12\n",
      "Enter the value of a:20\n",
      "Enter the value of b:40\n",
      "the values of a and b after swapping: 40 20\n"
     ]
    }
   ],
   "source": [
    "#8. WAP to input 2 numbers and swap them. (write using both normal logic with temp variable and also the pythonic way). \n",
    "#Pythonic way\n",
    "\n",
    "n1 = int(input('Enter a number : '))\n",
    "n2 = int(input('Enter a number : '))\n",
    "n1,n2 = n2,n1\n",
    "print(\"n1 =\", n1)\n",
    "print(\"n2 =\", n2)\n",
    "\n",
    "#OR \n",
    "\n",
    "a = int(input('Enter the value of a:'))  \n",
    "b = int(input('Enter the value of b:'))\n",
    "temp=0\n",
    "temp=a\n",
    "a=b\n",
    "b=temp\n",
    "print('the values of a and b after swapping:',a ,b)"
   ]
  },
  {
   "cell_type": "code",
   "execution_count": 6,
   "metadata": {},
   "outputs": [
    {
     "name": "stdout",
     "output_type": "stream",
     "text": [
      "' \\t\\n\\r\\x0b\\x0c'\n",
      "The ASCII for ' ' is 32\n",
      "The ASCII for '\\t' is 9\n",
      "The ASCII for '\\n' is 10\n",
      "The ASCII for '\\r' is 13\n",
      "The ASCII for '\\x0b' is 11\n",
      "The ASCII for '\\x0c' is 12\n"
     ]
    }
   ],
   "source": [
    "#9. WAP to print ascii value of all white-space characters present in python.\n",
    "\n",
    "import string\n",
    "print(repr(string.whitespace))\n",
    "print(f'The ASCII for {repr(string.whitespace[0])} is {ord(string.whitespace[0])}')\n",
    "print(f'The ASCII for {repr(string.whitespace[1])} is {ord(string.whitespace[1])}')\n",
    "print(f'The ASCII for {repr(string.whitespace[2])} is {ord(string.whitespace[2])}')\n",
    "print(f'The ASCII for {repr(string.whitespace[3])} is {ord(string.whitespace[3])}')\n",
    "print(f'The ASCII for {repr(string.whitespace[4])} is {ord(string.whitespace[4])}')\n",
    "print(f'The ASCII for {repr(string.whitespace[5])} is {ord(string.whitespace[5])}')"
   ]
  },
  {
   "cell_type": "code",
   "execution_count": 13,
   "metadata": {},
   "outputs": [
    {
     "name": "stdout",
     "output_type": "stream",
     "text": [
      "The ASCII value of Horizontal tab is: 9\n",
      "The ASCII value of New Line is: 10\n",
      "The ASCII value of Vertical tab is: 11\n",
      "The ASCII value of Feed: 12\n",
      "The ASCII value of Carriage Return is: 13\n",
      "The ASCII value of space is: 32\n"
     ]
    }
   ],
   "source": [
    "#9. WAP to print ascii value of all white-space characters present in python.\n",
    "\n",
    "print('The ASCII value of Horizontal tab is:', ord('\\t'))\n",
    "print('The ASCII value of New Line is:', ord('\\n'))\n",
    "print('The ASCII value of Vertical tab is:', ord('\\v'))\n",
    "print('The ASCII value of Feed:', ord('\\f'))\n",
    "print('The ASCII value of Carriage Return is:', ord('\\r'))\n",
    "print('The ASCII value of space is:', ord(' '))"
   ]
  },
  {
   "cell_type": "code",
   "execution_count": 7,
   "metadata": {},
   "outputs": [
    {
     "name": "stdout",
     "output_type": "stream",
     "text": [
      "Enter a characterb\n",
      "The ASCII value of the entered character is : 98\n"
     ]
    }
   ],
   "source": [
    "#10. Input a single character and print its ascii values. \n",
    "\n",
    "c = input('Enter a character')\n",
    "print('The ASCII value of the entered character is :' , ord(c))"
   ]
  },
  {
   "cell_type": "code",
   "execution_count": 10,
   "metadata": {},
   "outputs": [
    {
     "name": "stdout",
     "output_type": "stream",
     "text": [
      "Enter area of the circle30\n",
      "Radius of the circle is : 3.0909772123696633\n",
      "Circumference of the circle is :  19.411336893681487\n"
     ]
    }
   ],
   "source": [
    "#11. WAP that takes area of a circle and gives back the radius and circumference. \n",
    "\n",
    "import math\n",
    "A = float(input('Enter area of the circle'))\n",
    "r = math.sqrt(A/3.14)\n",
    "c = 2*3.14*r\n",
    "print('Radius of the circle is :', r)\n",
    "print('Circumference of the circle is : ', c)"
   ]
  },
  {
   "cell_type": "code",
   "execution_count": 12,
   "metadata": {},
   "outputs": [
    {
     "name": "stdout",
     "output_type": "stream",
     "text": [
      "Please enter marks out of 100 in 1st subject : 80\n",
      "Please enter marks out of 100 in 2nd subject : 90\n",
      "Please enter marks out of 100 in 3rd subject : 92\n",
      "Please enter marks out of 100 in 4th subject : 88\n",
      "Please enter marks out of 100 in 2nd subject : 83\n",
      "The average marks out of 100 are : 86.6\n"
     ]
    }
   ],
   "source": [
    "#12. We need to input marks in 5 subjects out of 100 and print percentage. \n",
    "\n",
    "m1=float(input('Please enter marks out of 100 in 1st subject : '))\n",
    "m2=float(input('Please enter marks out of 100 in 2nd subject : '))\n",
    "m3=float(input('Please enter marks out of 100 in 3rd subject : '))\n",
    "m4=float(input('Please enter marks out of 100 in 4th subject : '))\n",
    "m5=float(input('Please enter marks out of 100 in 2nd subject : '))\n",
    "a=(m1+m2+m3+m4+m5)/5\n",
    "print(f'The average marks out of 100 are : {a}')"
   ]
  },
  {
   "cell_type": "code",
   "execution_count": null,
   "metadata": {},
   "outputs": [],
   "source": []
  }
 ],
 "metadata": {
  "kernelspec": {
   "display_name": "Python 3",
   "language": "python",
   "name": "python3"
  },
  "language_info": {
   "codemirror_mode": {
    "name": "ipython",
    "version": 3
   },
   "file_extension": ".py",
   "mimetype": "text/x-python",
   "name": "python",
   "nbconvert_exporter": "python",
   "pygments_lexer": "ipython3",
   "version": "3.8.3"
  }
 },
 "nbformat": 4,
 "nbformat_minor": 4
}
