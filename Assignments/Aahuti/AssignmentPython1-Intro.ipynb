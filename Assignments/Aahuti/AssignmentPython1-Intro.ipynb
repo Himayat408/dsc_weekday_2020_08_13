{
 "cells": [
  {
   "cell_type": "code",
   "execution_count": 1,
   "metadata": {},
   "outputs": [
    {
     "name": "stdout",
     "output_type": "stream",
     "text": [
      "6 19\n"
     ]
    }
   ],
   "source": [
    "#1.Predict output :\n",
    "\n",
    "s1 = 'Gaurav'\n",
    "s2 = 'tutuer.py@gmail.com'\n",
    "print(len(s1), len(s2))"
   ]
  },
  {
   "cell_type": "code",
   "execution_count": 2,
   "metadata": {},
   "outputs": [
    {
     "name": "stdout",
     "output_type": "stream",
     "text": [
      "Enter a string : aahuti\n",
      "6\n"
     ]
    }
   ],
   "source": [
    "#2. WAP to input a string and print it's length.\n",
    "\n",
    "s = input('Enter a string : ')\n",
    "print(len(s))"
   ]
  },
  {
   "cell_type": "code",
   "execution_count": 5,
   "metadata": {},
   "outputs": [
    {
     "name": "stdout",
     "output_type": "stream",
     "text": [
      "Enter a number : 12\n",
      "Enter a number : 10\n",
      "22\n",
      "2\n"
     ]
    }
   ],
   "source": [
    "#3.WAP to input 2 nos & print there sum and difference.\n",
    "\n",
    "x1 = int(input('Enter a number : '))\n",
    "x2 = int(input('Enter a number : '))\n",
    "sum = print(x1 + x2)\n",
    "difference = print(x1 - x2)"
   ]
  },
  {
   "cell_type": "code",
   "execution_count": 6,
   "metadata": {},
   "outputs": [
    {
     "name": "stdout",
     "output_type": "stream",
     "text": [
      "Enter number 1 =4\n",
      "Enter number 2 =5\n",
      "Sum =  9\n",
      "Difference =  -1\n"
     ]
    }
   ],
   "source": [
    "#3.WAP to input 2 nos & print there sum and difference.\n",
    "\n",
    "n1 = int(input('Enter number 1 ='))\n",
    "n2 = int(input('Enter number 2 ='))\n",
    "print('Sum = ', n1+n2)\n",
    "print('Difference = ', n1-n2)"
   ]
  },
  {
   "cell_type": "code",
   "execution_count": 7,
   "metadata": {},
   "outputs": [
    {
     "name": "stdout",
     "output_type": "stream",
     "text": [
      "abde\n"
     ]
    }
   ],
   "source": [
    "#4.Predict the output\n",
    "\n",
    "s1 = 'ab'\n",
    "s2 = 'de'\n",
    "s3 = s1 + s2\n",
    "print(s3)\n",
    "#o/p - abde as '+' does concatenation to string variables."
   ]
  },
  {
   "cell_type": "code",
   "execution_count": 8,
   "metadata": {},
   "outputs": [
    {
     "name": "stdout",
     "output_type": "stream",
     "text": [
      "abababab\n"
     ]
    }
   ],
   "source": [
    "#5.Predict the output:\n",
    "\n",
    "s1 = 'ab'*4\n",
    "print(s1)\n",
    "# o/p - abababab as '*' does concatenation 4 times."
   ]
  },
  {
   "cell_type": "code",
   "execution_count": 9,
   "metadata": {},
   "outputs": [
    {
     "name": "stdout",
     "output_type": "stream",
     "text": [
      "ab\n",
      "ab\n",
      "ab\n",
      "ab\n",
      "\n"
     ]
    }
   ],
   "source": [
    "#6.Predict the output:\n",
    "\n",
    "s1 = 'ab\\n'*4\n",
    "print(s1)\n",
    "# o/p - ab\n",
    "#       ab\n",
    "#       ab\n",
    "#       ab  as \\n creates a new line"
   ]
  },
  {
   "cell_type": "code",
   "execution_count": 18,
   "metadata": {},
   "outputs": [
    {
     "name": "stdout",
     "output_type": "stream",
     "text": [
      "Enter a string : ahuti\n",
      "Enter a number : 4\n",
      "ahuti\n",
      "ahuti\n",
      "ahuti\n",
      "ahuti\n",
      "\n",
      "String :aa\n",
      "Number2\n",
      "aa\n",
      "aa\n",
      "\n"
     ]
    }
   ],
   "source": [
    "#7. WAP to input a string s and a number n. Print the string n times on the screen, each should appear in a separate line.\n",
    "# (Don't use any loop, use multiplication operator)\n",
    "\n",
    "s1 = input('Enter a string : ')+'\\n'\n",
    "n1 = int(input('Enter a number : '))\n",
    "s2 = s1 * n1\n",
    "print(s2)"
   ]
  },
  {
   "cell_type": "code",
   "execution_count": null,
   "metadata": {},
   "outputs": [],
   "source": [
    "#7. WAP to input a string s and a number n. Print the string n times on the screen, each should appear in a separate line.\n",
    "# (Don't use any loop, use multiplication operator)\n",
    "\n",
    "s = input('String :')\n",
    "p = input ('Number')\n",
    "print((str(s)+'\\n')*int(p))"
   ]
  },
  {
   "cell_type": "code",
   "execution_count": 20,
   "metadata": {},
   "outputs": [
    {
     "name": "stdout",
     "output_type": "stream",
     "text": [
      "Gaurav\n",
      "None\n"
     ]
    }
   ],
   "source": [
    "#8.Predict Output:\n",
    "\n",
    "res=print(\"Gaurav\")\n",
    "print(res)\n",
    "# o/p - Gaurav\n",
    "#       None"
   ]
  },
  {
   "cell_type": "code",
   "execution_count": 21,
   "metadata": {},
   "outputs": [
    {
     "name": "stdout",
     "output_type": "stream",
     "text": [
      "<class 'int'>\n"
     ]
    }
   ],
   "source": [
    "#9.Predict Output:\n",
    "\n",
    "res = len('tuteur.py@gmail.com')\n",
    "print(type(res))\n",
    "\n",
    "#O/P <class int> as len() returns the length of the string, which is an integer"
   ]
  },
  {
   "cell_type": "code",
   "execution_count": 24,
   "metadata": {},
   "outputs": [
    {
     "name": "stdout",
     "output_type": "stream",
     "text": [
      "Gaurav\n",
      "tuteur.py@gmail.com\n",
      "<class 'str'>\n",
      "6\n",
      "19\n",
      "26\n"
     ]
    }
   ],
   "source": [
    "#10.Predict Output:\n",
    "\n",
    "s1='Gaurav'\n",
    "s2='tuteur.py@gmail.com'\n",
    "s3=s1+'\\n'+s2\n",
    "print(type(s3))\n",
    "print(len(s3))\n",
    "\n",
    "# "
   ]
  },
  {
   "cell_type": "code",
   "execution_count": 26,
   "metadata": {},
   "outputs": [
    {
     "name": "stdout",
     "output_type": "stream",
     "text": [
      "['__doc__', '__loader__', '__name__', '__package__', '__spec__', 'acos', 'acosh', 'asin', 'asinh', 'atan', 'atan2', 'atanh', 'ceil', 'comb', 'copysign', 'cos', 'cosh', 'degrees', 'dist', 'e', 'erf', 'erfc', 'exp', 'expm1', 'fabs', 'factorial', 'floor', 'fmod', 'frexp', 'fsum', 'gamma', 'gcd', 'hypot', 'inf', 'isclose', 'isfinite', 'isinf', 'isnan', 'isqrt', 'ldexp', 'lgamma', 'log', 'log10', 'log1p', 'log2', 'modf', 'nan', 'perm', 'pi', 'pow', 'prod', 'radians', 'remainder', 'sin', 'sinh', 'sqrt', 'tan', 'tanh', 'tau', 'trunc']\n"
     ]
    }
   ],
   "source": [
    "#11.Find the name of the function to find the square root. (See all the options available in dir() of math)\n",
    "\n",
    "import math\n",
    "print(dir(math))\n",
    "\n",
    "# 'sqrt()' is the function which is used to find the square root."
   ]
  },
  {
   "cell_type": "code",
   "execution_count": 31,
   "metadata": {},
   "outputs": [
    {
     "name": "stdout",
     "output_type": "stream",
     "text": [
      "Enter a number : 100\n",
      "10.0\n"
     ]
    }
   ],
   "source": [
    "#12.WAP to input a number and print it's square root.\n",
    "\n",
    "from math import sqrt\n",
    "p = int(input('Enter a number : '))\n",
    "print(sqrt(p))"
   ]
  },
  {
   "cell_type": "code",
   "execution_count": 32,
   "metadata": {},
   "outputs": [
    {
     "name": "stdout",
     "output_type": "stream",
     "text": [
      "Enter 1st number : 12\n",
      "Enter 2nd number : 14\n",
      "Enter 3rd number : 8\n",
      "Enter 4th number : 4\n",
      "9.5\n"
     ]
    }
   ],
   "source": [
    "#13.WAP to input 4 numbers from the user and print their average.\n",
    "\n",
    "n1 = int(input('Enter 1st number : '))\n",
    "n2 = int(input('Enter 2nd number : '))\n",
    "n3 = int(input('Enter 3rd number : '))\n",
    "n4 = int(input('Enter 4th number : '))\n",
    "avg = (n1+n2+n3+n4)/4\n",
    "print(avg)"
   ]
  },
  {
   "cell_type": "code",
   "execution_count": 33,
   "metadata": {},
   "outputs": [
    {
     "name": "stdout",
     "output_type": "stream",
     "text": [
      "Enter 1st number 10\n",
      "Enter 2nd number 20\n",
      "Enter 3rd number 30\n",
      "Enter 4th number 40\n",
      "25.0\n"
     ]
    }
   ],
   "source": [
    "#13.WAP to input 4 numbers from the user and print their average.\n",
    "\n",
    "n1=int(input('Enter 1st number '))\n",
    "n2=int(input('Enter 2nd number '))\n",
    "n3=int(input('Enter 3rd number '))\n",
    "n4=int(input('Enter 4th number '))\n",
    "print((n1+n2+n3+n4)/4)"
   ]
  },
  {
   "cell_type": "code",
   "execution_count": 37,
   "metadata": {},
   "outputs": [
    {
     "name": "stdout",
     "output_type": "stream",
     "text": [
      "Help on built-in function abs in module builtins:\n",
      "\n",
      "abs(x, /)\n",
      "    Return the absolute value of the argument.\n",
      "\n",
      "5.234\n"
     ]
    }
   ],
   "source": [
    "#14.Use the help function to check what the abs function in python does?\n",
    "\n",
    "help(abs)\n",
    "print(abs(5.234))\n",
    "\n",
    "# abs() - It returns the absolute value of the argument"
   ]
  },
  {
   "cell_type": "code",
   "execution_count": 39,
   "metadata": {},
   "outputs": [
    {
     "name": "stdout",
     "output_type": "stream",
     "text": [
      "__main__\n"
     ]
    }
   ],
   "source": [
    "#15. What is the output of this code when run in the Python interpreter?\n",
    "\n",
    "print(__name__)\n",
    "\n",
    "#o/p - __main__\n",
    "# __name__ is a built-in variable which evaluates to the name of the current module.Thus it can be used to check whether the current\n",
    "# script is being run on its own or being imported somewhere else"
   ]
  },
  {
   "cell_type": "code",
   "execution_count": null,
   "metadata": {},
   "outputs": [],
   "source": [
    "#16.What is the output of this code when run in the Python script?\n",
    "\n",
    "print(__name__)\n",
    "\n",
    "#o/p - __main__"
   ]
  },
  {
   "cell_type": "code",
   "execution_count": 41,
   "metadata": {},
   "outputs": [
    {
     "name": "stdout",
     "output_type": "stream",
     "text": [
      "['__abs__', '__add__', '__and__', '__bool__', '__ceil__', '__class__', '__delattr__', '__dir__', '__divmod__', '__doc__', '__eq__', '__float__', '__floor__', '__floordiv__', '__format__', '__ge__', '__getattribute__', '__getnewargs__', '__gt__', '__hash__', '__index__', '__init__', '__init_subclass__', '__int__', '__invert__', '__le__', '__lshift__', '__lt__', '__mod__', '__mul__', '__ne__', '__neg__', '__new__', '__or__', '__pos__', '__pow__', '__radd__', '__rand__', '__rdivmod__', '__reduce__', '__reduce_ex__', '__repr__', '__rfloordiv__', '__rlshift__', '__rmod__', '__rmul__', '__ror__', '__round__', '__rpow__', '__rrshift__', '__rshift__', '__rsub__', '__rtruediv__', '__rxor__', '__setattr__', '__sizeof__', '__str__', '__sub__', '__subclasshook__', '__truediv__', '__trunc__', '__xor__', 'as_integer_ratio', 'bit_length', 'conjugate', 'denominator', 'from_bytes', 'imag', 'numerator', 'real', 'to_bytes']\n"
     ]
    }
   ],
   "source": [
    "#17.Does the dir of int class contain an attribute __name__ ? (Y/N)\n",
    "\n",
    "print(dir(int))\n",
    "\n",
    "#Ans - No it does not contain __name__"
   ]
  },
  {
   "cell_type": "code",
   "execution_count": 42,
   "metadata": {},
   "outputs": [
    {
     "name": "stdout",
     "output_type": "stream",
     "text": [
      "__main__\n",
      "builtins\n",
      "int\n"
     ]
    }
   ],
   "source": [
    "#18.Predict the output of :\n",
    "\n",
    "print(__name__)\n",
    "print(__builtins__.__name__)\n",
    "print(int.__name__)\n",
    "\n",
    "#o/p - \n",
    "\n",
    "# __main__\n",
    "# builtins\n",
    "# int"
   ]
  },
  {
   "cell_type": "code",
   "execution_count": null,
   "metadata": {},
   "outputs": [],
   "source": []
  },
  {
   "cell_type": "code",
   "execution_count": null,
   "metadata": {},
   "outputs": [],
   "source": []
  }
 ],
 "metadata": {
  "kernelspec": {
   "display_name": "Python 3",
   "language": "python",
   "name": "python3"
  },
  "language_info": {
   "codemirror_mode": {
    "name": "ipython",
    "version": 3
   },
   "file_extension": ".py",
   "mimetype": "text/x-python",
   "name": "python",
   "nbconvert_exporter": "python",
   "pygments_lexer": "ipython3",
   "version": "3.8.3"
  }
 },
 "nbformat": 4,
 "nbformat_minor": 4
}
