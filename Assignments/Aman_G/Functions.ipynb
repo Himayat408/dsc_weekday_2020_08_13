{
 "cells": [
  {
   "cell_type": "code",
   "execution_count": 5,
   "metadata": {},
   "outputs": [
    {
     "name": "stdout",
     "output_type": "stream",
     "text": [
      "3 2\n"
     ]
    }
   ],
   "source": [
    "#Solution 1\n",
    "def swap(a,b):\n",
    "    temp=0\n",
    "    temp=a\n",
    "    a=b\n",
    "    b=temp\n",
    "    print(a,b)\n",
    "swap(2,3)\n",
    "    "
   ]
  },
  {
   "cell_type": "code",
   "execution_count": 15,
   "metadata": {},
   "outputs": [
    {
     "name": "stdout",
     "output_type": "stream",
     "text": [
      "10.25\n"
     ]
    }
   ],
   "source": [
    "#Solution 2\n",
    "import random\n",
    "\n",
    "x=random.randint(0,27)\n",
    "y=random.randint(0,27)\n",
    "z=random.randint(0,27)\n",
    "a=random.randint(0,27)\n",
    "print((x+y+z+a)/4)"
   ]
  },
  {
   "cell_type": "code",
   "execution_count": 58,
   "metadata": {},
   "outputs": [
    {
     "data": {
      "text/plain": [
       "16"
      ]
     },
     "execution_count": 58,
     "metadata": {},
     "output_type": "execute_result"
    }
   ],
   "source": [
    "#Solution 4\n",
    "def get_si(p,r,t):\n",
    "    si=(p*r*t)/100\n",
    "    return si\n",
    "get_si(100,8,2)    "
   ]
  },
  {
   "cell_type": "code",
   "execution_count": 56,
   "metadata": {},
   "outputs": [
    {
     "name": "stdout",
     "output_type": "stream",
     "text": [
      "The generated random string : TF\n"
     ]
    }
   ],
   "source": [
    "#Solution 3\n",
    "import string \n",
    "import random \n",
    "  \n",
    "# initializing size of string  \n",
    "N = 2\n",
    "#mylist=['a','b','c','d','e','f','g','h','i','j','k','l','m','n','o','p','q','r','s','t','u','v','w','x','y','z','A','B','C'\n",
    "        #,'D','E','F','G','H','I','J','K','L','M','N','O','P','Q','R','S','T','U','V','W','X','Y','Z']\n",
    "  \n",
    "# using random.choices() \n",
    "# generating random strings  \n",
    "ran = ''.join(random.choices(string.ascii_uppercase + string.ascii_lowercase,k = N))\n",
    "#print(random.choices(mylist,k = N))\n",
    "                             #+\n",
    "                        \n",
    "  \n",
    "# print result \n",
    "print(\"The generated random string : \" + str(ran))"
   ]
  },
  {
   "cell_type": "code",
   "execution_count": 59,
   "metadata": {},
   "outputs": [
    {
     "data": {
      "text/plain": [
       "116"
      ]
     },
     "execution_count": 59,
     "metadata": {},
     "output_type": "execute_result"
    }
   ],
   "source": [
    "#Solution 5\n",
    "def get_amount(p,r,t):\n",
    "    x=get_si(p,r,t)+p\n",
    "    return x\n",
    "get_amount(100,8,2)"
   ]
  },
  {
   "cell_type": "code",
   "execution_count": 1,
   "metadata": {},
   "outputs": [
    {
     "data": {
      "text/plain": [
       "16.640000000000015"
      ]
     },
     "execution_count": 1,
     "metadata": {},
     "output_type": "execute_result"
    }
   ],
   "source": [
    "#Solution 6\n",
    "def get_ci(p,r,t):\n",
    "    Amount = p * (pow((1 + r / 100), t)) \n",
    "    CI = Amount - p\n",
    "    return CI\n",
    "get_ci(100,8,2)\n",
    "    "
   ]
  },
  {
   "cell_type": "code",
   "execution_count": 66,
   "metadata": {},
   "outputs": [
    {
     "data": {
      "text/plain": [
       "['4', '1']"
      ]
     },
     "execution_count": 66,
     "metadata": {},
     "output_type": "execute_result"
    }
   ],
   "source": [
    "#Solution 7\n",
    "def get_q_r(x,y):\n",
    "    r=int(x/y)\n",
    "    q=x%y\n",
    "    return [str(r),str(q)]\n",
    "get_q_r(9,2)\n",
    "    "
   ]
  },
  {
   "cell_type": "code",
   "execution_count": 68,
   "metadata": {},
   "outputs": [
    {
     "data": {
      "text/plain": [
       "5.0"
      ]
     },
     "execution_count": 68,
     "metadata": {},
     "output_type": "execute_result"
    }
   ],
   "source": [
    "#Solution 8\n",
    "import math\n",
    "def get_hyp(l,b):\n",
    "    h=math.sqrt(l**2+b**2)\n",
    "    return h\n",
    "get_hyp(3,4)"
   ]
  },
  {
   "cell_type": "code",
   "execution_count": 78,
   "metadata": {},
   "outputs": [
    {
     "name": "stdout",
     "output_type": "stream",
     "text": [
      "10000\n",
      "0 day 2 hours 46 minutes 40 seconds \n"
     ]
    }
   ],
   "source": [
    "#Solution 9\n",
    "x=int(input())\n",
    "d=int(x/(60*60*24))\n",
    "h=int(x/(60*60))\n",
    "r=int(x%(60*60))\n",
    "m=int(r/60)\n",
    "s=int(r%60)\n",
    "print(str(d) +' day ' + str(h) +' hours ' +str(m) +' minutes ' +str(s) +' seconds ')"
   ]
  },
  {
   "cell_type": "code",
   "execution_count": 80,
   "metadata": {},
   "outputs": [
    {
     "data": {
      "text/plain": [
       "'3.8.3 (default, Jul  2 2020, 17:30:36) [MSC v.1916 64 bit (AMD64)]'"
      ]
     },
     "execution_count": 80,
     "metadata": {},
     "output_type": "execute_result"
    }
   ],
   "source": [
    "#Solution 10\n",
    "import sys\n",
    "sys.version"
   ]
  },
  {
   "cell_type": "code",
   "execution_count": 81,
   "metadata": {},
   "outputs": [
    {
     "name": "stdout",
     "output_type": "stream",
     "text": [
      "2 -2\n"
     ]
    }
   ],
   "source": [
    "#Solution 11\n",
    "x=2\n",
    "x*=3\n",
    "x=x%4\n",
    "y=-x\n",
    "print(x,y)"
   ]
  },
  {
   "cell_type": "code",
   "execution_count": 82,
   "metadata": {},
   "outputs": [
    {
     "name": "stdout",
     "output_type": "stream",
     "text": [
      "None\n"
     ]
    }
   ],
   "source": [
    "def funct():\n",
    "    pass\n",
    "print(funct())"
   ]
  },
  {
   "cell_type": "code",
   "execution_count": null,
   "metadata": {},
   "outputs": [],
   "source": []
  }
 ],
 "metadata": {
  "kernelspec": {
   "display_name": "Python 3",
   "language": "python",
   "name": "python3"
  },
  "language_info": {
   "codemirror_mode": {
    "name": "ipython",
    "version": 3
   },
   "file_extension": ".py",
   "mimetype": "text/x-python",
   "name": "python",
   "nbconvert_exporter": "python",
   "pygments_lexer": "ipython3",
   "version": "3.8.3"
  }
 },
 "nbformat": 4,
 "nbformat_minor": 4
}
