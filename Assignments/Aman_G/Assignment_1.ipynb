{
 "cells": [
  {
   "cell_type": "code",
   "execution_count": 2,
   "metadata": {},
   "outputs": [
    {
     "name": "stdout",
     "output_type": "stream",
     "text": [
      "100\n",
      "37.77777777777778 2\n"
     ]
    }
   ],
   "source": [
    "#Solution 1\n",
    "T=int(input())\n",
    "print(round(T-32)*(5/9),2)"
   ]
  },
  {
   "cell_type": "code",
   "execution_count": 16,
   "metadata": {},
   "outputs": [
    {
     "name": "stdout",
     "output_type": "stream",
     "text": [
      "2\n",
      "Square: 4\n",
      "Cube: 8\n"
     ]
    }
   ],
   "source": [
    "#Solution 2\n",
    "x=int(input())\n",
    "print(f'Square: '+str(x**2))\n",
    "print(f'Cube: '+str(pow(x,3)))"
   ]
  },
  {
   "cell_type": "code",
   "execution_count": 17,
   "metadata": {},
   "outputs": [
    {
     "name": "stdout",
     "output_type": "stream",
     "text": [
      "3\n",
      "4\n",
      "25\n"
     ]
    }
   ],
   "source": [
    "#Solution 3\n",
    "n=int(input())\n",
    "m=int(input())\n",
    "result=n**2+m**2\n",
    "print(result)"
   ]
  },
  {
   "cell_type": "code",
   "execution_count": 18,
   "metadata": {},
   "outputs": [
    {
     "name": "stdout",
     "output_type": "stream",
     "text": [
      "2\n",
      "3\n",
      "9\n"
     ]
    }
   ],
   "source": [
    "#Solution 4\n",
    "n=int(input())\n",
    "m=int(input())\n",
    "print(pow(m,n))"
   ]
  },
  {
   "cell_type": "code",
   "execution_count": 19,
   "metadata": {},
   "outputs": [
    {
     "name": "stdout",
     "output_type": "stream",
     "text": [
      "1000\n",
      "9\n",
      "2\n",
      "1800000\n"
     ]
    }
   ],
   "source": [
    "#Solution 5\n",
    "p=int(input())\n",
    "r=int(input())\n",
    "t=int(input())\n",
    "print((p*r*t)*100)"
   ]
  },
  {
   "cell_type": "code",
   "execution_count": 1,
   "metadata": {},
   "outputs": [
    {
     "name": "stdout",
     "output_type": "stream",
     "text": [
      "100\n",
      "8\n",
      "2\n",
      "Amount : 116.64000000000001Compound Interest : 16.640000000000015\n"
     ]
    }
   ],
   "source": [
    "#Solution 6\n",
    "p=int(input())\n",
    "r=int(input())\n",
    "t=int(input())\n",
    "Amount = p * (pow((1 + r / 100), t)) \n",
    "CI = Amount - p\n",
    "print(f'Amount : '+str(Amount)+ ' Compound Interest : '+str(CI))"
   ]
  },
  {
   "cell_type": "code",
   "execution_count": 36,
   "metadata": {},
   "outputs": [
    {
     "name": "stdout",
     "output_type": "stream",
     "text": [
      "4\n",
      "Sum of first 4 natural numbers: 10.0\n"
     ]
    }
   ],
   "source": [
    "#Solution 7\n",
    "n=int(input())\n",
    "print(f'Sum of first '+str(n)+' natural numbers: '+str(n*(n+1)/2))"
   ]
  },
  {
   "cell_type": "code",
   "execution_count": 39,
   "metadata": {},
   "outputs": [
    {
     "name": "stdout",
     "output_type": "stream",
     "text": [
      "3\n",
      "2\n",
      "2 3\n"
     ]
    }
   ],
   "source": [
    "#Solution 8\n",
    "#Using Temp Variable\n",
    "a=int(input())\n",
    "b=int(input())\n",
    "temp=0\n",
    "temp=a\n",
    "a=b\n",
    "b=temp\n",
    "print(a,b)"
   ]
  },
  {
   "cell_type": "code",
   "execution_count": 4,
   "metadata": {},
   "outputs": [
    {
     "name": "stdout",
     "output_type": "stream",
     "text": [
      "7 5\n"
     ]
    }
   ],
   "source": [
    "#Using Pythonic Way\n",
    "#x=5\n",
    "#y=7\n",
    "#x,y=y,x\n",
    "#print(x,y)\n",
    "\n",
    "#Using Bitwise XOR Operator\n",
    "x=5\n",
    "y=7\n",
    "x^=y\n",
    "y^=x\n",
    "x^=y\n",
    "print(x,y)\n"
   ]
  },
  {
   "cell_type": "code",
   "execution_count": 48,
   "metadata": {},
   "outputs": [
    {
     "name": "stdout",
     "output_type": "stream",
     "text": [
      "97\n",
      "32\n"
     ]
    }
   ],
   "source": [
    "#Solution 9\n",
    "print(ord(' '))  #all white spaces"
   ]
  },
  {
   "cell_type": "code",
   "execution_count": 49,
   "metadata": {},
   "outputs": [
    {
     "name": "stdout",
     "output_type": "stream",
     "text": [
      "98\n"
     ]
    }
   ],
   "source": [
    "#Solution 10\n",
    "print(ord('b')) #"
   ]
  },
  {
   "cell_type": "code",
   "execution_count": 53,
   "metadata": {},
   "outputs": [
    {
     "name": "stdout",
     "output_type": "stream",
     "text": [
      "314\n",
      "10.0 62.800000000000004\n"
     ]
    }
   ],
   "source": [
    "#Solution 11\n",
    "import math\n",
    "pi=3.14\n",
    "Area_of_circle=int(input())\n",
    "r=math.sqrt(Area_of_circle/pi)\n",
    "c=2*pi*r\n",
    "print(r,c)  #How to limit decimal places"
   ]
  },
  {
   "cell_type": "code",
   "execution_count": 55,
   "metadata": {},
   "outputs": [
    {
     "name": "stdout",
     "output_type": "stream",
     "text": [
      "60\n",
      "70\n",
      "80\n",
      "90\n",
      "80\n",
      "Percentage: 76.0\n"
     ]
    }
   ],
   "source": [
    "#Solution 12\n",
    "S1=int(input())\n",
    "S2=int(input())\n",
    "S3=int(input())\n",
    "S4=int(input())\n",
    "S5=int(input())\n",
    "T_M=S1+S2+S3+S4+S5\n",
    "Per=((T_M/500))*100\n",
    "print(f'Percentage: '+str(Per))"
   ]
  },
  {
   "cell_type": "code",
   "execution_count": null,
   "metadata": {},
   "outputs": [],
   "source": []
  }
 ],
 "metadata": {
  "kernelspec": {
   "display_name": "Python 3",
   "language": "python",
   "name": "python3"
  },
  "language_info": {
   "codemirror_mode": {
    "name": "ipython",
    "version": 3
   },
   "file_extension": ".py",
   "mimetype": "text/x-python",
   "name": "python",
   "nbconvert_exporter": "python",
   "pygments_lexer": "ipython3",
   "version": "3.8.3"
  }
 },
 "nbformat": 4,
 "nbformat_minor": 4
}
