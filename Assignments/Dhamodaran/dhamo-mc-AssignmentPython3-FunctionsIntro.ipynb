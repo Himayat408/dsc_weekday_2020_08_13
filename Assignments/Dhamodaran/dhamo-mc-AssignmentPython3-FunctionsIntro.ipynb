{
 "cells": [
  {
   "cell_type": "markdown",
   "metadata": {},
   "source": [
    "# Python Functions Intro"
   ]
  },
  {
   "cell_type": "code",
   "execution_count": 20,
   "metadata": {},
   "outputs": [
    {
     "name": "stdout",
     "output_type": "stream",
     "text": [
      "Enter str1: ibm\n",
      "Enter str2: learnbay\n",
      "s1=ibm, s2=learnbay\n",
      "after swap\n",
      "s1=learnbay, s2=ibm\n"
     ]
    }
   ],
   "source": [
    "# 1. WAP to input 2 strings and swap the strings\n",
    "\n",
    "s1 = input(\"Enter str1: \")\n",
    "s2 = input(\"Enter str2: \")\n",
    "print(f\"s1={s1}, s2={s2}\")\n",
    "st = s2\n",
    "s2 = s1\n",
    "s1 = st\n",
    "print(f\"after swap\\ns1={s1}, s2={s2}\")"
   ]
  },
  {
   "cell_type": "code",
   "execution_count": 31,
   "metadata": {},
   "outputs": [
    {
     "name": "stdout",
     "output_type": "stream",
     "text": [
      "Average of 4,4,8,12 = 7.0\n"
     ]
    }
   ],
   "source": [
    "# 2. WAP to generate 4 random numbers in the range 0-26 and print their average\n",
    "\n",
    "import random\n",
    "def get_random(start, end, step):\n",
    "    return random.randrange(0,26,4)\n",
    "\n",
    "n1 = get_random(0,26,4)\n",
    "n2 = get_random(0,26,4)\n",
    "n3 = get_random(0,26,4)\n",
    "n4 = get_random(0,26,4)\n",
    "nums = (n1,n2,n3,n4)\n",
    "\n",
    "print(f\"Average of {n1},{n2},{n3},{n4} = {sum(nums)/len(nums)}\")"
   ]
  },
  {
   "cell_type": "code",
   "execution_count": 70,
   "metadata": {},
   "outputs": [
    {
     "name": "stdout",
     "output_type": "stream",
     "text": [
      "q\n"
     ]
    }
   ],
   "source": [
    "# 3. WAP to generate and print a random uppercase or lowercase alphabet. \n",
    "# Try these:\n",
    "# • Create a string containing all alphabets and then select a random alphabet.\n",
    "# • Check the module string\n",
    "\n",
    "import random\n",
    "s = \"abcdefghijklkmnopqrstuvwxyzABCDEFGHIJKLKMNOPQRSTUVWXYZ\"\n",
    "size = len(s)\n",
    "rnd = random.randrange(0,size)\n",
    "alphabet = s[rnd:rnd+1]\n",
    "print(alphabet)"
   ]
  },
  {
   "cell_type": "code",
   "execution_count": 66,
   "metadata": {},
   "outputs": [
    {
     "name": "stdout",
     "output_type": "stream",
     "text": [
      "Enter principle: 100000\n",
      "Enter rate: 2\n",
      "Enter time: 10\n",
      "Simple interest = 20000.0\n"
     ]
    }
   ],
   "source": [
    "# 4. WAF get_si() that takes Principle, Rate and Time as arguments and returns the Simple Interest.\n",
    "# My Note: \n",
    "# Simple interest is calculated by multiplying the daily interest rate \n",
    "# by the principal amount by the number of days that elapse between the payments.\n",
    "\n",
    "def get_si(principle, rate, time):\n",
    "    si = (principle * rate * time) / 100\n",
    "    return si\n",
    "\n",
    "p = float(input(\"Enter principle: \"))\n",
    "r = float(input(\"Enter rate: \"))\n",
    "t = float(input(\"Enter time: \"))\n",
    "\n",
    "si = get_si(p, r, t)\n",
    "print(f\"Simple interest = {si}\")"
   ]
  },
  {
   "cell_type": "code",
   "execution_count": 7,
   "metadata": {},
   "outputs": [],
   "source": [
    "# 5. WAF get_amount() that takes Principle, Rate and Time as arguments and returns the\n",
    "# Total amount using the get_si() function from above to calculate the SI. Also provide\n",
    "# Rate = 10 and Time = 1 as default arguments.\n",
    "\n"
   ]
  },
  {
   "cell_type": "code",
   "execution_count": 73,
   "metadata": {},
   "outputs": [
    {
     "name": "stdout",
     "output_type": "stream",
     "text": [
      "Enter principle: 100000\n",
      "Enter rate: 12.50\n",
      "Enter time: 10\n",
      "Compond interest = 224732.1025468409\n"
     ]
    }
   ],
   "source": [
    "# 6. WAP get_ci() that takes Principle, Rate and Time as arguments and returns the Compound Interest. \n",
    "# My NOTE:\n",
    "# Formula to calculate compound interest annually is given by:\n",
    "# A = P(1 + R/100) t  # t is power\n",
    "# Compound Interest = A – P\n",
    "# Where,\n",
    "# A is amount\n",
    "# P is principle amount\n",
    "# R is the rate and\n",
    "# T is the time span\n",
    "\n",
    "def get_ci(principle, rate, time): \n",
    "    amount = principle * (pow((1 + rate / 100), time))  # compound interest\n",
    "    ci = amount - principle \n",
    "    return ci\n",
    "\n",
    "p = float(input(\"Enter principle: \"))\n",
    "r = float(input(\"Enter rate: \"))\n",
    "t = float(input(\"Enter time: \"))\n",
    "ci = get_ci(p, r, t) \n",
    "print(f\"Compond interest = {ci}\")"
   ]
  },
  {
   "cell_type": "code",
   "execution_count": 74,
   "metadata": {},
   "outputs": [
    {
     "name": "stdout",
     "output_type": "stream",
     "text": [
      "Enter num1: 14\n",
      "Enter num2: 3\n",
      "<class 'tuple'>\n",
      "(4.666666666666667, 2)\n"
     ]
    }
   ],
   "source": [
    "# 7. WAP get_q_r() taking 2 numbers as parameters and returns the quotient and remainder in the form of a tuple.\n",
    "\n",
    "def get_q_r(n1, n2):\n",
    "    quotient = n1/n2\n",
    "    remainder = n1%n2\n",
    "    return (quotient, remainder)\n",
    "\n",
    "n1 = int(input(\"Enter num1: \"))\n",
    "n2 = int(input(\"Enter num2: \"))\n",
    "result = get_q_r(n1, n2)\n",
    "print(type(result))\n",
    "print(result)"
   ]
  },
  {
   "cell_type": "code",
   "execution_count": 78,
   "metadata": {},
   "outputs": [
    {
     "name": "stdout",
     "output_type": "stream",
     "text": [
      "Enter height: 250\n",
      "Enter base: 45\n",
      "Hypotenuse of the right angle triangle is = 254.01771591761076\n"
     ]
    }
   ],
   "source": [
    "# 8. WAP to find the length of hypotenuse of a right angled triangle, \n",
    "# input the height and base from user.\n",
    "\n",
    "# My Note:\n",
    "# A hypotenuse is the longest side of a right triangle. \n",
    "# It's the side that is opposite to the right angle (90°). \n",
    "# Hypotenuse length may be found, for example, from the Pythagorean theorem.\n",
    "\n",
    "import math\n",
    "height = int(input(\"Enter height: \"))\n",
    "base = int(input(\"Enter base: \"))\n",
    "hypotenuse = math.hypot(height, base)\n",
    "print(f\"Hypotenuse of the right angle triangle is = {hypotenuse}\")"
   ]
  },
  {
   "cell_type": "code",
   "execution_count": 60,
   "metadata": {},
   "outputs": [
    {
     "name": "stdout",
     "output_type": "stream",
     "text": [
      "Enter seconds: 10000\n",
      "Output = 0 day 2 hour 46 minute 40 second\n"
     ]
    }
   ],
   "source": [
    "# 9. WAP to input number of seconds and print in days, hours, minutes and seconds\n",
    "# ex: input = 10000\n",
    "# Output = 0 day 2 hour 46 minute 40 second\n",
    "\n",
    "def calc_time(seconds):\n",
    "    minutes = seconds//60\n",
    "    hours  = minutes//60\n",
    "    secs = seconds%60\n",
    "    mins = minutes%60\n",
    "    hrs  = hours%24\n",
    "    days = hours//24\n",
    "    print(f\"Output = {days} day {hrs} hour {mins} minute {secs} second\")\n",
    "    \n",
    "s_input = int(input(\"Enter seconds: \"))\n",
    "calc_time(s_input)"
   ]
  },
  {
   "cell_type": "code",
   "execution_count": 33,
   "metadata": {},
   "outputs": [],
   "source": [
    "# 10. Check your version of python interpreter without opening the interpreter (Which\n",
    "# command needs to be used on the command line).\n",
    "\n",
    "# Answer: python --version"
   ]
  },
  {
   "cell_type": "code",
   "execution_count": 15,
   "metadata": {},
   "outputs": [
    {
     "name": "stdout",
     "output_type": "stream",
     "text": [
      "2 -2\n"
     ]
    }
   ],
   "source": [
    "# 11. Find output:\n",
    "x = 2\n",
    "x *= 3\n",
    "x = x%4\n",
    "y = -x\n",
    "print(x, y)"
   ]
  },
  {
   "cell_type": "code",
   "execution_count": 14,
   "metadata": {},
   "outputs": [
    {
     "name": "stdout",
     "output_type": "stream",
     "text": [
      "None\n"
     ]
    }
   ],
   "source": [
    "# 12. Find output:\n",
    "def funct():\n",
    "    pass\n",
    "print(funct())"
   ]
  },
  {
   "cell_type": "code",
   "execution_count": null,
   "metadata": {},
   "outputs": [],
   "source": [
    "## End of assignment ##"
   ]
  }
 ],
 "metadata": {
  "kernelspec": {
   "display_name": "Python 3",
   "language": "python",
   "name": "python3"
  },
  "language_info": {
   "codemirror_mode": {
    "name": "ipython",
    "version": 3
   },
   "file_extension": ".py",
   "mimetype": "text/x-python",
   "name": "python",
   "nbconvert_exporter": "python",
   "pygments_lexer": "ipython3",
   "version": "3.7.4"
  }
 },
 "nbformat": 4,
 "nbformat_minor": 2
}
