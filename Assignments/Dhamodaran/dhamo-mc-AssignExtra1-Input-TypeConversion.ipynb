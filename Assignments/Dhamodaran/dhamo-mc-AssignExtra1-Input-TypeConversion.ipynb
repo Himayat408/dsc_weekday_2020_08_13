{
 "cells": [
  {
   "cell_type": "markdown",
   "metadata": {},
   "source": [
    "# AssignExtra1-Input-TypeConversion"
   ]
  },
  {
   "cell_type": "code",
   "execution_count": 24,
   "metadata": {},
   "outputs": [
    {
     "name": "stdout",
     "output_type": "stream",
     "text": [
      "Enter fahrenheit: 38\n",
      "Fahrenheit: 38, Celsius: 3.3333333333333335\n"
     ]
    }
   ],
   "source": [
    "# 1. Input temperature in Fahrenheit in print in Celsius.\n",
    "\n",
    "fahrenheit = int(input(\"Enter fahrenheit: \"))\n",
    "celsius = (fahrenheit - 32) * 5.0/9.0\n",
    "\n",
    "print (f\"Fahrenheit: {fahrenheit}, Celsius: {celsius}\")\n"
   ]
  },
  {
   "cell_type": "code",
   "execution_count": 16,
   "metadata": {},
   "outputs": [
    {
     "name": "stdout",
     "output_type": "stream",
     "text": [
      "Enter a num: 3\n",
      "square of 3: 9\n",
      "cube of 3: 27\n"
     ]
    }
   ],
   "source": [
    "# 2. Write a program to input a number and print its square and cube.\n",
    "\n",
    "n = int(input(\"Enter a num: \"))\n",
    "print(f\"square of {n}: {n*n}\")\n",
    "print(f\"cube of {n}: {n*n*n}\")\n"
   ]
  },
  {
   "cell_type": "code",
   "execution_count": 19,
   "metadata": {},
   "outputs": [
    {
     "name": "stdout",
     "output_type": "stream",
     "text": [
      "Enter num1: 3\n",
      "Enter num2: 4\n",
      "n2+m2 = 25\n"
     ]
    }
   ],
   "source": [
    "# 3. WAP to input a number n and a number m and print the result of following\n",
    "# n2 + m2\n",
    "\n",
    "n = int(input(\"Enter num1: \"))\n",
    "m = int(input(\"Enter num2: \"))\n",
    "print(f\"n2+m2 = {(n*n)+(m*m)}\")\n"
   ]
  },
  {
   "cell_type": "code",
   "execution_count": 11,
   "metadata": {},
   "outputs": [
    {
     "name": "stdout",
     "output_type": "stream",
     "text": [
      "Enter num1: 3\n",
      "Enter num2: 4\n",
      "m power n = 81\n",
      "using pow(), m power n = 81.0\n"
     ]
    }
   ],
   "source": [
    "# 4. WAP to input a numbers M and N and print result of MN. (use both ** and pow)\n",
    "import math\n",
    "\n",
    "m = int(input(\"Enter num1: \"))\n",
    "n = int(input(\"Enter num2: \"))\n",
    "\n",
    "# using **\n",
    "print(f\"m power n = {m ** n}\")\n",
    "# using pow() function\n",
    "print(f\"using pow(), m power n = {math.pow(m,n)}\")\n"
   ]
  },
  {
   "cell_type": "code",
   "execution_count": 20,
   "metadata": {},
   "outputs": [
    {
     "name": "stdout",
     "output_type": "stream",
     "text": [
      "Enter principle: 10000\n",
      "Enter rate: 7.5\n",
      "Enter time: 5\n",
      "Simple interest = 3750.0\n"
     ]
    }
   ],
   "source": [
    "# 5. Write a simple interest calculator.\n",
    "\n",
    "def get_si(principle, rate, time):\n",
    "    si = (principle * rate * time) / 100\n",
    "    return si\n",
    "\n",
    "p = float(input(\"Enter principle: \"))\n",
    "r = float(input(\"Enter rate: \"))\n",
    "t = float(input(\"Enter time: \"))\n",
    "\n",
    "si = get_si(p, r, t)\n",
    "print(f\"Simple interest = {si}\")\n"
   ]
  },
  {
   "cell_type": "code",
   "execution_count": 22,
   "metadata": {},
   "outputs": [
    {
     "name": "stdout",
     "output_type": "stream",
     "text": [
      "Enter principle: 10000\n",
      "Enter rate: 7.5\n",
      "Enter time: 5\n",
      "Compond interest = 4356.293261718747, Amount = 14356.293261718747\n"
     ]
    }
   ],
   "source": [
    "# 6. Input Principal, Rate, Time and print Compound Interest and Amount.\n",
    "\n",
    "def get_ci(principle, rate, time): \n",
    "    amount = principle * (pow((1 + rate / 100), time))  # compound interest\n",
    "    ci = amount - principle \n",
    "    return amount, ci\n",
    "\n",
    "p = float(input(\"Enter principle: \"))\n",
    "r = float(input(\"Enter rate: \"))\n",
    "t = float(input(\"Enter time: \"))\n",
    "amount, ci = get_ci(p, r, t) \n",
    "print(f\"Compond interest = {ci}, Amount = {amount}\")\n"
   ]
  },
  {
   "cell_type": "code",
   "execution_count": 6,
   "metadata": {},
   "outputs": [
    {
     "name": "stdout",
     "output_type": "stream",
     "text": [
      "Enter last natural num: 5\n",
      "Sum of 5 natural numbers: 15\n"
     ]
    }
   ],
   "source": [
    "# 7. WAP to print sum of first n natural numbers. (n needs to be taken as input).\n",
    "\n",
    "n = int(input(\"Enter last natural num: \"))\n",
    "sum_nums = 0\n",
    "for num in range(1, n+1):\n",
    "    sum_nums += num\n",
    "print(f\"Sum of {n} natural numbers: {sum_nums}\")\n"
   ]
  },
  {
   "cell_type": "code",
   "execution_count": 9,
   "metadata": {},
   "outputs": [
    {
     "name": "stdout",
     "output_type": "stream",
     "text": [
      "Enter num1: 5\n",
      "Enter num2: 10\n",
      "Num1: 5, Num2: 10\n",
      "After swap, Num1: 10, Num2: 5\n",
      "\n",
      "Enter num1: 20\n",
      "Enter num2: 40\n",
      "Num1: 20, Num2: 40\n",
      "After swap, Num1: 40, Num2: 20\n"
     ]
    }
   ],
   "source": [
    "# 8. WAP to input 2 numbers and swap them. \n",
    "# (write using both normal logic with temp variable and also the pythonic way).\n",
    "\n",
    "# swap using temp var\n",
    "n1 = int(input(\"Enter num1: \"))\n",
    "n2 = int(input(\"Enter num2: \"))\n",
    "print(f\"Num1: {n1}, Num2: {n2}\")\n",
    "t = n1\n",
    "n1 = n2\n",
    "n2 = t\n",
    "print(f\"After swap, Num1: {n1}, Num2: {n2}\")\n",
    "print()\n",
    "\n",
    "# swap pythonic way\n",
    "n1 = int(input(\"Enter num1: \"))\n",
    "n2 = int(input(\"Enter num2: \"))\n",
    "print(f\"Num1: {n1}, Num2: {n2}\")\n",
    "n1, n2 = n2, n1\n",
    "print(f\"After swap, Num1: {n1}, Num2: {n2}\")\n"
   ]
  },
  {
   "cell_type": "code",
   "execution_count": 10,
   "metadata": {},
   "outputs": [
    {
     "name": "stdout",
     "output_type": "stream",
     "text": [
      "32\n",
      "9\n",
      "10\n"
     ]
    }
   ],
   "source": [
    "# 9. WAP to print ascii value of all white-space characters present in python.\n",
    "\n",
    "print(ord(' '))\n",
    "print(ord('\\t'))\n",
    "print(ord('\\n'))\n"
   ]
  },
  {
   "cell_type": "code",
   "execution_count": 7,
   "metadata": {},
   "outputs": [
    {
     "name": "stdout",
     "output_type": "stream",
     "text": [
      "Enter a char: o\n",
      "ascii of o = 111\n"
     ]
    }
   ],
   "source": [
    "# 10. Input a single character and print its ascii values.\n",
    "\n",
    "c = input(\"Enter a char: \")\n",
    "print(f\"ascii of {c} = {ord(c)}\")"
   ]
  },
  {
   "cell_type": "code",
   "execution_count": 14,
   "metadata": {},
   "outputs": [
    {
     "name": "stdout",
     "output_type": "stream",
     "text": [
      "Enter a area of circle: 500\n",
      "Area: 500, radius: 12.6156626101008, circumference:79.26654595212023\n"
     ]
    }
   ],
   "source": [
    "# 11. WAP that takes area of a circle and gives back the radius and circumference.\n",
    "# My Note:\n",
    "# Area = PI*r2 (square)\n",
    "# Circumference = 2*PI*r\n",
    "\n",
    "import math\n",
    "area = int(input(\"Enter a area of circle: \"))\n",
    "# area = math.pi * (r * r)\n",
    "rsquare = area / math.pi\n",
    "r = math.sqrt(rsquare)\n",
    "circum = 2 * math.pi * r\n",
    "print(f\"Area: {area}, radius: {r}, circumference:{circum}\")\n"
   ]
  },
  {
   "cell_type": "code",
   "execution_count": 14,
   "metadata": {},
   "outputs": [
    {
     "name": "stdout",
     "output_type": "stream",
     "text": [
      "Percentage = 86.4\n"
     ]
    }
   ],
   "source": [
    "# 12. We need to input marks in 5 subjects out of 100 and print percentage.\n",
    "\n",
    "s1 = 90\n",
    "s2 = 80\n",
    "s3 = 82\n",
    "s4 = 95\n",
    "s5 = 85\n",
    "marks = (s1,s2,s3,s4,s5)\n",
    "# print(sum(marks))\n",
    "# print(len(marks))\n",
    "# print(sum(marks)/500)\n",
    "percent = (sum(marks)/(100*len(marks)))*100\n",
    "print(f\"Percentage = {percent}\")\n"
   ]
  }
 ],
 "metadata": {
  "kernelspec": {
   "display_name": "Python 3",
   "language": "python",
   "name": "python3"
  },
  "language_info": {
   "codemirror_mode": {
    "name": "ipython",
    "version": 3
   },
   "file_extension": ".py",
   "mimetype": "text/x-python",
   "name": "python",
   "nbconvert_exporter": "python",
   "pygments_lexer": "ipython3",
   "version": "3.7.4"
  }
 },
 "nbformat": 4,
 "nbformat_minor": 2
}
