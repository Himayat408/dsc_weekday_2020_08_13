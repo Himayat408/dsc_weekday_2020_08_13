{
 "cells": [
  {
   "cell_type": "markdown",
   "metadata": {},
   "source": [
    "# Strings Assignment"
   ]
  },
  {
   "cell_type": "code",
   "execution_count": 4,
   "metadata": {},
   "outputs": [
    {
     "name": "stdout",
     "output_type": "stream",
     "text": [
      "d\n",
      "detneirO tcejbO si nohtyP\n",
      "Python is Object Oriente\n",
      "\n",
      "on is \n"
     ]
    }
   ],
   "source": [
    "# 1. Guess output of each slice:\n",
    "s='Python is Object Oriented'\n",
    "print(s[-1])    # print last char\n",
    "print(s[::-1])  # reverse the string\n",
    "print(s[:-1])   # removes the last char only\n",
    "print(s[1:1])\n",
    "print(s[4:10])"
   ]
  },
  {
   "cell_type": "code",
   "execution_count": 12,
   "metadata": {},
   "outputs": [
    {
     "ename": "IndexError",
     "evalue": "string index out of range",
     "output_type": "error",
     "traceback": [
      "\u001b[1;31m---------------------------------------------------------------------------\u001b[0m",
      "\u001b[1;31mIndexError\u001b[0m                                Traceback (most recent call last)",
      "\u001b[1;32m<ipython-input-12-1faac4ffca7b>\u001b[0m in \u001b[0;36m<module>\u001b[1;34m\u001b[0m\n\u001b[0;32m      1\u001b[0m \u001b[1;31m# 2. What error do you see for following statements:\u001b[0m\u001b[1;33m\u001b[0m\u001b[1;33m\u001b[0m\u001b[1;33m\u001b[0m\u001b[0m\n\u001b[0;32m      2\u001b[0m \u001b[0ms\u001b[0m \u001b[1;33m=\u001b[0m \u001b[1;34m''\u001b[0m\u001b[1;33m\u001b[0m\u001b[1;33m\u001b[0m\u001b[0m\n\u001b[1;32m----> 3\u001b[1;33m \u001b[0mprint\u001b[0m\u001b[1;33m(\u001b[0m\u001b[0ms\u001b[0m\u001b[1;33m[\u001b[0m\u001b[1;36m1\u001b[0m\u001b[1;33m]\u001b[0m\u001b[1;33m)\u001b[0m\u001b[1;33m\u001b[0m\u001b[1;33m\u001b[0m\u001b[0m\n\u001b[0m",
      "\u001b[1;31mIndexError\u001b[0m: string index out of range"
     ]
    }
   ],
   "source": [
    "# 2. What error do you see for following statements:\n",
    "s = ''\n",
    "print(s[1])"
   ]
  },
  {
   "cell_type": "code",
   "execution_count": 14,
   "metadata": {},
   "outputs": [
    {
     "ename": "IndexError",
     "evalue": "string index out of range",
     "output_type": "error",
     "traceback": [
      "\u001b[1;31m---------------------------------------------------------------------------\u001b[0m",
      "\u001b[1;31mIndexError\u001b[0m                                Traceback (most recent call last)",
      "\u001b[1;32m<ipython-input-14-b8ba7f31c7ff>\u001b[0m in \u001b[0;36m<module>\u001b[1;34m\u001b[0m\n\u001b[0;32m      1\u001b[0m \u001b[1;31m# 3. Do you get any error for the following code, if not give the output:\u001b[0m\u001b[1;33m\u001b[0m\u001b[1;33m\u001b[0m\u001b[1;33m\u001b[0m\u001b[0m\n\u001b[0;32m      2\u001b[0m \u001b[0mS\u001b[0m\u001b[1;33m=\u001b[0m\u001b[1;34m'Gaurav'\u001b[0m   \u001b[1;31m# it's captial var\u001b[0m\u001b[1;33m\u001b[0m\u001b[1;33m\u001b[0m\u001b[0m\n\u001b[1;32m----> 3\u001b[1;33m \u001b[0mprint\u001b[0m\u001b[1;33m(\u001b[0m\u001b[0ms\u001b[0m\u001b[1;33m[\u001b[0m\u001b[1;36m1\u001b[0m\u001b[1;33m]\u001b[0m\u001b[1;33m)\u001b[0m  \u001b[1;31m# refers lower case variable\u001b[0m\u001b[1;33m\u001b[0m\u001b[1;33m\u001b[0m\u001b[0m\n\u001b[0m",
      "\u001b[1;31mIndexError\u001b[0m: string index out of range"
     ]
    }
   ],
   "source": [
    "# 3. Do you get any error for the following code, if not give the output:\n",
    "S='Gaurav'   # it's captial var\n",
    "print(s[1])  # refers lower case variable"
   ]
  },
  {
   "cell_type": "code",
   "execution_count": 27,
   "metadata": {},
   "outputs": [
    {
     "name": "stdout",
     "output_type": "stream",
     "text": [
      "6\n",
      "abc\n",
      "3\n",
      "\n",
      "['a#b#c#d#']\n",
      "['a', 'b', 'c', 'd', '']\n",
      "a$b$c$d$\n",
      "\n",
      "av\n",
      "False\n",
      "\n",
      "0, 1, 2\n",
      "\n",
      "abcba\n",
      "0 ,0 ,0 ,"
     ]
    }
   ],
   "source": [
    "# 4. Find output of the following:\n",
    "# a)\n",
    "s='a b cd'\n",
    "print(len(s))\n",
    "print(s[::2])\n",
    "print(len(s[::2]))\n",
    "\n",
    "print()\n",
    "\n",
    "# b)\n",
    "s='a#b#c#d#'\n",
    "print(s.split())\n",
    "print(s.split('#'))\n",
    "l=s.split('#')\n",
    "s='$'.join(l)\n",
    "print(s)\n",
    "\n",
    "print()\n",
    "\n",
    "# c)\n",
    "S='Gaurav'\n",
    "S=S[::-2][::-2]  ## need to understand?\n",
    "print(S)\n",
    "\n",
    "# d)\n",
    "print(1>2)\n",
    "\n",
    "print()\n",
    "\n",
    "# e)\n",
    "print(4%2, 5%2, 2%5, sep=', ')\n",
    "\n",
    "print()\n",
    "\n",
    "# f)\n",
    "s='abcba'\n",
    "s.upper()\n",
    "print(s)\n",
    "print(s.count('A'), end = ' ,')\n",
    "print(s.count('A', 2,4) , end = ' ,')\n",
    "print(s.count('a', 2,4) , end = ' ,')"
   ]
  },
  {
   "cell_type": "code",
   "execution_count": 31,
   "metadata": {},
   "outputs": [
    {
     "name": "stdout",
     "output_type": "stream",
     "text": [
      "str without space: welcometolearnbay\n"
     ]
    }
   ],
   "source": [
    "# 5. WAP to input a string and remove all spaces from it.\n",
    "s = \"welcome to learnbay\"\n",
    "s2 = \"\"\n",
    "for c in s:\n",
    "    if c.isspace():\n",
    "        pass\n",
    "    else:\n",
    "        s2 += c\n",
    "print(\"str without space:\", s2)"
   ]
  },
  {
   "cell_type": "code",
   "execution_count": 32,
   "metadata": {},
   "outputs": [],
   "source": [
    "# 6. What does this symbol denote:\n",
    "# []\n",
    "# Answer: empty list"
   ]
  },
  {
   "cell_type": "code",
   "execution_count": 34,
   "metadata": {},
   "outputs": [
    {
     "name": "stdout",
     "output_type": "stream",
     "text": [
      "['__add__', '__class__', '__contains__', '__delattr__', '__dir__', '__doc__', '__eq__', '__format__', '__ge__', '__getattribute__', '__getitem__', '__getnewargs__', '__gt__', '__hash__', '__init__', '__init_subclass__', '__iter__', '__le__', '__len__', '__lt__', '__mod__', '__mul__', '__ne__', '__new__', '__reduce__', '__reduce_ex__', '__repr__', '__rmod__', '__rmul__', '__setattr__', '__sizeof__', '__str__', '__subclasshook__', 'capitalize', 'casefold', 'center', 'count', 'encode', 'endswith', 'expandtabs', 'find', 'format', 'format_map', 'index', 'isalnum', 'isalpha', 'isascii', 'isdecimal', 'isdigit', 'isidentifier', 'islower', 'isnumeric', 'isprintable', 'isspace', 'istitle', 'isupper', 'join', 'ljust', 'lower', 'lstrip', 'maketrans', 'partition', 'replace', 'rfind', 'rindex', 'rjust', 'rpartition', 'rsplit', 'rstrip', 'split', 'splitlines', 'startswith', 'strip', 'swapcase', 'title', 'translate', 'upper', 'zfill']\n"
     ]
    }
   ],
   "source": [
    "# 7. WAP to print all methods(functions/operations) available in a string (Hint : dir())\n",
    "s = \"welcome\"\n",
    "print(dir(s))"
   ]
  },
  {
   "cell_type": "code",
   "execution_count": 38,
   "metadata": {},
   "outputs": [
    {
     "name": "stdout",
     "output_type": "stream",
     "text": [
      "rstrip method is available in str class\n"
     ]
    }
   ],
   "source": [
    "# 8. Write statement to check if rstrip method is available in the str class.\n",
    "# (Hint : Use the find function or in)\n",
    "methods_list = dir(str)\n",
    "if 'rstrip' in methods_list:\n",
    "    print(\"rstrip method is available in str class\")\n",
    "else:\n",
    "    print(\"rstrip method is not available in str class\")"
   ]
  },
  {
   "cell_type": "code",
   "execution_count": 65,
   "metadata": {},
   "outputs": [
    {
     "name": "stdout",
     "output_type": "stream",
     "text": [
      "\n",
      "*****\n",
      "  *\n",
      "  *\n",
      "  *\n",
      "\n",
      "\n",
      "*     *\n",
      "* * * *\n",
      "*  *  *\n",
      "*     *\n",
      "\n",
      "\n",
      "   ________\n",
      "    |      |\n",
      "    o      |\n",
      "   /|\\     |\n",
      "   / \\     |\n",
      "___________|\n",
      "\n"
     ]
    }
   ],
   "source": [
    "# 9. WAP to store the following patterns in a string variable and then print them:\n",
    "# My Note: Using doc string comment for this to achive.\n",
    "p = \"\"\"\n",
    "*****\n",
    "  *\n",
    "  *\n",
    "  *\n",
    "\"\"\"\n",
    "print(p)\n",
    "p = \"\"\"\n",
    "*     *\n",
    "* * * *\n",
    "*  *  *\n",
    "*     *\n",
    "\"\"\"\n",
    "print(p)\n",
    "p = \"\"\"\n",
    "   ________\n",
    "    |      |\n",
    "    o      |\n",
    "   /|\\     |\n",
    "   / \\     |\n",
    "___________|\n",
    "\"\"\"\n",
    "print(p)"
   ]
  },
  {
   "cell_type": "code",
   "execution_count": 42,
   "metadata": {},
   "outputs": [
    {
     "name": "stdout",
     "output_type": "stream",
     "text": [
      "welcome\n",
      "to\n",
      "learnbay\n"
     ]
    }
   ],
   "source": [
    "# 10. WAP to input a string and replace all space with new lines (\\n) and print again.\n",
    "s = \"welcome to learnbay\"\n",
    "print(s.replace(' ', '\\n'))"
   ]
  },
  {
   "cell_type": "code",
   "execution_count": 48,
   "metadata": {},
   "outputs": [
    {
     "name": "stdout",
     "output_type": "stream",
     "text": [
      "Enter fullname: Dhamo MC\n",
      "firstname=DHAMO, length=5\n",
      "lastname=MC, length=2\n"
     ]
    }
   ],
   "source": [
    "# 11. WAP to input complete name(first and last name separated by space) \n",
    "# and print first and last name separately along with their length in upper case.\n",
    "s = input(\"Enter fullname: \")\n",
    "s = s.upper()\n",
    "names = s.split(' ')\n",
    "print(f\"firstname={names[0]}, length={len(names[0])}\")\n",
    "print(f\"lastname={names[1]}, length={len(names[1])}\")"
   ]
  },
  {
   "cell_type": "code",
   "execution_count": 61,
   "metadata": {
    "scrolled": true
   },
   "outputs": [
    {
     "name": "stdout",
     "output_type": "stream",
     "text": [
      "Enter str: WELCOME\n",
      "WEL\n",
      "OME\n"
     ]
    }
   ],
   "source": [
    "# 12. WAP to input a string and split it into 2 halves. The string can be of any length\n",
    "s = input(\"Enter str: \")\n",
    "indx = len(s)//2\n",
    "# print(indx)\n",
    "if len(s)%2 == 0:\n",
    "    print(s[0:indx])\n",
    "    print(s[indx:])\n",
    "else:\n",
    "    print(s[0:indx])\n",
    "    print(s[indx+1:]) # if odd length, ignore the middle char"
   ]
  },
  {
   "cell_type": "code",
   "execution_count": null,
   "metadata": {},
   "outputs": [],
   "source": []
  }
 ],
 "metadata": {
  "kernelspec": {
   "display_name": "Python 3",
   "language": "python",
   "name": "python3"
  },
  "language_info": {
   "codemirror_mode": {
    "name": "ipython",
    "version": 3
   },
   "file_extension": ".py",
   "mimetype": "text/x-python",
   "name": "python",
   "nbconvert_exporter": "python",
   "pygments_lexer": "ipython3",
   "version": "3.7.4"
  }
 },
 "nbformat": 4,
 "nbformat_minor": 2
}
