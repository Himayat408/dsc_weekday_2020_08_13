{
 "cells": [
  {
   "cell_type": "markdown",
   "metadata": {},
   "source": [
    "---------------\n",
    "    1. WAP to input 2 strings and swap them"
   ]
  },
  {
   "cell_type": "code",
   "execution_count": 2,
   "metadata": {},
   "outputs": [
    {
     "name": "stdout",
     "output_type": "stream",
     "text": [
      "Sushma\n",
      "Gangal\n",
      "Gangal Sushma\n"
     ]
    }
   ],
   "source": [
    "s1 = input()\n",
    "s2 = input()\n",
    "temp = s1\n",
    "s1 = s2\n",
    "s2 = temp\n",
    "print(s1,s2)"
   ]
  },
  {
   "cell_type": "code",
   "execution_count": 3,
   "metadata": {},
   "outputs": [
    {
     "name": "stdout",
     "output_type": "stream",
     "text": [
      "sushma\n",
      "gangal\n",
      "gangal sushma\n"
     ]
    }
   ],
   "source": [
    "s3 = input()\n",
    "s4 = input()\n",
    "s3,s4 = s4,s3\n",
    "print(s3,s4)"
   ]
  },
  {
   "cell_type": "markdown",
   "metadata": {},
   "source": [
    "----------------\n",
    "    2. WAP to generate 4 random numbers in the range 0-26 and print the average"
   ]
  },
  {
   "cell_type": "code",
   "execution_count": 26,
   "metadata": {},
   "outputs": [
    {
     "name": "stdout",
     "output_type": "stream",
     "text": [
      "12\n",
      "4\n",
      "6\n",
      "22\n",
      "The average is: 11.0\n"
     ]
    }
   ],
   "source": [
    "from random import randint\n",
    "n1 = randint(0,26)\n",
    "n2 = randint(0,26)\n",
    "n3 = randint(0,26)\n",
    "n4 = randint(0,26)\n",
    "print(n1,n2,n3,n4,\"The average is: \" + str((n1+n2+n3+n4)/4),sep='\\n')"
   ]
  },
  {
   "cell_type": "markdown",
   "metadata": {},
   "source": [
    "---------------\n",
    "    3. WAP to generate and print a random Uppercase or lowercase alphabet. Try these:\n",
    "       a. create a string containing all alphabets and then select a random alphabet\n",
    "       b. Check the module string"
   ]
  },
  {
   "cell_type": "code",
   "execution_count": 109,
   "metadata": {},
   "outputs": [
    {
     "name": "stdout",
     "output_type": "stream",
     "text": [
      "A\n"
     ]
    }
   ],
   "source": [
    "import random\n",
    "s = 'abcdefghijklmnopqrstuvwxyzABCDEFGHIJKLMNOPQRSTUVWXYZ'\n",
    "print(s[random.randint(0,len(s))])"
   ]
  },
  {
   "cell_type": "markdown",
   "metadata": {},
   "source": [
    "----------------\n",
    "    4. WAF get_si() that takes Principal, Rate and time as arguments and returns the total amount using the get_si()\n",
    "       function from above to calculate the SI. Also provide Rate = 10 and Time = 1 as default arguments"
   ]
  },
  {
   "cell_type": "code",
   "execution_count": 8,
   "metadata": {},
   "outputs": [
    {
     "name": "stdout",
     "output_type": "stream",
     "text": [
      "Principal: 100\n",
      "10.0\n"
     ]
    }
   ],
   "source": [
    "def get_si(Principal,Rate=10,Time=1):\n",
    "    SI = (Principal*Rate*Time)/100\n",
    "    print(SI)\n",
    "\n",
    "get_si(int(input(\"Principal: \")))"
   ]
  },
  {
   "cell_type": "markdown",
   "metadata": {},
   "source": [
    "--------------\n",
    "    5. WAF get_amount() that takes Principal,Time and Rate as arguments and returns the the total amount using get_si() from \n",
    "       the above to calculate the SI. Also provide Rate = 10 and Time = 1 as default arguments"
   ]
  },
  {
   "cell_type": "code",
   "execution_count": 43,
   "metadata": {},
   "outputs": [
    {
     "name": "stdout",
     "output_type": "stream",
     "text": [
      "640.0\n"
     ]
    }
   ],
   "source": [
    "def get_amount(Principal,Rate=10,Time=1):\n",
    "    get_si(Principal,Rate,Time)\n",
    "    \n",
    "get_amount(400,40,4)"
   ]
  },
  {
   "cell_type": "markdown",
   "metadata": {},
   "source": [
    "------\n",
    "    6. WAF get_ci() that takes Principal,Time and Rate as arguments and returns the compound Interest"
   ]
  },
  {
   "cell_type": "code",
   "execution_count": 45,
   "metadata": {},
   "outputs": [
    {
     "name": "stdout",
     "output_type": "stream",
     "text": [
      "110.00000000000001\n"
     ]
    }
   ],
   "source": [
    "def get_ci(P,R,T):\n",
    "    CI = P*pow(1+(R/100),T)\n",
    "    print(CI)\n",
    "    \n",
    "get_ci(100,10,1)"
   ]
  },
  {
   "cell_type": "markdown",
   "metadata": {},
   "source": [
    "-------------\n",
    "    7. WAF get_q_r() taking 2 numbers as parameters and returns the quotient and remainder in the form of tuple"
   ]
  },
  {
   "cell_type": "code",
   "execution_count": 12,
   "metadata": {},
   "outputs": [
    {
     "name": "stdout",
     "output_type": "stream",
     "text": [
      "20\n",
      "5\n",
      "(4, 0) <class 'tuple'>\n"
     ]
    }
   ],
   "source": [
    "def get_q_r(n1,n2):\n",
    "    Quotient = n1//n2\n",
    "    Remainder = n1%n2\n",
    "    s = (Quotient,Remainder)\n",
    "    print(s,type(s))\n",
    "get_q_r(int(input()),int(input()))"
   ]
  },
  {
   "cell_type": "markdown",
   "metadata": {},
   "source": [
    "---------\n",
    "    8. WAP to find the length of hypotenuse of a right angled triangle, input the height and base from user"
   ]
  },
  {
   "cell_type": "code",
   "execution_count": 14,
   "metadata": {},
   "outputs": [
    {
     "name": "stdout",
     "output_type": "stream",
     "text": [
      "2\n",
      "2\n",
      "2.8284271247461903\n"
     ]
    }
   ],
   "source": [
    "from math import sqrt\n",
    "def len_hypotenuse(height,base):\n",
    "    C = sqrt((height**2)+(base**2))\n",
    "    print(C)\n",
    "\n",
    "len_hypotenuse(int(input()),int(input()))"
   ]
  },
  {
   "cell_type": "markdown",
   "metadata": {},
   "source": [
    "-------\n",
    "    9. WAP to input number of seconds and print in days, hours, minutes and seconds\n",
    "       ex: input = 10000\n",
    "           Output = 0 day 2 hour 46 minute 40 second"
   ]
  },
  {
   "cell_type": "markdown",
   "metadata": {},
   "source": [
    "--------------\n",
    "    10. Check the version of python interpreter without opening the interpreter (Which command needs to be used on the \n",
    "        command line\n",
    "        Answer: python --version"
   ]
  },
  {
   "cell_type": "markdown",
   "metadata": {},
   "source": [
    "------------------------\n",
    "    11. Find the Output:\n",
    "        X=2\n",
    "        X*=3\n",
    "        X=X%4\n",
    "        Y=-X\n",
    "        print(X,Y)"
   ]
  },
  {
   "cell_type": "code",
   "execution_count": 3,
   "metadata": {},
   "outputs": [
    {
     "name": "stdout",
     "output_type": "stream",
     "text": [
      "2 -2\n"
     ]
    }
   ],
   "source": [
    "X=2 # 2\n",
    "X*=3 # 6\n",
    "X=X%4 # 2\n",
    "Y=-X  #-2\n",
    "print(X,Y)"
   ]
  },
  {
   "cell_type": "markdown",
   "metadata": {},
   "source": [
    "-----------\n",
    "    12. Find Output:\n",
    "        def funct():\n",
    "            pass\n",
    "        print(funct())"
   ]
  },
  {
   "cell_type": "code",
   "execution_count": 5,
   "metadata": {},
   "outputs": [
    {
     "name": "stdout",
     "output_type": "stream",
     "text": [
      "None\n"
     ]
    }
   ],
   "source": [
    "def funct():\n",
    "    pass\n",
    "print(funct()) # None"
   ]
  }
 ],
 "metadata": {
  "kernelspec": {
   "display_name": "Python 3",
   "language": "python",
   "name": "python3"
  },
  "language_info": {
   "codemirror_mode": {
    "name": "ipython",
    "version": 3
   },
   "file_extension": ".py",
   "mimetype": "text/x-python",
   "name": "python",
   "nbconvert_exporter": "python",
   "pygments_lexer": "ipython3",
   "version": "3.8.3"
  }
 },
 "nbformat": 4,
 "nbformat_minor": 4
}
