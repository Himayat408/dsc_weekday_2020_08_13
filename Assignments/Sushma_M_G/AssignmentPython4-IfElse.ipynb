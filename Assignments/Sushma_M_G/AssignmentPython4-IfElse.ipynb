{
 "cells": [
  {
   "cell_type": "markdown",
   "metadata": {},
   "source": [
    "-----\n",
    "    1. WAP to input two numbers and check whether first is divisible by second and print true or false depending on the\n",
    "       divisibility"
   ]
  },
  {
   "cell_type": "code",
   "execution_count": 3,
   "metadata": {},
   "outputs": [
    {
     "name": "stdout",
     "output_type": "stream",
     "text": [
      "Enter the first number: 10000\n",
      "Enter the second number: 3\n",
      "False\n"
     ]
    }
   ],
   "source": [
    "n1 = int(input(\"Enter the first number: \"))\n",
    "n2 = int(input(\"Enter the second number: \"))\n",
    "if n1%n2 == 0:\n",
    "    print(True)\n",
    "else:\n",
    "    print(False)"
   ]
  },
  {
   "cell_type": "markdown",
   "metadata": {},
   "source": [
    "----------------\n",
    "-------------------\n",
    "    2. In the palindrome example, make the code case insensitive\n",
    "       i.e., Naman should be treated as palindrome"
   ]
  },
  {
   "cell_type": "code",
   "execution_count": 8,
   "metadata": {},
   "outputs": [
    {
     "name": "stdout",
     "output_type": "stream",
     "text": [
      "Enter a string: Naman\n",
      "The reversed string is:  namaN\n",
      "The string entered is a Palindrome\n"
     ]
    }
   ],
   "source": [
    "s1 = input(\"Enter a string: \")\n",
    "s2 = s1[::-1]\n",
    "print(\"The reversed string is: \",s2)\n",
    "\n",
    "if s1.casefold() == s2.casefold():\n",
    "    print(\"The string entered is a Palindrome\")\n",
    "else:\n",
    "    print(\"The string entered is Not a Palindrome\")"
   ]
  },
  {
   "cell_type": "code",
   "execution_count": 10,
   "metadata": {},
   "outputs": [
    {
     "name": "stdout",
     "output_type": "stream",
     "text": [
      "Naman\n",
      "Palindrome\n"
     ]
    }
   ],
   "source": [
    "s1 = input()\n",
    "print(\"Palindrome\" if s1.casefold() == s1[::-1].casefold() else \"Not a Palindrome\")"
   ]
  },
  {
   "cell_type": "markdown",
   "metadata": {},
   "source": [
    "-------------\n",
    "-----------\n",
    "    3. WAP to input the sides of a triangle and print whether equilateral(all sides are equal), isosceles(2 sides are equal)\n",
    "        or scalene(no sides are equal)"
   ]
  },
  {
   "cell_type": "code",
   "execution_count": 22,
   "metadata": {},
   "outputs": [
    {
     "name": "stdout",
     "output_type": "stream",
     "text": [
      "Enter the first side value of a Triangle: 1.1\n",
      "Enter the second side value of a Triangle: 1.1\n",
      "Enter the third side value of a Triangle: 1.1\n",
      "All sides are equal, Hence it is Equilateral Triangle\n"
     ]
    }
   ],
   "source": [
    "side1 = float(input(\"Enter the first side value of a Triangle: \"))\n",
    "side2 = float(input(\"Enter the second side value of a Triangle: \"))\n",
    "side3 = float(input(\"Enter the third side value of a Triangle: \"))\n",
    "\n",
    "if side1 == side2 == side3:\n",
    "    print(\"All sides are equal, Hence it is Equilateral Triangle\")\n",
    "elif (side1 == side2 and side1 != side3) or (side1 == side3 and side1!=side2) or (side2 == side3 and side2!=side1):\n",
    "    print(\"2 sides are equal, Hence it is isosceles Traingle\")\n",
    "else:\n",
    "    print(\"No sides are equal, Hence it is scalene Traingle\")"
   ]
  },
  {
   "cell_type": "markdown",
   "metadata": {},
   "source": [
    "-----------\n",
    "------------\n",
    "    4. WAP to input a number and print its even or odd"
   ]
  },
  {
   "cell_type": "code",
   "execution_count": 27,
   "metadata": {},
   "outputs": [
    {
     "name": "stdout",
     "output_type": "stream",
     "text": [
      "Enter a Number: 1000\n",
      "The Number 1000 is Even\n"
     ]
    }
   ],
   "source": [
    "N = int(input(\"Enter a Number: \"))\n",
    "if N%2 == 0:\n",
    "    print(f\"The Number {N} is Even\")\n",
    "else:\n",
    "    print(f\"The Number {N} is Odd\")"
   ]
  },
  {
   "cell_type": "markdown",
   "metadata": {},
   "source": [
    "--------------\n",
    "------------\n",
    "    5. WAP to input age and print the respective text depending on the age ranges as present below:\n",
    "       0-12 -- Child\n",
    "       13-17 -- Teen\n",
    "       18-50 -- Adult\n",
    "       51-100 -- Senior citizen\n",
    "       age>100 -- Contratulations"
   ]
  },
  {
   "cell_type": "code",
   "execution_count": 35,
   "metadata": {},
   "outputs": [
    {
     "name": "stdout",
     "output_type": "stream",
     "text": [
      "Enter the age: 1000\n",
      "Contratulations\n"
     ]
    }
   ],
   "source": [
    "age = float(input(\"Enter the age: \"))\n",
    "if age!=0:\n",
    "    if age>0 and age<=12:\n",
    "        print(\"Child\")\n",
    "    elif age>12 and age<=17:\n",
    "        print(\"Teen\")\n",
    "    elif age>17 and age<=50:\n",
    "        print(\"Adult\")\n",
    "    elif age>50 and age<=100:\n",
    "        print(\"Senior Citizen\")\n",
    "    else:\n",
    "        print(\"Contratulations\")"
   ]
  },
  {
   "cell_type": "markdown",
   "metadata": {},
   "source": [
    "----------------\n",
    "--------------\n",
    "    6. WAP to input a year(check if it is valid year, should be 4 digit number and should not be negative)\n",
    "       print whether leap year or not. ( if really interested in why you have to check the divisibility by 400,\n",
    "       just google the exact time it takes for the earth to revolve around the sun)"
   ]
  },
  {
   "cell_type": "code",
   "execution_count": 3,
   "metadata": {},
   "outputs": [
    {
     "name": "stdout",
     "output_type": "stream",
     "text": [
      "Enter a year: 1900\n",
      "1900 is not a leap year\n"
     ]
    }
   ],
   "source": [
    "year = int(input(\"Enter a year: \"))\n",
    "c = len(str(abs(year)))\n",
    "\n",
    "if c == 4:\n",
    "    if year%400 == 0:\n",
    "        print(f\"{year} is a leap year\")\n",
    "    elif year%100 == 0:\n",
    "        print(f\"{year} is not a leap year\")\n",
    "    elif year%4 == 0:\n",
    "        print(f\"{year} is a leap year\")\n",
    "    else:\n",
    "        print(f\"{year} is not a leap year\")\n",
    "else:\n",
    "    print(\"Enter a valid year\")"
   ]
  },
  {
   "cell_type": "markdown",
   "metadata": {},
   "source": [
    "-----\n",
    "-----\n",
    "    7. WAP to input a string, convert to Uppercase if the number of characters is odd. Conver to Lowercase if Odd"
   ]
  },
  {
   "cell_type": "code",
   "execution_count": 10,
   "metadata": {},
   "outputs": [
    {
     "name": "stdout",
     "output_type": "stream",
     "text": [
      "Enter a string: SuShMA GaNgal\n",
      "SUSHMA GANGAL\n"
     ]
    }
   ],
   "source": [
    "s = input(\"Enter a string: \")\n",
    "if len(s)!=0:\n",
    "    if len(s)%2 == 0:\n",
    "        print(s.lower())\n",
    "    else:\n",
    "        print(s.upper())"
   ]
  },
  {
   "cell_type": "markdown",
   "metadata": {},
   "source": [
    "-------\n",
    "---------\n",
    "    8. WAP to input a string and print Veg if string doesn't contain the word egg. Otherwise print non-veg. \n",
    "       As usual eggs can be both small and big"
   ]
  },
  {
   "cell_type": "code",
   "execution_count": 2,
   "metadata": {},
   "outputs": [
    {
     "name": "stdout",
     "output_type": "stream",
     "text": [
      "Enter a string: I like EGGs\n",
      "non-veg\n"
     ]
    }
   ],
   "source": [
    "def veg_nonveg(string1,substring='egg'):\n",
    "    if (substring in string1) == True:\n",
    "        print(\"non-veg\")\n",
    "    else:\n",
    "        print(\"veg\")\n",
    "           \n",
    "            \n",
    "        \n",
    "veg_nonveg(input(\"Enter a string: \").casefold())            "
   ]
  },
  {
   "cell_type": "markdown",
   "metadata": {},
   "source": [
    "----\n",
    "----------\n",
    "    9. Give Output of:\n",
    "      # if not 1:                                   \n",
    "            print(\"False\")                          \n",
    "        else:                                       \n",
    "            print(\"True\")\n",
    "---------------            \n",
    "       # if 1:\n",
    "            print(\"True\")\n",
    "         else:\n",
    "            print(\"False\") \n",
    "---------------             \n",
    "       # if 'a' >'A:\n",
    "             print(\"Weird\") \n",
    "          else:\n",
    "             print(\"Makes Sense\")\n",
    "---------------              \n",
    "       # a = [1,2,3,4]\n",
    "         if 1>1:\n",
    "            a = a[::-1]\n",
    "         else:\n",
    "            a = a[-1::-1]\n",
    "         print(a) "
   ]
  },
  {
   "cell_type": "code",
   "execution_count": 47,
   "metadata": {},
   "outputs": [
    {
     "name": "stdout",
     "output_type": "stream",
     "text": [
      "True\n"
     ]
    }
   ],
   "source": [
    "if not 1:\n",
    "    print(\"False\") \n",
    "else:\n",
    "    print(\"True\")\n",
    "#prints else part"
   ]
  },
  {
   "cell_type": "code",
   "execution_count": 52,
   "metadata": {},
   "outputs": [
    {
     "name": "stdout",
     "output_type": "stream",
     "text": [
      "False\n"
     ]
    }
   ],
   "source": [
    "if 1:\n",
    "    print(\"False\") \n",
    "else:\n",
    "    print(\"True\")\n",
    "#prints if statement"
   ]
  },
  {
   "cell_type": "code",
   "execution_count": 56,
   "metadata": {},
   "outputs": [
    {
     "name": "stdout",
     "output_type": "stream",
     "text": [
      "Weird\n"
     ]
    }
   ],
   "source": [
    "if 'a' >'A':\n",
    "     print(\"Weird\") # ASCII value of 'a' is more than 'A'\n",
    "else:\n",
    "     print(\"Makes Sense\")"
   ]
  },
  {
   "cell_type": "code",
   "execution_count": 58,
   "metadata": {},
   "outputs": [
    {
     "name": "stdout",
     "output_type": "stream",
     "text": [
      "[4, 3, 2, 1]\n"
     ]
    }
   ],
   "source": [
    "a = [1,2,3,4]\n",
    "if 1>1:\n",
    "    a = a[::-1]\n",
    "else:\n",
    "    a = a[-1::-1]\n",
    "print(a) # reversed list since its mutable"
   ]
  },
  {
   "cell_type": "markdown",
   "metadata": {},
   "source": [
    "------------\n",
    "    10. WAP to input marks in 5 subjects and print the grade as per the following logic:\n",
    "        %between 90-100 Grade A\n",
    "        %between 80-89 Grade B\n",
    "        %between 60-79 Grade C\n",
    "        %<60 Grade F"
   ]
  },
  {
   "cell_type": "code",
   "execution_count": 70,
   "metadata": {},
   "outputs": [
    {
     "name": "stdout",
     "output_type": "stream",
     "text": [
      "Subject1 Marks: 59\n",
      "Subject2 Marks: 59\n",
      "Subject3 Marks: 59\n",
      "Subject4 Marks: 59\n",
      "Subject5 Marks: 59\n",
      "59.0\n",
      "Grade F\n"
     ]
    }
   ],
   "source": [
    "sub1 = int(input(\"Subject1 Marks: \"))\n",
    "sub2 = int(input(\"Subject2 Marks: \"))\n",
    "sub3 = int(input(\"Subject3 Marks: \"))\n",
    "sub4 = int(input(\"Subject4 Marks: \"))\n",
    "sub5 = int(input(\"Subject5 Marks: \"))\n",
    "Percentage = (sub1+sub2+sub3+sub4+sub5)/5\n",
    "print(Percentage)\n",
    "if Percentage>=90 and Percentage<=100:\n",
    "    print(\"Grade A\")\n",
    "elif Percentage>=80 and Percentage<=89 :\n",
    "    print(\"Grade B\")\n",
    "elif Percentage>=60 and Percentage<=79 :\n",
    "    print(\"Grade C\")\n",
    "else:\n",
    "    print(\"Grade F\")"
   ]
  },
  {
   "cell_type": "markdown",
   "metadata": {},
   "source": [
    "-------------\n",
    "-------\n",
    "    11. WAP to input age and salary and calculate Tax as per Tax rates\n",
    "       "
   ]
  },
  {
   "cell_type": "code",
   "execution_count": 79,
   "metadata": {},
   "outputs": [
    {
     "name": "stdout",
     "output_type": "stream",
     "text": [
      "60\n",
      "-9000\n",
      "Enter Valid input\n"
     ]
    }
   ],
   "source": [
    "age = int(input())\n",
    "sal = int(input())\n",
    "if age>0 and sal>0:\n",
    "    if sal>0 and sal<=250000:\n",
    "        print(\"Tax is: \",str(0)+\"%\")\n",
    "    elif sal>250000 and sal<=500000:\n",
    "        if age<60:\n",
    "            print(\"Tax is: \",str(5)+\"%\")\n",
    "        else:\n",
    "            print(\"Tax is: \",str(3)+\"%\")\n",
    "    elif sal>500000 and sal<=1000000:\n",
    "        if age<60:\n",
    "            print(\"Tax is: \",str(10)+\"%\")\n",
    "        else:\n",
    "            print(\"Tax is: \",str(8)+\"%\")\n",
    "    elif sal>1000000:\n",
    "        if age<60:\n",
    "            print(\"Tax is: \",str(15)+\"%\")\n",
    "        else:\n",
    "            print(\"Tax is: \",str(12)+\"%\")\n",
    "else:\n",
    "    print(\"Enter Valid input\")"
   ]
  },
  {
   "cell_type": "markdown",
   "metadata": {},
   "source": [
    "-------\n",
    "-------\n",
    "    12. Try each of the below statements separately (remember difference between statement and expression) on the python \n",
    "        interpreter and guess the output before trying:\n",
    "        print(20 if not 1==1 else 10)\n",
    "        print(30 if not 1==1 else 20 if 'a'<'A' else 10)\n",
    "        print(40 if not 1==1 else 30 if 'a'< 'A' else 20 if '' else 10)\n",
    "        print('No' if not 1==1 else ('No' if 'a'<'A' else ('OMG' if 'Oh!!' else 'No')))"
   ]
  },
  {
   "cell_type": "code",
   "execution_count": 4,
   "metadata": {},
   "outputs": [
    {
     "name": "stdout",
     "output_type": "stream",
     "text": [
      "10\n"
     ]
    }
   ],
   "source": [
    "print(20 if not 1==1 else 10) "
   ]
  },
  {
   "cell_type": "code",
   "execution_count": 7,
   "metadata": {},
   "outputs": [
    {
     "name": "stdout",
     "output_type": "stream",
     "text": [
      "10\n"
     ]
    }
   ],
   "source": [
    "print(30 if not 1==1 else 20 if 'a'<'A' else 10) "
   ]
  },
  {
   "cell_type": "code",
   "execution_count": 8,
   "metadata": {},
   "outputs": [
    {
     "name": "stdout",
     "output_type": "stream",
     "text": [
      "10\n"
     ]
    }
   ],
   "source": [
    "print(40 if not 1==1 else 30 if 'a'< 'A' else 20 if '' else 10)"
   ]
  },
  {
   "cell_type": "code",
   "execution_count": 9,
   "metadata": {},
   "outputs": [
    {
     "name": "stdout",
     "output_type": "stream",
     "text": [
      "OMG\n"
     ]
    }
   ],
   "source": [
    "print('No' if not 1==1 else ('No' if 'a'<'A' else ('OMG' if 'Oh!!' else 'No')))"
   ]
  },
  {
   "cell_type": "markdown",
   "metadata": {},
   "source": [
    "----\n",
    "----\n",
    "    13. WAF: bmi() that takes weight in Kg and height in cm of a person, calculates and returns the BMI\n",
    "        Write code that calls this function after taking weight and height as inputs and then prints\n",
    "        underweight,normal,overweight or obese depending on the value of BMI\n",
    "        "
   ]
  },
  {
   "cell_type": "code",
   "execution_count": 17,
   "metadata": {},
   "outputs": [
    {
     "name": "stdout",
     "output_type": "stream",
     "text": [
      "Enter the weight in Kgs64\n",
      "Enter the height in cms175\n",
      "The BMI is:  20.897959183673468 And It's Normal\n"
     ]
    }
   ],
   "source": [
    "weight = float(input(\"Enter the weight in Kgs\"))\n",
    "height = float(input(\"Enter the height in cms\"))\n",
    "height = height/100\n",
    "BMI = weight/(height**2)\n",
    "print(\"The BMI is: \",str(BMI)+\" And It's\",end=' ')\n",
    "if BMI >=16 and BMI < 18.5:\n",
    "    print(\"underweight\")\n",
    "elif BMI >= 18.5 and BMI < 25:\n",
    "    print(\"Normal\")\n",
    "elif BMI >= 25 and BMI < 30:\n",
    "    print(\"overweight\")\n",
    "elif BMI >=30:\n",
    "    print(\"Obese\")"
   ]
  },
  {
   "cell_type": "markdown",
   "metadata": {},
   "source": [
    "----\n",
    "----\n",
    "    14. Take input of age of 3 people by user and determine oldest and youngest among them"
   ]
  },
  {
   "cell_type": "code",
   "execution_count": 8,
   "metadata": {},
   "outputs": [
    {
     "name": "stdout",
     "output_type": "stream",
     "text": [
      "Enter the age of the first person: 3\n",
      "Enter the age of the second person: 1\n",
      "Enter the age of the third person: 2\n",
      "First person is the eldest\n",
      "Second person is the youngest\n"
     ]
    }
   ],
   "source": [
    "age1 = int(input(\"Enter the age of the first person: \"))\n",
    "age2 = int(input(\"Enter the age of the second person: \"))\n",
    "age3 = int(input(\"Enter the age of the third person: \"))\n",
    "if age1>age2:\n",
    "    if age1>age3:\n",
    "        print(\"First person is the eldest\")\n",
    "    else:\n",
    "        print(\"Third person is the eldest\")\n",
    "    if age2<age3:\n",
    "        print(\"Second person is the youngest\")\n",
    "    else:\n",
    "        print(\"Third person is the youngest\")\n",
    "else:\n",
    "    if age2>age3:\n",
    "        print(\"Second person is the eldest\")\n",
    "    else:\n",
    "        print(\"Third person is the eldest\")\n",
    "    if age1<age3:\n",
    "        print(\"First person is the youngest\")\n",
    "    else:\n",
    "        print(\"Third person is the youngest\")"
   ]
  },
  {
   "cell_type": "markdown",
   "metadata": {},
   "source": [
    "---\n",
    "-----\n",
    "    15. WAP to input a number and check if number is divisible by both 5 and 7"
   ]
  },
  {
   "cell_type": "code",
   "execution_count": 31,
   "metadata": {},
   "outputs": [
    {
     "name": "stdout",
     "output_type": "stream",
     "text": [
      "Enter a Number :35\n",
      "Yes divisible by both 5 & 7\n"
     ]
    }
   ],
   "source": [
    "Num = int(input(\"Enter a Number :\"))\n",
    "print(\"Yes divisible by both 5 & 7\" if (Num%5 == 0 and Num%7 ==0) else \"Not divisible by both 5 & 7\")"
   ]
  }
 ],
 "metadata": {
  "kernelspec": {
   "display_name": "Python 3",
   "language": "python",
   "name": "python3"
  },
  "language_info": {
   "codemirror_mode": {
    "name": "ipython",
    "version": 3
   },
   "file_extension": ".py",
   "mimetype": "text/x-python",
   "name": "python",
   "nbconvert_exporter": "python",
   "pygments_lexer": "ipython3",
   "version": "3.8.3"
  }
 },
 "nbformat": 4,
 "nbformat_minor": 4
}
