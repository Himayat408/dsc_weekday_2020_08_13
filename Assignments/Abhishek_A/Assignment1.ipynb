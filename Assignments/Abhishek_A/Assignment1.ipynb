{
 "cells": [
  {
   "cell_type": "code",
   "execution_count": 5,
   "metadata": {
    "scrolled": false
   },
   "outputs": [
    {
     "name": "stdout",
     "output_type": "stream",
     "text": [
      "Enter Temp in Fahrenhiet: 32\n",
      "Temprature in celcius is:0.0\n"
     ]
    }
   ],
   "source": [
    "#WAP to take Fahrenheit & convert into celcius\n",
    "F = int(input('Enter Temp in Fahrenhiet: '))\n",
    "X = str((F-32)*5/9)\n",
    "print('Temprature in celcius is:'+ X )"
   ]
  },
  {
   "cell_type": "code",
   "execution_count": 5,
   "metadata": {
    "scrolled": true
   },
   "outputs": [
    {
     "name": "stdout",
     "output_type": "stream",
     "text": [
      "Provide a number2\n",
      "Square of 2 is 4\n",
      "Cube of 2 is 8\n"
     ]
    }
   ],
   "source": [
    "#Write a program to input a number and print its square and cube.\n",
    "num = int(input('Provide a number'))\n",
    "print(f'Square of {num} is {pow(num,2)}')\n",
    "print(f'Cube of {num} is {pow(num,3)}')"
   ]
  },
  {
   "cell_type": "code",
   "execution_count": 10,
   "metadata": {
    "scrolled": true
   },
   "outputs": [
    {
     "name": "stdout",
     "output_type": "stream",
     "text": [
      "Provide first number2\n",
      "Provide second number3\n",
      "The result is 13\n"
     ]
    }
   ],
   "source": [
    "#WAP to input a number n and a number m and print the result of following n2 + m2\n",
    "num1 = int(input('Provide first number'))\n",
    "num2 = int(input('Provide second number'))\n",
    "print(f'The result is {(pow(num1,2) + pow(num2,2))}')"
   ]
  },
  {
   "cell_type": "code",
   "execution_count": 12,
   "metadata": {
    "collapsed": true
   },
   "outputs": [
    {
     "name": "stdout",
     "output_type": "stream",
     "text": [
      "Provide first number2\n",
      "Provide second number3\n",
      "The result by POW method is 8 and result by ** method is 8 \n"
     ]
    }
   ],
   "source": [
    "#WAP to input a numbers M and N and print result of MN. (use both ** and pow)\n",
    "num1 = int(input('Provide first number'))\n",
    "num2 = int(input('Provide second number'))\n",
    "print(f'The result by POW method is {pow(num1,num2)} and result by ** method is {num1**num2} ')\n"
   ]
  },
  {
   "cell_type": "code",
   "execution_count": 13,
   "metadata": {
    "scrolled": true
   },
   "outputs": [
    {
     "name": "stdout",
     "output_type": "stream",
     "text": [
      "Provide Principal value10\n",
      "Provide Rate of intrest10\n",
      "Provide Time20\n",
      "Total intrest value is 20.0\n"
     ]
    }
   ],
   "source": [
    "#Write a simple interest calculator.\n",
    "P = int(input('Provide Principal value'))\n",
    "R = int(input('Provide Rate of intrest'))\n",
    "T = int(input('Provide Time'))\n",
    "print(f'Total intrest value is {(P*R*T/100)}')"
   ]
  },
  {
   "cell_type": "code",
   "execution_count": 15,
   "metadata": {
    "scrolled": true
   },
   "outputs": [
    {
     "name": "stdout",
     "output_type": "stream",
     "text": [
      "Provide Principal value10\n",
      "Provide Rate of intrest10\n",
      "Provide Time10\n",
      "No of times intrest applied ina time period1\n",
      "Total Amount value is 259374246010.0\n"
     ]
    }
   ],
   "source": [
    "#Input Principal, Rate, Time and print Compound Interest and Amount.\n",
    "P = int(input('Provide Principal value'))\n",
    "R = int(input('Provide Rate of intrest'))\n",
    "T = int(input('Provide Time'))\n",
    "N = int(input('No of times intrest applied ina time period'))\n",
    "print(f'Total Amount value is {(P*(1+(R/N))**(T*N))}')"
   ]
  },
  {
   "cell_type": "code",
   "execution_count": 16,
   "metadata": {
    "scrolled": true
   },
   "outputs": [
    {
     "name": "stdout",
     "output_type": "stream",
     "text": [
      "Provide a number4\n",
      "sum of 4 numbers is 10.0\n"
     ]
    }
   ],
   "source": [
    "#WAP to print sum of first n natural numbers. (n needs to be taken as input)\n",
    "numb = int(input('Provide a number'))\n",
    "print(f'sum of {numb} numbers is {numb*((numb+1)/2)}')\n"
   ]
  },
  {
   "cell_type": "code",
   "execution_count": 21,
   "metadata": {
    "scrolled": false
   },
   "outputs": [
    {
     "name": "stdout",
     "output_type": "stream",
     "text": [
      "Provide first number1\n",
      "Provide second number2\n",
      "the numbers after swapping are 2 & 1\n",
      "Provide third number3\n",
      "Provide fourth number5\n",
      "the numbers after swapping are 5 & 3\n"
     ]
    }
   ],
   "source": [
    "#WAP to input 2 numbers and swap them. (write using both normal logic with temp variable and also the pythonic way)\n",
    "num1 = int(input('Provide first number'))\n",
    "num2 = int(input('Provide second number'))\n",
    "X = num1\n",
    "num1 = num2\n",
    "num2 = X\n",
    "print(f'the numbers after swapping are {num1} & {num2}')\n",
    "num3 = int(input('Provide third number'))\n",
    "num4 = int(input('Provide fourth number'))\n",
    "num3, num4 = num4, num3\n",
    "print(f'the numbers after swapping are {num3} & {num4}')\n",
    "\n"
   ]
  },
  {
   "cell_type": "code",
   "execution_count": 22,
   "metadata": {
    "scrolled": true
   },
   "outputs": [
    {
     "name": "stdout",
     "output_type": "stream",
     "text": [
      "' \\t\\n\\r\\x0b\\x0c'\n",
      "The ASCII for ' ' is 32\n",
      "The ASCII for '\\t' is 9\n",
      "The ASCII for '\\n' is 10\n",
      "The ASCII for '\\r' is 13\n",
      "The ASCII for '\\x0b' is 11\n",
      "The ASCII for '\\x0c' is 12\n"
     ]
    }
   ],
   "source": [
    "#WAP to print ascii value of all white-space characters present in python\n",
    "import string\n",
    "print(repr(string.whitespace))\n",
    "print(f'The ASCII for {repr(string.whitespace[0])} is {ord(string.whitespace[0])}')\n",
    "print(f'The ASCII for {repr(string.whitespace[1])} is {ord(string.whitespace[1])}')\n",
    "print(f'The ASCII for {repr(string.whitespace[2])} is {ord(string.whitespace[2])}')\n",
    "print(f'The ASCII for {repr(string.whitespace[3])} is {ord(string.whitespace[3])}')\n",
    "print(f'The ASCII for {repr(string.whitespace[4])} is {ord(string.whitespace[4])}')\n",
    "print(f'The ASCII for {repr(string.whitespace[5])} is {ord(string.whitespace[5])}')"
   ]
  },
  {
   "cell_type": "code",
   "execution_count": 25,
   "metadata": {},
   "outputs": [
    {
     "name": "stdout",
     "output_type": "stream",
     "text": [
      "Provide Character for ascii displayr\n",
      "The ASCII for 'r' is 114\n"
     ]
    }
   ],
   "source": [
    "#Input a single character and print its ascii values.\n",
    "import string\n",
    "str = input('Provide Character for ascii display')\n",
    "print(f'The ASCII for {repr(str)} is {ord(str)}')\n"
   ]
  },
  {
   "cell_type": "code",
   "execution_count": 27,
   "metadata": {
    "scrolled": false
   },
   "outputs": [
    {
     "name": "stdout",
     "output_type": "stream",
     "text": [
      "Provide area of the circle314\n",
      "radius of a circle with area 314 is 10.0 & circumference of the circle is 62.800000000000004\n"
     ]
    }
   ],
   "source": [
    "#WAP that takes area of a circle and gives back the radius and circumference.\n",
    "area = int(input('Provide area of the circle'))\n",
    "r = (area/3.14)**(1/2)\n",
    "print(f'radius of a circle with area {area} is {r} & circumference of the circle is {3.14*2*r}')\n"
   ]
  },
  {
   "cell_type": "code",
   "execution_count": 30,
   "metadata": {},
   "outputs": [
    {
     "name": "stdout",
     "output_type": "stream",
     "text": [
      "Provide marks in subject 191\n",
      "Provide marks in subject 292\n",
      "Provide marks in subject 393\n",
      "Provide marks in subject 494\n",
      "Provide marks in subject 595\n",
      "Percentage of marks obtained is: 93.0\n"
     ]
    }
   ],
   "source": [
    "#We need to input marks in 5 subjects out of 100 and print percentage.\n",
    "num1 = int(input('Provide marks in subject 1'))\n",
    "num2 = int(input('Provide marks in subject 2'))\n",
    "num3 = int(input('Provide marks in subject 3'))\n",
    "num4 = int(input('Provide marks in subject 4'))\n",
    "num5 = int(input('Provide marks in subject 5'))\n",
    "print(f'Percentage of marks obtained is: {(num1+num2+num3+num4+num5)/5}')\n"
   ]
  }
 ],
 "metadata": {
  "kernelspec": {
   "display_name": "Python 3",
   "language": "python",
   "name": "python3"
  },
  "language_info": {
   "codemirror_mode": {
    "name": "ipython",
    "version": 3
   },
   "file_extension": ".py",
   "mimetype": "text/x-python",
   "name": "python",
   "nbconvert_exporter": "python",
   "pygments_lexer": "ipython3",
   "version": "3.8.3"
  }
 },
 "nbformat": 4,
 "nbformat_minor": 4
}
