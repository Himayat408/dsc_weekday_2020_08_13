{
 "cells": [
  {
   "cell_type": "code",
   "execution_count": 116,
   "metadata": {},
   "outputs": [
    {
     "name": "stdout",
     "output_type": "stream",
     "text": [
      "Enter a number:15\n",
      "Enter another number:10\n",
      "False\n"
     ]
    }
   ],
   "source": [
    "# 1. WAP to input 2 numbers and check whether the first is divisible by the second and print true or\n",
    "#    false depending on the divisibility.\n",
    "\n",
    "x=int(input(\"Enter a number:\"))\n",
    "y=int(input(\"Enter another number:\"))\n",
    "\n",
    "if x%y==0:\n",
    "     print(True)\n",
    "else:\n",
    "    print(False)"
   ]
  },
  {
   "cell_type": "code",
   "execution_count": 25,
   "metadata": {},
   "outputs": [
    {
     "name": "stdout",
     "output_type": "stream",
     "text": [
      "Enter any string :Naman\n",
      "palindrome\n"
     ]
    }
   ],
   "source": [
    "# 2. In the palindrome example, make the code case insensitive.\n",
    "#i.e. Naman should also be treated as a palindrome (HINT: first convert to either upper or lower case).\n",
    "\n",
    "str=input(\"Enter any string :\").lower()\n",
    "if str==str[::-1]:\n",
    "    print(\"palindrome\")\n",
    "    \n",
    "else:\n",
    "    print(\"not a palindrome\")"
   ]
  },
  {
   "cell_type": "code",
   "execution_count": 123,
   "metadata": {},
   "outputs": [
    {
     "name": "stdout",
     "output_type": "stream",
     "text": [
      "Enter side 1:re\n",
      "ENTER NUMBERS ONLY\n",
      "Enter side 1:ed\n",
      "ENTER NUMBERS ONLY\n",
      "Enter side 1:.\n",
      "ENTER NUMBERS ONLY\n",
      "Enter side 1:3\n",
      "Enter side 2:4\n",
      "Enter side 3:5\n",
      "scalene\n"
     ]
    }
   ],
   "source": [
    "# 3. WAP to input the sides of a triangle and print whether equilateral(all sides equal), isosceles (2 sides equal), \n",
    "# or scalene (no sides equal).\n",
    "\n",
    "while True:\n",
    "        try:\n",
    "            x,y,z=int(input(\"Enter side 1:\")), int(input(\"Enter side 2:\")), int(input(\"Enter side 3:\"))\n",
    "        except ValueError:\n",
    "            print(\"ENTER NUMBERS ONLY\")\n",
    "            continue\n",
    "        else:\n",
    "            \n",
    "            if x==y and y==z and x==z:\n",
    "                print(\"equilateral\")\n",
    "            elif x==y or y==z or x==z:\n",
    "                print(\"isosceles\")\n",
    "            elif x!=y and y!=z and x!=z:\n",
    "                print(\"scalene\")\n",
    "        break\n"
   ]
  },
  {
   "cell_type": "code",
   "execution_count": 21,
   "metadata": {},
   "outputs": [
    {
     "name": "stdout",
     "output_type": "stream",
     "text": [
      "Enter any number :d\n",
      "ENTER INTEGER NUMBERS ONLY\n",
      "Enter any number :f\n",
      "ENTER INTEGER NUMBERS ONLY\n",
      "Enter any number :s\n",
      "ENTER INTEGER NUMBERS ONLY\n",
      "Enter any number :5\n",
      "odd\n"
     ]
    }
   ],
   "source": [
    "# 4. WAP to input a number and print if it is even or odd.\n",
    "while TRUE:\n",
    "    try:\n",
    "        x=int(input(\"Enter any number :\"))\n",
    "    except ValueError:\n",
    "        print(\"ENTER NUMBERS ONLY\")\n",
    "        continue\n",
    "    else:\n",
    "        if x%2==0:\n",
    "            print(\"even\")\n",
    "        else:\n",
    "            print(\"odd\")\n",
    "        break\n"
   ]
  },
  {
   "cell_type": "code",
   "execution_count": 26,
   "metadata": {},
   "outputs": [
    {
     "name": "stdout",
     "output_type": "stream",
     "text": [
      "Enter your age :gh\n",
      "ENTER NUMBERS ONLY\n",
      "Enter your age :101\n",
      "Congratulations\n"
     ]
    }
   ],
   "source": [
    "# 5. WAP to input age and print the respective text depending on the age ranges as present in the table.\n",
    "\n",
    "while TRUE:\n",
    "    try:\n",
    "        age=int(input(\"Enter your age :\"))\n",
    "    except ValueError:\n",
    "        print(\"ENTER NUMBERS ONLY\")\n",
    "        continue\n",
    "    else:\n",
    "        if 0<=age<=12:\n",
    "            print(\"Child\")\n",
    "        elif 13<=age<=17:\n",
    "            print(\"Teen\")\n",
    "        elif 18<=age<=50:\n",
    "            print(\"Adult\")\n",
    "        elif 51<=age<=100:\n",
    "            print(\"Senior Citizen\")\n",
    "        elif age>100:\n",
    "            print(\"Congratulations\")\n",
    "        break\n"
   ]
  },
  {
   "cell_type": "code",
   "execution_count": 79,
   "metadata": {},
   "outputs": [
    {
     "name": "stdout",
     "output_type": "stream",
     "text": [
      "Enter any year :er\n",
      "Enter only 4- digit number non-negative number\n",
      "Enter any year :-2\n",
      "Enter only 4- digit number non-negative number\n",
      "Enter any year :2021\n",
      "Not a Leap Year\n"
     ]
    }
   ],
   "source": [
    "# 6. WAP to input year (check if user enters valid year. Should be 4-digit number and should not be negative) \n",
    "#and print whether leap year or not. (If really interested in why you also have to check the divisibility by 400 \n",
    "#just google the exact time it takes for the earth to revolve around the sub)\n",
    "\n",
    "while True:\n",
    "    try:\n",
    "        year=int(input(\"Enter any year :\"))\n",
    "        \n",
    "        #print(len(y))\n",
    "    except ValueError:\n",
    "        print(\"Enter only 4- digit number non-negative number\")\n",
    "        continue\n",
    "    else:\n",
    "        y=str(year)\n",
    "        if len(y)==4 and year>0:\n",
    "            if year%4==0 and (year%100!=0 or year%400==0):\n",
    "                print('Leap Year')\n",
    "            else:\n",
    "                print('Not a Leap Year')\n",
    "        else:\n",
    "            print(\"Enter only 4- digit number non-negative number\")\n",
    "            continue\n",
    "    break"
   ]
  },
  {
   "cell_type": "code",
   "execution_count": 89,
   "metadata": {},
   "outputs": [
    {
     "name": "stdout",
     "output_type": "stream",
     "text": [
      "Enter any string:LOKESH\n",
      "lokesh\n"
     ]
    }
   ],
   "source": [
    "# 7. WAP to input a string and convert it to Upper Case if number of characters is odd and convert to lower \n",
    "#     case otherwise. [complete this]\n",
    "while True:\n",
    "    try:\n",
    "        str=input(\"Enter any string:\") \n",
    "    except ValueError:\n",
    "        print(\"Please Enter Strings only\")\n",
    "        continue\n",
    "    else:\n",
    "        if len(str)%2==0:\n",
    "            print(str.lower())\n",
    "        elif len(str)%2!=0:\n",
    "            print(str.upper())\n",
    "        else:\n",
    "            print(\"Enter only strings :\")\n",
    "            continue\n",
    "    break\n",
    "\n"
   ]
  },
  {
   "cell_type": "code",
   "execution_count": 106,
   "metadata": {},
   "outputs": [
    {
     "name": "stdout",
     "output_type": "stream",
     "text": [
      "Enter a string:I am an eggetarian\n",
      "Non-veg\n"
     ]
    }
   ],
   "source": [
    "# 8. WAP to input a string and print Veg if the string doesn’t contain the word egg. Otherwise print Non-Veg.\n",
    "# As usual eggs can be both big and small.\n",
    "    \n",
    "string=input(\"Enter a string:\").lower()\n",
    "\n",
    "\"\"\"Removes all whitespaces in the string\"\"\"\n",
    "\n",
    "string=string.replace(\" \", \"\")\n",
    "\n",
    "\"\"\"Checks if the input is a string and prints error if not\"\"\"\n",
    "if not string.isalpha():\n",
    "    print(\"Please enter only string.\")\n",
    "else:\n",
    "    if 'egg' in string:\n",
    "        print(\"Non-veg\")\n",
    "    else: \n",
    "        print(\"veg\")\n",
    "    "
   ]
  },
  {
   "cell_type": "code",
   "execution_count": 102,
   "metadata": {},
   "outputs": [
    {
     "name": "stdout",
     "output_type": "stream",
     "text": [
      "True\n",
      "\n",
      "\n",
      "False\n",
      "\n",
      "\n",
      "Weird!!!\n",
      "\n",
      "\n",
      "[4, 3, 2, 1]\n"
     ]
    }
   ],
   "source": [
    "# 9. Give output of:\n",
    "\n",
    "if not 1:\n",
    "    print(\"False\")\n",
    "else:\n",
    "    print(\"True\")\n",
    "\n",
    "print('\\n')\n",
    "\n",
    "#while TRUE\n",
    "if 1:\n",
    "    print(\"False\")\n",
    "else:\n",
    "    print(\"True\")\n",
    "    \n",
    "print('\\n')\n",
    "\n",
    "if 'a'>'A':\n",
    "    print('Weird!!!')\n",
    "else:\n",
    "    print(\"Make Sense\")\n",
    "\n",
    "print('\\n')\n",
    "\n",
    "a=[1,2,3,4]\n",
    "if 1<1:\n",
    "    a=a[::-1]\n",
    "else:\n",
    "    a=a[-1::-1]\n",
    "print(a)\n",
    "\n",
    "    "
   ]
  },
  {
   "cell_type": "code",
   "execution_count": 9,
   "metadata": {},
   "outputs": [
    {
     "name": "stdout",
     "output_type": "stream",
     "text": [
      "Enter sub1 marks :re\n",
      "Enter only numbers :\n",
      "Enter sub1 marks :50\n",
      "Enter sub2 marks :40\n",
      "Enter sub3 marks :60\n",
      "Enter sub4 marks :35\n",
      "Enter sub5 marks :75\n",
      "percentage is : 52.0\n",
      "Grade-F\n"
     ]
    }
   ],
   "source": [
    "# 10. WAP to input marks in 5 subjects and print the grade as per following logic:\n",
    "\n",
    "while True:\n",
    "    try:\n",
    "         \n",
    "        sub1=int(input(\"Enter sub1 marks :\"))\n",
    "        sub2=int(input(\"Enter sub2 marks :\"))\n",
    "        sub3=int(input(\"Enter sub3 marks :\"))\n",
    "        sub4=int(input(\"Enter sub4 marks :\"))\n",
    "        sub5=int(input(\"Enter sub5 marks :\"))\n",
    "   \n",
    "    except ValueError:\n",
    "        \n",
    "         print(\"Enter only numbers :\")\n",
    "         \n",
    "         continue\n",
    "        \n",
    "    else:\n",
    "        Total_value=500\n",
    "        value=sub1+sub2+sub3+sub4+sub5\n",
    "        percentage=(value/Total_value)*100\n",
    "        print(\"percentage is :\", percentage)\n",
    "        if 90<=percentage<=100:\n",
    "            print(\"Grade-A\")\n",
    "        elif 80<=percentage<=89:\n",
    "            print(\"Grade-B\")\n",
    "        elif 60<=percentage<=79:\n",
    "            print(\"Grade-C\")\n",
    "        elif percentage<60:\n",
    "            print(\"Grade-F\")\n",
    "            \n",
    "    break"
   ]
  },
  {
   "cell_type": "code",
   "execution_count": 115,
   "metadata": {},
   "outputs": [
    {
     "name": "stdout",
     "output_type": "stream",
     "text": [
      "Enter your age :lokesh\n",
      "Please Enter Integers Only\n",
      "Enter your age :35.5\n",
      "Please Enter Integers Only\n",
      "Enter your age :28\n",
      "Enter your salary :300000\n",
      "Tax Rate is: 5%\n"
     ]
    }
   ],
   "source": [
    "# 11.􏰃WAP to input age and salary and calculate tax as per tax rates if following table:\n",
    "\n",
    "while True:\n",
    "    try:\n",
    "        age= int(input(\"Enter your age :\"))\n",
    "        salary= int(input(\"Enter your salary :\"))\n",
    "    except ValueError:\n",
    "        print(\"Please Enter Integers Only\")\n",
    "        continue\n",
    "    else:\n",
    "        if age<60:\n",
    "            if 0<=salary<=250000:\n",
    "                print(\"Tax Rate is: 0%\")\n",
    "            if 250001<=salary<=500000:\n",
    "                print(\"Tax Rate is: 5%\")\n",
    "            if 500001<=salary<=1000000:\n",
    "                print(\"Tax Rate is: 10%\")\n",
    "            if salary>1000001:\n",
    "                print(\"Tax Rate is :15\")\n",
    "        elif age>=60: \n",
    "            if 0<=salary<=250000:\n",
    "                print(\"Tax Rate is: 0%\")\n",
    "            if 250001<=salary<=500000:\n",
    "                print(\"Tax Rate is: 3%\")\n",
    "            if 500001<=salary<=1000000:\n",
    "                print(\"Tax Rate is: 8%\")\n",
    "            if salary>1000001:\n",
    "                print(\"Tax Rate is :12%\")\n",
    "    break"
   ]
  },
  {
   "cell_type": "code",
   "execution_count": 124,
   "metadata": {},
   "outputs": [
    {
     "name": "stdout",
     "output_type": "stream",
     "text": [
      "10\n"
     ]
    }
   ],
   "source": [
    "# 12. Try each of the following:\n",
    "\n",
    "#12a.\n",
    "print(20 if not 1 == 1 else 10)"
   ]
  },
  {
   "cell_type": "code",
   "execution_count": 125,
   "metadata": {},
   "outputs": [
    {
     "name": "stdout",
     "output_type": "stream",
     "text": [
      "10\n"
     ]
    }
   ],
   "source": [
    "#12b.\n",
    "print(30 if not 1 == 1 else 20 if 'a' < 'A' else 10)  "
   ]
  },
  {
   "cell_type": "code",
   "execution_count": 128,
   "metadata": {},
   "outputs": [
    {
     "name": "stdout",
     "output_type": "stream",
     "text": [
      "10\n"
     ]
    }
   ],
   "source": [
    "#12c.\n",
    "#if True(1 or any non-zero value ex:'oh!!' look at 12d.)- execute if statement\n",
    "#if 1\n",
    "    print()\n",
    "#if False(0 or '')- execute else statement\n",
    "print(40 if not 1 == 1 else 30 if 'a' < 'A' else 20 if '' else 10)  "
   ]
  },
  {
   "cell_type": "code",
   "execution_count": 129,
   "metadata": {},
   "outputs": [
    {
     "name": "stdout",
     "output_type": "stream",
     "text": [
      "OMG\n"
     ]
    }
   ],
   "source": [
    "#12d. \n",
    "\n",
    "print('No' if not 1 == 1 else ('No' if 'a' < 'A' else ('OMG' if 'oh!!' else 'No') ))"
   ]
  },
  {
   "cell_type": "code",
   "execution_count": 11,
   "metadata": {},
   "outputs": [
    {
     "name": "stdout",
     "output_type": "stream",
     "text": [
      "Overweight—Moderately Obese\n"
     ]
    }
   ],
   "source": [
    "#13. WAF: bmi() that takes the weight in kg and height in cm of a person, calculates and returns the BMI.\n",
    "#Write code that calls this function after taking height and weight as inputs and then prints \n",
    "#underweight, normal, overweight or obese depending on the value of BMI.\n",
    "\n",
    "def bmi(w,h):\n",
    "    bmi= (w / h / h)*10000\n",
    "    return bmi\n",
    "b=bmi(87,180)\n",
    "\n",
    "if b<=18.5:\n",
    "    print(\"Underweight\")\n",
    "elif 18.5<=b<=23:\n",
    "    print(\"Normal Range\")\n",
    "elif 23<= b<=25:\n",
    "    print(\"Overweight—At Risk\")\n",
    "elif 25<=b<=30:\n",
    "    print(\"Overweight—Moderately Obese\")\n",
    "elif b>30:\n",
    "    print(\"Overweight—Severely Obese\")\n",
    "    "
   ]
  },
  {
   "cell_type": "code",
   "execution_count": 31,
   "metadata": {},
   "outputs": [
    {
     "name": "stdout",
     "output_type": "stream",
     "text": [
      "Enter age1 :34.5\n",
      "Enter Integers only :\n",
      "Enter age1 :34\n",
      "Enter age2 :23\n",
      "Enter age3 :36\n",
      "oldest is : 36\n"
     ]
    }
   ],
   "source": [
    "# 14. Take input of age of 3 people by user and determine oldest and youngest among them.\n",
    "\n",
    "while True:\n",
    "    try:\n",
    "        age1=int(input(\"Enter age1 :\"))\n",
    "        age2=int(input(\"Enter age2 :\"))\n",
    "        age3=int(input(\"Enter age3 :\"))\n",
    "    except ValueError:\n",
    "        print(\"Enter Integers only :\")\n",
    "        continue\n",
    "    else:\n",
    "        \n",
    "        if (age1<age2 and age2<age3) or (age1>age2 and age2<age3):\n",
    "            print('oldest is :',age3)\n",
    "        elif age1>age2 and age2>age3:\n",
    "            print('oldest is :',age1)\n",
    "        else:\n",
    "            print('oldest is :', age2)\n",
    "    break\n",
    "    \n"
   ]
  },
  {
   "cell_type": "code",
   "execution_count": 115,
   "metadata": {},
   "outputs": [
    {
     "name": "stdout",
     "output_type": "stream",
     "text": [
      "Enter any number :25\n",
      "number is not divisible by both 5 and 7\n"
     ]
    }
   ],
   "source": [
    "# 15. WAP to input a number and check if number is divisible by both 5 and 7.\n",
    "\n",
    "num=int(input(\"Enter any number :\"))\n",
    "if num%5==0 and num%7==0:\n",
    "    print(\"number is divisible by both 5 and 7\")\n",
    "else:\n",
    "    print(\"number is not divisible by both 5 and 7\")"
   ]
  }
 ],
 "metadata": {
  "kernelspec": {
   "display_name": "Python 3",
   "language": "python",
   "name": "python3"
  },
  "language_info": {
   "codemirror_mode": {
    "name": "ipython",
    "version": 3
   },
   "file_extension": ".py",
   "mimetype": "text/x-python",
   "name": "python",
   "nbconvert_exporter": "python",
   "pygments_lexer": "ipython3",
   "version": "3.8.3"
  }
 },
 "nbformat": 4,
 "nbformat_minor": 4
}
