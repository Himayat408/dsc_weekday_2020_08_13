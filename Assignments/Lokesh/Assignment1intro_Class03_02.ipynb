{
 "cells": [
  {
   "cell_type": "code",
   "execution_count": 2,
   "metadata": {},
   "outputs": [
    {
     "name": "stdout",
     "output_type": "stream",
     "text": [
      "6 19\n"
     ]
    }
   ],
   "source": [
    "# 1.Predict Output:\n",
    "\n",
    "s1= 'Gaurav'\n",
    "s2= 'tuteur.py@gmail.com'\n",
    "print(len(s1),len(s2))"
   ]
  },
  {
   "cell_type": "code",
   "execution_count": 4,
   "metadata": {},
   "outputs": [
    {
     "name": "stdout",
     "output_type": "stream",
     "text": [
      "enter any string:raghava reddy\n",
      "13\n"
     ]
    }
   ],
   "source": [
    "# 2. WAP to input a string and print its length.\n",
    "\n",
    "string= input('enter any string:')\n",
    "print(len(string))"
   ]
  },
  {
   "cell_type": "code",
   "execution_count": 5,
   "metadata": {},
   "outputs": [
    {
     "name": "stdout",
     "output_type": "stream",
     "text": [
      "enter any number:3\n",
      "enter another number:4\n",
      "The sum of given two numbers is: 7\n",
      "The difference of given two numbers is: -1\n"
     ]
    }
   ],
   "source": [
    "# 3. WAP to input 2 numbers and print their sum and difference.\n",
    "\n",
    "x=int(input('enter any number:'))\n",
    "y=int(input('enter another number:'))\n",
    "print('The sum of given two numbers is:',x+y)\n",
    "print('The difference of given two numbers is:',x-y)\n"
   ]
  },
  {
   "cell_type": "code",
   "execution_count": 6,
   "metadata": {},
   "outputs": [
    {
     "name": "stdout",
     "output_type": "stream",
     "text": [
      "abde\n"
     ]
    }
   ],
   "source": [
    "# 4. Predict output: (string concatenation)\n",
    "\n",
    "s1 = 'ab'\n",
    "s2 = 'de'\n",
    "s3 = s1+s2\n",
    "print(s3)"
   ]
  },
  {
   "cell_type": "code",
   "execution_count": 7,
   "metadata": {},
   "outputs": [
    {
     "name": "stdout",
     "output_type": "stream",
     "text": [
      "lokesh\n"
     ]
    }
   ],
   "source": [
    "# 5. Predict output:\n",
    "\n",
    "s1 = 'lok'\n",
    "s2 = 'esh'\n",
    "s3 = s1+s2\n",
    "print(s3)"
   ]
  },
  {
   "cell_type": "code",
   "execution_count": 8,
   "metadata": {},
   "outputs": [
    {
     "name": "stdout",
     "output_type": "stream",
     "text": [
      "abababab\n"
     ]
    }
   ],
   "source": [
    "# 6. Predict output:\n",
    "\n",
    "s1 = 'ab'*4\n",
    "print(s1)"
   ]
  },
  {
   "cell_type": "code",
   "execution_count": 16,
   "metadata": {},
   "outputs": [
    {
     "name": "stdout",
     "output_type": "stream",
     "text": [
      "ab\n",
      "ab\n",
      "ab\n",
      "ab\n",
      "\n",
      "ab\tab\tab\tab\t\n",
      "ab\r",
      "ab\r",
      "ab\r",
      "ab\r\n",
      "ab\u000b",
      "ab\u000b",
      "ab\u000b",
      "ab\u000b",
      "\n",
      "ab\f",
      "ab\f",
      "ab\f",
      "ab\f",
      "\n",
      "ab ab ab ab \n"
     ]
    }
   ],
   "source": [
    "# 7. Predict output:\n",
    "\n",
    "s1 = 'ab\\n'*4\n",
    "print(s1)\n",
    "\n",
    "s2 = 'ab\\t'*4\n",
    "print(s2)\n",
    "\n",
    "s3 = 'ab\\r'*4\n",
    "print(s3)\n",
    "\n",
    "s4 = 'ab\\v'*4\n",
    "print(s4)\n",
    "\n",
    "s5 = 'ab\\f'*4\n",
    "print(s5)\n",
    "\n",
    "s6 = 'ab '*4\n",
    "print(s6)\n",
    "\n"
   ]
  },
  {
   "cell_type": "code",
   "execution_count": 24,
   "metadata": {},
   "outputs": [
    {
     "name": "stdout",
     "output_type": "stream",
     "text": [
      "Enter a string:lokesh\n",
      "enter any number5\n",
      "The output is : lokeshlokeshlokeshlokeshlokesh\n"
     ]
    }
   ],
   "source": [
    "# 8. WAP to input a string s and a number n. Print the string n times on the screen, each should appear in a separate line (do not use any kind of loops, use the multiplication operator).\n",
    "\n",
    "\n",
    "string= input('Enter a string:')\n",
    "num=int(input('enter any number'))\n",
    "x= string*num\n",
    "\n",
    "print('The output is :', x )\n"
   ]
  },
  {
   "cell_type": "code",
   "execution_count": 42,
   "metadata": {},
   "outputs": [
    {
     "name": "stdout",
     "output_type": "stream",
     "text": [
      "Gaurav\n",
      "None\n"
     ]
    }
   ],
   "source": [
    "# 9. Predict Output:\n",
    "res = print('Gaurav')\n",
    "print(res)\n"
   ]
  },
  {
   "cell_type": "code",
   "execution_count": 43,
   "metadata": {},
   "outputs": [
    {
     "name": "stdout",
     "output_type": "stream",
     "text": [
      "<class 'int'>\n"
     ]
    }
   ],
   "source": [
    "# 10. Predict Output:\n",
    "\n",
    "res= len('tuteur.py@gmail.com')\n",
    "print(type(res))"
   ]
  },
  {
   "cell_type": "code",
   "execution_count": 44,
   "metadata": {},
   "outputs": [
    {
     "name": "stdout",
     "output_type": "stream",
     "text": [
      "Gaurav\n",
      "tuteur.py@gmail.com\n",
      "<class 'str'>\n",
      "26\n"
     ]
    }
   ],
   "source": [
    "# 11. Predict Output:\n",
    "\n",
    "s1= 'Gaurav'\n",
    "s2= 'tuteur.py@gmail.com'\n",
    "s3= s1+ '\\n' + s2\n",
    "print(s3)\n",
    "print(type(s3))\n",
    "print(len(s3))"
   ]
  },
  {
   "cell_type": "code",
   "execution_count": 57,
   "metadata": {},
   "outputs": [
    {
     "name": "stdout",
     "output_type": "stream",
     "text": [
      "['__doc__', '__file__', '__loader__', '__name__', '__package__', '__spec__', 'acos', 'acosh', 'asin', 'asinh', 'atan', 'atan2', 'atanh', 'ceil', 'comb', 'copysign', 'cos', 'cosh', 'degrees', 'dist', 'e', 'erf', 'erfc', 'exp', 'expm1', 'fabs', 'factorial', 'floor', 'fmod', 'frexp', 'fsum', 'gamma', 'gcd', 'hypot', 'inf', 'isclose', 'isfinite', 'isinf', 'isnan', 'isqrt', 'ldexp', 'lgamma', 'log', 'log10', 'log1p', 'log2', 'modf', 'nan', 'perm', 'pi', 'pow', 'prod', 'radians', 'remainder', 'sin', 'sinh', 'sqrt', 'tan', 'tanh', 'tau', 'trunc']\n",
      "['__doc__', '__file__', '__loader__', '__name__', '__package__', '__spec__', 'acos', 'acosh', 'asin', 'asinh', 'atan', 'atan2', 'atanh', 'ceil', 'comb', 'copysign', 'cos', 'cosh', 'degrees', 'dist', 'e', 'erf', 'erfc', 'exp', 'expm1', 'fabs', 'factorial', 'floor', 'fmod', 'frexp', 'fsum', 'gamma', 'gcd', 'hypot', 'inf', 'isclose', 'isfinite', 'isinf', 'isnan', 'isqrt', 'ldexp', 'lgamma', 'log', 'log10', 'log1p', 'log2', 'modf', 'nan', 'perm', 'pi', 'pow', 'prod', 'radians', 'remainder', 'sin', 'sinh', 'sqrt', 'tan', 'tanh', 'tau', 'trunc']\n",
      "enter any number:16\n",
      "The squareroot of the entered number is : 4.0\n"
     ]
    }
   ],
   "source": [
    "# 12. Find the name of function to find the square root. (see all the options available in dir() of math)\n",
    "\n",
    "import math\n",
    "print(dir(math))\n",
    "print(repr(dir(math)))\n",
    "\n",
    "# #Name of the function to find Square root \n",
    "x=int(input('enter any number:'))\n",
    "print('The squareroot of the entered number is :', math.sqrt(x))\n",
    "\n"
   ]
  },
  {
   "cell_type": "code",
   "execution_count": 58,
   "metadata": {},
   "outputs": [
    {
     "name": "stdout",
     "output_type": "stream",
     "text": [
      "enter any number:64\n",
      "The squareroot of the entered number is : 8.0\n"
     ]
    }
   ],
   "source": [
    "# 13. WAP to input a number and print its square root ().\n",
    "\n",
    "x=int(input('enter any number:'))\n",
    "print('The squareroot of the entered number is :', math.sqrt(x))\n",
    "\n"
   ]
  },
  {
   "cell_type": "code",
   "execution_count": 60,
   "metadata": {},
   "outputs": [
    {
     "name": "stdout",
     "output_type": "stream",
     "text": [
      "Enter a number:3\n",
      "Enter another number:4\n",
      "Enter another number:5\n",
      "Enter another number:5\n",
      "the average of the entered numbers is: 4.25\n"
     ]
    }
   ],
   "source": [
    "# 14. WAP to input 4 numbers from user and print their average\n",
    "\n",
    "n1 = int(input('Enter a number:'))\n",
    "n2 = int(input('Enter another number:'))\n",
    "n3 = int(input('Enter another number:'))\n",
    "n4 = int(input('Enter another number:'))\n",
    "\n",
    "print(\"the average of the entered numbers is:\", (n1+n2+n3+n4)/4)"
   ]
  },
  {
   "cell_type": "code",
   "execution_count": 70,
   "metadata": {},
   "outputs": [
    {
     "name": "stdout",
     "output_type": "stream",
     "text": [
      "Help on built-in function abs in module builtins:\n",
      "\n",
      "abs(x, /)\n",
      "    Return the absolute value of the argument.\n",
      "\n",
      "None\n",
      "4.0\n"
     ]
    }
   ],
   "source": [
    "# 15. Use the help function to check what the abs function in python does.\n",
    "import math\n",
    "# print(dir(help))\n",
    "# print(repr(dir(help)))\n",
    "\n",
    "print(help(abs))\n",
    "\n",
    "x=abs(-math.sqrt(16))\n",
    "print(x)"
   ]
  },
  {
   "cell_type": "code",
   "execution_count": 71,
   "metadata": {},
   "outputs": [
    {
     "name": "stdout",
     "output_type": "stream",
     "text": [
      "__main__\n"
     ]
    }
   ],
   "source": [
    "# 16. What is the output of this code when run from python interpreter.\n",
    "\n",
    "print(__name__)"
   ]
  },
  {
   "cell_type": "code",
   "execution_count": 77,
   "metadata": {},
   "outputs": [],
   "source": [
    "# 17. What is the output of this code when run from a python script.\n",
    "\n",
    "print(__name__)\n",
    "\n",
    "# # Answer: Returns the name of the (current running) imported module. The variable name changes depending on the place\n",
    "# # we are using it. This name varaible can be used to run a particular code in a file when we want to run it, by \n",
    "# # using this variable as a conditional variable.\n",
    "# hint: If you want to show something to the user only once at the start of your code or application\n",
    "#      like a 'welcome message' use : if __name__== \"__main__\":\n",
    "#                                           main()"
   ]
  },
  {
   "cell_type": "code",
   "execution_count": 78,
   "metadata": {},
   "outputs": [
    {
     "name": "stdout",
     "output_type": "stream",
     "text": [
      "['__abs__', '__add__', '__and__', '__bool__', '__ceil__', '__class__', '__delattr__', '__dir__', '__divmod__', '__doc__', '__eq__', '__float__', '__floor__', '__floordiv__', '__format__', '__ge__', '__getattribute__', '__getnewargs__', '__gt__', '__hash__', '__index__', '__init__', '__init_subclass__', '__int__', '__invert__', '__le__', '__lshift__', '__lt__', '__mod__', '__mul__', '__ne__', '__neg__', '__new__', '__or__', '__pos__', '__pow__', '__radd__', '__rand__', '__rdivmod__', '__reduce__', '__reduce_ex__', '__repr__', '__rfloordiv__', '__rlshift__', '__rmod__', '__rmul__', '__ror__', '__round__', '__rpow__', '__rrshift__', '__rshift__', '__rsub__', '__rtruediv__', '__rxor__', '__setattr__', '__sizeof__', '__str__', '__sub__', '__subclasshook__', '__truediv__', '__trunc__', '__xor__', 'as_integer_ratio', 'bit_length', 'conjugate', 'denominator', 'from_bytes', 'imag', 'numerator', 'real', 'to_bytes']\n"
     ]
    }
   ],
   "source": [
    "# 18. Does the dir of int class contain an attribute __name__ (Y/N).\n",
    "\n",
    "print(repr(dir(int)))\n",
    "\n",
    "Answer: No"
   ]
  },
  {
   "cell_type": "code",
   "execution_count": 80,
   "metadata": {},
   "outputs": [
    {
     "name": "stdout",
     "output_type": "stream",
     "text": [
      "__main__\n",
      "builtins\n",
      "int\n"
     ]
    }
   ],
   "source": [
    "# 19. Predict Output:\n",
    "\n",
    "print(__name__)\n",
    "print(__builtins__.__name__)\n",
    "print(int.__name__)"
   ]
  }
 ],
 "metadata": {
  "kernelspec": {
   "display_name": "Python 3",
   "language": "python",
   "name": "python3"
  },
  "language_info": {
   "codemirror_mode": {
    "name": "ipython",
    "version": 3
   },
   "file_extension": ".py",
   "mimetype": "text/x-python",
   "name": "python",
   "nbconvert_exporter": "python",
   "pygments_lexer": "ipython3",
   "version": "3.8.3"
  }
 },
 "nbformat": 4,
 "nbformat_minor": 4
}
