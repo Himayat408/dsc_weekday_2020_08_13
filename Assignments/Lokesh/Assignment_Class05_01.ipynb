{
 "cells": [
  {
   "cell_type": "code",
   "execution_count": 41,
   "metadata": {},
   "outputs": [
    {
     "name": "stdout",
     "output_type": "stream",
     "text": [
      "d\n",
      "detneirO tcejbO si nohtyP\n",
      "Python is Object Oriente\n",
      "on is \n",
      "\n"
     ]
    }
   ],
   "source": [
    "#    1. Guess output of each slice: \n",
    "       \n",
    "s= \"Python is Object Oriented\"\n",
    "\n",
    "print( s[-1] +'\\n'+ s[::-1] +'\\n'+ s[:-1]+'\\n'+ s[4:10]+'\\n'+s[1:1] )\n",
    "\n"
   ]
  },
  {
   "cell_type": "code",
   "execution_count": 44,
   "metadata": {},
   "outputs": [
    {
     "ename": "SyntaxError",
     "evalue": "invalid character in identifier (<ipython-input-44-6f2a51ea0515>, line 2)",
     "output_type": "error",
     "traceback": [
      "\u001b[0;36m  File \u001b[0;32m\"<ipython-input-44-6f2a51ea0515>\"\u001b[0;36m, line \u001b[0;32m2\u001b[0m\n\u001b[0;31m    s= ‘’\u001b[0m\n\u001b[0m        ^\u001b[0m\n\u001b[0;31mSyntaxError\u001b[0m\u001b[0;31m:\u001b[0m invalid character in identifier\n"
     ]
    }
   ],
   "source": [
    "#2. What error do you see for following statements: \n",
    "s= ‘’\n",
    "print(s[1])"
   ]
  },
  {
   "cell_type": "code",
   "execution_count": 52,
   "metadata": {},
   "outputs": [
    {
     "name": "stdout",
     "output_type": "stream",
     "text": [
      "y\n",
      "a\n"
     ]
    }
   ],
   "source": [
    "#3. Do you get any error for the following code, if not give the output: \n",
    "    \n",
    "S= 'Gaurav'\n",
    "print(s[1])\n",
    "print(S[1])"
   ]
  },
  {
   "cell_type": "code",
   "execution_count": 53,
   "metadata": {},
   "outputs": [
    {
     "name": "stdout",
     "output_type": "stream",
     "text": [
      "6\n",
      "abc\n",
      "3\n"
     ]
    }
   ],
   "source": [
    "# 4a) . Find output of the following:\n",
    "\n",
    "s='a b cd' \n",
    "print(len(s))\n",
    "print(s[::2]) \n",
    "print(len(s[::2]))"
   ]
  },
  {
   "cell_type": "code",
   "execution_count": 59,
   "metadata": {},
   "outputs": [
    {
     "name": "stdout",
     "output_type": "stream",
     "text": [
      "26\n",
      "acegikmoqsuwy\n"
     ]
    }
   ],
   "source": [
    "s='abcdefghijklmnopqrstuvwxyz'\n",
    "print(len(s))\n",
    "\n",
    "print(s[::2])"
   ]
  },
  {
   "cell_type": "code",
   "execution_count": 72,
   "metadata": {},
   "outputs": [
    {
     "name": "stdout",
     "output_type": "stream",
     "text": [
      "['a#b#c#d#']\n",
      "['a', 'b', 'c', 'd', '']\n",
      "['a', 'b', 'c', 'd', '']\n",
      "a$b$c$d$\n"
     ]
    }
   ],
   "source": [
    "#4b)\n",
    "s='a#b#c#d#'\n",
    "print(s.split())\n",
    "print(s.split('#')) \n",
    "l=s.split('#')\n",
    "print(l)\n",
    "s='$'.join(l) \n",
    "print(s)"
   ]
  },
  {
   "cell_type": "code",
   "execution_count": 77,
   "metadata": {},
   "outputs": [
    {
     "name": "stdout",
     "output_type": "stream",
     "text": [
      "vra\n",
      "av\n"
     ]
    }
   ],
   "source": [
    "#4c)\n",
    "S='Gaurav' \n",
    "S=S[::-2]\n",
    "print(S)\n",
    "S=S[::-2] #S=S[::-2][::-2]\n",
    "print(S)\n",
    "S=S[::-2][::-2]"
   ]
  },
  {
   "cell_type": "code",
   "execution_count": 78,
   "metadata": {},
   "outputs": [
    {
     "name": "stdout",
     "output_type": "stream",
     "text": [
      "False\n"
     ]
    }
   ],
   "source": [
    "# 4d) \n",
    "print(1>2)"
   ]
  },
  {
   "cell_type": "code",
   "execution_count": 81,
   "metadata": {},
   "outputs": [
    {
     "name": "stdout",
     "output_type": "stream",
     "text": [
      "0,1,2\n",
      "0\n",
      "1\n",
      "2\n",
      "0\t1\t2\n"
     ]
    }
   ],
   "source": [
    "# 4e) \n",
    "print(4%2, 5%2, 2%5, sep=',')\n",
    "print(4%2, 5%2, 2%5, sep='\\n')\n",
    "print(4%2, 5%2, 2%5, sep='\\t')"
   ]
  },
  {
   "cell_type": "code",
   "execution_count": 85,
   "metadata": {},
   "outputs": [
    {
     "name": "stdout",
     "output_type": "stream",
     "text": [
      "ABCBA\n",
      "2,0,0 ,"
     ]
    }
   ],
   "source": [
    "# 4f) \n",
    "s='abcba'\n",
    "#. 01234\n",
    "s=s.upper()\n",
    "print(s)\n",
    "print(s.count('A'), end = ',') \n",
    "print(s.count('A', 2,4) , end = ',') \n",
    "print(s.count('a', 2,4) , end = ' ,')\n"
   ]
  },
  {
   "cell_type": "code",
   "execution_count": 203,
   "metadata": {},
   "outputs": [
    {
     "name": "stdout",
     "output_type": "stream",
     "text": [
      "Enter any string with spaces : Texas A&M UNIVERSITY , KINGSVILLE\n",
      "TexasA&MUNIVERSITY,KINGSVILLE\n"
     ]
    }
   ],
   "source": [
    "# 5. WAP to input a string and remove all spaces from it.\n",
    "\n",
    "string=input(\"Enter any string with spaces : \").split()\n",
    "string=\"\".join(string)\n",
    "print(string)"
   ]
  },
  {
   "cell_type": "code",
   "execution_count": 216,
   "metadata": {},
   "outputs": [
    {
     "name": "stdout",
     "output_type": "stream",
     "text": [
      "Welcome world\n"
     ]
    }
   ],
   "source": [
    "#Strings: in, find, replace, String[start,stop,step],lower(),upper(),isnumeric(),isdigit(),\n",
    "\n",
    "message=\"Hello world\"\n",
    "message=message.replace('Hello','Welcome')\n",
    "print(message)"
   ]
  },
  {
   "cell_type": "code",
   "execution_count": 100,
   "metadata": {},
   "outputs": [
    {
     "name": "stdout",
     "output_type": "stream",
     "text": [
      "Help on list object:\n",
      "\n",
      "class list(object)\n",
      " |  list(iterable=(), /)\n",
      " |  \n",
      " |  Built-in mutable sequence.\n",
      " |  \n",
      " |  If no argument is given, the constructor creates a new empty list.\n",
      " |  The argument must be an iterable if specified.\n",
      " |  \n",
      " |  Methods defined here:\n",
      " |  \n",
      " |  __add__(self, value, /)\n",
      " |      Return self+value.\n",
      " |  \n",
      " |  __contains__(self, key, /)\n",
      " |      Return key in self.\n",
      " |  \n",
      " |  __delitem__(self, key, /)\n",
      " |      Delete self[key].\n",
      " |  \n",
      " |  __eq__(self, value, /)\n",
      " |      Return self==value.\n",
      " |  \n",
      " |  __ge__(self, value, /)\n",
      " |      Return self>=value.\n",
      " |  \n",
      " |  __getattribute__(self, name, /)\n",
      " |      Return getattr(self, name).\n",
      " |  \n",
      " |  __getitem__(...)\n",
      " |      x.__getitem__(y) <==> x[y]\n",
      " |  \n",
      " |  __gt__(self, value, /)\n",
      " |      Return self>value.\n",
      " |  \n",
      " |  __iadd__(self, value, /)\n",
      " |      Implement self+=value.\n",
      " |  \n",
      " |  __imul__(self, value, /)\n",
      " |      Implement self*=value.\n",
      " |  \n",
      " |  __init__(self, /, *args, **kwargs)\n",
      " |      Initialize self.  See help(type(self)) for accurate signature.\n",
      " |  \n",
      " |  __iter__(self, /)\n",
      " |      Implement iter(self).\n",
      " |  \n",
      " |  __le__(self, value, /)\n",
      " |      Return self<=value.\n",
      " |  \n",
      " |  __len__(self, /)\n",
      " |      Return len(self).\n",
      " |  \n",
      " |  __lt__(self, value, /)\n",
      " |      Return self<value.\n",
      " |  \n",
      " |  __mul__(self, value, /)\n",
      " |      Return self*value.\n",
      " |  \n",
      " |  __ne__(self, value, /)\n",
      " |      Return self!=value.\n",
      " |  \n",
      " |  __repr__(self, /)\n",
      " |      Return repr(self).\n",
      " |  \n",
      " |  __reversed__(self, /)\n",
      " |      Return a reverse iterator over the list.\n",
      " |  \n",
      " |  __rmul__(self, value, /)\n",
      " |      Return value*self.\n",
      " |  \n",
      " |  __setitem__(self, key, value, /)\n",
      " |      Set self[key] to value.\n",
      " |  \n",
      " |  __sizeof__(self, /)\n",
      " |      Return the size of the list in memory, in bytes.\n",
      " |  \n",
      " |  append(self, object, /)\n",
      " |      Append object to the end of the list.\n",
      " |  \n",
      " |  clear(self, /)\n",
      " |      Remove all items from list.\n",
      " |  \n",
      " |  copy(self, /)\n",
      " |      Return a shallow copy of the list.\n",
      " |  \n",
      " |  count(self, value, /)\n",
      " |      Return number of occurrences of value.\n",
      " |  \n",
      " |  extend(self, iterable, /)\n",
      " |      Extend list by appending elements from the iterable.\n",
      " |  \n",
      " |  index(self, value, start=0, stop=9223372036854775807, /)\n",
      " |      Return first index of value.\n",
      " |      \n",
      " |      Raises ValueError if the value is not present.\n",
      " |  \n",
      " |  insert(self, index, object, /)\n",
      " |      Insert object before index.\n",
      " |  \n",
      " |  pop(self, index=-1, /)\n",
      " |      Remove and return item at index (default last).\n",
      " |      \n",
      " |      Raises IndexError if list is empty or index is out of range.\n",
      " |  \n",
      " |  remove(self, value, /)\n",
      " |      Remove first occurrence of value.\n",
      " |      \n",
      " |      Raises ValueError if the value is not present.\n",
      " |  \n",
      " |  reverse(self, /)\n",
      " |      Reverse *IN PLACE*.\n",
      " |  \n",
      " |  sort(self, /, *, key=None, reverse=False)\n",
      " |      Sort the list in ascending order and return None.\n",
      " |      \n",
      " |      The sort is in-place (i.e. the list itself is modified) and stable (i.e. the\n",
      " |      order of two equal elements is maintained).\n",
      " |      \n",
      " |      If a key function is given, apply it once to each list item and sort them,\n",
      " |      ascending or descending, according to their function values.\n",
      " |      \n",
      " |      The reverse flag can be set to sort in descending order.\n",
      " |  \n",
      " |  ----------------------------------------------------------------------\n",
      " |  Static methods defined here:\n",
      " |  \n",
      " |  __new__(*args, **kwargs) from builtins.type\n",
      " |      Create and return a new object.  See help(type) for accurate signature.\n",
      " |  \n",
      " |  ----------------------------------------------------------------------\n",
      " |  Data and other attributes defined here:\n",
      " |  \n",
      " |  __hash__ = None\n",
      "\n",
      "None\n"
     ]
    }
   ],
   "source": [
    "# 6. What does this symbol denote: Answer: List\n",
    "\n",
    "print(help([]))\n"
   ]
  },
  {
   "cell_type": "code",
   "execution_count": 108,
   "metadata": {},
   "outputs": [
    {
     "name": "stdout",
     "output_type": "stream",
     "text": [
      "['__add__', '__class__', '__contains__', '__delattr__', '__dir__', '__doc__', '__eq__', '__format__', '__ge__', '__getattribute__', '__getitem__', '__getnewargs__', '__gt__', '__hash__', '__init__', '__init_subclass__', '__iter__', '__le__', '__len__', '__lt__', '__mod__', '__mul__', '__ne__', '__new__', '__reduce__', '__reduce_ex__', '__repr__', '__rmod__', '__rmul__', '__setattr__', '__sizeof__', '__str__', '__subclasshook__', 'capitalize', 'casefold', 'center', 'count', 'encode', 'endswith', 'expandtabs', 'find', 'format', 'format_map', 'index', 'isalnum', 'isalpha', 'isascii', 'isdecimal', 'isdigit', 'isidentifier', 'islower', 'isnumeric', 'isprintable', 'isspace', 'istitle', 'isupper', 'join', 'ljust', 'lower', 'lstrip', 'maketrans', 'partition', 'replace', 'rfind', 'rindex', 'rjust', 'rpartition', 'rsplit', 'rstrip', 'split', 'splitlines', 'startswith', 'strip', 'swapcase', 'title', 'translate', 'upper', 'zfill']\n",
      "\n",
      "\n",
      "['__add__', '__class__', '__contains__', '__delattr__', '__dir__', '__doc__', '__eq__', '__format__', '__ge__', '__getattribute__', '__getitem__', '__getnewargs__', '__gt__', '__hash__', '__init__', '__init_subclass__', '__iter__', '__le__', '__len__', '__lt__', '__mod__', '__mul__', '__ne__', '__new__', '__reduce__', '__reduce_ex__', '__repr__', '__rmod__', '__rmul__', '__setattr__', '__sizeof__', '__str__', '__subclasshook__', 'capitalize', 'casefold', 'center', 'count', 'encode', 'endswith', 'expandtabs', 'find', 'format', 'format_map', 'index', 'isalnum', 'isalpha', 'isascii', 'isdecimal', 'isdigit', 'isidentifier', 'islower', 'isnumeric', 'isprintable', 'isspace', 'istitle', 'isupper', 'join', 'ljust', 'lower', 'lstrip', 'maketrans', 'partition', 'replace', 'rfind', 'rindex', 'rjust', 'rpartition', 'rsplit', 'rstrip', 'split', 'splitlines', 'startswith', 'strip', 'swapcase', 'title', 'translate', 'upper', 'zfill']\n"
     ]
    }
   ],
   "source": [
    "# 7. WAP to print all methods(functions/operations) available in a string (Hint : dir())\n",
    "\n",
    "print(dir(str))\n",
    "print('\\n')\n",
    "print(repr(dir(str)))"
   ]
  },
  {
   "cell_type": "code",
   "execution_count": 146,
   "metadata": {},
   "outputs": [
    {
     "name": "stdout",
     "output_type": "stream",
     "text": [
      "['__add__', '__class__', '__contains__', '__delattr__', '__dir__', '__doc__', '__eq__', '__format__', '__ge__', '__getattribute__', '__getitem__', '__getnewargs__', '__gt__', '__hash__', '__init__', '__init_subclass__', '__iter__', '__le__', '__len__', '__lt__', '__mod__', '__mul__', '__ne__', '__new__', '__reduce__', '__reduce_ex__', '__repr__', '__rmod__', '__rmul__', '__setattr__', '__sizeof__', '__str__', '__subclasshook__', 'capitalize', 'casefold', 'center', 'count', 'encode', 'endswith', 'expandtabs', 'find', 'format', 'format_map', 'index', 'isalnum', 'isalpha', 'isascii', 'isdecimal', 'isdigit', 'isidentifier', 'islower', 'isnumeric', 'isprintable', 'isspace', 'istitle', 'isupper', 'join', 'ljust', 'lower', 'lstrip', 'maketrans', 'partition', 'replace', 'rfind', 'rindex', 'rjust', 'rpartition', 'rsplit', 'rstrip', 'split', 'splitlines', 'startswith', 'strip', 'swapcase', 'title', 'translate', 'upper', 'zfill']\n",
      "\n",
      "\n",
      "Entered method is available in the str class\n"
     ]
    }
   ],
   "source": [
    "# 8. Write statement to check if rstrip method is available in the str class.\n",
    "\n",
    "dir_str_class=dir(str)\n",
    "print(dir_str_class)\n",
    "print('\\n')\n",
    "\n",
    "# res= dir_str_class.index('rstrip')\n",
    "# print(res)\n",
    "\n",
    "if 'rstrip' in dir_str_class:\n",
    "     print('Entered method is available in the str class')\n",
    "else:    \n",
    "    print('Entered method is not available in the sr class')"
   ]
  },
  {
   "cell_type": "code",
   "execution_count": 198,
   "metadata": {},
   "outputs": [
    {
     "name": "stdout",
     "output_type": "stream",
     "text": [
      "           * * * * *\n",
      "               *\n",
      "               *\n",
      "               *\n",
      "               *\n",
      "                              \n",
      "        *     * \n",
      "        * * * *\n",
      "        *  *  * \n",
      "        *     *\n",
      "               \n",
      "                              \n",
      " --------------------------------|\n",
      "             |                            |\n",
      "                                                    \n",
      "             o\n",
      "             \n",
      "           / | \\ \n",
      "           \n",
      "            /  \\                                \n",
      "                                          |\n",
      "                                          |\n",
      "                                          |\n",
      "                                          |\n",
      "                                          |\n",
      "                                          |\n",
      "                                          |\n",
      "                                          |\n",
      "      ------------------------------------|\n",
      "          \n",
      "         \n",
      "        \n",
      "         \n",
      "                \n"
     ]
    }
   ],
   "source": [
    "# 9. WAP to store the following patterns in a string variable and then print them:\n",
    "\n",
    "print(\"\"\"           * * * * *\n",
    "               *\n",
    "               *\n",
    "               *\n",
    "               *\n",
    "                              \"\"\")\n",
    "\n",
    "print(\"\"\"        *     * \n",
    "        * * * *\n",
    "        *  *  * \n",
    "        *     *\n",
    "               \n",
    "                              \"\"\")\n",
    "\n",
    "print(\"\"\" --------------------------------|\n",
    "             |                            |\n",
    "                                                    \n",
    "             o\n",
    "             \n",
    "           / | \\ \n",
    "           \n",
    "            /  \\                                \n",
    "                                          |\n",
    "                                          |\n",
    "                                          |\n",
    "                                          |\n",
    "                                          |\n",
    "                                          |\n",
    "                                          |\n",
    "                                          |\n",
    "      ------------------------------------|\n",
    "          \n",
    "         \n",
    "        \n",
    "         \n",
    "                \"\"\")\n",
    "\n",
    "\n"
   ]
  },
  {
   "cell_type": "code",
   "execution_count": 202,
   "metadata": {},
   "outputs": [
    {
     "name": "stdout",
     "output_type": "stream",
     "text": [
      "Enter any string with spacesThis is a Python Program\n",
      "This\n",
      "is\n",
      "a\n",
      "Python\n",
      "Program\n"
     ]
    }
   ],
   "source": [
    "#10. WAP to input a string and replace all space with new lines (\\n) and print again.\n",
    "\n",
    "string=input(\"Enter any string with spaces\").split()\n",
    "\n",
    "new_line='\\n'\n",
    "\n",
    "string=n.join(string)\n",
    "\n",
    "print(string)"
   ]
  },
  {
   "cell_type": "code",
   "execution_count": 2,
   "metadata": {},
   "outputs": [
    {
     "name": "stdout",
     "output_type": "stream",
     "text": [
      "Enter Your first name and Last name using only single space b/w them:lokesh bommireddy\n",
      "first name is : LOKESH\t6\n",
      "last name is: BOMMIREDDY\t10\n"
     ]
    }
   ],
   "source": [
    "# 11. WAP to input complete name(first and last name separated by space) and print first and last\n",
    "#name separately along with their length in upper case.\n",
    "\n",
    "full_name= input(\"Enter Your first name and Last name using only single space b/w them:\").upper()\n",
    "first, last = full_name.split(\" \", 1)\n",
    "f=len(first)\n",
    "l=len(last)\n",
    "print(\"first name is :\", first + '\\t'+ str(f))\n",
    "print(\"last name is:\", last+ '\\t'+ str(l))\n"
   ]
  },
  {
   "cell_type": "code",
   "execution_count": 1,
   "metadata": {},
   "outputs": [
    {
     "name": "stdout",
     "output_type": "stream",
     "text": [
      "Enter any string : strings\n",
      "7\n",
      "7.0\n",
      "3.0\n",
      "s1 : str\n",
      "s2 : ngs\n"
     ]
    }
   ],
   "source": [
    "# 12. WAP to input a string and split it into 2 halves. The string can be of any length\n",
    "s=input(\"Enter any string : \")\n",
    "print(len(s))\n",
    "m=float(len(s))\n",
    "n=float(m/2)\n",
    "if m%2 == 0:\n",
    "    print(\"s1 :\", s[0:int(n)])\n",
    "    print(\"s2 :\", s[int(n):])\n",
    "else:\n",
    "    print(m)\n",
    "    l=float((m//2))\n",
    "    print(l)\n",
    "    print(\"s1 :\", s[0:int(l)])\n",
    "    print(\"s2 :\", s[int(l+1):])"
   ]
  }
 ],
 "metadata": {
  "kernelspec": {
   "display_name": "Python 3",
   "language": "python",
   "name": "python3"
  },
  "language_info": {
   "codemirror_mode": {
    "name": "ipython",
    "version": 3
   },
   "file_extension": ".py",
   "mimetype": "text/x-python",
   "name": "python",
   "nbconvert_exporter": "python",
   "pygments_lexer": "ipython3",
   "version": "3.8.3"
  }
 },
 "nbformat": 4,
 "nbformat_minor": 4
}
