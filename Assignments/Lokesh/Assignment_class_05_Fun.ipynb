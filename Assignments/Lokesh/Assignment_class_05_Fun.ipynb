{
 "cells": [
  {
   "cell_type": "code",
   "execution_count": 8,
   "metadata": {},
   "outputs": [
    {
     "name": "stdout",
     "output_type": "stream",
     "text": [
      "Enter a string : lokesh \n",
      "Enter another string :reddy\n",
      "After swapping : reddy lokesh \n"
     ]
    }
   ],
   "source": [
    "# 1. WAP to input 2 strings and swap the strings\n",
    "\n",
    "str1,str2=input(\"Enter a string : \"),input(\"Enter another string :\")\n",
    "\n",
    "str1,str2= str2,str1\n",
    "print(\"After swapping :\",str1,str2)\n",
    "    "
   ]
  },
  {
   "cell_type": "code",
   "execution_count": 29,
   "metadata": {},
   "outputs": [
    {
     "name": "stdout",
     "output_type": "stream",
     "text": [
      "[25, 1, 17, 24]\n",
      "Average is : 16.75\n",
      "\n",
      "\n",
      "[13, 4, 22, 4]\n",
      "Average is : 10.75\n"
     ]
    }
   ],
   "source": [
    "# 2. WAP to generate 4 random numbers in the range 0-26 and print their average\n",
    "\n",
    "import random\n",
    "\n",
    "L=[]\n",
    "\n",
    "\"\"\"Here we generate one random number everytime the loop runs, and save it to a variable \n",
    "and then append the variale to the elements in our list\"\"\"\n",
    "\n",
    "count=0\n",
    "while count<4:\n",
    "    n=random.randint(0,26)\n",
    "    L.append(n)\n",
    "    count=count+1\n",
    "print(L)\n",
    "print(\"Average is :\", (L[0]+L[1]+L[2]+L[3])/4)\n",
    "\n",
    "print('\\n')\n",
    "\n",
    "import random\n",
    "randomlist = []\n",
    "for i in range(0,4):\n",
    "    n = random.randint(0,26)\n",
    "    randomlist.append(n)\n",
    "print(randomlist)\n",
    "print(\"Average is :\",(randomlist[0]+randomlist[1]+randomlist[2]+randomlist[3])/4)"
   ]
  },
  {
   "cell_type": "code",
   "execution_count": 28,
   "metadata": {},
   "outputs": [
    {
     "name": "stdout",
     "output_type": "stream",
     "text": [
      "['a', 'b', 'c', 'd', 'e', 'f', 'g', 'h', 'i', 'j', 'k', 'l', 'm', 'n', 'o', 'p', 'q', 'r', 's', 't', 'u', 'v', 'w', 'x', 'y', 'z', 'A', 'B', 'C', 'D', 'E', 'F', 'G', 'H', 'I', 'J', 'K', 'L', 'M', 'N', 'O', 'P', 'Q', 'R', 'S', 'T', 'U', 'V', 'W', 'X', 'Y', 'Z']\n",
      "\n",
      "\n",
      "p\n"
     ]
    }
   ],
   "source": [
    "# # 3. WAP to generate and print a random uppercase or lowercase alphabet. Try these:\n",
    "# • Create a string containing all alphabets and then select a random alphabet.\n",
    "# • Check the module string\n",
    "\n",
    "import string\n",
    "import random\n",
    "\n",
    "\"\"\"Typecasting to List Function\"\"\"\n",
    "def split(word):\n",
    "    return list(word)\n",
    "\n",
    "\"\"\"Gives all the lower and upper alphabets in a list\"\"\"\n",
    "word=string.ascii_letters\n",
    "\n",
    "\"\"\"Split string into characters\"\"\"\n",
    "lst=split(word)\n",
    "\n",
    "print(lst)\n",
    "print('\\n')\n",
    "\n",
    "m=random.randint(0,len(word))\n",
    "print(lst[m])\n",
    "\n"
   ]
  },
  {
   "cell_type": "code",
   "execution_count": 43,
   "metadata": {},
   "outputs": [
    {
     "name": "stdout",
     "output_type": "stream",
     "text": [
      "Enter the Principal Amount :5\n",
      "Enter the Rate of interest :1\n",
      "Enter the Time :1\n"
     ]
    },
    {
     "data": {
      "text/plain": [
       "0.05"
      ]
     },
     "execution_count": 43,
     "metadata": {},
     "output_type": "execute_result"
    }
   ],
   "source": [
    "# 4. WAF get_si() that takes Principle, Rate and Time as arguments and returns the Simple Interest.\n",
    "\n",
    "P=float(input(\"Enter the Principal Amount :\"))\n",
    "R=float(input(\"Enter the Rate of interest :\"))\n",
    "T=float(input(\"Enter the Time :\"))\n",
    "\n",
    "\n",
    "def get_si(P,T,R):\n",
    "  return (P*T*R)/100\n",
    "\n",
    "get_si(P,T,R)\n",
    "    "
   ]
  },
  {
   "cell_type": "code",
   "execution_count": 46,
   "metadata": {},
   "outputs": [
    {
     "name": "stdout",
     "output_type": "stream",
     "text": [
      "Enter the principal Amount :500\n"
     ]
    },
    {
     "data": {
      "text/plain": [
       "50.0"
      ]
     },
     "execution_count": 46,
     "metadata": {},
     "output_type": "execute_result"
    }
   ],
   "source": [
    "# 5. WAF get_amount() that takes Principle, Rate and Time as arguments and returns the\n",
    "# Total amount using the get_si() function from above to calculate the SI. Also provide\n",
    "# Rate = 10 and Time = 1 as default arguments.\n",
    "\n",
    "#lst=[10,1,10]\n",
    "def get_amount(P,T=1,R=10):\n",
    "    return get_si(P,T,R)\n",
    "P=int(input(\"Enter the principal Amount :\"))\n",
    "\n",
    "get_amount(P)"
   ]
  },
  {
   "cell_type": "code",
   "execution_count": 52,
   "metadata": {},
   "outputs": [
    {
     "data": {
      "text/plain": [
       "27585473.53515625"
      ]
     },
     "execution_count": 52,
     "metadata": {},
     "output_type": "execute_result"
    }
   ],
   "source": [
    "# 6. WAP get_ci() that takes Principle, Rate and Time as arguments and returns the Compound Interest.\n",
    "\n",
    "\n",
    "# P=float(input(\"Enter the Principal Amount :\"))\n",
    "# R=float(input(\"Enter the Rate of interest :\"))\n",
    "# T=float(input(\"Enter the Time :\"))\n",
    "# N=float(input(\"Enter the no of times interest is compounded :\"))\n",
    "\n",
    "def get_ci(P,R,T,N):\n",
    "    CI= P*(pow((1+R/N),N*T))\n",
    "    return CI\n",
    "\n",
    "get_ci(100,5,5,2)\n"
   ]
  },
  {
   "cell_type": "code",
   "execution_count": 95,
   "metadata": {},
   "outputs": [
    {
     "data": {
      "text/plain": [
       "(1, 2800)"
      ]
     },
     "execution_count": 95,
     "metadata": {},
     "output_type": "execute_result"
    }
   ],
   "source": [
    "# 7. WAP get_q_r() taking 2 numbers as parameters and returns the quotient and\n",
    "# remainder in the form of a tuple.\n",
    "\n",
    "def get_q_r(x,y):\n",
    "    q=x//y\n",
    "    r=x%y\n",
    "    return (q,r)\n",
    "get_q_r(6400,3600)"
   ]
  },
  {
   "cell_type": "code",
   "execution_count": 77,
   "metadata": {},
   "outputs": [
    {
     "data": {
      "text/plain": [
       "5.0"
      ]
     },
     "execution_count": 77,
     "metadata": {},
     "output_type": "execute_result"
    }
   ],
   "source": [
    "# 8. WAP to find the WAP to find the length of hypotenuse of a right angled triangle, input the height and\n",
    "#base from user.\n",
    "\n",
    "import math\n",
    "def len_hypo(b,h):\n",
    "    return math.sqrt((h**2)+(b**2))\n",
    "\n",
    "len_hypo(3,4)"
   ]
  },
  {
   "cell_type": "code",
   "execution_count": 107,
   "metadata": {},
   "outputs": [
    {
     "data": {
      "text/plain": [
       "'2:0:01:00'"
      ]
     },
     "execution_count": 107,
     "metadata": {},
     "output_type": "execute_result"
    }
   ],
   "source": [
    "# 9. WAP to input number of seconds and print in days, hours, minutes and seconds\n",
    "# ex: input = 10000\n",
    "# Output = 0 day 2 hour 46 minute 40 second\n",
    "\n",
    "def convert(seconds): \n",
    "    day = seconds // (24 * 3600)\n",
    "    seconds = seconds % (24 * 3600)\n",
    "    \n",
    "    hour = seconds // 3600\n",
    "    seconds %= 3600\n",
    "    minutes = seconds // 60\n",
    "    seconds %= 60\n",
    "      \n",
    "    return \"%d:%d:%02d:%02d\" % (day,hour, minutes, seconds) \n",
    "\n",
    "convert(172860)"
   ]
  },
  {
   "cell_type": "code",
   "execution_count": 109,
   "metadata": {},
   "outputs": [],
   "source": [
    "# 10. Check your version of python interpreter without opening the interpreter (Which command needs to be used on \n",
    "#    the command line).\n",
    "\n",
    "Ans: python --version"
   ]
  },
  {
   "cell_type": "code",
   "execution_count": 110,
   "metadata": {},
   "outputs": [
    {
     "name": "stdout",
     "output_type": "stream",
     "text": [
      "2 -2\n"
     ]
    }
   ],
   "source": [
    "#11. Find output:\n",
    "\n",
    "x=2\n",
    "x*=3\n",
    "x=x%4\n",
    "y=-x\n",
    "print(x,y)\n",
    "    "
   ]
  },
  {
   "cell_type": "code",
   "execution_count": 111,
   "metadata": {},
   "outputs": [
    {
     "name": "stdout",
     "output_type": "stream",
     "text": [
      "None\n"
     ]
    }
   ],
   "source": [
    "#12. Find output:\n",
    "def func():\n",
    "    pass\n",
    "print(func())"
   ]
  }
 ],
 "metadata": {
  "kernelspec": {
   "display_name": "Python 3",
   "language": "python",
   "name": "python3"
  },
  "language_info": {
   "codemirror_mode": {
    "name": "ipython",
    "version": 3
   },
   "file_extension": ".py",
   "mimetype": "text/x-python",
   "name": "python",
   "nbconvert_exporter": "python",
   "pygments_lexer": "ipython3",
   "version": "3.8.3"
  }
 },
 "nbformat": 4,
 "nbformat_minor": 4
}
