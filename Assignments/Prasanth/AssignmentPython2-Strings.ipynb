{
 "cells": [
  {
   "cell_type": "code",
   "execution_count": 76,
   "metadata": {},
   "outputs": [
    {
     "name": "stdout",
     "output_type": "stream",
     "text": [
      "Enter a statement:this is a statement\n",
      "thisisastatement\n"
     ]
    }
   ],
   "source": [
    "#Question 5\n",
    "s=input(\"Enter a statement:\")\n",
    "print(s.replace(\" \",\"\"))"
   ]
  },
  {
   "cell_type": "code",
   "execution_count": 74,
   "metadata": {},
   "outputs": [
    {
     "name": "stdout",
     "output_type": "stream",
     "text": [
      "['__add__', '__class__', '__contains__', '__delattr__', '__dir__', '__doc__', '__eq__', '__format__', '__ge__', '__getattribute__', '__getitem__', '__getnewargs__', '__gt__', '__hash__', '__init__', '__init_subclass__', '__iter__', '__le__', '__len__', '__lt__', '__mod__', '__mul__', '__ne__', '__new__', '__reduce__', '__reduce_ex__', '__repr__', '__rmod__', '__rmul__', '__setattr__', '__sizeof__', '__str__', '__subclasshook__', 'capitalize', 'casefold', 'center', 'count', 'encode', 'endswith', 'expandtabs', 'find', 'format', 'format_map', 'index', 'isalnum', 'isalpha', 'isascii', 'isdecimal', 'isdigit', 'isidentifier', 'islower', 'isnumeric', 'isprintable', 'isspace', 'istitle', 'isupper', 'join', 'ljust', 'lower', 'lstrip', 'maketrans', 'partition', 'replace', 'rfind', 'rindex', 'rjust', 'rpartition', 'rsplit', 'rstrip', 'split', 'splitlines', 'startswith', 'strip', 'swapcase', 'title', 'translate', 'upper', 'zfill']\n"
     ]
    }
   ],
   "source": [
    "#Question 7\n",
    "print(dir(str))"
   ]
  },
  {
   "cell_type": "code",
   "execution_count": 73,
   "metadata": {},
   "outputs": [
    {
     "name": "stdout",
     "output_type": "stream",
     "text": [
      "True\n"
     ]
    }
   ],
   "source": [
    "#Question 8\n",
    "print(\"rstrip\" in dir(str))"
   ]
  },
  {
   "cell_type": "code",
   "execution_count": 3,
   "metadata": {},
   "outputs": [
    {
     "name": "stdout",
     "output_type": "stream",
     "text": [
      "Enter the T size in odd numbers:7\n",
      "*******\n",
      "   *   \n",
      "   *   \n",
      "   *   \n",
      "   *   \n",
      "   *   \n",
      "   *   \n"
     ]
    }
   ],
   "source": [
    "#Question 9 (Printing 'T')\n",
    "boxSize=int(input(\"Enter the T size in odd numbers:\"))\n",
    "arr=[\" \"*boxSize]*boxSize\n",
    "for i in range(len(arr)):\n",
    "    if i == 0:\n",
    "        arr[0]=\"*\"*boxSize\n",
    "    else:\n",
    "        arr[i]=(\" \"*(boxSize//2))+\"*\"+(\" \"*(boxSize//2))\n",
    "result=\"\\n\".join(arr)\n",
    "print(result)"
   ]
  },
  {
   "cell_type": "code",
   "execution_count": 2,
   "metadata": {},
   "outputs": [
    {
     "name": "stdout",
     "output_type": "stream",
     "text": [
      "\n",
      "*   *\n",
      "** **\n",
      "* * *\n",
      "*   *\n",
      "\n"
     ]
    }
   ],
   "source": [
    "#Question 9 (Printing 'M')\n",
    "mString=\"\"\"\n",
    "*   *\n",
    "** **\n",
    "* * *\n",
    "*   *\n",
    "\"\"\"\n",
    "print(mString)"
   ]
  },
  {
   "cell_type": "code",
   "execution_count": 1,
   "metadata": {},
   "outputs": [
    {
     "name": "stdout",
     "output_type": "stream",
     "text": [
      "\n",
      "  ____\n",
      "  |  |\n",
      "  o  |\n",
      " /|\\ |\n",
      " / \\ |\n",
      "_____|\n",
      "\n"
     ]
    }
   ],
   "source": [
    "#Question 9 (Printing 'Human')\n",
    "mString=\"\"\"\n",
    "  ____\n",
    "  |  |\n",
    "  o  |\n",
    " /|\\ |\n",
    " / \\ |\n",
    "_____|\n",
    "\"\"\"\n",
    "print(mString)"
   ]
  },
  {
   "cell_type": "code",
   "execution_count": 75,
   "metadata": {},
   "outputs": [
    {
     "name": "stdout",
     "output_type": "stream",
     "text": [
      "Enter a statement:this is a statement\n",
      "this\n",
      "is\n",
      "a\n",
      "statement\n"
     ]
    }
   ],
   "source": [
    "#Question 10\n",
    "s=input(\"Enter a statement:\")\n",
    "print(s.replace(\" \",\"\\n\"))"
   ]
  },
  {
   "cell_type": "code",
   "execution_count": 78,
   "metadata": {},
   "outputs": [
    {
     "name": "stdout",
     "output_type": "stream",
     "text": [
      "Enter Your full name:Prashu Raj\n",
      "Name: PRASHU Length: 6\n",
      "Name: RAJ Length: 3\n"
     ]
    }
   ],
   "source": [
    "#Question 11\n",
    "s=input(\"Enter Your full name:\").split()\n",
    "for i in s:\n",
    "    print('Name:',i.upper(),'Length:',len(i))"
   ]
  },
  {
   "cell_type": "code",
   "execution_count": 85,
   "metadata": {},
   "outputs": [
    {
     "name": "stdout",
     "output_type": "stream",
     "text": [
      "Enter a string: 0123456\n",
      "012 3456\n"
     ]
    }
   ],
   "source": [
    "s=input(\"Enter a string: \")\n",
    "print(s[0:len(s)//2],s[len(s)//2:len(s)])"
   ]
  }
 ],
 "metadata": {
  "kernelspec": {
   "display_name": "Python 3",
   "language": "python",
   "name": "python3"
  },
  "language_info": {
   "codemirror_mode": {
    "name": "ipython",
    "version": 3
   },
   "file_extension": ".py",
   "mimetype": "text/x-python",
   "name": "python",
   "nbconvert_exporter": "python",
   "pygments_lexer": "ipython3",
   "version": "3.8.3"
  }
 },
 "nbformat": 4,
 "nbformat_minor": 4
}
