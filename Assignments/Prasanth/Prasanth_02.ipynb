{
 "cells": [
  {
   "cell_type": "code",
   "execution_count": 3,
   "metadata": {},
   "outputs": [
    {
     "name": "stdout",
     "output_type": "stream",
     "text": [
      "Enter the temperature in fahrenheit: 32\n",
      "Temperature in celsius:  0.0\n"
     ]
    }
   ],
   "source": [
    "x=int(input(\"Enter the temperature in fahrenheit: \"))\n",
    "print(\"Temperature in celsius: \",(x-32)*5/9)"
   ]
  },
  {
   "cell_type": "code",
   "execution_count": 4,
   "metadata": {},
   "outputs": [
    {
     "name": "stdout",
     "output_type": "stream",
     "text": [
      "Enter the number to get its square and cube: 2\n",
      "The square of 2 is  4  and cube is  8\n"
     ]
    }
   ],
   "source": [
    "x=int(input(\"Enter the number to get its square and cube: \"))\n",
    "print(f\"The square of {x} is \",pow(x,2),f\" and cube is \",pow(x,3))"
   ]
  },
  {
   "cell_type": "code",
   "execution_count": 6,
   "metadata": {},
   "outputs": [
    {
     "name": "stdout",
     "output_type": "stream",
     "text": [
      "Enter two values with space:2 3\n",
      "The addition of squares of 2 & 3 are:  13\n"
     ]
    }
   ],
   "source": [
    "x,y=[int(x) for x in input(\"Enter two values with space:\").split()]\n",
    "print(f\"The addition of squares of {x} & {y} are: \",pow(x,2)+pow(y,2))"
   ]
  },
  {
   "cell_type": "code",
   "execution_count": 8,
   "metadata": {},
   "outputs": [
    {
     "name": "stdout",
     "output_type": "stream",
     "text": [
      "Enter the number:2\n",
      "Enter the power:3\n",
      "M to the power N is:  8\n",
      "M to the power N is:  8\n"
     ]
    }
   ],
   "source": [
    "x=int(input(\"Enter the number:\"))\n",
    "y=int(input(\"Enter the power:\"))\n",
    "print(\"M to the power N is: \",pow(x,y))\n",
    "print(\"M to the power N is: \",x**y)"
   ]
  },
  {
   "cell_type": "code",
   "execution_count": 9,
   "metadata": {},
   "outputs": [
    {
     "name": "stdout",
     "output_type": "stream",
     "text": [
      "Enter the Principal amount : $100\n",
      "Enter the interest rate in % : 12\n",
      "Enter the period in year(s) : 1\n",
      "The Interest for the amount 100 with 0.12 of interest after 1 years is$12.0\n"
     ]
    }
   ],
   "source": [
    "principalAmount=int(input(\"Enter the Principal amount : $\"))\n",
    "rateOfInterest=float(input(\"Enter the interest rate in % : \"))/100\n",
    "time=int(input(\"Enter the period in year(s) : \"))\n",
    "print(f\"The Interest for the amount {principalAmount} with {rateOfInterest} of interest after {time} years is\\\n",
    " ${principalAmount*rateOfInterest*time}\")"
   ]
  },
  {
   "cell_type": "code",
   "execution_count": 17,
   "metadata": {},
   "outputs": [
    {
     "name": "stdout",
     "output_type": "stream",
     "text": [
      "Enter the Principal amount : $100\n",
      "Enter the interest rate in % : 22\n",
      "Enter the period in year(s) : 3\n",
      "Enter the number of time(s) money compounded : 1\n",
      "The final amount for the amount 100 with 0.22 of interest after 3 years with 1 time(s) compounded per Year is \n",
      "181.58 And interest is 81.58\n"
     ]
    }
   ],
   "source": [
    "principalAmount=int(input(\"Enter the Principal amount : $\"))\n",
    "rateOfInterest=float(input(\"Enter the interest rate in % : \"))/100\n",
    "time=int(input(\"Enter the period in year(s) : \"))\n",
    "compoundPerYear=int(input(\"Enter the number of time(s) money compounded : \"))\n",
    "finalAmount=round(principalAmount*(pow((compoundPerYear+rateOfInterest),time)),2)\n",
    "print(f\"The final amount for the amount {principalAmount} with {rateOfInterest} of interest after {time} years\\\n",
    " with {compoundPerYear} time(s) compounded per Year is \\n\\\n",
    "{finalAmount} And interest is {round(finalAmount-principalAmount,2)}\")"
   ]
  },
  {
   "cell_type": "code",
   "execution_count": 22,
   "metadata": {},
   "outputs": [
    {
     "name": "stdout",
     "output_type": "stream",
     "text": [
      "Enter the number to sum: 10\n",
      "Sum of natural N numbers is 55\n"
     ]
    }
   ],
   "source": [
    "n=int(input(\"Enter the number to sum: \"))\n",
    "print(f\"Sum of natural N numbers is {int(n*(n+1)/2)}\")"
   ]
  },
  {
   "cell_type": "code",
   "execution_count": 37,
   "metadata": {},
   "outputs": [
    {
     "name": "stdout",
     "output_type": "stream",
     "text": [
      "With Temp variable:  4 10\n",
      "With Math:  4 10\n",
      "Pythonic way:  4 10\n",
      "XOR way:  4 10\n"
     ]
    }
   ],
   "source": [
    "a,b=10,4\n",
    "#NormalMethod\n",
    "temp=a\n",
    "a=b\n",
    "b=temp\n",
    "print(\"With Temp variable: \",a,b)\n",
    "a,b=10,4\n",
    "\n",
    "#NumbersMethod\n",
    "a+=b\n",
    "b=a-b\n",
    "a-=b\n",
    "print(\"With Math: \",a,b)\n",
    "a,b=10,4\n",
    "\n",
    "#pythonicMethod\n",
    "a,b=b,a\n",
    "print(\"Pythonic way: \",a,b)\n",
    "a,b=10,4\n",
    "\n",
    "#XORMethod\n",
    "a^=b\n",
    "b^=a\n",
    "a^=b\n",
    "print(\"XOR way: \",a,b)"
   ]
  },
  {
   "cell_type": "code",
   "execution_count": 85,
   "metadata": {},
   "outputs": [
    {
     "name": "stdout",
     "output_type": "stream",
     "text": [
      "32\n",
      "9\n",
      "10\n",
      "13\n",
      "11\n",
      "12\n"
     ]
    }
   ],
   "source": [
    "from string import whitespace\n",
    "for i in whitespace:\n",
    "    print(ord(i))"
   ]
  },
  {
   "cell_type": "code",
   "execution_count": 91,
   "metadata": {},
   "outputs": [
    {
     "name": "stdout",
     "output_type": "stream",
     "text": [
      "Enter a character: A\n",
      "It's ASCII value is : 65\n"
     ]
    }
   ],
   "source": [
    "x=input(\"Enter a character: \")\n",
    "print(f\"It's ASCII value is : {ord(x)}\")"
   ]
  },
  {
   "cell_type": "code",
   "execution_count": 95,
   "metadata": {},
   "outputs": [
    {
     "name": "stdout",
     "output_type": "stream",
     "text": [
      "Enter the area of circle: 100\n",
      "Radius is 5.64 and Circumference is 35.44\n"
     ]
    }
   ],
   "source": [
    "from math import sqrt,pi\n",
    "x=float(input(\"Enter the area of circle: \"))\n",
    "radius=round(sqrt(x/pi),2)\n",
    "circumference=round(2*pi*radius,2)\n",
    "print(f\"Radius is {radius} and Circumference is {circumference}\")"
   ]
  },
  {
   "cell_type": "code",
   "execution_count": null,
   "metadata": {},
   "outputs": [],
   "source": [
    "x=[int(x) for x in input(\"Enter the marks with space inbetween:\").split()]\n",
    "print(x)\n",
    "print(sum(x))\n",
    "print(\"Average is : \",sum(x)/len(x))"
   ]
  }
 ],
 "metadata": {
  "kernelspec": {
   "display_name": "Python 3",
   "language": "python",
   "name": "python3"
  },
  "language_info": {
   "codemirror_mode": {
    "name": "ipython",
    "version": 3
   },
   "file_extension": ".py",
   "mimetype": "text/x-python",
   "name": "python",
   "nbconvert_exporter": "python",
   "pygments_lexer": "ipython3",
   "version": "3.8.3"
  }
 },
 "nbformat": 4,
 "nbformat_minor": 4
}
