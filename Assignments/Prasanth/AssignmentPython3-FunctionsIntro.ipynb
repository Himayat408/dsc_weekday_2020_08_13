{
 "cells": [
  {
   "cell_type": "code",
   "execution_count": 3,
   "metadata": {},
   "outputs": [
    {
     "name": "stdout",
     "output_type": "stream",
     "text": [
      "['b', 'a']\n"
     ]
    }
   ],
   "source": [
    "#Question 1\n",
    "def Swap(s1,s2):\n",
    "    temp=s1\n",
    "    s1=s2\n",
    "    s2=temp\n",
    "    return [s1,s2]\n",
    "print(Swap(\"a\",\"b\"))"
   ]
  },
  {
   "cell_type": "code",
   "execution_count": 2,
   "metadata": {},
   "outputs": [
    {
     "name": "stdout",
     "output_type": "stream",
     "text": [
      "15.0\n"
     ]
    }
   ],
   "source": [
    "#Question 2\n",
    "from random import randrange\n",
    "def GetRandomNumbers(n):\n",
    "    add=0\n",
    "    for i in range(n):\n",
    "        add+=randrange(0,26)\n",
    "    return add\n",
    "print(GetRandomNumbers(4)/4)"
   ]
  },
  {
   "cell_type": "code",
   "execution_count": 66,
   "metadata": {},
   "outputs": [
    {
     "name": "stdout",
     "output_type": "stream",
     "text": [
      "P\n",
      "Random alphabet out of the string is t\n"
     ]
    }
   ],
   "source": [
    "#Question 3\n",
    "def GetRandomAlphabet():\n",
    "    x=randrange(0,2)\n",
    "    if x == 0:\n",
    "        return randrange(65,91)\n",
    "    else:\n",
    "        return randrange(97,123)\n",
    "print(chr(GetRandomAlphabet()))\n",
    "\n",
    "#Question 3.1\n",
    "s=\"abcdefghijklmnopqrstuvwxyz\"\n",
    "print(\"Random alphabet out of the string is\",s[randrange(0,len(s))])"
   ]
  },
  {
   "cell_type": "code",
   "execution_count": 69,
   "metadata": {},
   "outputs": [
    {
     "name": "stdout",
     "output_type": "stream",
     "text": [
      "Simple interest is 24.0\n"
     ]
    }
   ],
   "source": [
    "#Question 4\n",
    "def get_si(principalAmount,rateOfInterest,time):\n",
    "    return principalAmount*(rateOfInterest/100)*time\n",
    "print(\"Simple interest is\",get_si(100,12,2))"
   ]
  },
  {
   "cell_type": "code",
   "execution_count": 73,
   "metadata": {},
   "outputs": [
    {
     "name": "stdout",
     "output_type": "stream",
     "text": [
      "Amount after SI is 122.0\n"
     ]
    }
   ],
   "source": [
    "#Question 5\n",
    "def get_amount(principalAmount,rateOfInterest=10,time=1):\n",
    "    return get_si(principalAmount,rateOfInterest,time)+principalAmount\n",
    "print(\"Amount after SI is\",get_amount(100,11,2))"
   ]
  },
  {
   "cell_type": "code",
   "execution_count": 74,
   "metadata": {},
   "outputs": [
    {
     "name": "stdout",
     "output_type": "stream",
     "text": [
      "Compound interest is 40.49\n"
     ]
    }
   ],
   "source": [
    "#Question 6\n",
    "def get_ci(principalAmount,rateOfInterest,time,compoundPerYear):\n",
    "    finalAmount=round(principalAmount*(pow((compoundPerYear+(rateOfInterest/100)),time)),2)\n",
    "    return round(finalAmount-principalAmount,2)\n",
    "print(\"Compound interest is\",get_ci(100,12,3,1))"
   ]
  },
  {
   "cell_type": "code",
   "execution_count": 77,
   "metadata": {},
   "outputs": [
    {
     "name": "stdout",
     "output_type": "stream",
     "text": [
      "(0.5, 1)\n"
     ]
    }
   ],
   "source": [
    "#Question 7\n",
    "def get_q_r(num1,num2):\n",
    "    return (num1/num2),(num1%num2)\n",
    "print(get_q_r(1,2))"
   ]
  },
  {
   "cell_type": "code",
   "execution_count": 81,
   "metadata": {},
   "outputs": [
    {
     "name": "stdout",
     "output_type": "stream",
     "text": [
      "Enter the height: 5\n",
      "Enter the base: 4\n",
      "Hypotenuse : 6.4\n"
     ]
    }
   ],
   "source": [
    "#Question 8\n",
    "from math import sqrt\n",
    "def get_hypotenuse(height,base):\n",
    "    return round(sqrt(pow(height,2)+pow(base,2)),2)\n",
    "height=int(input(\"Enter the height: \"))\n",
    "base=int(input(\"Enter the base: \"))\n",
    "print(f\"Hypotenuse : {get_hypotenuse(height,base)}\")"
   ]
  },
  {
   "cell_type": "code",
   "execution_count": 91,
   "metadata": {},
   "outputs": [
    {
     "name": "stdout",
     "output_type": "stream",
     "text": [
      "Enter seconds:10000\n",
      "Days: 0\n",
      "Hours: 2\n",
      "Minutes: 46\n",
      "Seconds: 40\n"
     ]
    }
   ],
   "source": [
    "#Question 9\n",
    "from datetime import datetime\n",
    "seconds=int(input(\"Enter seconds:\"))\n",
    "seconds_in_minute=60\n",
    "seconds_in_hour=seconds_in_minute*60\n",
    "seconds_in_day=seconds_in_minute*seconds_in_hour*24\n",
    "print(\"Days:\",seconds//seconds_in_day)\n",
    "remainder=seconds%seconds_in_day\n",
    "print(\"Hours:\",remainder//seconds_in_hour)\n",
    "remainder%=seconds_in_hour\n",
    "print(\"Minutes:\",remainder//seconds_in_minute)\n",
    "remainder%=seconds_in_minute\n",
    "print(\"Seconds:\",remainder)"
   ]
  },
  {
   "cell_type": "code",
   "execution_count": null,
   "metadata": {},
   "outputs": [],
   "source": [
    "#Question 10\n",
    "python --version"
   ]
  }
 ],
 "metadata": {
  "kernelspec": {
   "display_name": "Python 3",
   "language": "python",
   "name": "python3"
  },
  "language_info": {
   "codemirror_mode": {
    "name": "ipython",
    "version": 3
   },
   "file_extension": ".py",
   "mimetype": "text/x-python",
   "name": "python",
   "nbconvert_exporter": "python",
   "pygments_lexer": "ipython3",
   "version": "3.8.3"
  }
 },
 "nbformat": 4,
 "nbformat_minor": 4
}
