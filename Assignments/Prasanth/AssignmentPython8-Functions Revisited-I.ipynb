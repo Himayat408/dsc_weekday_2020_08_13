{
 "cells": [
  {
   "cell_type": "code",
   "execution_count": 3,
   "metadata": {},
   "outputs": [
    {
     "name": "stdout",
     "output_type": "stream",
     "text": [
      "Enter a number2\n",
      "square of 2 is 4\n",
      "Inverse of 2 is 0.5\n",
      "Negation of 2 is -2\n"
     ]
    }
   ],
   "source": [
    "#1\n",
    "n=int(input(\"Enter a number\"))\n",
    "print(f\"square of {n} is {pow(n,2)}\")\n",
    "print(f\"Inverse of {n} is {1/n}\")\n",
    "print(f\"Negation of {n} is {-n}\")"
   ]
  },
  {
   "cell_type": "code",
   "execution_count": 5,
   "metadata": {},
   "outputs": [
    {
     "name": "stdout",
     "output_type": "stream",
     "text": [
      "5\n"
     ]
    }
   ],
   "source": [
    "#2\n",
    "from functools import reduce\n",
    "l=[2,3,1,5,2,3]\n",
    "print(reduce(lambda x,y: x if x>y else y, l))"
   ]
  },
  {
   "cell_type": "code",
   "execution_count": 9,
   "metadata": {},
   "outputs": [
    {
     "name": "stdout",
     "output_type": "stream",
     "text": [
      "Enter a string:str\n",
      "Enter a number:3\n",
      "str\n",
      "str\n",
      "str\n",
      "[1, 1, 1, 1, 1]\n"
     ]
    }
   ],
   "source": [
    "string=input('Enter a string:')\n",
    "number=int(input('Enter a number:'))\n",
    "print(*number*(string,), sep='\\n')"
   ]
  }
 ],
 "metadata": {
  "kernelspec": {
   "display_name": "Python 3",
   "language": "python",
   "name": "python3"
  },
  "language_info": {
   "codemirror_mode": {
    "name": "ipython",
    "version": 3
   },
   "file_extension": ".py",
   "mimetype": "text/x-python",
   "name": "python",
   "nbconvert_exporter": "python",
   "pygments_lexer": "ipython3",
   "version": "3.8.3"
  }
 },
 "nbformat": 4,
 "nbformat_minor": 4
}
