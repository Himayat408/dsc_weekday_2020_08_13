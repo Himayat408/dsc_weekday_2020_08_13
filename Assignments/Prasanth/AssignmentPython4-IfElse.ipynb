{
 "cells": [
  {
   "cell_type": "code",
   "execution_count": 38,
   "metadata": {},
   "outputs": [
    {
     "name": "stdout",
     "output_type": "stream",
     "text": [
      "Enter two numbers with space between: 2 3\n",
      "It is not divisible!\n"
     ]
    }
   ],
   "source": [
    "#Question 1\n",
    "n=[int(x) for x in input(\"Enter two numbers with space between: \").split()]\n",
    "print(\"It is not divisible!\") if n[0] % n[1] != 0 else print(\"It is divisible!\")"
   ]
  },
  {
   "cell_type": "code",
   "execution_count": 10,
   "metadata": {},
   "outputs": [
    {
     "name": "stdout",
     "output_type": "stream",
     "text": [
      "Enter a palindrom:nadAN\n",
      "It is palindrom\n"
     ]
    }
   ],
   "source": [
    "#Question 2\n",
    "s=input(\"Enter a palindrom:\")\n",
    "def isPalindrom(x):\n",
    "    if x.lower() == x.lower()[::-1]:\n",
    "        return True\n",
    "    else:\n",
    "        return False\n",
    "print(\"It is palindrom\") if isPalindrom(s) else print(\"It is not a palindrom\")    "
   ]
  },
  {
   "cell_type": "code",
   "execution_count": 14,
   "metadata": {},
   "outputs": [
    {
     "name": "stdout",
     "output_type": "stream",
     "text": [
      "Enter three sides of triangle with space between: 2 3 2\n",
      "Isosceles triangle\n"
     ]
    }
   ],
   "source": [
    "#Question 3\n",
    "n=[int(x) for x in input(\"Enter three sides of triangle with space between: \").split()]\n",
    "if n[0] == n[1] and n[1] == n[2]:\n",
    "    print(\"Equilateral triangle\")\n",
    "elif n[0] == n[1] or n[1] == n[2] or n[0] == n[2]:\n",
    "    print(\"Isosceles triangle\")\n",
    "else:\n",
    "    print(\"Scalene triangle\")"
   ]
  },
  {
   "cell_type": "code",
   "execution_count": 18,
   "metadata": {},
   "outputs": [
    {
     "name": "stdout",
     "output_type": "stream",
     "text": [
      "Enter a number: 88\n",
      "88 is even\n"
     ]
    }
   ],
   "source": [
    "#Question 4\n",
    "n=int(input(\"Enter a number: \"))\n",
    "print(f\"{n} is odd\") if n % 2 == 1 else print(f\"{n} is even\")"
   ]
  },
  {
   "cell_type": "code",
   "execution_count": 23,
   "metadata": {},
   "outputs": [
    {
     "name": "stdout",
     "output_type": "stream",
     "text": [
      "Enter an age: 111\n",
      "Congratulations\n"
     ]
    }
   ],
   "source": [
    "#Question 5\n",
    "n=int(input(\"Enter an age: \"))\n",
    "if n < 13:\n",
    "    print(\"Child\")\n",
    "elif n < 18:\n",
    "    print(\"Teen\")\n",
    "elif n < 51:\n",
    "    print(\"Adult\")\n",
    "elif n < 100:\n",
    "    print(\"Senior Citizen\")\n",
    "else:\n",
    "    print(\"Congratulations\")"
   ]
  },
  {
   "cell_type": "code",
   "execution_count": 32,
   "metadata": {},
   "outputs": [
    {
     "name": "stdout",
     "output_type": "stream",
     "text": [
      "Enter a Year:-1996\n",
      "Please enter valid year\n"
     ]
    }
   ],
   "source": [
    "#Question 6\n",
    "year=input(\"Enter a Year:\")\n",
    "if year.isnumeric():\n",
    "    n=int(year)\n",
    "    if n > 999:\n",
    "        if n % 4 == 0 and n % 100 != 0:\n",
    "            print(f\"{year} is a leap year\")\n",
    "        else:\n",
    "            print(f\"{year} is not a leap year\")\n",
    "    else:\n",
    "        print(\"Please enter valid year\")\n",
    "else:\n",
    "    print(\"Please enter valid year\")"
   ]
  },
  {
   "cell_type": "code",
   "execution_count": 36,
   "metadata": {},
   "outputs": [
    {
     "name": "stdout",
     "output_type": "stream",
     "text": [
      "Enter a string: DD\n",
      "dd\n"
     ]
    }
   ],
   "source": [
    "#Question 7\n",
    "s=input(\"Enter a string: \")\n",
    "if len(s) % 2 == 1:\n",
    "    print(s.upper())\n",
    "else:\n",
    "    print(s.lower())"
   ]
  },
  {
   "cell_type": "code",
   "execution_count": 40,
   "metadata": {},
   "outputs": [
    {
     "name": "stdout",
     "output_type": "stream",
     "text": [
      "Enter a string: I am a eggiterian\n",
      "Non-Veg\n"
     ]
    }
   ],
   "source": [
    "#Question 8\n",
    "s=input(\"Enter a string: \")\n",
    "if s.lower().find(\"egg\"):\n",
    "    print(\"Non-Veg\")\n",
    "else:\n",
    "    print(\"Veg\")"
   ]
  },
  {
   "cell_type": "code",
   "execution_count": 48,
   "metadata": {},
   "outputs": [
    {
     "data": {
      "text/plain": [
       "[4, 3, 2, 1]"
      ]
     },
     "execution_count": 48,
     "metadata": {},
     "output_type": "execute_result"
    }
   ],
   "source": [
    "#Question 9\n",
    "True\n",
    "True\n",
    "\"Weird\"\n",
    "[4, 3, 2, 1]"
   ]
  },
  {
   "cell_type": "code",
   "execution_count": 49,
   "metadata": {},
   "outputs": [
    {
     "name": "stdout",
     "output_type": "stream",
     "text": [
      "Enter subject marks with spaces between: 20 90 34 60 80\n",
      "20 -> Grade-F\n",
      "90 -> Grade-A\n",
      "34 -> Grade-F\n",
      "60 -> Grade-C\n",
      "80 -> Grade-B\n"
     ]
    }
   ],
   "source": [
    "#Question 10\n",
    "n=[int(x) for x in input(\"Enter subject marks with spaces between: \").split()]\n",
    "for x in n:\n",
    "    if x < 60:\n",
    "        print(f\"{x} -> Grade-F\")\n",
    "    elif x < 80:\n",
    "        print(f\"{x} -> Grade-C\")\n",
    "    elif x < 90:\n",
    "        print(f\"{x} -> Grade-B\")\n",
    "    else:\n",
    "        print(f\"{x} -> Grade-A\")"
   ]
  },
  {
   "cell_type": "code",
   "execution_count": 52,
   "metadata": {},
   "outputs": [
    {
     "name": "stdout",
     "output_type": "stream",
     "text": [
      "Enter salary: 1111111\n",
      "Enter age: 62\n",
      "Tax: 133333.32\n"
     ]
    }
   ],
   "source": [
    "#Question 11\n",
    "def getTax(salary,age):\n",
    "    if age < 60:\n",
    "        if salary <= 250000:\n",
    "            return 0\n",
    "        elif salary <= 500000:\n",
    "            return round((salary/100)*5,2)\n",
    "        elif salary <= 1000000:\n",
    "            return round((salary/100)*10,2)\n",
    "        else:\n",
    "            return round((salary/100)*15,2)\n",
    "    else:\n",
    "        if salary <= 250000:\n",
    "            return 0\n",
    "        elif salary <= 500000:\n",
    "            return round((salary/100)*3,2)\n",
    "        elif salary <= 1000000:\n",
    "            return round((salary/100)*8,2)\n",
    "        else:\n",
    "            return round((salary/100)*12,2)\n",
    "s=int(input(\"Enter salary: \"))\n",
    "a=int(input(\"Enter age: \"))\n",
    "print(\"Tax:\",getTax(s,a))"
   ]
  },
  {
   "cell_type": "code",
   "execution_count": 55,
   "metadata": {},
   "outputs": [
    {
     "name": "stdout",
     "output_type": "stream",
     "text": [
      "Enter weight in kg: 77\n",
      "Enter height in cm: 177\n",
      "BMI is 24.58 and you are Normal\n"
     ]
    }
   ],
   "source": [
    "#Question 13\n",
    "def getBMI(weight,height):\n",
    "    return round(weight/pow((height/100),2),2)\n",
    "\n",
    "weight=int(input(\"Enter weight in kg: \"))\n",
    "height=int(input(\"Enter height in cm: \"))\n",
    "\n",
    "bmi=getBMI(weight,height)\n",
    "\n",
    "if bmi < 15:\n",
    "    print(f\"BMI is {bmi} and you are Very severely underweight\")\n",
    "elif bmi <= 16:\n",
    "    print(f\"BMI is {bmi} and you are Severely underweight\")\n",
    "elif bmi <= 18.5:\n",
    "    print(f\"BMI is {bmi} and you are Underweight\")\n",
    "elif bmi <= 25:\n",
    "    print(f\"BMI is {bmi} and you are Normal\")\n",
    "elif bmi <= 30:\n",
    "    print(f\"BMI is {bmi} and you are Overweight\")\n",
    "elif bmi <= 35:\n",
    "    print(f\"BMI is {bmi} and you are Moderately obese\")\n",
    "elif bmi <= 40:\n",
    "    print(f\"BMI is {bmi} and you are Severely obese\")\n",
    "else:\n",
    "    print(f\"BMI is {bmi} and you are Very severely obese\")"
   ]
  },
  {
   "cell_type": "code",
   "execution_count": 74,
   "metadata": {},
   "outputs": [
    {
     "name": "stdout",
     "output_type": "stream",
     "text": [
      "Enter person 1 age: 22\n",
      "Enter person 2 age: 11\n",
      "Enter person 3 age: 11\n",
      "Youngest:  Person2 Person3\n",
      "Oldest:  Person1\n"
     ]
    }
   ],
   "source": [
    "#Question 14\n",
    "person1=int(input(\"Enter person 1 age: \"))\n",
    "person2=int(input(\"Enter person 2 age: \"))\n",
    "person3=int(input(\"Enter person 3 age: \"))\n",
    "n=[person1,person2,person3]\n",
    "\n",
    "res=person1\n",
    "if person2 > res:\n",
    "    res=person2\n",
    "if person3 > res:\n",
    "    res=person3\n",
    "    \n",
    "temp=person1\n",
    "if person2 < temp:\n",
    "    temp=person2\n",
    "if person3 < temp:\n",
    "    temp=person3\n",
    "\n",
    "oldest=\"\"\n",
    "youngest=\"\"\n",
    "for x in range(len(n)):\n",
    "    if res == n[x]:\n",
    "        oldest+=\" Person\"+str(x+1)\n",
    "    if temp == n[x]:\n",
    "        youngest+=\" Person\"+str(x+1)\n",
    "\n",
    "if len(youngest) > 17:\n",
    "    print(\"All are of same age\")\n",
    "else:\n",
    "    print(\"Youngest: \"+youngest,\"Oldest: \"+oldest,sep=\"\\n\")"
   ]
  },
  {
   "cell_type": "code",
   "execution_count": 80,
   "metadata": {},
   "outputs": [
    {
     "name": "stdout",
     "output_type": "stream",
     "text": [
      "Enter a number: 30\n",
      "30 is not divisible by 7\n"
     ]
    }
   ],
   "source": [
    "#Question 15\n",
    "num=int(input(\"Enter a number: \"))\n",
    "if num % 5 != 0:\n",
    "    print(f\"{num} is not divisible by 5\")\n",
    "elif num % 7 != 0:\n",
    "    print(f\"{num} is not divisible by 7\")\n",
    "elif num % 5 == 0 and num % 7 == 0:\n",
    "    print(f\"{num} is divisible by both 5 & 7\")\n",
    "else:\n",
    "    print(f\"{Num} is not divisible both 5 & 7\")"
   ]
  }
 ],
 "metadata": {
  "kernelspec": {
   "display_name": "Python 3",
   "language": "python",
   "name": "python3"
  },
  "language_info": {
   "codemirror_mode": {
    "name": "ipython",
    "version": 3
   },
   "file_extension": ".py",
   "mimetype": "text/x-python",
   "name": "python",
   "nbconvert_exporter": "python",
   "pygments_lexer": "ipython3",
   "version": "3.8.3"
  }
 },
 "nbformat": 4,
 "nbformat_minor": 4
}
