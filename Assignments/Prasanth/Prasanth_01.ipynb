{
 "cells": [
  {
   "cell_type": "code",
   "execution_count": 2,
   "metadata": {},
   "outputs": [
    {
     "name": "stdout",
     "output_type": "stream",
     "text": [
      "11\n"
     ]
    }
   ],
   "source": [
    "x=\"hello world\"\n",
    "print(len(x))"
   ]
  },
  {
   "cell_type": "code",
   "execution_count": 7,
   "metadata": {},
   "outputs": [
    {
     "name": "stdout",
     "output_type": "stream",
     "text": [
      "Enter first value:10\n",
      "Enter second value:5\n",
      "Difference of 10 & 5 is 5\n",
      "Sum of 10 & 5 is 15\n"
     ]
    }
   ],
   "source": [
    "x=int(input(\"Enter first value:\"))\n",
    "y=int(input(\"Enter second value:\"))\n",
    "print(f\"Difference of {x} & {y} is \"+str(x-y))\n",
    "print(f\"Sum of {x} & {y} is \"+str(x+y))"
   ]
  },
  {
   "cell_type": "code",
   "execution_count": 22,
   "metadata": {},
   "outputs": [
    {
     "name": "stdout",
     "output_type": "stream",
     "text": [
      "Enter a string:Hello world\n",
      "Enter the number to print string3\n",
      "Hello world\n",
      "Hello world\n",
      "Hello world\n",
      "\n"
     ]
    }
   ],
   "source": [
    "x=input(\"Enter a string:\")+\"\\n\"\n",
    "y=int(input(\"Enter the number to print string\"))\n",
    "print(x*y)"
   ]
  },
  {
   "cell_type": "code",
   "execution_count": 41,
   "metadata": {},
   "outputs": [
    {
     "name": "stdout",
     "output_type": "stream",
     "text": [
      "10\n"
     ]
    }
   ],
   "source": [
    "print(math.isqrt(100))"
   ]
  },
  {
   "cell_type": "code",
   "execution_count": 43,
   "metadata": {},
   "outputs": [
    {
     "name": "stdout",
     "output_type": "stream",
     "text": [
      "Enter a number to get its square root100\n",
      "Square root of 100 is 10.0\n"
     ]
    }
   ],
   "source": [
    "x=int(input(\"Enter a number to get its square root\"))\n",
    "print(f\"Square root of {x} is \"+str(math.sqrt(x)))"
   ]
  },
  {
   "cell_type": "code",
   "execution_count": 52,
   "metadata": {},
   "outputs": [
    {
     "name": "stdout",
     "output_type": "stream",
     "text": [
      "Enter four values with space:1 2 3 4\n",
      "Average of 1,2,3,4 is  2.5\n"
     ]
    }
   ],
   "source": [
    "x,y,z,a=[int(x) for x in input(\"Enter four values with space:\").split()]\n",
    "print(f\"Average of {x},{y},{z},{a} is \",(x+y+z+a)/4)"
   ]
  },
  {
   "cell_type": "code",
   "execution_count": 59,
   "metadata": {},
   "outputs": [
    {
     "name": "stdout",
     "output_type": "stream",
     "text": [
      "int\n"
     ]
    }
   ],
   "source": [
    "print(int.__name__)"
   ]
  }
 ],
 "metadata": {
  "kernelspec": {
   "display_name": "Python 3",
   "language": "python",
   "name": "python3"
  },
  "language_info": {
   "codemirror_mode": {
    "name": "ipython",
    "version": 3
   },
   "file_extension": ".py",
   "mimetype": "text/x-python",
   "name": "python",
   "nbconvert_exporter": "python",
   "pygments_lexer": "ipython3",
   "version": "3.8.3"
  }
 },
 "nbformat": 4,
 "nbformat_minor": 4
}
