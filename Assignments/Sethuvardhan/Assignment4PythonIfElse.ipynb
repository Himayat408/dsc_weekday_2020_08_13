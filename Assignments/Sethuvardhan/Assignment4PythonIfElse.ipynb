{
 "cells": [
  {
   "cell_type": "markdown",
   "metadata": {},
   "source": [
    "# WAP"
   ]
  },
  {
   "cell_type": "markdown",
   "metadata": {},
   "source": [
    "* WAP to input 2 numbers and check whether the first is divisible by the second and print true or false depending on the divisibility.\n",
    "\n"
   ]
  },
  {
   "cell_type": "code",
   "execution_count": 5,
   "metadata": {},
   "outputs": [
    {
     "name": "stdout",
     "output_type": "stream",
     "text": [
      "Enter a number : 6\n",
      "Enter another number : 2\n",
      "True\n"
     ]
    }
   ],
   "source": [
    "num1 = int(input(\"Enter a number : \"))\n",
    "num2 = int(input(\"Enter another number : \"))\n",
    "if (num1==0 or num2==0):\n",
    "    print(\"Input cannot be zero\")\n",
    "else:\n",
    "    if(num1%num2==0):\n",
    "        print(True)\n",
    "    else:\n",
    "        print(False)"
   ]
  },
  {
   "cell_type": "markdown",
   "metadata": {},
   "source": [
    "* In the palindrome example, make the code case insensitive.  i.e. Naman should also be treated as a palindrome (HINT: first convert to either upper or lower case). "
   ]
  },
  {
   "cell_type": "code",
   "execution_count": 8,
   "metadata": {},
   "outputs": [
    {
     "name": "stdout",
     "output_type": "stream",
     "text": [
      "Enter the string : naman\n",
      "Palindrome\n"
     ]
    }
   ],
   "source": [
    "st1 = input(\"Enter the string : \")\n",
    "if st1.lower() == st1.lower()[::-1]:\n",
    "    print(\"Palindrome\")\n",
    "else:\n",
    "    print(\"Not a palindrome\")"
   ]
  },
  {
   "cell_type": "markdown",
   "metadata": {},
   "source": [
    "* WAP to input the sides of a triangle and print whether equilateral(all sides equal), isosceles (2 sides equal), or scalene (no sides equal). "
   ]
  },
  {
   "cell_type": "code",
   "execution_count": 17,
   "metadata": {},
   "outputs": [
    {
     "name": "stdout",
     "output_type": "stream",
     "text": [
      "Enter length of one side of a triangle : 2\n",
      "Enter length of another side of triangle : 3\n",
      "Enter length of another side of triangle : 2\n",
      "Isosceles\n"
     ]
    }
   ],
   "source": [
    "a = int(input(\"Enter length of one side of a triangle : \"))\n",
    "b = int(input(\"Enter length of another side of triangle : \"))\n",
    "c = int(input(\"Enter length of another side of triangle : \"))\n",
    "\n",
    "if a==0 or b==0 or c==0:\n",
    "    print(\"Not a triangle\")\n",
    "else:\n",
    "    if a==b and b ==c:\n",
    "        print(\"Equilateral\")\n",
    "    elif a==b or a==c or b==c:\n",
    "        print(\"Isosceles\")\n",
    "    else:\n",
    "        print(\"Scalene\")"
   ]
  },
  {
   "cell_type": "markdown",
   "metadata": {},
   "source": [
    "* WAP to input a number and print if it is even or odd. "
   ]
  },
  {
   "cell_type": "code",
   "execution_count": 20,
   "metadata": {},
   "outputs": [
    {
     "name": "stdout",
     "output_type": "stream",
     "text": [
      "Enter a number : 4\n",
      "4 is a even number\n"
     ]
    }
   ],
   "source": [
    "num = int(input(\"Enter a number : \"))\n",
    "if num%2==0 :\n",
    "    print(f\"{num} is a even number\")\n",
    "else:\n",
    "    print(f\"{num} is a odd number\")\n",
    "\n",
    "        \n",
    "    "
   ]
  },
  {
   "cell_type": "markdown",
   "metadata": {},
   "source": [
    "* WAP to input age and print the respective text  depending on the age ranges as present in the table. \n",
    " \n",
    "Age Text to be displayed \n",
    "* 0-12 Child \n",
    "* 13-17 Teen \n",
    "* 18-50 Adult \n",
    "* 51-100 Senior Citizen \n",
    "* age > 100 Contratulations "
   ]
  },
  {
   "cell_type": "code",
   "execution_count": 23,
   "metadata": {},
   "outputs": [
    {
     "name": "stdout",
     "output_type": "stream",
     "text": [
      "Enter age : 52\n",
      "Senior citizen\n"
     ]
    }
   ],
   "source": [
    "age = int(input(\"Enter age : \"))\n",
    "if age<=12:\n",
    "    print(\"Child\")\n",
    "elif 13<=age<=17:\n",
    "    print(\"Teen\")\n",
    "elif 18<=age<=50:\n",
    "    print(\"Adult\")\n",
    "elif 51<=age<=100:\n",
    "    print(\"Senior citizen\")\n",
    "else:\n",
    "    print(\"Congratulations\")"
   ]
  },
  {
   "cell_type": "markdown",
   "metadata": {},
   "source": [
    "*  WAP to input year (check if user enters valid year. Should be 4-digit number and should not be negative) and print whether leap year or not.  (If really interested in why you also have to check the divisibility by 400 just google the exact time it takes for the earth to revolve around the sub) "
   ]
  },
  {
   "cell_type": "code",
   "execution_count": 3,
   "metadata": {},
   "outputs": [
    {
     "name": "stdout",
     "output_type": "stream",
     "text": [
      "Enter the year : 2004\n",
      "Leap year\n"
     ]
    }
   ],
   "source": [
    "year = input(\"Enter the year : \")\n",
    "if len(year) == 4 and not(year.startswith('-')):\n",
    "    year = int(year)\n",
    "    if year%400 == 0:\n",
    "        print(\"Leap year\")\n",
    "    elif year%4==0 and year%100!=0:\n",
    "        print(\"Leap year\")\n",
    "    else:\n",
    "        print(\"Not a leap year\")\n",
    "else:\n",
    "    print(\"Not a valid year\")\n",
    "    "
   ]
  },
  {
   "cell_type": "markdown",
   "metadata": {},
   "source": [
    "* WAP to input a string and convert it to Upper Case if number of characters is odd and convert to lower case otherwise"
   ]
  },
  {
   "cell_type": "code",
   "execution_count": 5,
   "metadata": {},
   "outputs": [
    {
     "name": "stdout",
     "output_type": "stream",
     "text": [
      "Enter  string : yT\n",
      "yt\n"
     ]
    }
   ],
   "source": [
    "st1 = input(\"Enter  string : \")\n",
    "if len(st1)%2==0:\n",
    "    print(st1.lower())\n",
    "else:\n",
    "    print(st1.upper())"
   ]
  },
  {
   "cell_type": "markdown",
   "metadata": {},
   "source": [
    "* WAP to input a string and print Veg if the string doesn’t contain the word egg. Otherwise print Non-Veg. As usual eggs can be both big and small. "
   ]
  },
  {
   "cell_type": "code",
   "execution_count": 9,
   "metadata": {},
   "outputs": [
    {
     "name": "stdout",
     "output_type": "stream",
     "text": [
      "Enter a string : vv\n",
      "Veg\n"
     ]
    }
   ],
   "source": [
    "st1 = input(\"Enter a string : \")\n",
    "if \"egg\" in st1.lower():\n",
    "    print(\"Non-Veg\")\n",
    "else:\n",
    "    print(\"Veg\")"
   ]
  },
  {
   "cell_type": "markdown",
   "metadata": {},
   "source": [
    "* WAP to input marks in 5 subjects and print the grade as per following logic: \n",
    "- % between 90-100 Grade-A \n",
    "- % between 80 - 89 Grade-B \n",
    "- % between 60 - 79 Grade-C \n",
    "- % < 60            Grade-F \n",
    " "
   ]
  },
  {
   "cell_type": "code",
   "execution_count": 21,
   "metadata": {},
   "outputs": [
    {
     "name": "stdout",
     "output_type": "stream",
     "text": [
      "Enter marks of 5 subjects : 99 99 77 55 67 \n",
      "Grade B - 79\n"
     ]
    }
   ],
   "source": [
    "marks = input(\"Enter marks of 5 subjects : \").split()\n",
    "marks_avg =  0\n",
    "\n",
    "for mark in marks:\n",
    "    marks_avg += int(mark)\n",
    "\n",
    "mark_percent = int(marks_avg/len(marks))\n",
    "\n",
    "if mark_percent>=90:\n",
    "    print(f\"Grade A - {mark_percent}\")\n",
    "elif 80<=mark_percent<=89:\n",
    "    print(f\"Grade B - {mark_percent}\")\n",
    "elif 60<=mark_percent<=79:\n",
    "    print(f\"Grade C - {mark_percent}\")\n",
    "else:\n",
    "    print(f\"Grade F - {mark_percent}\")\n",
    "\n"
   ]
  },
  {
   "cell_type": "markdown",
   "metadata": {},
   "source": [
    "*  WAP to input age and salary and calculate Tax as per tax rates if following table: \n",
    " \n",
    "Salary Range Age < 60 Age >= 60 \n",
    "- 0-2,50,000 0 0 \n",
    "- 2,50,001-5,00,000 5% 3% \n",
    "- 5,00,001-10,00,000 10% 8% \n",
    "- Salary>10,00,001 15% 12% \n",
    " "
   ]
  },
  {
   "cell_type": "code",
   "execution_count": 26,
   "metadata": {},
   "outputs": [
    {
     "name": "stdout",
     "output_type": "stream",
     "text": [
      "Enter your salary : 234567\n",
      "Enter your age : 33\n",
      "Tax for 234567 is 0\n"
     ]
    }
   ],
   "source": [
    "salary = int(input(\"Enter your salary : \"))\n",
    "age = int(input(\"Enter your age : \"))\n",
    "if salary <=250000:\n",
    "    tax = 0\n",
    "    \n",
    "elif salary <=500000:\n",
    "    if age >=60:\n",
    "        tax = (salary-250000)*0.03\n",
    "    else:\n",
    "        tax = (salary-250000)*0.05\n",
    "        \n",
    "elif salary <=1000000:\n",
    "    if age >=60:\n",
    "        tax = 250000*0.03 +0.08*(salary-500000)\n",
    "    else:\n",
    "        tax = 250000*0.05 +0.1*(salary-500000)\n",
    "        \n",
    "elif salary > 1000000:\n",
    "    if age >=60:\n",
    "        tax = 250000*0.03 +0.08*500000 + 0.12*(salary-1000000)\n",
    "    else:\n",
    "        tax = 250000*0.05 +0.1*500000 + 0.15*(salary-1000000)\n",
    "\n",
    "        \n",
    "print(f\"Tax for {salary} is {tax}\")\n"
   ]
  },
  {
   "cell_type": "markdown",
   "metadata": {},
   "source": [
    "* WAF: bmi() that takes the weight in kg and height in cm of a person, calculates and returns the BMI. Write code that calls this function after taking height and weight as inputs and then prints underweight, normal, overweight or obese depending on the value of BMI. Refer this link for the ranges:           https://en.wikipedia.org/wiki/Body_mass_index"
   ]
  },
  {
   "cell_type": "code",
   "execution_count": 27,
   "metadata": {},
   "outputs": [
    {
     "name": "stdout",
     "output_type": "stream",
     "text": [
      "Enter weight in kg : 99\n",
      "Enter height in m : 2\n",
      "BMI : 24.75\n"
     ]
    }
   ],
   "source": [
    "#BMI = weight/hieght*height in kg/m2\n",
    "weight = float(input(\"Enter weight in kg : \"))\n",
    "height = float(input(\"Enter height in m : \"))\n",
    "print(\"BMI : {}\".format(weight/pow(height,2)))"
   ]
  },
  {
   "cell_type": "markdown",
   "metadata": {},
   "source": [
    "* Take input of age of 3 people by user and determine oldest and youngest among them"
   ]
  },
  {
   "cell_type": "code",
   "execution_count": 33,
   "metadata": {},
   "outputs": [
    {
     "name": "stdout",
     "output_type": "stream",
     "text": [
      "Enter age of person 1 : 99\n",
      "Enter age of person 2 : 8\n",
      "Enter age of person 3 : 10\n",
      "Youngest is 8, oldest is 99\n"
     ]
    }
   ],
   "source": [
    "age1 = int(input(\"Enter age of person 1 : \"))\n",
    "age2 = int(input(\"Enter age of person 2 : \"))\n",
    "age3 = int(input(\"Enter age of person 3 : \"))\n",
    "\n",
    "li = [age1,age2,age3]\n",
    "li.sort()\n",
    "print(f\"Youngest is {li[0]}, oldest is {li[2]}\")\n"
   ]
  },
  {
   "cell_type": "markdown",
   "metadata": {},
   "source": [
    "* WAP to input a number and check if number is divisible by both 5 and 7."
   ]
  },
  {
   "cell_type": "code",
   "execution_count": 35,
   "metadata": {},
   "outputs": [
    {
     "name": "stdout",
     "output_type": "stream",
     "text": [
      "Enter a number : 35\n",
      "35 is divisible by both 5 and 7\n"
     ]
    }
   ],
   "source": [
    "num = int(input(\"Enter a number : \"))\n",
    "if num%5==0 and num%7==0:\n",
    "    print(f\"{num} is divisible by both 5 and 7\")\n",
    "else:\n",
    "    print(f\"{num} is not divisible by both 5 and 7\")"
   ]
  },
  {
   "cell_type": "markdown",
   "metadata": {},
   "source": [
    "* Predict the output"
   ]
  },
  {
   "cell_type": "code",
   "execution_count": 36,
   "metadata": {},
   "outputs": [
    {
     "name": "stdout",
     "output_type": "stream",
     "text": [
      "10\n",
      "10\n",
      "10\n",
      "OMG\n"
     ]
    }
   ],
   "source": [
    "print(20 if not 1==1 else 10)\n",
    "print(30 if not 1==1 else 20 if 'A' > 'a' else 10)\n",
    "print(40 if not 1==1 else 30 if 'a' < 'A' else 20 if '' else 10)\n",
    "print('No' if not 1==1 else ('No' if 'a' < 'A' else ('OMG' if 'oh!!' else  'No')))"
   ]
  },
  {
   "cell_type": "code",
   "execution_count": 37,
   "metadata": {},
   "outputs": [
    {
     "name": "stdout",
     "output_type": "stream",
     "text": [
      "True\n"
     ]
    }
   ],
   "source": [
    "if not 1:\n",
    "    print(\"False\")\n",
    "else:\n",
    "    print(\"True\")"
   ]
  },
  {
   "cell_type": "code",
   "execution_count": 38,
   "metadata": {},
   "outputs": [
    {
     "name": "stdout",
     "output_type": "stream",
     "text": [
      "True\n"
     ]
    }
   ],
   "source": [
    "if 1:\n",
    "    print(\"True\")\n",
    "else:\n",
    "    print(\"False\")"
   ]
  },
  {
   "cell_type": "code",
   "execution_count": 39,
   "metadata": {},
   "outputs": [
    {
     "name": "stdout",
     "output_type": "stream",
     "text": [
      "Weird!!\n"
     ]
    }
   ],
   "source": [
    "if 'a' > 'A':\n",
    "    print(\"Weird!!\")\n",
    "else:\n",
    "    print(\"Makes sense\")"
   ]
  },
  {
   "cell_type": "code",
   "execution_count": null,
   "metadata": {},
   "outputs": [],
   "source": [
    "a = [1,2,3,4]\n",
    "if 1>1:\n",
    "    a = a[::-1]\n",
    "else:\n",
    "    a = a[-1::-1]\n",
    "\n",
    "print(a)"
   ]
  },
  {
   "cell_type": "code",
   "execution_count": null,
   "metadata": {},
   "outputs": [],
   "source": []
  }
 ],
 "metadata": {
  "kernelspec": {
   "display_name": "Python 3",
   "language": "python",
   "name": "python3"
  },
  "language_info": {
   "codemirror_mode": {
    "name": "ipython",
    "version": 3
   },
   "file_extension": ".py",
   "mimetype": "text/x-python",
   "name": "python",
   "nbconvert_exporter": "python",
   "pygments_lexer": "ipython3",
   "version": "3.7.0"
  }
 },
 "nbformat": 4,
 "nbformat_minor": 2
}
