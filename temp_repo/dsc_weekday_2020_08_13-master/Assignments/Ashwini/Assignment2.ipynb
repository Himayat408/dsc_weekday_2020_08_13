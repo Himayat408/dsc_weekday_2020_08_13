{
 "cells": [
  {
   "cell_type": "code",
   "execution_count": 4,
   "metadata": {},
   "outputs": [
    {
     "name": "stdout",
     "output_type": "stream",
     "text": [
      "32\n",
      "0.0\n"
     ]
    }
   ],
   "source": [
    "#1. Input temperature in Fahrenheit in print in Celsius.\n",
    "F=int(input())\n",
    "C=(F-32)*5/9\n",
    "print(C)"
   ]
  },
  {
   "cell_type": "code",
   "execution_count": 8,
   "metadata": {},
   "outputs": [
    {
     "name": "stdout",
     "output_type": "stream",
     "text": [
      "5\n",
      "25\n",
      "125\n"
     ]
    }
   ],
   "source": [
    "#2. Write a program to input a number and print its square and cube.\n",
    "x=int(input())\n",
    "print(x**2)\n",
    "print(x**3)"
   ]
  },
  {
   "cell_type": "code",
   "execution_count": 14,
   "metadata": {},
   "outputs": [
    {
     "name": "stdout",
     "output_type": "stream",
     "text": [
      "5\n",
      "2\n",
      "29\n"
     ]
    }
   ],
   "source": [
    "#WAP to input a number n and a number m and print the result of following n2 + m2\n",
    "\n",
    "n=int(input())\n",
    "m=int(input())\n",
    "print((n**2)+(m**2))"
   ]
  },
  {
   "cell_type": "code",
   "execution_count": 17,
   "metadata": {},
   "outputs": [
    {
     "name": "stdout",
     "output_type": "stream",
     "text": [
      "3\n",
      "4\n",
      "81\n",
      "81\n"
     ]
    }
   ],
   "source": [
    "#WAP to input a numbers M and N and print result of MN. (use both ** and pow)\n",
    "\n",
    "m=int(input())\n",
    "n=int(input())\n",
    "print(m**n)\n",
    "print(pow(m,n))"
   ]
  },
  {
   "cell_type": "code",
   "execution_count": 21,
   "metadata": {},
   "outputs": [
    {
     "name": "stdout",
     "output_type": "stream",
     "text": [
      "Enter initial principal balance:20\n",
      "Enter annual interest rate:21\n",
      "Enter time:5\n",
      "Simple Interest: 21.0\n"
     ]
    }
   ],
   "source": [
    "#Write a simple interest calculator.\n",
    "\n",
    "\n",
    "P=float(input(\"Enter initial principal balance:\"))\n",
    "r=float(input(\"Enter annual interest rate:\"))\n",
    "t=int(input(\"Enter time:\"))\n",
    "I=(P*r*t)/100\n",
    "print(\"Simple Interest:\",I)"
   ]
  },
  {
   "cell_type": "code",
   "execution_count": 23,
   "metadata": {
    "scrolled": true
   },
   "outputs": [
    {
     "name": "stdout",
     "output_type": "stream",
     "text": [
      "Enter initial principal balance:200\n",
      "Enter annual interest rate:20\n",
      "Enter time:2\n",
      "88000.0\n"
     ]
    }
   ],
   "source": [
    "#Input Principal, Rate, Time and print Compound Interest and Amount.\n",
    "P=float(input(\"Enter initial principal balance:\"))\n",
    "r=float(input(\"Enter annual interest rate:\"))\n",
    "t=int(input(\"Enter time:\"))\n",
    "C=P*(pow((1+r),t)-1)\n",
    "pri)nt(C"
   ]
  },
  {
   "cell_type": "code",
   "execution_count": 32,
   "metadata": {},
   "outputs": [
    {
     "name": "stdout",
     "output_type": "stream",
     "text": [
      "n=100\n",
      "5050\n"
     ]
    }
   ],
   "source": [
    "#WAP to print sum of first n natural numbers. (n needs to be taken as input).\n",
    "import math\n",
    "\n",
    "n=int(input(\"n=\"))\n",
    "s=0\n",
    "for i in range(0,n+1,1):\n",
    "    s=s+i\n",
    "print(s)\n"
   ]
  },
  {
   "cell_type": "code",
   "execution_count": 41,
   "metadata": {},
   "outputs": [
    {
     "name": "stdout",
     "output_type": "stream",
     "text": [
      "5\n",
      "8\n",
      "8 5\n"
     ]
    }
   ],
   "source": [
    "#WAP to input 2 numbers and swap them. (write using both normal logic with temp variable and\n",
    "#also the pythonic way).\n",
    "\n",
    "\n",
    "#normal logic with temp variable\n",
    "a=int(input())\n",
    "b=int(input())\n",
    "temp=a\n",
    "a=b\n",
    "b=temp\n",
    "print(a,b)\n"
   ]
  },
  {
   "cell_type": "code",
   "execution_count": 42,
   "metadata": {},
   "outputs": [
    {
     "name": "stdout",
     "output_type": "stream",
     "text": [
      "6\n",
      "8\n",
      "8 6\n"
     ]
    }
   ],
   "source": [
    "#the pythonic way\n",
    "a=int(input())\n",
    "b=int(input())\n",
    "a,b=b,a\n",
    "print(a,b)\n"
   ]
  },
  {
   "cell_type": "code",
   "execution_count": 50,
   "metadata": {},
   "outputs": [
    {
     "name": "stdout",
     "output_type": "stream",
     "text": [
      "10\n",
      "9\n",
      "13\n",
      "11\n"
     ]
    }
   ],
   "source": [
    "#WAP to print ascii value of all white-space characters present in python.\n",
    "x=ord(\"\\n\")\n",
    "y=ord(\"\\t\")\n",
    "z=ord(\"\\r\")\n",
    "a=ord(\"\\v\")\n",
    "print(x)\n",
    "print(y)\n",
    "print(z)\n",
    "print(a)"
   ]
  },
  {
   "cell_type": "code",
   "execution_count": 54,
   "metadata": {},
   "outputs": [
    {
     "name": "stdout",
     "output_type": "stream",
     "text": [
      "S\n",
      "83\n"
     ]
    }
   ],
   "source": [
    "#Input a single character and print its ascii values.\n",
    "a=input()\n",
    "print(ord(a))"
   ]
  },
  {
   "cell_type": "code",
   "execution_count": 68,
   "metadata": {},
   "outputs": [
    {
     "name": "stdout",
     "output_type": "stream",
     "text": [
      "Enter area of circle:55\n",
      "radius is: 4.1841419359420025\n",
      "circumference is: 26.28973913506474\n"
     ]
    }
   ],
   "source": [
    "#WAP that takes area of a circle and gives back the radius and circumference.\n",
    "import math\n",
    "A=float(input(\"Enter area of circle:\"))\n",
    "r=math.sqrt(A/math.pi)\n",
    "print(\"radius is:\",r)\n",
    "cir=math.sqrt(A*(4*math.pi))\n",
    "print(\"circumference is:\",cir)"
   ]
  },
  {
   "cell_type": "code",
   "execution_count": 3,
   "metadata": {},
   "outputs": [
    {
     "name": "stdout",
     "output_type": "stream",
     "text": [
      "subject1:60\n",
      "subject2:60\n",
      "subject3:60\n",
      "subject4:60\n",
      "subject5:60\n",
      "Total:500\n",
      "percentage: 60.0\n"
     ]
    }
   ],
   "source": [
    "#12. We need to input marks in 5 subjects out of 100 and print percentage.\n",
    "a=int(input(\"subject1:\"))\n",
    "b=int(input(\"subject2:\"))\n",
    "c=int(input(\"subject3:\"))\n",
    "d=int(input(\"subject4:\"))\n",
    "e=int(input(\"subject5:\"))\n",
    "f=int(input(\"Total:\"))\n",
    "print(\"percentage:\",((a+b+c+d+e)/f)*100)"
   ]
  }
 ],
 "metadata": {
  "kernelspec": {
   "display_name": "Python 3",
   "language": "python",
   "name": "python3"
  },
  "language_info": {
   "codemirror_mode": {
    "name": "ipython",
    "version": 3
   },
   "file_extension": ".py",
   "mimetype": "text/x-python",
   "name": "python",
   "nbconvert_exporter": "python",
   "pygments_lexer": "ipython3",
   "version": "3.8.3"
  }
 },
 "nbformat": 4,
 "nbformat_minor": 4
}
