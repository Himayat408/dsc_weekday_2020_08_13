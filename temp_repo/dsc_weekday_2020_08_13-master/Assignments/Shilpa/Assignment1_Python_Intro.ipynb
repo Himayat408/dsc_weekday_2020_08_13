{
 "cells": [
  {
   "cell_type": "code",
   "execution_count": 2,
   "metadata": {},
   "outputs": [
    {
     "name": "stdout",
     "output_type": "stream",
     "text": [
      "6 20\n"
     ]
    }
   ],
   "source": [
    "s1=\"shilpa\"\n",
    "s2=\"shilpa2712@gmail.com\"\n",
    "print(len(s1),len(s2))"
   ]
  },
  {
   "cell_type": "code",
   "execution_count": 7,
   "metadata": {},
   "outputs": [
    {
     "name": "stdout",
     "output_type": "stream",
     "text": [
      "Enter First String ? s\n",
      "Enter Second String ? s\n",
      "s,s 1 1\n"
     ]
    }
   ],
   "source": [
    "str1=input(\"Enter First String ? \")\n",
    "str2=input(\"Enter Second String ? \")\n",
    "print(f\"{str1},{str2} \" + str(len(str1)),str(len(str2)))"
   ]
  },
  {
   "cell_type": "code",
   "execution_count": 11,
   "metadata": {},
   "outputs": [
    {
     "name": "stdout",
     "output_type": "stream",
     "text": [
      "Enter 1st Number ? 2\n",
      "Enter 2nd Number ? 6\n",
      "Sum of 2 , 6 = 8\n",
      "Difference of 2 , 6 = -4\n"
     ]
    }
   ],
   "source": [
    "a=int(input(\"Enter 1st Number ? \"))\n",
    "b=int(input(\"Enter 2nd Number ? \"))\n",
    "print(f\"Sum of {a} , {b} = \"  + str(a+b) + \"\\n\" + f\"Difference of {a} , {b} = \" + str(a-b))"
   ]
  },
  {
   "cell_type": "code",
   "execution_count": 13,
   "metadata": {},
   "outputs": [
    {
     "name": "stdout",
     "output_type": "stream",
     "text": [
      "abpq\n"
     ]
    }
   ],
   "source": [
    "s1=\"ab\"\n",
    "s2=\"pq\"\n",
    "s3=s1+s2\n",
    "print(s3)"
   ]
  },
  {
   "cell_type": "code",
   "execution_count": 16,
   "metadata": {},
   "outputs": [
    {
     "name": "stdout",
     "output_type": "stream",
     "text": [
      "abababab\n",
      "ab\n",
      "\n"
     ]
    }
   ],
   "source": [
    "#Why n not printed\n",
    "s1=\"ab\" * 4\n",
    "print(s1)\n",
    "\n",
    "s2=\"ab\\n\" * 4\n",
    "print(s2)"
   ]
  },
  {
   "cell_type": "code",
   "execution_count": 26,
   "metadata": {
    "scrolled": true
   },
   "outputs": [
    {
     "name": "stdout",
     "output_type": "stream",
     "text": [
      "Enter the string ? ss\n",
      "Enter any number ? 6\n",
      "Outputss\n",
      "ss\n",
      "ss\n",
      "ss\n",
      "ss\n",
      "ss\n",
      "\n"
     ]
    }
   ],
   "source": [
    "#Better way of doing\n",
    "str1=input(\"Enter the string ? \") + \"\\n\"\n",
    "no_of_times=int(input(\"Enter any number ? \"))\n",
    "print(\"Output \\n\" + str(str1*no_of_times))\n"
   ]
  },
  {
   "cell_type": "code",
   "execution_count": 27,
   "metadata": {},
   "outputs": [
    {
     "name": "stdout",
     "output_type": "stream",
     "text": [
      "shilpa\n",
      "None\n"
     ]
    }
   ],
   "source": [
    "res=print(\"shilpa\")\n",
    "print(res)"
   ]
  },
  {
   "cell_type": "code",
   "execution_count": 1,
   "metadata": {},
   "outputs": [
    {
     "name": "stdout",
     "output_type": "stream",
     "text": [
      "<class 'str'>\n",
      "21\n"
     ]
    }
   ],
   "source": [
    "s1=\"shilpa\"\n",
    "s2=\"shilpa@xyz.com\"\n",
    "s3=s1 + \"\\n\" + s2\n",
    "print(type(s3))\n",
    "print(len(s3))\n"
   ]
  },
  {
   "cell_type": "code",
   "execution_count": 4,
   "metadata": {},
   "outputs": [
    {
     "name": "stdout",
     "output_type": "stream",
     "text": [
      "Enter the number to get the squareroot ?4\n",
      "2.0\n"
     ]
    }
   ],
   "source": [
    "num1=int(input(\"Enter the number to get the squareroot ? \"))\n",
    "print(math.sqrt(num1))"
   ]
  },
  {
   "cell_type": "code",
   "execution_count": 6,
   "metadata": {},
   "outputs": [
    {
     "name": "stdout",
     "output_type": "stream",
     "text": [
      "Number 1 : 4\n",
      "Number 2 : 6\n",
      "Number 3 : 8\n",
      "Number 4 : 10\n",
      "Average of 4 , 6 , 8 , 10  = 7.0\n"
     ]
    }
   ],
   "source": [
    "num1=int(input(\"Number 1 : \"))\n",
    "num2=int(input(\"Number 2 : \"))\n",
    "num3=int(input(\"Number 3 : \"))\n",
    "num4=int(input(\"Number 4 : \"))\n",
    "print(f\"Average of {num1} , {num2} , {num3} , {num4}  = \" + str((num1+num2+num3+num4)/4 ))"
   ]
  },
  {
   "cell_type": "code",
   "execution_count": 7,
   "metadata": {},
   "outputs": [
    {
     "name": "stdout",
     "output_type": "stream",
     "text": [
      "Help on built-in function abs in module builtins:\n",
      "\n",
      "abs(x, /)\n",
      "    Return the absolute value of the argument.\n",
      "\n",
      "None\n"
     ]
    }
   ],
   "source": [
    "print(help(abs))"
   ]
  },
  {
   "cell_type": "code",
   "execution_count": 11,
   "metadata": {},
   "outputs": [
    {
     "name": "stdout",
     "output_type": "stream",
     "text": [
      "__main__\n",
      "builtins\n",
      "int\n"
     ]
    }
   ],
   "source": [
    "#Not clear\n",
    "print(__name__)\n",
    "print(__builtins__.__name__)\n",
    "print(int.__name__)"
   ]
  },
  {
   "cell_type": "code",
   "execution_count": 13,
   "metadata": {},
   "outputs": [
    {
     "data": {
      "text/plain": [
       "['__abs__',\n",
       " '__add__',\n",
       " '__and__',\n",
       " '__bool__',\n",
       " '__ceil__',\n",
       " '__class__',\n",
       " '__delattr__',\n",
       " '__dir__',\n",
       " '__divmod__',\n",
       " '__doc__',\n",
       " '__eq__',\n",
       " '__float__',\n",
       " '__floor__',\n",
       " '__floordiv__',\n",
       " '__format__',\n",
       " '__ge__',\n",
       " '__getattribute__',\n",
       " '__getnewargs__',\n",
       " '__gt__',\n",
       " '__hash__',\n",
       " '__index__',\n",
       " '__init__',\n",
       " '__init_subclass__',\n",
       " '__int__',\n",
       " '__invert__',\n",
       " '__le__',\n",
       " '__lshift__',\n",
       " '__lt__',\n",
       " '__mod__',\n",
       " '__mul__',\n",
       " '__ne__',\n",
       " '__neg__',\n",
       " '__new__',\n",
       " '__or__',\n",
       " '__pos__',\n",
       " '__pow__',\n",
       " '__radd__',\n",
       " '__rand__',\n",
       " '__rdivmod__',\n",
       " '__reduce__',\n",
       " '__reduce_ex__',\n",
       " '__repr__',\n",
       " '__rfloordiv__',\n",
       " '__rlshift__',\n",
       " '__rmod__',\n",
       " '__rmul__',\n",
       " '__ror__',\n",
       " '__round__',\n",
       " '__rpow__',\n",
       " '__rrshift__',\n",
       " '__rshift__',\n",
       " '__rsub__',\n",
       " '__rtruediv__',\n",
       " '__rxor__',\n",
       " '__setattr__',\n",
       " '__sizeof__',\n",
       " '__str__',\n",
       " '__sub__',\n",
       " '__subclasshook__',\n",
       " '__truediv__',\n",
       " '__trunc__',\n",
       " '__xor__',\n",
       " 'as_integer_ratio',\n",
       " 'bit_length',\n",
       " 'conjugate',\n",
       " 'denominator',\n",
       " 'from_bytes',\n",
       " 'imag',\n",
       " 'numerator',\n",
       " 'real',\n",
       " 'to_bytes']"
      ]
     },
     "execution_count": 13,
     "metadata": {},
     "output_type": "execute_result"
    }
   ],
   "source": [
    "#Assignment 18 .. Answer is Yes __name__ exist in int class\n",
    "dir(int)"
   ]
  }
 ],
 "metadata": {
  "kernelspec": {
   "display_name": "Python 3",
   "language": "python",
   "name": "python3"
  },
  "language_info": {
   "codemirror_mode": {
    "name": "ipython",
    "version": 3
   },
   "file_extension": ".py",
   "mimetype": "text/x-python",
   "name": "python",
   "nbconvert_exporter": "python",
   "pygments_lexer": "ipython3",
   "version": "3.8.3"
  }
 },
 "nbformat": 4,
 "nbformat_minor": 4
}
