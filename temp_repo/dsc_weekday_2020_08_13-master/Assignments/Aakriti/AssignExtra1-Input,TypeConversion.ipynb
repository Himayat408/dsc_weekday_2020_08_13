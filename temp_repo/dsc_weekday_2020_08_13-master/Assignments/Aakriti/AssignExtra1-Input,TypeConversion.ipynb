{
 "cells": [
  {
   "cell_type": "code",
   "execution_count": 14,
   "metadata": {},
   "outputs": [
    {
     "name": "stdout",
     "output_type": "stream",
     "text": [
      "Enter temperature in Fahrenheit200\n",
      "93.33333333333334\n",
      "Temperature in 200 Far = 93.33333333333334 Cel\n"
     ]
    }
   ],
   "source": [
    "# Input in fahrenheit and convert in celcius\n",
    "\n",
    "x=input ('Enter temperature in Fahrenheit')\n",
    "x=int(x)\n",
    "print(f\"Temperature in {x} Far = \" + str((x-32)*(5/9)) + f\" Cel\")\n"
   ]
  },
  {
   "cell_type": "code",
   "execution_count": 18,
   "metadata": {},
   "outputs": [
    {
     "name": "stdout",
     "output_type": "stream",
     "text": [
      "Enter a number6\n",
      "Square of 6 = 36\n",
      "Cube of 6 = 216\n"
     ]
    }
   ],
   "source": [
    "#Print square and cube of number\n",
    "x=input ('Enter a number')\n",
    "x=int(x)\n",
    "print(f\"Square of {x} = \" + str(pow(x,2)))\n",
    "print(f\"Cube of {x} = \" + str(pow(x,3)))"
   ]
  },
  {
   "cell_type": "code",
   "execution_count": 22,
   "metadata": {},
   "outputs": [
    {
     "name": "stdout",
     "output_type": "stream",
     "text": [
      "Enter value of n 2\n",
      "Enter value of m 2\n",
      "Result = 8\n"
     ]
    }
   ],
   "source": [
    "# Print resul of n*n + m*m\n",
    "n=int(input ('Enter value of n '))\n",
    "m=int(input ('Enter value of m '))\n",
    "\n",
    "print(f\"Result = \" + str(pow(n,2) + pow(m,2)))\n",
    "\n"
   ]
  },
  {
   "cell_type": "code",
   "execution_count": 25,
   "metadata": {},
   "outputs": [
    {
     "name": "stdout",
     "output_type": "stream",
     "text": [
      "Enter value of n 2\n",
      "Enter value of m 5\n",
      "Result pow(n,m)= 32\n",
      "Result pow(n,m)= 32\n"
     ]
    }
   ],
   "source": [
    "# Print result of n**m\n",
    "\n",
    "n=int(input ('Enter value of n '))\n",
    "m=int(input ('Enter value of m '))\n",
    "\n",
    "print(f\"Result pow(n,m)= \" + str(pow(m,n)))\n",
    "print(f\"Result pow(n,m)= \" + str(m**n))\n",
    "\n",
    "\n"
   ]
  },
  {
   "cell_type": "code",
   "execution_count": 34,
   "metadata": {},
   "outputs": [
    {
     "name": "stdout",
     "output_type": "stream",
     "text": [
      "Enter principal amount 1000\n",
      "Enter Rate  5\n",
      "Enter Time  1\n",
      "Simple Interest= 50.0\n"
     ]
    }
   ],
   "source": [
    "# Simple Interest Calculator\n",
    "\n",
    "p=int(input ('Enter principal amount '))\n",
    "r=float(input ('Enter Rate  '))\n",
    "t=int(input ('Enter Time  '))\n",
    "\n",
    "print(f\"Simple Interest= \" + str((p*r*t)/100))"
   ]
  },
  {
   "cell_type": "code",
   "execution_count": 35,
   "metadata": {},
   "outputs": [
    {
     "name": "stdout",
     "output_type": "stream",
     "text": [
      "Enter principal amount 1000\n",
      "Enter Rate  2.5\n",
      "Enter Time  2\n",
      "Compount Interest=  50.625\n",
      "Amount  1050.625\n"
     ]
    }
   ],
   "source": [
    "#Calculate compount onterest and amount\n",
    "\n",
    "p=int(input ('Enter principal amount '))\n",
    "r=float(input ('Enter Rate  '))\n",
    "t=int(input ('Enter Time  '))\n",
    "a=p*(pow((1+r/100),t))\n",
    "print('Compount Interest= ', (a-p))\n",
    "print('Amount ',a)\n"
   ]
  },
  {
   "cell_type": "code",
   "execution_count": 37,
   "metadata": {},
   "outputs": [
    {
     "name": "stdout",
     "output_type": "stream",
     "text": [
      "Enter value of natural number5\n",
      "Sum = 15.0\n"
     ]
    }
   ],
   "source": [
    "#Print sum of first n numbers\n",
    "n=int(input('Enter value of natural number'))\n",
    "print('Sum =',n*((n+1)/2))"
   ]
  },
  {
   "cell_type": "code",
   "execution_count": 39,
   "metadata": {},
   "outputs": [
    {
     "name": "stdout",
     "output_type": "stream",
     "text": [
      "Enter value of N 10\n",
      "Enter value of M 20\n",
      "Swapped value of N=  20\n",
      "Swapped value of M=  10\n"
     ]
    }
   ],
   "source": [
    "#Swap 2 numbers\n",
    "n=int(input('Enter value of N '))\n",
    "m=int(input('Enter value of M '))\n",
    "x=m+n\n",
    "n=x-n\n",
    "m=x-m\n",
    "print('Swapped value of N= ',n)\n",
    "print('Swapped value of M= ',m)"
   ]
  },
  {
   "cell_type": "code",
   "execution_count": 41,
   "metadata": {},
   "outputs": [
    {
     "name": "stdout",
     "output_type": "stream",
     "text": [
      "Enter Character A\n",
      "ASCII value =  65\n"
     ]
    }
   ],
   "source": [
    "#Input single character and print its ASCII\n",
    "n=input('Enter Character ')\n",
    "print('ASCII value = ',ord(n))"
   ]
  },
  {
   "cell_type": "code",
   "execution_count": 43,
   "metadata": {},
   "outputs": [
    {
     "name": "stdout",
     "output_type": "stream",
     "text": [
      "Enter Area of circle 78.5\n",
      "Radius  5.0\n",
      "Circumference 31.400000000000002\n"
     ]
    }
   ],
   "source": [
    "#Calculate radius and circumference\n",
    "area=float(input('Enter Area of circle '))\n",
    "radius=((area/3.14)**0.5)\n",
    "circum=(2*3.14*radius)\n",
    "print('Radius ',radius)\n",
    "print('Circumference', circum)"
   ]
  },
  {
   "cell_type": "code",
   "execution_count": 47,
   "metadata": {},
   "outputs": [
    {
     "name": "stdout",
     "output_type": "stream",
     "text": [
      "Enter marks in maths= 10\n",
      "Enter marks in hindi= 20\n",
      "Enter marks in english= 30\n",
      "Enter marks in science= 40\n",
      "Enter marks in computers= 50\n",
      "Student % =  30.0\n"
     ]
    }
   ],
   "source": [
    "#Calculate % from 5 subjects\n",
    "s1=float(input('Enter marks in maths= '))\n",
    "s2=float(input('Enter marks in hindi= '))\n",
    "s3=float(input('Enter marks in english= '))\n",
    "s4=float(input('Enter marks in science= '))\n",
    "s5=float(input('Enter marks in computers= '))\n",
    "\n",
    "per=((s1+s2+s3+s4+s5)/5)\n",
    "\n",
    "print ('Student % = ', per)"
   ]
  }
 ],
 "metadata": {
  "kernelspec": {
   "display_name": "Python 3",
   "language": "python",
   "name": "python3"
  },
  "language_info": {
   "codemirror_mode": {
    "name": "ipython",
    "version": 3
   },
   "file_extension": ".py",
   "mimetype": "text/x-python",
   "name": "python",
   "nbconvert_exporter": "python",
   "pygments_lexer": "ipython3",
   "version": "3.7.3"
  }
 },
 "nbformat": 4,
 "nbformat_minor": 2
}
