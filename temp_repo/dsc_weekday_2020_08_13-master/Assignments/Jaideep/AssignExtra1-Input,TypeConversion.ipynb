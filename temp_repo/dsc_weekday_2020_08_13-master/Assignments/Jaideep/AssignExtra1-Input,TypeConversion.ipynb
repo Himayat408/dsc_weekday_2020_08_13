{
 "cells": [
  {
   "cell_type": "code",
   "execution_count": 1,
   "metadata": {},
   "outputs": [
    {
     "name": "stdout",
     "output_type": "stream",
     "text": [
      "AssignExtra1-Input,TypeConversion\n",
      "*********************************\n",
      "\n"
     ]
    }
   ],
   "source": [
    "#AssignExtra1-Input,TypeConversion\n",
    "Header = \"AssignExtra1-Input,TypeConversion\"\n",
    "print(Header + \"\\n\" + \"*\"*len(Header)+\"\\n\")"
   ]
  },
  {
   "cell_type": "code",
   "execution_count": 9,
   "metadata": {},
   "outputs": [
    {
     "name": "stdout",
     "output_type": "stream",
     "text": [
      "\n",
      "Task1: Input temperature in Fahrenheit in print in Celsius.\n",
      "------------------------------------------------------------\n",
      "Enter Fahrenheit Temerature: 98.4\n",
      "Temperature in Celsius is: 36.88888888888889\n"
     ]
    }
   ],
   "source": [
    "#Task1: Input temperature in Fahrenheit in print in Celsius.\n",
    "Task = \"\\nTask1: Input temperature in Fahrenheit in print in Celsius.\"\n",
    "print(Task + \"\\n\" + \"-\"*len(Task))\n",
    "\n",
    "Fahrenheit = float(input(\"Enter Fahrenheit Temerature: \"))\n",
    "#T(°C) = (T(°F) - 32) × 5/9\n",
    "print(\"Temperature in Celsius is:\", (Fahrenheit - 32)*(5/9))"
   ]
  },
  {
   "cell_type": "code",
   "execution_count": 17,
   "metadata": {},
   "outputs": [
    {
     "name": "stdout",
     "output_type": "stream",
     "text": [
      "\n",
      "Task2: Write a program to input a number and print its square and cube.\n",
      "------------------------------------------------------------------------\n",
      "Enter a Number: 3\n",
      "Square of 3 is  9\n",
      "Cube of 3 is  27\n"
     ]
    }
   ],
   "source": [
    "#Task2: Write a program to input a number and print its square and cube.\n",
    "Task = \"\\nTask2: Write a program to input a number and print its square and cube.\"\n",
    "print(Task + \"\\n\" + \"-\"*len(Task))\n",
    "\n",
    "Number = int(input(\"Enter a Number: \"))\n",
    "print(\"Square of\", Number, \"is \", pow(Number, 2))\n",
    "print(\"Cube of\", Number, \"is \", pow(Number, 3))"
   ]
  },
  {
   "cell_type": "code",
   "execution_count": 18,
   "metadata": {},
   "outputs": [
    {
     "name": "stdout",
     "output_type": "stream",
     "text": [
      "\n",
      "Task3: WAP to input a number n and a number m and print the result of pow(n, 2) + pow(m, 2)\n",
      "--------------------------------------------------------------------------------------------\n",
      "Enter a Number n: 2\n",
      "Enter a Number m: 3\n",
      "pow(n, 2) + pow(m, 2) =  13\n"
     ]
    }
   ],
   "source": [
    "#Task3: WAP to input a number n and a number m and print the result of pow(n, 2) + pow(m, 2)\n",
    "Task = \"\\nTask3: WAP to input a number n and a number m and print the result of pow(n, 2) + pow(m, 2)\"\n",
    "print(Task + \"\\n\" + \"-\"*len(Task))\n",
    "\n",
    "n = int(input(\"Enter a Number n: \"))\n",
    "m = int(input(\"Enter a Number m: \"))\n",
    "print(\"pow(n, 2) + pow(m, 2) = \", pow(n, 2) + pow(m, 2))"
   ]
  },
  {
   "cell_type": "code",
   "execution_count": 21,
   "metadata": {},
   "outputs": [
    {
     "name": "stdout",
     "output_type": "stream",
     "text": [
      "\n",
      "Task4: WAP to input a numbers M and N and print result of pow(M, N). (use both ** and pow)\n",
      "-------------------------------------------------------------------------------------------\n",
      "Enter a Number M: 5\n",
      "Enter a Number N: 4\n",
      "pow(M, N) using pow() =  625\n",
      "pow(M, N) using ** =  625\n"
     ]
    }
   ],
   "source": [
    "#Task4: WAP to input a numbers M and N and print result of pow(M, N). (use both ** and pow)\n",
    "Task = \"\\nTask4: WAP to input a numbers M and N and print result of pow(M, N). (use both ** and pow)\"\n",
    "print(Task + \"\\n\" + \"-\"*len(Task))\n",
    "\n",
    "M = int(input(\"Enter a Number M: \"))\n",
    "N = int(input(\"Enter a Number N: \"))\n",
    "\n",
    "print(\"pow(M, N) using pow() = \", pow(M, N))\n",
    "print(\"pow(M, N) using ** = \", (M ** N))\n"
   ]
  },
  {
   "cell_type": "code",
   "execution_count": 25,
   "metadata": {},
   "outputs": [
    {
     "name": "stdout",
     "output_type": "stream",
     "text": [
      "\n",
      "Task5: Write a simple interest calculator.\n",
      "-------------------------------------------\n",
      "Enter Principal Amount: 10000\n",
      "Enter Rate of Interest(/%) per year: 6\n",
      "Enter Time Period(years): 5\n",
      "Simple Interest: 3000.0\n"
     ]
    }
   ],
   "source": [
    "#Task5: Write a simple interest calculator.\n",
    "Task = \"\\nTask5: Write a simple interest calculator.\"\n",
    "print(Task + \"\\n\" + \"-\"*len(Task))\n",
    "\n",
    "P = int(input(\"Enter Principal Amount: \"))\n",
    "R = int(input(\"Enter Rate of Interest(/%) per year: \"))\n",
    "t = int(input(\"Enter Time Period(years): \"))\n",
    "\n",
    "#Simple Interest (SI) = P((R/100)t)\n",
    "SI = P * ((R/100)*t)\n",
    "print(\"Simple Interest:\", SI)"
   ]
  },
  {
   "cell_type": "code",
   "execution_count": 60,
   "metadata": {},
   "outputs": [
    {
     "name": "stdout",
     "output_type": "stream",
     "text": [
      "\n",
      "Task6: Input Principal, Rate, Time and print Compound Interest and Amount.\n",
      "---------------------------------------------------------------------------\n",
      "Enter Principal Amount: 5000\n",
      "Enter Rate of Interest(/%) per year: 5\n",
      "Enter Time Period(years): 10\n",
      "Compound Interest: 3144.4731338872098\n",
      "Total Accrued Amount: 8144.47313388721\n"
     ]
    }
   ],
   "source": [
    "#Task6: Input Principal, Rate, Time and print Compound Interest and Amount.\n",
    "Task = \"\\nTask6: Input Principal, Rate, Time and print Compound Interest and Amount.\"\n",
    "print(Task + \"\\n\" + \"-\"*len(Task))\n",
    "\n",
    "P = int(input(\"Enter Principal Amount: \"))\n",
    "R = int(input(\"Enter Rate of Interest(/%) per year: \"))\n",
    "t = int(input(\"Enter Time Period(years): \"))\n",
    "\n",
    "#Total Accrued Amount (A)\n",
    "A = P * pow(1+(R/100), t)\n",
    "\n",
    "#Compound Interst\n",
    "CI = A - P\n",
    "\n",
    "print(\"Compound Interest:\", CI)\n",
    "print(\"Total Accrued Amount:\", A)"
   ]
  },
  {
   "cell_type": "code",
   "execution_count": 5,
   "metadata": {},
   "outputs": [
    {
     "name": "stdout",
     "output_type": "stream",
     "text": [
      "\n",
      "Task7: WAP to print sum of first n natural numbers. (n needs to be taken as input).\n",
      "------------------------------------------------------------------------------------\n",
      "Enter number of natural numbers:10\n",
      "Sum of first 10 natural numbers = 55.0\n"
     ]
    }
   ],
   "source": [
    "#Task7: WAP to print sum of first n natural numbers. (n needs to be taken as input).\n",
    "Task = \"\\nTask7: WAP to print sum of first n natural numbers. (n needs to be taken as input).\"\n",
    "print(Task + \"\\n\" + \"-\"*len(Task))\n",
    "\n",
    "n = int(input(\"Enter number of natural numbers:\"))\n",
    "Sum = (n * (n+1))/2\n",
    "print(\"Sum of first\", n, \"natural numbers =\", Sum)"
   ]
  },
  {
   "cell_type": "code",
   "execution_count": 11,
   "metadata": {},
   "outputs": [
    {
     "name": "stdout",
     "output_type": "stream",
     "text": [
      "\n",
      "Task8: WAP to input 2 numbers and swap them. (write using both with temp variable and pythonic way).\n",
      "-----------------------------------------------------------------------------------------------------\n",
      "Enter Number 1:5\n",
      "Enter Number 2:8\n",
      "Swaping numbers using temp variable...\n",
      "Number1 = 8 Number2 = 5\n",
      "Swaping numbers using pythonic way...\n",
      "Number1 = 5 Number2 = 8\n"
     ]
    }
   ],
   "source": [
    "#Task8: WAP to input 2 numbers and swap them. (write using both with temp variable and pythonic way).\n",
    "Task = \"\\nTask8: WAP to input 2 numbers and swap them. (write using both with temp variable and pythonic way).\"\n",
    "print(Task + \"\\n\" + \"-\"*len(Task))\n",
    "\n",
    "Number1 = int(input(\"Enter Number 1:\"))\n",
    "Number2 = int(input(\"Enter Number 2:\"))\n",
    "\n",
    "print(\"Swaping numbers using temp variable...\")\n",
    "tmp = Number1\n",
    "Number1 = Number2\n",
    "Number2 = tmp\n",
    "print(\"Number1 =\", Number1, \"Number2 =\", Number2)\n",
    "\n",
    "print(\"Swaping numbers using pythonic way...\")\n",
    "Number1, Number2 = Number2, Number1\n",
    "print(\"Number1 =\", Number1, \"Number2 =\", Number2)"
   ]
  },
  {
   "cell_type": "code",
   "execution_count": 31,
   "metadata": {},
   "outputs": [
    {
     "name": "stdout",
     "output_type": "stream",
     "text": [
      "\n",
      "Task9: WAP to print ascii value of all white-space characters present in python.\n",
      "---------------------------------------------------------------------------------\n",
      "Whitespace: 32 \n",
      "Tab: 9 \n",
      "Newline: 10 \n",
      "Carriage Return: 13\n"
     ]
    }
   ],
   "source": [
    "#Task9: WAP to print ascii value of all white-space characters present in python.\n",
    "Task = \"\\nTask9: WAP to print ascii value of all white-space characters present in python.\"\n",
    "print(Task + \"\\n\" + \"-\"*len(Task))\n",
    "\n",
    "print(\"Whitespace:\", ord(' '), \"\\nTab:\", ord('\\t'), \"\\nNewline:\", ord('\\n'), \"\\nCarriage Return:\", ord('\\r'))"
   ]
  },
  {
   "cell_type": "code",
   "execution_count": 42,
   "metadata": {},
   "outputs": [
    {
     "name": "stdout",
     "output_type": "stream",
     "text": [
      "\n",
      "Task10: Input a single character and print its ascii values.\n",
      "-------------------------------------------------------------\n",
      "Enter a Character: Jaideep\n",
      "ASCII value of character J is 74\n"
     ]
    }
   ],
   "source": [
    "#Task10: Input a single character and print its ascii values.\n",
    "Task = \"\\nTask10: Input a single character and print its ascii values.\"\n",
    "print(Task + \"\\n\" + \"-\"*len(Task))\n",
    "\n",
    "Character = input(\"Enter a Character: \")[0]\n",
    "print(\"ASCII value of character\", Character, \"is\", ord(Character))"
   ]
  },
  {
   "cell_type": "code",
   "execution_count": 45,
   "metadata": {},
   "outputs": [
    {
     "name": "stdout",
     "output_type": "stream",
     "text": [
      "\n",
      "Task11: WAP that takes area of a circle and gives back the radius and circumference.\n",
      "-------------------------------------------------------------------------------------\n",
      "Enter area of the circle: 314\n",
      "Radius =  10.0 , Circumference =  62.800000000000004\n"
     ]
    }
   ],
   "source": [
    "#Task11: WAP that takes area of a circle and gives back the radius and circumference.\n",
    "Task = \"\\nTask11: WAP that takes area of a circle and gives back the radius and circumference.\"\n",
    "print(Task + \"\\n\" + \"-\"*len(Task))\n",
    "\n",
    "import math\n",
    "Area = int(input(\"Enter area of the circle: \"))\n",
    "\n",
    "#Area of Circle A=π r², π = 3.14\n",
    "Radius = math.sqrt(Area/3.14)\n",
    "#Circumference = 2πr\n",
    "Circumference = 2*3.14*Radius\n",
    "\n",
    "print(\"Radius = \", Radius, \", Circumference = \", Circumference)\n"
   ]
  },
  {
   "cell_type": "code",
   "execution_count": 52,
   "metadata": {},
   "outputs": [
    {
     "name": "stdout",
     "output_type": "stream",
     "text": [
      "\n",
      "Task12: We need to input marks in 5 subjects out of 100 and print percentage.\n",
      "------------------------------------------------------------------------------\n",
      "Enter Marks in English: 90\n",
      "Enter Marks in Hindi: 98\n",
      "Enter Marks in Maths: 97\n",
      "Enter Marks in Science: 98\n",
      "Enter Marks in Social Science: 99\n",
      "Percentage =  96.4\n"
     ]
    }
   ],
   "source": [
    "#Task12: We need to input marks in 5 subjects out of 100 and print percentage.\n",
    "Task = \"\\nTask12: We need to input marks in 5 subjects out of 100 and print percentage.\"\n",
    "print(Task + \"\\n\" + \"-\"*len(Task))\n",
    "\n",
    "English = int(input(\"Enter Marks in English: \"))\n",
    "Hindi = int(input(\"Enter Marks in Hindi: \"))\n",
    "Maths = int(input(\"Enter Marks in Maths: \"))\n",
    "Science = int(input(\"Enter Marks in Science: \"))\n",
    "SScience = int(input(\"Enter Marks in Social Science: \"))\n",
    "\n",
    "Percentage = round(((English+Hindi+Maths+Science+SScience)/500)*100, 2)\n",
    "print(\"Percentage = \", Percentage)"
   ]
  },
  {
   "cell_type": "code",
   "execution_count": null,
   "metadata": {},
   "outputs": [],
   "source": []
  }
 ],
 "metadata": {
  "kernelspec": {
   "display_name": "Python 3",
   "language": "python",
   "name": "python3"
  },
  "language_info": {
   "codemirror_mode": {
    "name": "ipython",
    "version": 3
   },
   "file_extension": ".py",
   "mimetype": "text/x-python",
   "name": "python",
   "nbconvert_exporter": "python",
   "pygments_lexer": "ipython3",
   "version": "3.8.3"
  }
 },
 "nbformat": 4,
 "nbformat_minor": 4
}
