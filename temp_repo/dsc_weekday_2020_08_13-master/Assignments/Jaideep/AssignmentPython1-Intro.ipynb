{
 "cells": [
  {
   "cell_type": "code",
   "execution_count": 11,
   "metadata": {},
   "outputs": [
    {
     "name": "stdout",
     "output_type": "stream",
     "text": [
      "Assignment: Python1 - Intro\n",
      "***************************\n",
      "\n",
      "\n"
     ]
    }
   ],
   "source": [
    "#AssignmentPython1-Intro\n",
    "Header = \"Assignment: Python1 - Intro\"\n",
    "print(Header + \"\\n\" + \"*\"*len(\"Assignment: Python1 - Intro\")+\"\\n\")"
   ]
  },
  {
   "cell_type": "code",
   "execution_count": 13,
   "metadata": {},
   "outputs": [
    {
     "name": "stdout",
     "output_type": "stream",
     "text": [
      "Task1: Predict Output\n",
      "---------------------\n",
      "6 19\n"
     ]
    }
   ],
   "source": [
    "#Task1: Predict Output\n",
    "Task = \"\\nTask1: Predict Output\"\n",
    "print(Task + \"\\n\" + \"-\"*len(Task))\n",
    "\n",
    "s1 = 'Gaurav'\n",
    "s2 = 'tuteur.py@gmail.com'\n",
    "print(len(s1), len(s2))"
   ]
  },
  {
   "cell_type": "code",
   "execution_count": 14,
   "metadata": {},
   "outputs": [
    {
     "name": "stdout",
     "output_type": "stream",
     "text": [
      "Task2: WAP to input a string and print its length.\n",
      "--------------------------------------------------\n",
      "Enter a String: Jaideep\n",
      "Length of the string is:  7\n"
     ]
    }
   ],
   "source": [
    "#Task2: WAP to input a string and print its length.\n",
    "Task = \"\\nTask2: WAP to input a string and print its length.\"\n",
    "print(Task + \"\\n\" + \"-\"*len(Task))\n",
    "\n",
    "Str = input(\"Enter a String: \")\n",
    "print(\"Length of the string is: \", len(Str))"
   ]
  },
  {
   "cell_type": "code",
   "execution_count": 15,
   "metadata": {},
   "outputs": [
    {
     "name": "stdout",
     "output_type": "stream",
     "text": [
      "\n",
      "Task3: WAP to input 2 numbers and print their sum and difference.\n",
      "------------------------------------------------------------------\n",
      "Enter First Number: 3\n",
      "Enter Second Number: 5\n",
      "Sum  of the two numbers is:  8\n",
      "Difference of the two numbers is:  2\n"
     ]
    }
   ],
   "source": [
    "#Task3: WAP to input 2 numbers and print their sum and difference.\n",
    "Task = \"\\nTask3: WAP to input 2 numbers and print their sum and difference.\"\n",
    "print(Task + \"\\n\" + \"-\"*len(Task))\n",
    "\n",
    "nFirst = int(input(\"Enter First Number: \"))\n",
    "nSecond = int(input(\"Enter Second Number: \"))\n",
    "\n",
    "print(\"Sum  of the two numbers is: \", (nFirst + nSecond))\n",
    "print(\"Difference of the two numbers is: \", (nSecond - nFirst))\n"
   ]
  },
  {
   "cell_type": "code",
   "execution_count": 16,
   "metadata": {},
   "outputs": [
    {
     "name": "stdout",
     "output_type": "stream",
     "text": [
      "\n",
      "Task4: Predict Output\n",
      "----------------------\n",
      "abde\n"
     ]
    }
   ],
   "source": [
    "#Task4: Predict Output\n",
    "Task = \"\\nTask4: Predict Output\"\n",
    "print(Task + \"\\n\" + \"-\"*len(Task))\n",
    "\n",
    "s1 = 'ab'\n",
    "s2 = 'de'\n",
    "s3 = s1 + s2\n",
    "print(s3)"
   ]
  },
  {
   "cell_type": "code",
   "execution_count": 17,
   "metadata": {},
   "outputs": [
    {
     "name": "stdout",
     "output_type": "stream",
     "text": [
      "\n",
      "Task 5 is same as Task4.\n"
     ]
    }
   ],
   "source": [
    "print(\"\\nTask 5 is same as Task4.\")"
   ]
  },
  {
   "cell_type": "code",
   "execution_count": 18,
   "metadata": {},
   "outputs": [
    {
     "name": "stdout",
     "output_type": "stream",
     "text": [
      "\n",
      "Task6: Predict Output\n",
      "----------------------\n",
      "abababab\n"
     ]
    }
   ],
   "source": [
    "#Task6: Predict Output\n",
    "Task = \"\\nTask6: Predict Output\"\n",
    "print(Task + \"\\n\" + \"-\"*len(Task))\n",
    "\n",
    "s1 = 'ab'*4\n",
    "print(s1)"
   ]
  },
  {
   "cell_type": "code",
   "execution_count": 19,
   "metadata": {},
   "outputs": [
    {
     "name": "stdout",
     "output_type": "stream",
     "text": [
      "\n",
      "Task7: Predict Output\n",
      "----------------------\n",
      "ab\n",
      "ab\n",
      "ab\n",
      "ab\n",
      "\n"
     ]
    }
   ],
   "source": [
    "#Task7: Predict Output\n",
    "Task = \"\\nTask7: Predict Output\"\n",
    "print(Task + \"\\n\" + \"-\"*len(Task))\n",
    "\n",
    "s1 = 'ab\\n'*4\n",
    "print(s1)"
   ]
  },
  {
   "cell_type": "code",
   "execution_count": 53,
   "metadata": {},
   "outputs": [
    {
     "name": "stdout",
     "output_type": "stream",
     "text": [
      "\n",
      "Task8: WAP to input a string s and a number n. Print the string n times on the screen, each should appear in a separate line (do not use any kind of loops, use the multiplication operator).\n",
      "-----------------------------------------------------------------------------------------------\n",
      "Enter String: Jaideep\n",
      "Enter Number: 5\n",
      "Jaideep\n",
      "Jaideep\n",
      "Jaideep\n",
      "Jaideep\n",
      "Jaideep\n",
      "\n"
     ]
    }
   ],
   "source": [
    "#Task8: WAP to input a string s and a number n. Print the string n times on the screen, each should appear in a separate line (do not use any kind of loops, use the multiplication operator).\n",
    "Task = \"\\nTask8: WAP to input a string s and a number n. Print the string n times on the screen, each should appear in a separate line (do not use any kind of loops, use the multiplication operator).\"\n",
    "print(Task + \"\\n\" + \"-\"*(int(len(Task)/2)))\n",
    "\n",
    "s = input(\"Enter String: \")\n",
    "n = int(input(\"Enter Number: \"))\n",
    "s = (s + \"\\n\")\n",
    "print(s*n)"
   ]
  },
  {
   "cell_type": "code",
   "execution_count": 56,
   "metadata": {},
   "outputs": [
    {
     "name": "stdout",
     "output_type": "stream",
     "text": [
      "\n",
      "Task9: Predict Output\n",
      "----------------------\n",
      "Gaurav\n",
      "None\n"
     ]
    }
   ],
   "source": [
    "#Task9: Predict Output\n",
    "Task = \"\\nTask9: Predict Output\"\n",
    "print(Task + \"\\n\" + \"-\"*len(Task))\n",
    "\n",
    "res = print('Gaurav')\n",
    "print(res)"
   ]
  },
  {
   "cell_type": "code",
   "execution_count": 58,
   "metadata": {},
   "outputs": [
    {
     "name": "stdout",
     "output_type": "stream",
     "text": [
      "\n",
      "Task10: Predict Output\n",
      "-----------------------\n",
      "<class 'int'>\n"
     ]
    }
   ],
   "source": [
    "#Task10: Predict Output\n",
    "Task = \"\\nTask10: Predict Output\"\n",
    "print(Task + \"\\n\" + \"-\"*len(Task))\n",
    "\n",
    "res = len('tuteur.py@gmail.com')\n",
    "print(type(res))"
   ]
  },
  {
   "cell_type": "code",
   "execution_count": 61,
   "metadata": {},
   "outputs": [
    {
     "name": "stdout",
     "output_type": "stream",
     "text": [
      "\n",
      "Task11: Predict Output\n",
      "-----------------------\n",
      "<class 'str'>\n",
      "26\n"
     ]
    }
   ],
   "source": [
    "#Task11: Predict Output\n",
    "Task = \"\\nTask11: Predict Output\"\n",
    "print(Task + \"\\n\" + \"-\"*len(Task))\n",
    "\n",
    "s1 = 'Gaurav'\n",
    "s2 = 'tuteur.py@gmail.com'\n",
    "s3 = s1 + '\\n' + s2\n",
    "print(type(s3))\n",
    "print(len(s3))"
   ]
  },
  {
   "cell_type": "code",
   "execution_count": 67,
   "metadata": {},
   "outputs": [
    {
     "name": "stdout",
     "output_type": "stream",
     "text": [
      "\n",
      "Task12: Find the name of function to find the square root. (see all the options available in dir() of math)\n",
      "------------------------------------------------------------------------------------------------------------\n",
      "Function to find the square root is sqrt().\n",
      "Other options are:\n",
      " ['__doc__', '__file__', '__loader__', '__name__', '__package__', '__spec__', 'acos', 'acosh', 'asin', 'asinh', 'atan', 'atan2', 'atanh', 'ceil', 'comb', 'copysign', 'cos', 'cosh', 'degrees', 'dist', 'e', 'erf', 'erfc', 'exp', 'expm1', 'fabs', 'factorial', 'floor', 'fmod', 'frexp', 'fsum', 'gamma', 'gcd', 'hypot', 'inf', 'isclose', 'isfinite', 'isinf', 'isnan', 'isqrt', 'ldexp', 'lgamma', 'log', 'log10', 'log1p', 'log2', 'modf', 'nan', 'perm', 'pi', 'pow', 'prod', 'radians', 'remainder', 'sin', 'sinh', 'sqrt', 'tan', 'tanh', 'tau', 'trunc']\n"
     ]
    }
   ],
   "source": [
    "#Task12: Find the name of function to find the square root. (see all the options available in dir() of math)\n",
    "Task = \"\\nTask12: Find the name of function to find the square root. (see all the options available in dir() of math)\"\n",
    "print(Task + \"\\n\" + \"-\"*len(Task))\n",
    "\n",
    "import math\n",
    "\n",
    "print(\"Function to find the square root is sqrt().\")\n",
    "print(\"Other options are:\\n\", dir(math))"
   ]
  },
  {
   "cell_type": "code",
   "execution_count": 74,
   "metadata": {},
   "outputs": [
    {
     "name": "stdout",
     "output_type": "stream",
     "text": [
      "\n",
      "Task13: WAP to input a number and print its square root ().\n",
      "------------------------------------------------------------\n",
      "Enter a number: 9\n",
      "Square root of Number 9 is:  3.0\n"
     ]
    }
   ],
   "source": [
    "#Task13: WAP to input a number and print its square root ().\n",
    "Task = \"\\nTask13: WAP to input a number and print its square root ().\"\n",
    "print(Task + \"\\n\" + \"-\"*len(Task))\n",
    "\n",
    "import math\n",
    "\n",
    "Number = int(input(\"Enter a number: \"))\n",
    "print(\"Square root of Number\", Number, \"is: \", math.sqrt(Number))"
   ]
  },
  {
   "cell_type": "code",
   "execution_count": 75,
   "metadata": {},
   "outputs": [
    {
     "name": "stdout",
     "output_type": "stream",
     "text": [
      "\n",
      "Task14: WAP to input 4 numbers from user and print their average\n",
      "-----------------------------------------------------------------\n",
      "Enter a number1: 1\n",
      "Enter a number2: 2\n",
      "Enter a number3: 3\n",
      "Enter a number4: 4\n",
      "Average of the Numbers is: 2.5\n"
     ]
    }
   ],
   "source": [
    "#Task14: WAP to input 4 numbers from user and print their average\n",
    "Task = \"\\nTask14: WAP to input 4 numbers from user and print their average\"\n",
    "print(Task + \"\\n\" + \"-\"*len(Task))\n",
    "\n",
    "Number1 = int(input(\"Enter a number1: \"))\n",
    "Number2 = int(input(\"Enter a number2: \"))\n",
    "Number3 = int(input(\"Enter a number3: \"))\n",
    "Number4 = int(input(\"Enter a number4: \"))\n",
    "\n",
    "print(\"Average of the Numbers is:\", (Number1+Number2+Number3+Number4)/4)"
   ]
  },
  {
   "cell_type": "code",
   "execution_count": 85,
   "metadata": {},
   "outputs": [
    {
     "name": "stdout",
     "output_type": "stream",
     "text": [
      "\n",
      "Task15: Use the help function to check what the abs function in python does.\n",
      "-----------------------------------------------------------------------------\n",
      "Help on built-in function abs in module builtins:\n",
      "\n",
      "abs(x, /)\n",
      "    Return the absolute value of the argument.\n",
      "\n",
      "Example: Absolute value of -5.4 is 5.4\n"
     ]
    }
   ],
   "source": [
    "#Task15: Use the help function to check what the abs function in python does.\n",
    "Task = \"\\nTask15: Use the help function to check what the abs function in python does.\"\n",
    "print(Task + \"\\n\" + \"-\"*len(Task))\n",
    "\n",
    "help(abs)\n",
    "print(\"Example: Absolute value of -5.4 is\", abs(-5.4))\n"
   ]
  },
  {
   "cell_type": "code",
   "execution_count": 88,
   "metadata": {},
   "outputs": [
    {
     "name": "stdout",
     "output_type": "stream",
     "text": [
      "\n",
      "Task16: What is the output of this code when run from python interpreter. print(__name__)\n",
      "------------------------------------------------------------------------------------------\n",
      "__main__\n"
     ]
    }
   ],
   "source": [
    "#Task16: What is the output of this code when run from python interpreter. print(__name__)\n",
    "Task = \"\\nTask16: What is the output of this code when run from python interpreter. print(__name__)\"\n",
    "print(Task + \"\\n\" + \"-\"*len(Task))\n",
    "\n",
    "print(__name__)"
   ]
  },
  {
   "cell_type": "code",
   "execution_count": 92,
   "metadata": {},
   "outputs": [
    {
     "name": "stdout",
     "output_type": "stream",
     "text": [
      "\n",
      "Task17: What is the output of this code when run from a python script. print(__name__)\n",
      "---------------------------------------------------------------------------------------\n",
      "__main__\n"
     ]
    }
   ],
   "source": [
    "#Task17: What is the output of this code when run from a python script. print(__name__)\n",
    "Task = \"\\nTask17: What is the output of this code when run from a python script. print(__name__)\"\n",
    "print(Task + \"\\n\" + \"-\"*len(Task))\n",
    "\n",
    "print(\"__main__\")"
   ]
  },
  {
   "cell_type": "code",
   "execution_count": 95,
   "metadata": {},
   "outputs": [
    {
     "name": "stdout",
     "output_type": "stream",
     "text": [
      "\n",
      "Task18: Does the dir of int class contain an attribute __name__ (Y/N).\n",
      "-----------------------------------------------------------------------\n",
      "N\n"
     ]
    },
    {
     "data": {
      "text/plain": [
       "['__abs__',\n",
       " '__add__',\n",
       " '__and__',\n",
       " '__bool__',\n",
       " '__ceil__',\n",
       " '__class__',\n",
       " '__delattr__',\n",
       " '__dir__',\n",
       " '__divmod__',\n",
       " '__doc__',\n",
       " '__eq__',\n",
       " '__float__',\n",
       " '__floor__',\n",
       " '__floordiv__',\n",
       " '__format__',\n",
       " '__ge__',\n",
       " '__getattribute__',\n",
       " '__getnewargs__',\n",
       " '__gt__',\n",
       " '__hash__',\n",
       " '__index__',\n",
       " '__init__',\n",
       " '__init_subclass__',\n",
       " '__int__',\n",
       " '__invert__',\n",
       " '__le__',\n",
       " '__lshift__',\n",
       " '__lt__',\n",
       " '__mod__',\n",
       " '__mul__',\n",
       " '__ne__',\n",
       " '__neg__',\n",
       " '__new__',\n",
       " '__or__',\n",
       " '__pos__',\n",
       " '__pow__',\n",
       " '__radd__',\n",
       " '__rand__',\n",
       " '__rdivmod__',\n",
       " '__reduce__',\n",
       " '__reduce_ex__',\n",
       " '__repr__',\n",
       " '__rfloordiv__',\n",
       " '__rlshift__',\n",
       " '__rmod__',\n",
       " '__rmul__',\n",
       " '__ror__',\n",
       " '__round__',\n",
       " '__rpow__',\n",
       " '__rrshift__',\n",
       " '__rshift__',\n",
       " '__rsub__',\n",
       " '__rtruediv__',\n",
       " '__rxor__',\n",
       " '__setattr__',\n",
       " '__sizeof__',\n",
       " '__str__',\n",
       " '__sub__',\n",
       " '__subclasshook__',\n",
       " '__truediv__',\n",
       " '__trunc__',\n",
       " '__xor__',\n",
       " 'as_integer_ratio',\n",
       " 'bit_length',\n",
       " 'conjugate',\n",
       " 'denominator',\n",
       " 'from_bytes',\n",
       " 'imag',\n",
       " 'numerator',\n",
       " 'real',\n",
       " 'to_bytes']"
      ]
     },
     "execution_count": 95,
     "metadata": {},
     "output_type": "execute_result"
    }
   ],
   "source": [
    "#Task18: Does the dir of int class contain an attribute __name__ (Y/N).\n",
    "Task = \"\\nTask18: Does the dir of int class contain an attribute __name__ (Y/N).\"\n",
    "print(Task + \"\\n\" + \"-\"*len(Task))\n",
    "\n",
    "print(\"N\")\n",
    "\n",
    "dir(int)"
   ]
  },
  {
   "cell_type": "code",
   "execution_count": 98,
   "metadata": {},
   "outputs": [
    {
     "name": "stdout",
     "output_type": "stream",
     "text": [
      "\n",
      "Task19: Predict Output\n",
      "-----------------------\n",
      "Output of __name__ is:  __main__\n",
      "Output of __builtins__.__name__ is:  builtins\n",
      "Output of int.__name__ is:  int\n"
     ]
    }
   ],
   "source": [
    "#Task19: Predict Output\n",
    "Task = \"\\nTask19: Predict Output\"\n",
    "print(Task + \"\\n\" + \"-\"*len(Task))\n",
    "\n",
    "print(\"Output of __name__ is: \", __name__)\n",
    "print(\"Output of __builtins__.__name__ is: \", __builtins__.__name__)\n",
    "print(\"Output of int.__name__ is: \", int.__name__)"
   ]
  },
  {
   "cell_type": "code",
   "execution_count": null,
   "metadata": {},
   "outputs": [],
   "source": []
  }
 ],
 "metadata": {
  "kernelspec": {
   "display_name": "Python 3",
   "language": "python",
   "name": "python3"
  },
  "language_info": {
   "codemirror_mode": {
    "name": "ipython",
    "version": 3
   },
   "file_extension": ".py",
   "mimetype": "text/x-python",
   "name": "python",
   "nbconvert_exporter": "python",
   "pygments_lexer": "ipython3",
   "version": "3.8.3"
  }
 },
 "nbformat": 4,
 "nbformat_minor": 4
}
