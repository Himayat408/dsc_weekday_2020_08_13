{
 "cells": [
  {
   "cell_type": "code",
   "execution_count": 3,
   "metadata": {},
   "outputs": [
    {
     "name": "stdout",
     "output_type": "stream",
     "text": [
      "Enter temp in F20\n",
      "-6.666666666666667\n"
     ]
    }
   ],
   "source": [
    "x=int(input('Enter temp in F'))\n",
    "c=(x-32)*5/9\n",
    "print(c)"
   ]
  },
  {
   "cell_type": "code",
   "execution_count": 6,
   "metadata": {},
   "outputs": [
    {
     "name": "stdout",
     "output_type": "stream",
     "text": [
      "number:3\n",
      "9.0\n",
      "27.0\n"
     ]
    }
   ],
   "source": [
    "x=float(input('number:'))\n",
    "print(pow(x,2))\n",
    "print(pow(x,3))"
   ]
  },
  {
   "cell_type": "code",
   "execution_count": 12,
   "metadata": {},
   "outputs": [
    {
     "name": "stdout",
     "output_type": "stream",
     "text": [
      "enter the number10\n",
      "55.0\n"
     ]
    }
   ],
   "source": [
    "n=int(input('enter the number'))\n",
    "sum=(n*(n+1))/2\n",
    "print(sum)"
   ]
  },
  {
   "cell_type": "code",
   "execution_count": 13,
   "metadata": {},
   "outputs": [
    {
     "name": "stdout",
     "output_type": "stream",
     "text": [
      "Num1:10\n",
      "Num2:20\n",
      "20 10\n"
     ]
    }
   ],
   "source": [
    "#swaping\n",
    "x=int(input('Num1:'))\n",
    "y=int(input('Num2:'))\n",
    "z=x\n",
    "x=y\n",
    "y=z\n",
    "print(x,y)"
   ]
  },
  {
   "cell_type": "code",
   "execution_count": 20,
   "metadata": {},
   "outputs": [
    {
     "name": "stdout",
     "output_type": "stream",
     "text": [
      "' \\t\\n\\r\\x0b\\x0c'\n",
      " \t\n",
      "\r",
      "\u000b",
      "\f",
      "\n",
      "9\n",
      "10\n",
      "11\n"
     ]
    }
   ],
   "source": [
    "import string\n",
    "print(repr(string.whitespace))\n",
    "print(string.whitespace)\n",
    "print(ord('\\t'))\n",
    "print(ord('\\n'))\n",
    "print(ord('\\x0b' ))"
   ]
  },
  {
   "cell_type": "code",
   "execution_count": 25,
   "metadata": {},
   "outputs": [
    {
     "name": "stdout",
     "output_type": "stream",
     "text": [
      "Enter area: 120\n",
      "6.180387232371033\n",
      "38.83251825111398\n"
     ]
    }
   ],
   "source": [
    "import math\n",
    "x=float(input('Enter area: '))\n",
    "rad=math.sqrt(x/math.pi)\n",
    "print(rad)\n",
    "print(2*math.pi*rad)"
   ]
  },
  {
   "cell_type": "code",
   "execution_count": 27,
   "metadata": {},
   "outputs": [
    {
     "name": "stdout",
     "output_type": "stream",
     "text": [
      "m1: 10\n",
      "m1: 100\n",
      "m1: 100\n",
      "m1: 90\n",
      "m1: 0\n",
      "60.0\n"
     ]
    }
   ],
   "source": [
    "a=int(input(\"m1: \"))\n",
    "b=int(input(\"m1: \"))\n",
    "c=int(input(\"m1: \"))\n",
    "d=int(input(\"m1: \"))\n",
    "e=int(input(\"m1: \"))\n",
    "sum=(a+b+c+d+e)/500\n",
    "per=sum*100\n",
    "print(per)"
   ]
  }
 ],
 "metadata": {
  "kernelspec": {
   "display_name": "Python 3",
   "language": "python",
   "name": "python3"
  },
  "language_info": {
   "codemirror_mode": {
    "name": "ipython",
    "version": 3
   },
   "file_extension": ".py",
   "mimetype": "text/x-python",
   "name": "python",
   "nbconvert_exporter": "python",
   "pygments_lexer": "ipython3",
   "version": "3.7.3"
  }
 },
 "nbformat": 4,
 "nbformat_minor": 2
}
